{
 "cells": [
  {
   "cell_type": "markdown",
   "id": "4fb5a558",
   "metadata": {},
   "source": [
    "#### Loading Libraries"
   ]
  },
  {
   "cell_type": "code",
   "execution_count": 80,
   "id": "92877305",
   "metadata": {},
   "outputs": [],
   "source": [
    "import pandas as pd\n",
    "import numpy as np\n",
    "import matplotlib.pyplot as plt\n",
    "import plotly.express as px\n",
    "import plotly.graph_objects as go\n",
    "import seaborn as sns\n",
    "from itertools import product\n",
    "\n",
    "from statsmodels.tsa.arima.model import ARIMA\n",
    "from statsmodels.stats.diagnostic import lilliefors\n",
    "from statsmodels.tsa.seasonal import seasonal_decompose\n",
    "\n",
    "from scipy.stats import spearmanr\n",
    "from scipy.stats import shapiro\n",
    "import scipy.stats as stats\n",
    "from scipy.stats import mannwhitneyu\n",
    "\n",
    "import logging\n",
    "from ray import tune\n",
    "from IPython.display import display\n",
    "\n",
    "from neuralforecast import NeuralForecast\n",
    "from neuralforecast.models import LSTM, NHITS\n",
    "from neuralforecast.auto import AutoNHITS, AutoLSTM\n",
    "from neuralforecast.losses.pytorch import MAE,RMSE,MQLoss\n",
    "\n",
    "from utilsforecast.plotting import plot_series\n",
    "from utilsforecast.losses import mse, mae, rmse\n",
    "from utilsforecast.evaluation import evaluate\n",
    "from utilsforecast.losses import mse, mae, rmse\n",
    "\n",
    "from sklearn.model_selection import train_test_split\n",
    "from sklearn.metrics import mean_squared_error\n",
    "from sklearn.model_selection import train_test_split\n",
    "from sklearn.metrics import mean_squared_log_error\n",
    "from sklearn.model_selection import TimeSeriesSplit\n",
    "from sklearn.preprocessing import LabelEncoder\n",
    "\n",
    "import lightgbm as lgb\n",
    "from lightgbm import LGBMRegressor\n",
    "from lightgbm.callback import early_stopping, log_evaluation\n"
   ]
  },
  {
   "cell_type": "markdown",
   "id": "43c52a22",
   "metadata": {},
   "source": [
    "#### Loading Data"
   ]
  },
  {
   "cell_type": "code",
   "execution_count": 81,
   "id": "6f2f2c95",
   "metadata": {},
   "outputs": [],
   "source": [
    "train_set = pd.read_csv(r\"C:\\Users\\Armando\\Desktop\\data\\train.csv\")\n",
    "stores_set = pd.read_csv(r\"C:\\Users\\Armando\\Desktop\\data\\stores.csv\")\n",
    "oil_set = pd.read_csv(r\"C:\\Users\\Armando\\Desktop\\data\\oil.csv\")\n",
    "holiday_set = pd.read_csv(r\"C:\\Users\\Armando\\Desktop\\data\\holidays_events.csv\")\n",
    "transactions_set = pd.read_csv(r\"C:\\Users\\Armando\\Desktop\\data\\transactions.csv\")"
   ]
  },
  {
   "cell_type": "markdown",
   "id": "4a54e57b",
   "metadata": {},
   "source": [
    "#### Display Options"
   ]
  },
  {
   "cell_type": "code",
   "execution_count": 82,
   "id": "5c3fb383",
   "metadata": {},
   "outputs": [],
   "source": [
    "pd.set_option('display.max_columns', None)\n",
    "pd.set_option('display.max_rows',None)\n",
    "#αν θελω reset\n",
    "#pd.reset_option('display.max_columns')"
   ]
  },
  {
   "cell_type": "markdown",
   "id": "3e29a87e",
   "metadata": {},
   "source": [
    "#### Data Preparation"
   ]
  },
  {
   "cell_type": "code",
   "execution_count": 83,
   "id": "eda3c41c",
   "metadata": {},
   "outputs": [
    {
     "name": "stdout",
     "output_type": "stream",
     "text": [
      "0 0 0 0 0\n"
     ]
    }
   ],
   "source": [
    "#ελεγχος για διπλοτυπα\n",
    "print(train_set.duplicated().sum(),\n",
    "      stores_set.duplicated().sum(),\n",
    "      oil_set.duplicated().sum(),\n",
    "      holiday_set.duplicated().sum(),\n",
    "      transactions_set.duplicated().sum()\n",
    "      )"
   ]
  },
  {
   "cell_type": "code",
   "execution_count": 84,
   "id": "68e87363",
   "metadata": {},
   "outputs": [
    {
     "data": {
      "text/html": [
       "<div>\n",
       "<style scoped>\n",
       "    .dataframe tbody tr th:only-of-type {\n",
       "        vertical-align: middle;\n",
       "    }\n",
       "\n",
       "    .dataframe tbody tr th {\n",
       "        vertical-align: top;\n",
       "    }\n",
       "\n",
       "    .dataframe thead th {\n",
       "        text-align: right;\n",
       "    }\n",
       "</style>\n",
       "<table border=\"1\" class=\"dataframe\">\n",
       "  <thead>\n",
       "    <tr style=\"text-align: right;\">\n",
       "      <th></th>\n",
       "      <th>id</th>\n",
       "      <th>date</th>\n",
       "      <th>store_nbr</th>\n",
       "      <th>family</th>\n",
       "      <th>sales</th>\n",
       "      <th>onpromotion</th>\n",
       "    </tr>\n",
       "  </thead>\n",
       "  <tbody>\n",
       "    <tr>\n",
       "      <th>0</th>\n",
       "      <td>0</td>\n",
       "      <td>2013-01-01</td>\n",
       "      <td>1</td>\n",
       "      <td>AUTOMOTIVE</td>\n",
       "      <td>0.0</td>\n",
       "      <td>0</td>\n",
       "    </tr>\n",
       "    <tr>\n",
       "      <th>1</th>\n",
       "      <td>1</td>\n",
       "      <td>2013-01-01</td>\n",
       "      <td>1</td>\n",
       "      <td>BABY CARE</td>\n",
       "      <td>0.0</td>\n",
       "      <td>0</td>\n",
       "    </tr>\n",
       "    <tr>\n",
       "      <th>2</th>\n",
       "      <td>2</td>\n",
       "      <td>2013-01-01</td>\n",
       "      <td>1</td>\n",
       "      <td>BEAUTY</td>\n",
       "      <td>0.0</td>\n",
       "      <td>0</td>\n",
       "    </tr>\n",
       "    <tr>\n",
       "      <th>3</th>\n",
       "      <td>3</td>\n",
       "      <td>2013-01-01</td>\n",
       "      <td>1</td>\n",
       "      <td>BEVERAGES</td>\n",
       "      <td>0.0</td>\n",
       "      <td>0</td>\n",
       "    </tr>\n",
       "    <tr>\n",
       "      <th>4</th>\n",
       "      <td>4</td>\n",
       "      <td>2013-01-01</td>\n",
       "      <td>1</td>\n",
       "      <td>BOOKS</td>\n",
       "      <td>0.0</td>\n",
       "      <td>0</td>\n",
       "    </tr>\n",
       "  </tbody>\n",
       "</table>\n",
       "</div>"
      ],
      "text/plain": [
       "   id        date  store_nbr      family  sales  onpromotion\n",
       "0   0  2013-01-01          1  AUTOMOTIVE    0.0            0\n",
       "1   1  2013-01-01          1   BABY CARE    0.0            0\n",
       "2   2  2013-01-01          1      BEAUTY    0.0            0\n",
       "3   3  2013-01-01          1   BEVERAGES    0.0            0\n",
       "4   4  2013-01-01          1       BOOKS    0.0            0"
      ]
     },
     "execution_count": 84,
     "metadata": {},
     "output_type": "execute_result"
    }
   ],
   "source": [
    "train_set.head()"
   ]
  },
  {
   "cell_type": "code",
   "execution_count": 85,
   "id": "8ce62852",
   "metadata": {},
   "outputs": [
    {
     "data": {
      "text/html": [
       "<div>\n",
       "<style scoped>\n",
       "    .dataframe tbody tr th:only-of-type {\n",
       "        vertical-align: middle;\n",
       "    }\n",
       "\n",
       "    .dataframe tbody tr th {\n",
       "        vertical-align: top;\n",
       "    }\n",
       "\n",
       "    .dataframe thead th {\n",
       "        text-align: right;\n",
       "    }\n",
       "</style>\n",
       "<table border=\"1\" class=\"dataframe\">\n",
       "  <thead>\n",
       "    <tr style=\"text-align: right;\">\n",
       "      <th></th>\n",
       "      <th>store_nbr</th>\n",
       "      <th>city</th>\n",
       "      <th>state</th>\n",
       "      <th>type</th>\n",
       "      <th>cluster</th>\n",
       "    </tr>\n",
       "  </thead>\n",
       "  <tbody>\n",
       "    <tr>\n",
       "      <th>0</th>\n",
       "      <td>1</td>\n",
       "      <td>Quito</td>\n",
       "      <td>Pichincha</td>\n",
       "      <td>D</td>\n",
       "      <td>13</td>\n",
       "    </tr>\n",
       "    <tr>\n",
       "      <th>1</th>\n",
       "      <td>2</td>\n",
       "      <td>Quito</td>\n",
       "      <td>Pichincha</td>\n",
       "      <td>D</td>\n",
       "      <td>13</td>\n",
       "    </tr>\n",
       "    <tr>\n",
       "      <th>2</th>\n",
       "      <td>3</td>\n",
       "      <td>Quito</td>\n",
       "      <td>Pichincha</td>\n",
       "      <td>D</td>\n",
       "      <td>8</td>\n",
       "    </tr>\n",
       "    <tr>\n",
       "      <th>3</th>\n",
       "      <td>4</td>\n",
       "      <td>Quito</td>\n",
       "      <td>Pichincha</td>\n",
       "      <td>D</td>\n",
       "      <td>9</td>\n",
       "    </tr>\n",
       "    <tr>\n",
       "      <th>4</th>\n",
       "      <td>5</td>\n",
       "      <td>Santo Domingo</td>\n",
       "      <td>Santo Domingo de los Tsachilas</td>\n",
       "      <td>D</td>\n",
       "      <td>4</td>\n",
       "    </tr>\n",
       "  </tbody>\n",
       "</table>\n",
       "</div>"
      ],
      "text/plain": [
       "   store_nbr           city                           state type  cluster\n",
       "0          1          Quito                       Pichincha    D       13\n",
       "1          2          Quito                       Pichincha    D       13\n",
       "2          3          Quito                       Pichincha    D        8\n",
       "3          4          Quito                       Pichincha    D        9\n",
       "4          5  Santo Domingo  Santo Domingo de los Tsachilas    D        4"
      ]
     },
     "execution_count": 85,
     "metadata": {},
     "output_type": "execute_result"
    }
   ],
   "source": [
    "stores_set.head()"
   ]
  },
  {
   "cell_type": "code",
   "execution_count": 86,
   "id": "7cf743c8",
   "metadata": {},
   "outputs": [
    {
     "data": {
      "text/html": [
       "<div>\n",
       "<style scoped>\n",
       "    .dataframe tbody tr th:only-of-type {\n",
       "        vertical-align: middle;\n",
       "    }\n",
       "\n",
       "    .dataframe tbody tr th {\n",
       "        vertical-align: top;\n",
       "    }\n",
       "\n",
       "    .dataframe thead th {\n",
       "        text-align: right;\n",
       "    }\n",
       "</style>\n",
       "<table border=\"1\" class=\"dataframe\">\n",
       "  <thead>\n",
       "    <tr style=\"text-align: right;\">\n",
       "      <th></th>\n",
       "      <th>date</th>\n",
       "      <th>dcoilwtico</th>\n",
       "    </tr>\n",
       "  </thead>\n",
       "  <tbody>\n",
       "    <tr>\n",
       "      <th>0</th>\n",
       "      <td>2013-01-01</td>\n",
       "      <td>NaN</td>\n",
       "    </tr>\n",
       "    <tr>\n",
       "      <th>1</th>\n",
       "      <td>2013-01-02</td>\n",
       "      <td>93.14</td>\n",
       "    </tr>\n",
       "    <tr>\n",
       "      <th>2</th>\n",
       "      <td>2013-01-03</td>\n",
       "      <td>92.97</td>\n",
       "    </tr>\n",
       "    <tr>\n",
       "      <th>3</th>\n",
       "      <td>2013-01-04</td>\n",
       "      <td>93.12</td>\n",
       "    </tr>\n",
       "    <tr>\n",
       "      <th>4</th>\n",
       "      <td>2013-01-07</td>\n",
       "      <td>93.20</td>\n",
       "    </tr>\n",
       "  </tbody>\n",
       "</table>\n",
       "</div>"
      ],
      "text/plain": [
       "         date  dcoilwtico\n",
       "0  2013-01-01         NaN\n",
       "1  2013-01-02       93.14\n",
       "2  2013-01-03       92.97\n",
       "3  2013-01-04       93.12\n",
       "4  2013-01-07       93.20"
      ]
     },
     "execution_count": 86,
     "metadata": {},
     "output_type": "execute_result"
    }
   ],
   "source": [
    "oil_set.head()"
   ]
  },
  {
   "cell_type": "code",
   "execution_count": 87,
   "id": "769329ea",
   "metadata": {},
   "outputs": [
    {
     "data": {
      "text/html": [
       "<div>\n",
       "<style scoped>\n",
       "    .dataframe tbody tr th:only-of-type {\n",
       "        vertical-align: middle;\n",
       "    }\n",
       "\n",
       "    .dataframe tbody tr th {\n",
       "        vertical-align: top;\n",
       "    }\n",
       "\n",
       "    .dataframe thead th {\n",
       "        text-align: right;\n",
       "    }\n",
       "</style>\n",
       "<table border=\"1\" class=\"dataframe\">\n",
       "  <thead>\n",
       "    <tr style=\"text-align: right;\">\n",
       "      <th></th>\n",
       "      <th>date</th>\n",
       "      <th>type</th>\n",
       "      <th>locale</th>\n",
       "      <th>locale_name</th>\n",
       "      <th>description</th>\n",
       "      <th>transferred</th>\n",
       "    </tr>\n",
       "  </thead>\n",
       "  <tbody>\n",
       "    <tr>\n",
       "      <th>0</th>\n",
       "      <td>2012-03-02</td>\n",
       "      <td>Holiday</td>\n",
       "      <td>Local</td>\n",
       "      <td>Manta</td>\n",
       "      <td>Fundacion de Manta</td>\n",
       "      <td>False</td>\n",
       "    </tr>\n",
       "    <tr>\n",
       "      <th>1</th>\n",
       "      <td>2012-04-01</td>\n",
       "      <td>Holiday</td>\n",
       "      <td>Regional</td>\n",
       "      <td>Cotopaxi</td>\n",
       "      <td>Provincializacion de Cotopaxi</td>\n",
       "      <td>False</td>\n",
       "    </tr>\n",
       "    <tr>\n",
       "      <th>2</th>\n",
       "      <td>2012-04-12</td>\n",
       "      <td>Holiday</td>\n",
       "      <td>Local</td>\n",
       "      <td>Cuenca</td>\n",
       "      <td>Fundacion de Cuenca</td>\n",
       "      <td>False</td>\n",
       "    </tr>\n",
       "    <tr>\n",
       "      <th>3</th>\n",
       "      <td>2012-04-14</td>\n",
       "      <td>Holiday</td>\n",
       "      <td>Local</td>\n",
       "      <td>Libertad</td>\n",
       "      <td>Cantonizacion de Libertad</td>\n",
       "      <td>False</td>\n",
       "    </tr>\n",
       "    <tr>\n",
       "      <th>4</th>\n",
       "      <td>2012-04-21</td>\n",
       "      <td>Holiday</td>\n",
       "      <td>Local</td>\n",
       "      <td>Riobamba</td>\n",
       "      <td>Cantonizacion de Riobamba</td>\n",
       "      <td>False</td>\n",
       "    </tr>\n",
       "  </tbody>\n",
       "</table>\n",
       "</div>"
      ],
      "text/plain": [
       "         date     type    locale locale_name                    description  \\\n",
       "0  2012-03-02  Holiday     Local       Manta             Fundacion de Manta   \n",
       "1  2012-04-01  Holiday  Regional    Cotopaxi  Provincializacion de Cotopaxi   \n",
       "2  2012-04-12  Holiday     Local      Cuenca            Fundacion de Cuenca   \n",
       "3  2012-04-14  Holiday     Local    Libertad      Cantonizacion de Libertad   \n",
       "4  2012-04-21  Holiday     Local    Riobamba      Cantonizacion de Riobamba   \n",
       "\n",
       "   transferred  \n",
       "0        False  \n",
       "1        False  \n",
       "2        False  \n",
       "3        False  \n",
       "4        False  "
      ]
     },
     "execution_count": 87,
     "metadata": {},
     "output_type": "execute_result"
    }
   ],
   "source": [
    "holiday_set.head()"
   ]
  },
  {
   "cell_type": "code",
   "execution_count": 88,
   "id": "1b66f853",
   "metadata": {},
   "outputs": [
    {
     "data": {
      "text/html": [
       "<div>\n",
       "<style scoped>\n",
       "    .dataframe tbody tr th:only-of-type {\n",
       "        vertical-align: middle;\n",
       "    }\n",
       "\n",
       "    .dataframe tbody tr th {\n",
       "        vertical-align: top;\n",
       "    }\n",
       "\n",
       "    .dataframe thead th {\n",
       "        text-align: right;\n",
       "    }\n",
       "</style>\n",
       "<table border=\"1\" class=\"dataframe\">\n",
       "  <thead>\n",
       "    <tr style=\"text-align: right;\">\n",
       "      <th></th>\n",
       "      <th>date</th>\n",
       "      <th>store_nbr</th>\n",
       "      <th>transactions</th>\n",
       "    </tr>\n",
       "  </thead>\n",
       "  <tbody>\n",
       "    <tr>\n",
       "      <th>0</th>\n",
       "      <td>2013-01-01</td>\n",
       "      <td>25</td>\n",
       "      <td>770</td>\n",
       "    </tr>\n",
       "    <tr>\n",
       "      <th>1</th>\n",
       "      <td>2013-01-02</td>\n",
       "      <td>1</td>\n",
       "      <td>2111</td>\n",
       "    </tr>\n",
       "    <tr>\n",
       "      <th>2</th>\n",
       "      <td>2013-01-02</td>\n",
       "      <td>2</td>\n",
       "      <td>2358</td>\n",
       "    </tr>\n",
       "    <tr>\n",
       "      <th>3</th>\n",
       "      <td>2013-01-02</td>\n",
       "      <td>3</td>\n",
       "      <td>3487</td>\n",
       "    </tr>\n",
       "    <tr>\n",
       "      <th>4</th>\n",
       "      <td>2013-01-02</td>\n",
       "      <td>4</td>\n",
       "      <td>1922</td>\n",
       "    </tr>\n",
       "  </tbody>\n",
       "</table>\n",
       "</div>"
      ],
      "text/plain": [
       "         date  store_nbr  transactions\n",
       "0  2013-01-01         25           770\n",
       "1  2013-01-02          1          2111\n",
       "2  2013-01-02          2          2358\n",
       "3  2013-01-02          3          3487\n",
       "4  2013-01-02          4          1922"
      ]
     },
     "execution_count": 88,
     "metadata": {},
     "output_type": "execute_result"
    }
   ],
   "source": [
    "transactions_set.head()"
   ]
  },
  {
   "cell_type": "code",
   "execution_count": 89,
   "id": "d71cb7ce",
   "metadata": {},
   "outputs": [],
   "source": [
    "#Merges\n",
    "df = pd.merge(train_set,stores_set,on='store_nbr',how='left')\n",
    "df = pd.merge(df,oil_set,on ='date',how='left')\n",
    "df = pd.merge(df,transactions_set,on=['date','store_nbr'],how='left')"
   ]
  },
  {
   "cell_type": "code",
   "execution_count": 90,
   "id": "e520d6c0",
   "metadata": {},
   "outputs": [
    {
     "data": {
      "text/html": [
       "<div>\n",
       "<style scoped>\n",
       "    .dataframe tbody tr th:only-of-type {\n",
       "        vertical-align: middle;\n",
       "    }\n",
       "\n",
       "    .dataframe tbody tr th {\n",
       "        vertical-align: top;\n",
       "    }\n",
       "\n",
       "    .dataframe thead th {\n",
       "        text-align: right;\n",
       "    }\n",
       "</style>\n",
       "<table border=\"1\" class=\"dataframe\">\n",
       "  <thead>\n",
       "    <tr style=\"text-align: right;\">\n",
       "      <th></th>\n",
       "      <th>id</th>\n",
       "      <th>date</th>\n",
       "      <th>store_nbr</th>\n",
       "      <th>family</th>\n",
       "      <th>sales</th>\n",
       "      <th>onpromotion</th>\n",
       "      <th>city</th>\n",
       "      <th>state</th>\n",
       "      <th>type</th>\n",
       "      <th>cluster</th>\n",
       "      <th>dcoilwtico</th>\n",
       "      <th>transactions</th>\n",
       "    </tr>\n",
       "  </thead>\n",
       "  <tbody>\n",
       "    <tr>\n",
       "      <th>0</th>\n",
       "      <td>0</td>\n",
       "      <td>2013-01-01</td>\n",
       "      <td>1</td>\n",
       "      <td>AUTOMOTIVE</td>\n",
       "      <td>0.0</td>\n",
       "      <td>0</td>\n",
       "      <td>Quito</td>\n",
       "      <td>Pichincha</td>\n",
       "      <td>D</td>\n",
       "      <td>13</td>\n",
       "      <td>NaN</td>\n",
       "      <td>NaN</td>\n",
       "    </tr>\n",
       "    <tr>\n",
       "      <th>1</th>\n",
       "      <td>1</td>\n",
       "      <td>2013-01-01</td>\n",
       "      <td>1</td>\n",
       "      <td>BABY CARE</td>\n",
       "      <td>0.0</td>\n",
       "      <td>0</td>\n",
       "      <td>Quito</td>\n",
       "      <td>Pichincha</td>\n",
       "      <td>D</td>\n",
       "      <td>13</td>\n",
       "      <td>NaN</td>\n",
       "      <td>NaN</td>\n",
       "    </tr>\n",
       "    <tr>\n",
       "      <th>2</th>\n",
       "      <td>2</td>\n",
       "      <td>2013-01-01</td>\n",
       "      <td>1</td>\n",
       "      <td>BEAUTY</td>\n",
       "      <td>0.0</td>\n",
       "      <td>0</td>\n",
       "      <td>Quito</td>\n",
       "      <td>Pichincha</td>\n",
       "      <td>D</td>\n",
       "      <td>13</td>\n",
       "      <td>NaN</td>\n",
       "      <td>NaN</td>\n",
       "    </tr>\n",
       "    <tr>\n",
       "      <th>3</th>\n",
       "      <td>3</td>\n",
       "      <td>2013-01-01</td>\n",
       "      <td>1</td>\n",
       "      <td>BEVERAGES</td>\n",
       "      <td>0.0</td>\n",
       "      <td>0</td>\n",
       "      <td>Quito</td>\n",
       "      <td>Pichincha</td>\n",
       "      <td>D</td>\n",
       "      <td>13</td>\n",
       "      <td>NaN</td>\n",
       "      <td>NaN</td>\n",
       "    </tr>\n",
       "    <tr>\n",
       "      <th>4</th>\n",
       "      <td>4</td>\n",
       "      <td>2013-01-01</td>\n",
       "      <td>1</td>\n",
       "      <td>BOOKS</td>\n",
       "      <td>0.0</td>\n",
       "      <td>0</td>\n",
       "      <td>Quito</td>\n",
       "      <td>Pichincha</td>\n",
       "      <td>D</td>\n",
       "      <td>13</td>\n",
       "      <td>NaN</td>\n",
       "      <td>NaN</td>\n",
       "    </tr>\n",
       "  </tbody>\n",
       "</table>\n",
       "</div>"
      ],
      "text/plain": [
       "   id        date  store_nbr      family  sales  onpromotion   city  \\\n",
       "0   0  2013-01-01          1  AUTOMOTIVE    0.0            0  Quito   \n",
       "1   1  2013-01-01          1   BABY CARE    0.0            0  Quito   \n",
       "2   2  2013-01-01          1      BEAUTY    0.0            0  Quito   \n",
       "3   3  2013-01-01          1   BEVERAGES    0.0            0  Quito   \n",
       "4   4  2013-01-01          1       BOOKS    0.0            0  Quito   \n",
       "\n",
       "       state type  cluster  dcoilwtico  transactions  \n",
       "0  Pichincha    D       13         NaN           NaN  \n",
       "1  Pichincha    D       13         NaN           NaN  \n",
       "2  Pichincha    D       13         NaN           NaN  \n",
       "3  Pichincha    D       13         NaN           NaN  \n",
       "4  Pichincha    D       13         NaN           NaN  "
      ]
     },
     "execution_count": 90,
     "metadata": {},
     "output_type": "execute_result"
    }
   ],
   "source": [
    "df.head()"
   ]
  },
  {
   "cell_type": "code",
   "execution_count": 91,
   "id": "a6cc8c22",
   "metadata": {},
   "outputs": [
    {
     "name": "stdout",
     "output_type": "stream",
     "text": [
      "The dataset contains 3000888 samples and 12 features\n"
     ]
    }
   ],
   "source": [
    "print(\n",
    "    f\"The dataset contains {df.shape[0]} samples and \"\n",
    "    f\"{df.shape[1]} features\"\n",
    ")"
   ]
  },
  {
   "cell_type": "code",
   "execution_count": 92,
   "id": "b6c43f4e",
   "metadata": {},
   "outputs": [
    {
     "data": {
      "text/plain": [
       "id                   0\n",
       "date                 0\n",
       "store_nbr            0\n",
       "family               0\n",
       "sales                0\n",
       "onpromotion          0\n",
       "city                 0\n",
       "state                0\n",
       "type                 0\n",
       "cluster              0\n",
       "dcoilwtico      928422\n",
       "transactions    245784\n",
       "dtype: int64"
      ]
     },
     "execution_count": 92,
     "metadata": {},
     "output_type": "execute_result"
    }
   ],
   "source": [
    "#Κοιταω για Nas\n",
    "df.isna().sum()"
   ]
  },
  {
   "cell_type": "code",
   "execution_count": 93,
   "id": "bc0ea4f0",
   "metadata": {},
   "outputs": [],
   "source": [
    "sales_zero = df[df['sales'] == 0]"
   ]
  },
  {
   "cell_type": "code",
   "execution_count": 94,
   "id": "dd7ea617",
   "metadata": {},
   "outputs": [
    {
     "data": {
      "text/plain": [
       "id                   0\n",
       "date                 0\n",
       "store_nbr            0\n",
       "family               0\n",
       "sales                0\n",
       "onpromotion          0\n",
       "city                 0\n",
       "state                0\n",
       "type                 0\n",
       "cluster              0\n",
       "dcoilwtico      291028\n",
       "transactions    242536\n",
       "dtype: int64"
      ]
     },
     "execution_count": 94,
     "metadata": {},
     "output_type": "execute_result"
    }
   ],
   "source": [
    "sales_zero.isna().sum() # 291028 - 245869 = 45159"
   ]
  },
  {
   "cell_type": "code",
   "execution_count": 95,
   "id": "7b0775a0",
   "metadata": {},
   "outputs": [],
   "source": [
    "df.loc[df['sales']==0,'transactions']=0"
   ]
  },
  {
   "cell_type": "code",
   "execution_count": 96,
   "id": "3d13db4b",
   "metadata": {},
   "outputs": [],
   "source": [
    "df.loc[df['sales']==0,'transactions']=0\n",
    "del sales_zero\n",
    "df['transactions'] = df.groupby('store_nbr')['transactions'].ffill()"
   ]
  },
  {
   "cell_type": "code",
   "execution_count": 97,
   "id": "fe8a436e",
   "metadata": {},
   "outputs": [
    {
     "name": "stdout",
     "output_type": "stream",
     "text": [
      "1684 1218\n"
     ]
    }
   ],
   "source": [
    "#Απο αυτο βλεπουμε οτι δεν εχουμε την τιμη του πετρελαιου για ολες τις ημερομινιες\n",
    "print(len(train_set['date'].unique()),len(oil_set['date'].unique()))"
   ]
  },
  {
   "cell_type": "code",
   "execution_count": 98,
   "id": "eba8ec6e",
   "metadata": {},
   "outputs": [],
   "source": [
    "df['date']= pd.to_datetime(df['date'])\n",
    "df['day']= df['date'].dt.day_name()\n",
    "working_days = df[df['date'].dt.dayofweek < 5]"
   ]
  },
  {
   "cell_type": "code",
   "execution_count": 99,
   "id": "fde7eb24",
   "metadata": {},
   "outputs": [
    {
     "name": "stdout",
     "output_type": "stream",
     "text": [
      "857142\n"
     ]
    }
   ],
   "source": [
    "print(df.loc[df['day'] == 'Saturday', 'dcoilwtico'].isna().sum() +\n",
    "      df.loc[df['day'] == 'Sunday', 'dcoilwtico'].isna().sum() \n",
    "      )"
   ]
  },
  {
   "cell_type": "code",
   "execution_count": 100,
   "id": "7c028ab8",
   "metadata": {},
   "outputs": [],
   "source": [
    "#Βρισκω το Σ/Κ με τιμες Na στο πετρελαιο\n",
    "weekend_mask = df['day'].isin(['Saturday', 'Sunday']) & df['dcoilwtico'].isna()\n",
    "df['price_filled'] = df['dcoilwtico']\n",
    "df['price_filled'] = df['price_filled'].where(df['day'].isin(['Monday', 'Tuesday', 'Wednesday', 'Thursday', 'Friday']))\n",
    "df['price_filled'] = df['price_filled'].ffill()\n",
    "df.loc[weekend_mask, 'dcoilwtico'] = df.loc[weekend_mask, 'price_filled']\n",
    "df.drop(columns=['price_filled'], inplace=True)"
   ]
  },
  {
   "cell_type": "code",
   "execution_count": 101,
   "id": "819335ec",
   "metadata": {},
   "outputs": [],
   "source": [
    "df['dcoilwtico'] = df['dcoilwtico'].interpolate(method='linear')\n",
    "df['dcoilwtico'] = df['dcoilwtico'].bfill()\n",
    "df['transactions'] = df['transactions'].fillna(0)"
   ]
  },
  {
   "cell_type": "code",
   "execution_count": 102,
   "id": "4afc938a",
   "metadata": {},
   "outputs": [],
   "source": [
    "#Για τις υπολοιπες τιμες του πετρελαιου που δεν εχουμε κανουμε imputation\n",
    "#df['dcoilwtico'] = df['dcoilwtico'].ffill()"
   ]
  },
  {
   "cell_type": "code",
   "execution_count": 103,
   "id": "4d832ac8",
   "metadata": {},
   "outputs": [
    {
     "data": {
      "text/plain": [
       "date           0\n",
       "type           0\n",
       "locale         0\n",
       "locale_name    0\n",
       "description    0\n",
       "transferred    0\n",
       "dtype: int64"
      ]
     },
     "execution_count": 103,
     "metadata": {},
     "output_type": "execute_result"
    }
   ],
   "source": [
    "holiday_set.isna().sum()"
   ]
  },
  {
   "cell_type": "code",
   "execution_count": 104,
   "id": "50cb069b",
   "metadata": {},
   "outputs": [
    {
     "name": "stdout",
     "output_type": "stream",
     "text": [
      "<class 'pandas.core.frame.DataFrame'>\n",
      "RangeIndex: 3000888 entries, 0 to 3000887\n",
      "Data columns (total 13 columns):\n",
      " #   Column        Dtype         \n",
      "---  ------        -----         \n",
      " 0   id            int64         \n",
      " 1   date          datetime64[ns]\n",
      " 2   store_nbr     int64         \n",
      " 3   family        object        \n",
      " 4   sales         float64       \n",
      " 5   onpromotion   int64         \n",
      " 6   city          object        \n",
      " 7   state         object        \n",
      " 8   type          object        \n",
      " 9   cluster       int64         \n",
      " 10  dcoilwtico    float64       \n",
      " 11  transactions  float64       \n",
      " 12  day           object        \n",
      "dtypes: datetime64[ns](1), float64(3), int64(4), object(5)\n",
      "memory usage: 297.6+ MB\n"
     ]
    }
   ],
   "source": [
    "df.info()"
   ]
  },
  {
   "cell_type": "code",
   "execution_count": 105,
   "id": "4b9ec89b",
   "metadata": {},
   "outputs": [
    {
     "data": {
      "text/plain": [
       "date            0\n",
       "store_nbr       0\n",
       "transactions    0\n",
       "dtype: int64"
      ]
     },
     "execution_count": 105,
     "metadata": {},
     "output_type": "execute_result"
    }
   ],
   "source": [
    "transactions_set.isna().sum()"
   ]
  },
  {
   "cell_type": "code",
   "execution_count": 106,
   "id": "ac7e8388",
   "metadata": {},
   "outputs": [
    {
     "data": {
      "text/plain": [
       "id              0\n",
       "date            0\n",
       "store_nbr       0\n",
       "family          0\n",
       "sales           0\n",
       "onpromotion     0\n",
       "city            0\n",
       "state           0\n",
       "type            0\n",
       "cluster         0\n",
       "dcoilwtico      0\n",
       "transactions    0\n",
       "day             0\n",
       "dtype: int64"
      ]
     },
     "execution_count": 106,
     "metadata": {},
     "output_type": "execute_result"
    }
   ],
   "source": [
    "df.isna().sum()"
   ]
  },
  {
   "cell_type": "code",
   "execution_count": 107,
   "id": "39f81f38",
   "metadata": {},
   "outputs": [
    {
     "data": {
      "text/plain": [
       "id              0\n",
       "date            0\n",
       "store_nbr       0\n",
       "family          0\n",
       "sales           0\n",
       "onpromotion     0\n",
       "city            0\n",
       "state           0\n",
       "type            0\n",
       "cluster         0\n",
       "dcoilwtico      0\n",
       "transactions    0\n",
       "day             0\n",
       "dtype: int64"
      ]
     },
     "execution_count": 107,
     "metadata": {},
     "output_type": "execute_result"
    }
   ],
   "source": [
    "df.isna().sum()"
   ]
  },
  {
   "cell_type": "code",
   "execution_count": 108,
   "id": "5e435244",
   "metadata": {},
   "outputs": [
    {
     "data": {
      "text/html": [
       "<div>\n",
       "<style scoped>\n",
       "    .dataframe tbody tr th:only-of-type {\n",
       "        vertical-align: middle;\n",
       "    }\n",
       "\n",
       "    .dataframe tbody tr th {\n",
       "        vertical-align: top;\n",
       "    }\n",
       "\n",
       "    .dataframe thead th {\n",
       "        text-align: right;\n",
       "    }\n",
       "</style>\n",
       "<table border=\"1\" class=\"dataframe\">\n",
       "  <thead>\n",
       "    <tr style=\"text-align: right;\">\n",
       "      <th></th>\n",
       "      <th>id</th>\n",
       "      <th>date</th>\n",
       "      <th>store_nbr</th>\n",
       "      <th>family</th>\n",
       "      <th>sales</th>\n",
       "      <th>onpromotion</th>\n",
       "      <th>city</th>\n",
       "      <th>state</th>\n",
       "      <th>type</th>\n",
       "      <th>cluster</th>\n",
       "      <th>dcoilwtico</th>\n",
       "      <th>transactions</th>\n",
       "      <th>day</th>\n",
       "    </tr>\n",
       "  </thead>\n",
       "  <tbody>\n",
       "    <tr>\n",
       "      <th>0</th>\n",
       "      <td>0</td>\n",
       "      <td>2013-01-01</td>\n",
       "      <td>1</td>\n",
       "      <td>AUTOMOTIVE</td>\n",
       "      <td>0.0</td>\n",
       "      <td>0</td>\n",
       "      <td>Quito</td>\n",
       "      <td>Pichincha</td>\n",
       "      <td>D</td>\n",
       "      <td>13</td>\n",
       "      <td>93.14</td>\n",
       "      <td>0.0</td>\n",
       "      <td>Tuesday</td>\n",
       "    </tr>\n",
       "    <tr>\n",
       "      <th>1</th>\n",
       "      <td>1</td>\n",
       "      <td>2013-01-01</td>\n",
       "      <td>1</td>\n",
       "      <td>BABY CARE</td>\n",
       "      <td>0.0</td>\n",
       "      <td>0</td>\n",
       "      <td>Quito</td>\n",
       "      <td>Pichincha</td>\n",
       "      <td>D</td>\n",
       "      <td>13</td>\n",
       "      <td>93.14</td>\n",
       "      <td>0.0</td>\n",
       "      <td>Tuesday</td>\n",
       "    </tr>\n",
       "    <tr>\n",
       "      <th>2</th>\n",
       "      <td>2</td>\n",
       "      <td>2013-01-01</td>\n",
       "      <td>1</td>\n",
       "      <td>BEAUTY</td>\n",
       "      <td>0.0</td>\n",
       "      <td>0</td>\n",
       "      <td>Quito</td>\n",
       "      <td>Pichincha</td>\n",
       "      <td>D</td>\n",
       "      <td>13</td>\n",
       "      <td>93.14</td>\n",
       "      <td>0.0</td>\n",
       "      <td>Tuesday</td>\n",
       "    </tr>\n",
       "    <tr>\n",
       "      <th>3</th>\n",
       "      <td>3</td>\n",
       "      <td>2013-01-01</td>\n",
       "      <td>1</td>\n",
       "      <td>BEVERAGES</td>\n",
       "      <td>0.0</td>\n",
       "      <td>0</td>\n",
       "      <td>Quito</td>\n",
       "      <td>Pichincha</td>\n",
       "      <td>D</td>\n",
       "      <td>13</td>\n",
       "      <td>93.14</td>\n",
       "      <td>0.0</td>\n",
       "      <td>Tuesday</td>\n",
       "    </tr>\n",
       "    <tr>\n",
       "      <th>4</th>\n",
       "      <td>4</td>\n",
       "      <td>2013-01-01</td>\n",
       "      <td>1</td>\n",
       "      <td>BOOKS</td>\n",
       "      <td>0.0</td>\n",
       "      <td>0</td>\n",
       "      <td>Quito</td>\n",
       "      <td>Pichincha</td>\n",
       "      <td>D</td>\n",
       "      <td>13</td>\n",
       "      <td>93.14</td>\n",
       "      <td>0.0</td>\n",
       "      <td>Tuesday</td>\n",
       "    </tr>\n",
       "  </tbody>\n",
       "</table>\n",
       "</div>"
      ],
      "text/plain": [
       "   id       date  store_nbr      family  sales  onpromotion   city      state  \\\n",
       "0   0 2013-01-01          1  AUTOMOTIVE    0.0            0  Quito  Pichincha   \n",
       "1   1 2013-01-01          1   BABY CARE    0.0            0  Quito  Pichincha   \n",
       "2   2 2013-01-01          1      BEAUTY    0.0            0  Quito  Pichincha   \n",
       "3   3 2013-01-01          1   BEVERAGES    0.0            0  Quito  Pichincha   \n",
       "4   4 2013-01-01          1       BOOKS    0.0            0  Quito  Pichincha   \n",
       "\n",
       "  type  cluster  dcoilwtico  transactions      day  \n",
       "0    D       13       93.14           0.0  Tuesday  \n",
       "1    D       13       93.14           0.0  Tuesday  \n",
       "2    D       13       93.14           0.0  Tuesday  \n",
       "3    D       13       93.14           0.0  Tuesday  \n",
       "4    D       13       93.14           0.0  Tuesday  "
      ]
     },
     "execution_count": 108,
     "metadata": {},
     "output_type": "execute_result"
    }
   ],
   "source": [
    "df.head()"
   ]
  },
  {
   "cell_type": "markdown",
   "id": "479faf37",
   "metadata": {},
   "source": [
    "#### Exploratory Data Analysis"
   ]
  },
  {
   "cell_type": "code",
   "execution_count": 109,
   "id": "20cce771",
   "metadata": {},
   "outputs": [
    {
     "data": {
      "text/html": [
       "<div>\n",
       "<style scoped>\n",
       "    .dataframe tbody tr th:only-of-type {\n",
       "        vertical-align: middle;\n",
       "    }\n",
       "\n",
       "    .dataframe tbody tr th {\n",
       "        vertical-align: top;\n",
       "    }\n",
       "\n",
       "    .dataframe thead th {\n",
       "        text-align: right;\n",
       "    }\n",
       "</style>\n",
       "<table border=\"1\" class=\"dataframe\">\n",
       "  <thead>\n",
       "    <tr style=\"text-align: right;\">\n",
       "      <th></th>\n",
       "      <th>id</th>\n",
       "      <th>date</th>\n",
       "      <th>store_nbr</th>\n",
       "      <th>family</th>\n",
       "      <th>sales</th>\n",
       "      <th>onpromotion</th>\n",
       "      <th>city</th>\n",
       "      <th>state</th>\n",
       "      <th>type</th>\n",
       "      <th>cluster</th>\n",
       "      <th>dcoilwtico</th>\n",
       "      <th>transactions</th>\n",
       "      <th>day</th>\n",
       "    </tr>\n",
       "  </thead>\n",
       "  <tbody>\n",
       "    <tr>\n",
       "      <th>0</th>\n",
       "      <td>0</td>\n",
       "      <td>2013-01-01</td>\n",
       "      <td>1</td>\n",
       "      <td>AUTOMOTIVE</td>\n",
       "      <td>0.0</td>\n",
       "      <td>0</td>\n",
       "      <td>Quito</td>\n",
       "      <td>Pichincha</td>\n",
       "      <td>D</td>\n",
       "      <td>13</td>\n",
       "      <td>93.14</td>\n",
       "      <td>0.0</td>\n",
       "      <td>Tuesday</td>\n",
       "    </tr>\n",
       "    <tr>\n",
       "      <th>1</th>\n",
       "      <td>1</td>\n",
       "      <td>2013-01-01</td>\n",
       "      <td>1</td>\n",
       "      <td>BABY CARE</td>\n",
       "      <td>0.0</td>\n",
       "      <td>0</td>\n",
       "      <td>Quito</td>\n",
       "      <td>Pichincha</td>\n",
       "      <td>D</td>\n",
       "      <td>13</td>\n",
       "      <td>93.14</td>\n",
       "      <td>0.0</td>\n",
       "      <td>Tuesday</td>\n",
       "    </tr>\n",
       "    <tr>\n",
       "      <th>2</th>\n",
       "      <td>2</td>\n",
       "      <td>2013-01-01</td>\n",
       "      <td>1</td>\n",
       "      <td>BEAUTY</td>\n",
       "      <td>0.0</td>\n",
       "      <td>0</td>\n",
       "      <td>Quito</td>\n",
       "      <td>Pichincha</td>\n",
       "      <td>D</td>\n",
       "      <td>13</td>\n",
       "      <td>93.14</td>\n",
       "      <td>0.0</td>\n",
       "      <td>Tuesday</td>\n",
       "    </tr>\n",
       "    <tr>\n",
       "      <th>3</th>\n",
       "      <td>3</td>\n",
       "      <td>2013-01-01</td>\n",
       "      <td>1</td>\n",
       "      <td>BEVERAGES</td>\n",
       "      <td>0.0</td>\n",
       "      <td>0</td>\n",
       "      <td>Quito</td>\n",
       "      <td>Pichincha</td>\n",
       "      <td>D</td>\n",
       "      <td>13</td>\n",
       "      <td>93.14</td>\n",
       "      <td>0.0</td>\n",
       "      <td>Tuesday</td>\n",
       "    </tr>\n",
       "    <tr>\n",
       "      <th>4</th>\n",
       "      <td>4</td>\n",
       "      <td>2013-01-01</td>\n",
       "      <td>1</td>\n",
       "      <td>BOOKS</td>\n",
       "      <td>0.0</td>\n",
       "      <td>0</td>\n",
       "      <td>Quito</td>\n",
       "      <td>Pichincha</td>\n",
       "      <td>D</td>\n",
       "      <td>13</td>\n",
       "      <td>93.14</td>\n",
       "      <td>0.0</td>\n",
       "      <td>Tuesday</td>\n",
       "    </tr>\n",
       "  </tbody>\n",
       "</table>\n",
       "</div>"
      ],
      "text/plain": [
       "   id       date  store_nbr      family  sales  onpromotion   city      state  \\\n",
       "0   0 2013-01-01          1  AUTOMOTIVE    0.0            0  Quito  Pichincha   \n",
       "1   1 2013-01-01          1   BABY CARE    0.0            0  Quito  Pichincha   \n",
       "2   2 2013-01-01          1      BEAUTY    0.0            0  Quito  Pichincha   \n",
       "3   3 2013-01-01          1   BEVERAGES    0.0            0  Quito  Pichincha   \n",
       "4   4 2013-01-01          1       BOOKS    0.0            0  Quito  Pichincha   \n",
       "\n",
       "  type  cluster  dcoilwtico  transactions      day  \n",
       "0    D       13       93.14           0.0  Tuesday  \n",
       "1    D       13       93.14           0.0  Tuesday  \n",
       "2    D       13       93.14           0.0  Tuesday  \n",
       "3    D       13       93.14           0.0  Tuesday  \n",
       "4    D       13       93.14           0.0  Tuesday  "
      ]
     },
     "execution_count": 109,
     "metadata": {},
     "output_type": "execute_result"
    }
   ],
   "source": [
    "df.head()"
   ]
  },
  {
   "cell_type": "code",
   "execution_count": 110,
   "id": "44f0bfbf",
   "metadata": {},
   "outputs": [
    {
     "name": "stdout",
     "output_type": "stream",
     "text": [
      "The dataset contains 3000888 samples and 13 features\n"
     ]
    }
   ],
   "source": [
    "print(\n",
    "    f\"The dataset contains {df.shape[0]} samples and \"\n",
    "    f\"{df.shape[1]} features\"\n",
    ")"
   ]
  },
  {
   "cell_type": "code",
   "execution_count": 111,
   "id": "4b475c7c",
   "metadata": {},
   "outputs": [
    {
     "data": {
      "text/plain": [
       "54"
      ]
     },
     "execution_count": 111,
     "metadata": {},
     "output_type": "execute_result"
    }
   ],
   "source": [
    "len(df['store_nbr'].unique())"
   ]
  },
  {
   "cell_type": "code",
   "execution_count": 112,
   "id": "4f8509e9",
   "metadata": {},
   "outputs": [
    {
     "data": {
      "text/plain": [
       "array(['AUTOMOTIVE', 'BABY CARE', 'BEAUTY', 'BEVERAGES', 'BOOKS',\n",
       "       'BREAD/BAKERY', 'CELEBRATION', 'CLEANING', 'DAIRY', 'DELI', 'EGGS',\n",
       "       'FROZEN FOODS', 'GROCERY I', 'GROCERY II', 'HARDWARE',\n",
       "       'HOME AND KITCHEN I', 'HOME AND KITCHEN II', 'HOME APPLIANCES',\n",
       "       'HOME CARE', 'LADIESWEAR', 'LAWN AND GARDEN', 'LINGERIE',\n",
       "       'LIQUOR,WINE,BEER', 'MAGAZINES', 'MEATS', 'PERSONAL CARE',\n",
       "       'PET SUPPLIES', 'PLAYERS AND ELECTRONICS', 'POULTRY',\n",
       "       'PREPARED FOODS', 'PRODUCE', 'SCHOOL AND OFFICE SUPPLIES',\n",
       "       'SEAFOOD'], dtype=object)"
      ]
     },
     "execution_count": 112,
     "metadata": {},
     "output_type": "execute_result"
    }
   ],
   "source": [
    "df['family'].unique()"
   ]
  },
  {
   "cell_type": "code",
   "execution_count": 113,
   "id": "d1a971fa",
   "metadata": {},
   "outputs": [
    {
     "data": {
      "text/plain": [
       "33"
      ]
     },
     "execution_count": 113,
     "metadata": {},
     "output_type": "execute_result"
    }
   ],
   "source": [
    "len(df['family'].unique())"
   ]
  },
  {
   "cell_type": "code",
   "execution_count": 114,
   "id": "f20338ba",
   "metadata": {},
   "outputs": [
    {
     "data": {
      "text/plain": [
       "array(['Quito', 'Cayambe', 'Latacunga', 'Riobamba', 'Ibarra',\n",
       "       'Santo Domingo', 'Guaranda', 'Puyo', 'Ambato', 'Guayaquil',\n",
       "       'Salinas', 'Daule', 'Babahoyo', 'Quevedo', 'Playas', 'Libertad',\n",
       "       'Cuenca', 'Loja', 'Machala', 'Esmeraldas', 'Manta', 'El Carmen'],\n",
       "      dtype=object)"
      ]
     },
     "execution_count": 114,
     "metadata": {},
     "output_type": "execute_result"
    }
   ],
   "source": [
    "df['city'].unique()"
   ]
  },
  {
   "cell_type": "code",
   "execution_count": 115,
   "id": "6caf8282",
   "metadata": {},
   "outputs": [
    {
     "data": {
      "text/plain": [
       "22"
      ]
     },
     "execution_count": 115,
     "metadata": {},
     "output_type": "execute_result"
    }
   ],
   "source": [
    "len(df['city'].unique())"
   ]
  },
  {
   "cell_type": "code",
   "execution_count": 116,
   "id": "c271fcbd",
   "metadata": {},
   "outputs": [
    {
     "data": {
      "text/plain": [
       "array(['Pichincha', 'Cotopaxi', 'Chimborazo', 'Imbabura',\n",
       "       'Santo Domingo de los Tsachilas', 'Bolivar', 'Pastaza',\n",
       "       'Tungurahua', 'Guayas', 'Santa Elena', 'Los Rios', 'Azuay', 'Loja',\n",
       "       'El Oro', 'Esmeraldas', 'Manabi'], dtype=object)"
      ]
     },
     "execution_count": 116,
     "metadata": {},
     "output_type": "execute_result"
    }
   ],
   "source": [
    "df['state'].unique()"
   ]
  },
  {
   "cell_type": "code",
   "execution_count": 117,
   "id": "1b68b45b",
   "metadata": {},
   "outputs": [
    {
     "data": {
      "text/plain": [
       "16"
      ]
     },
     "execution_count": 117,
     "metadata": {},
     "output_type": "execute_result"
    }
   ],
   "source": [
    "len(df['state'].unique())"
   ]
  },
  {
   "cell_type": "code",
   "execution_count": 118,
   "id": "257d4cba",
   "metadata": {},
   "outputs": [
    {
     "data": {
      "text/plain": [
       "array(['D', 'C', 'B', 'E', 'A'], dtype=object)"
      ]
     },
     "execution_count": 118,
     "metadata": {},
     "output_type": "execute_result"
    }
   ],
   "source": [
    "df['type'].unique()"
   ]
  },
  {
   "cell_type": "code",
   "execution_count": 119,
   "id": "6f52a518",
   "metadata": {},
   "outputs": [
    {
     "data": {
      "text/plain": [
       "[1, 2, 3, 4, 5, 6, 7, 8, 9, 10, 11, 12, 13, 14, 15, 16, 17]"
      ]
     },
     "execution_count": 119,
     "metadata": {},
     "output_type": "execute_result"
    }
   ],
   "source": [
    "sorted(df['cluster'].unique())"
   ]
  },
  {
   "cell_type": "code",
   "execution_count": 120,
   "id": "4be766ed",
   "metadata": {},
   "outputs": [
    {
     "data": {
      "text/plain": [
       "array(['Tuesday', 'Wednesday', 'Thursday', 'Friday', 'Saturday', 'Sunday',\n",
       "       'Monday'], dtype=object)"
      ]
     },
     "execution_count": 120,
     "metadata": {},
     "output_type": "execute_result"
    }
   ],
   "source": [
    "df['day'].unique()"
   ]
  },
  {
   "cell_type": "code",
   "execution_count": 121,
   "id": "87407a6c",
   "metadata": {},
   "outputs": [
    {
     "data": {
      "text/html": [
       "<div>\n",
       "<style scoped>\n",
       "    .dataframe tbody tr th:only-of-type {\n",
       "        vertical-align: middle;\n",
       "    }\n",
       "\n",
       "    .dataframe tbody tr th {\n",
       "        vertical-align: top;\n",
       "    }\n",
       "\n",
       "    .dataframe thead th {\n",
       "        text-align: right;\n",
       "    }\n",
       "</style>\n",
       "<table border=\"1\" class=\"dataframe\">\n",
       "  <thead>\n",
       "    <tr style=\"text-align: right;\">\n",
       "      <th></th>\n",
       "      <th>sales</th>\n",
       "      <th>onpromotion</th>\n",
       "      <th>transactions</th>\n",
       "      <th>dcoilwtico</th>\n",
       "    </tr>\n",
       "  </thead>\n",
       "  <tbody>\n",
       "    <tr>\n",
       "      <th>count</th>\n",
       "      <td>3.000888e+06</td>\n",
       "      <td>3.000888e+06</td>\n",
       "      <td>3.000888e+06</td>\n",
       "      <td>3.000888e+06</td>\n",
       "    </tr>\n",
       "    <tr>\n",
       "      <th>mean</th>\n",
       "      <td>3.577757e+02</td>\n",
       "      <td>2.602770e+00</td>\n",
       "      <td>1.196714e+03</td>\n",
       "      <td>6.791966e+01</td>\n",
       "    </tr>\n",
       "    <tr>\n",
       "      <th>std</th>\n",
       "      <td>1.101998e+03</td>\n",
       "      <td>1.221888e+01</td>\n",
       "      <td>1.148411e+03</td>\n",
       "      <td>2.567090e+01</td>\n",
       "    </tr>\n",
       "    <tr>\n",
       "      <th>min</th>\n",
       "      <td>0.000000e+00</td>\n",
       "      <td>0.000000e+00</td>\n",
       "      <td>0.000000e+00</td>\n",
       "      <td>2.619000e+01</td>\n",
       "    </tr>\n",
       "    <tr>\n",
       "      <th>25%</th>\n",
       "      <td>0.000000e+00</td>\n",
       "      <td>0.000000e+00</td>\n",
       "      <td>0.000000e+00</td>\n",
       "      <td>4.637750e+01</td>\n",
       "    </tr>\n",
       "    <tr>\n",
       "      <th>50%</th>\n",
       "      <td>1.100000e+01</td>\n",
       "      <td>0.000000e+00</td>\n",
       "      <td>1.113000e+03</td>\n",
       "      <td>5.341000e+01</td>\n",
       "    </tr>\n",
       "    <tr>\n",
       "      <th>75%</th>\n",
       "      <td>1.958473e+02</td>\n",
       "      <td>0.000000e+00</td>\n",
       "      <td>1.749000e+03</td>\n",
       "      <td>9.572000e+01</td>\n",
       "    </tr>\n",
       "    <tr>\n",
       "      <th>max</th>\n",
       "      <td>1.247170e+05</td>\n",
       "      <td>7.410000e+02</td>\n",
       "      <td>8.359000e+03</td>\n",
       "      <td>1.106200e+02</td>\n",
       "    </tr>\n",
       "  </tbody>\n",
       "</table>\n",
       "</div>"
      ],
      "text/plain": [
       "              sales   onpromotion  transactions    dcoilwtico\n",
       "count  3.000888e+06  3.000888e+06  3.000888e+06  3.000888e+06\n",
       "mean   3.577757e+02  2.602770e+00  1.196714e+03  6.791966e+01\n",
       "std    1.101998e+03  1.221888e+01  1.148411e+03  2.567090e+01\n",
       "min    0.000000e+00  0.000000e+00  0.000000e+00  2.619000e+01\n",
       "25%    0.000000e+00  0.000000e+00  0.000000e+00  4.637750e+01\n",
       "50%    1.100000e+01  0.000000e+00  1.113000e+03  5.341000e+01\n",
       "75%    1.958473e+02  0.000000e+00  1.749000e+03  9.572000e+01\n",
       "max    1.247170e+05  7.410000e+02  8.359000e+03  1.106200e+02"
      ]
     },
     "execution_count": 121,
     "metadata": {},
     "output_type": "execute_result"
    }
   ],
   "source": [
    "df[['sales','onpromotion','transactions','dcoilwtico']].describe()"
   ]
  },
  {
   "cell_type": "code",
   "execution_count": 122,
   "id": "3548c15c",
   "metadata": {},
   "outputs": [
    {
     "data": {
      "text/html": [
       "<div>\n",
       "<style scoped>\n",
       "    .dataframe tbody tr th:only-of-type {\n",
       "        vertical-align: middle;\n",
       "    }\n",
       "\n",
       "    .dataframe tbody tr th {\n",
       "        vertical-align: top;\n",
       "    }\n",
       "\n",
       "    .dataframe thead th {\n",
       "        text-align: right;\n",
       "    }\n",
       "</style>\n",
       "<table border=\"1\" class=\"dataframe\">\n",
       "  <thead>\n",
       "    <tr style=\"text-align: right;\">\n",
       "      <th></th>\n",
       "      <th>id</th>\n",
       "      <th>date</th>\n",
       "      <th>store_nbr</th>\n",
       "      <th>family</th>\n",
       "      <th>sales</th>\n",
       "      <th>onpromotion</th>\n",
       "      <th>city</th>\n",
       "      <th>state</th>\n",
       "      <th>type</th>\n",
       "      <th>cluster</th>\n",
       "      <th>dcoilwtico</th>\n",
       "      <th>transactions</th>\n",
       "      <th>day</th>\n",
       "    </tr>\n",
       "  </thead>\n",
       "  <tbody>\n",
       "    <tr>\n",
       "      <th>0</th>\n",
       "      <td>0</td>\n",
       "      <td>2013-01-01</td>\n",
       "      <td>1</td>\n",
       "      <td>AUTOMOTIVE</td>\n",
       "      <td>0.0</td>\n",
       "      <td>0</td>\n",
       "      <td>Quito</td>\n",
       "      <td>Pichincha</td>\n",
       "      <td>D</td>\n",
       "      <td>13</td>\n",
       "      <td>93.14</td>\n",
       "      <td>0.0</td>\n",
       "      <td>Tuesday</td>\n",
       "    </tr>\n",
       "    <tr>\n",
       "      <th>1</th>\n",
       "      <td>1</td>\n",
       "      <td>2013-01-01</td>\n",
       "      <td>1</td>\n",
       "      <td>BABY CARE</td>\n",
       "      <td>0.0</td>\n",
       "      <td>0</td>\n",
       "      <td>Quito</td>\n",
       "      <td>Pichincha</td>\n",
       "      <td>D</td>\n",
       "      <td>13</td>\n",
       "      <td>93.14</td>\n",
       "      <td>0.0</td>\n",
       "      <td>Tuesday</td>\n",
       "    </tr>\n",
       "    <tr>\n",
       "      <th>2</th>\n",
       "      <td>2</td>\n",
       "      <td>2013-01-01</td>\n",
       "      <td>1</td>\n",
       "      <td>BEAUTY</td>\n",
       "      <td>0.0</td>\n",
       "      <td>0</td>\n",
       "      <td>Quito</td>\n",
       "      <td>Pichincha</td>\n",
       "      <td>D</td>\n",
       "      <td>13</td>\n",
       "      <td>93.14</td>\n",
       "      <td>0.0</td>\n",
       "      <td>Tuesday</td>\n",
       "    </tr>\n",
       "    <tr>\n",
       "      <th>3</th>\n",
       "      <td>3</td>\n",
       "      <td>2013-01-01</td>\n",
       "      <td>1</td>\n",
       "      <td>BEVERAGES</td>\n",
       "      <td>0.0</td>\n",
       "      <td>0</td>\n",
       "      <td>Quito</td>\n",
       "      <td>Pichincha</td>\n",
       "      <td>D</td>\n",
       "      <td>13</td>\n",
       "      <td>93.14</td>\n",
       "      <td>0.0</td>\n",
       "      <td>Tuesday</td>\n",
       "    </tr>\n",
       "    <tr>\n",
       "      <th>4</th>\n",
       "      <td>4</td>\n",
       "      <td>2013-01-01</td>\n",
       "      <td>1</td>\n",
       "      <td>BOOKS</td>\n",
       "      <td>0.0</td>\n",
       "      <td>0</td>\n",
       "      <td>Quito</td>\n",
       "      <td>Pichincha</td>\n",
       "      <td>D</td>\n",
       "      <td>13</td>\n",
       "      <td>93.14</td>\n",
       "      <td>0.0</td>\n",
       "      <td>Tuesday</td>\n",
       "    </tr>\n",
       "  </tbody>\n",
       "</table>\n",
       "</div>"
      ],
      "text/plain": [
       "   id       date  store_nbr      family  sales  onpromotion   city      state  \\\n",
       "0   0 2013-01-01          1  AUTOMOTIVE    0.0            0  Quito  Pichincha   \n",
       "1   1 2013-01-01          1   BABY CARE    0.0            0  Quito  Pichincha   \n",
       "2   2 2013-01-01          1      BEAUTY    0.0            0  Quito  Pichincha   \n",
       "3   3 2013-01-01          1   BEVERAGES    0.0            0  Quito  Pichincha   \n",
       "4   4 2013-01-01          1       BOOKS    0.0            0  Quito  Pichincha   \n",
       "\n",
       "  type  cluster  dcoilwtico  transactions      day  \n",
       "0    D       13       93.14           0.0  Tuesday  \n",
       "1    D       13       93.14           0.0  Tuesday  \n",
       "2    D       13       93.14           0.0  Tuesday  \n",
       "3    D       13       93.14           0.0  Tuesday  \n",
       "4    D       13       93.14           0.0  Tuesday  "
      ]
     },
     "execution_count": 122,
     "metadata": {},
     "output_type": "execute_result"
    }
   ],
   "source": [
    "df.head()"
   ]
  },
  {
   "cell_type": "code",
   "execution_count": 123,
   "id": "af6b984e",
   "metadata": {},
   "outputs": [],
   "source": [
    "#Εδω δημιουργω ενα γραφημα για τα sales σε βαθος χρονου\n",
    "#Για να γινει αυτο θα πρεπει να αθροισω τα sales καθε μερας καθως το υπαρχον dataset εχει \n",
    "#sales για ολες τις ημερες \n",
    "daily_sales = df[['date','sales']].copy()\n",
    "daily_sales = daily_sales.groupby('date').sum().reset_index()\n"
   ]
  },
  {
   "cell_type": "code",
   "execution_count": 124,
   "id": "cd1f8865",
   "metadata": {},
   "outputs": [
    {
     "data": {
      "application/vnd.plotly.v1+json": {
       "config": {
        "plotlyServerURL": "https://plot.ly"
       },
       "data": [
        {
         "hovertemplate": "date=%{x}<br>sales=%{y}<extra></extra>",
         "legendgroup": "",
         "line": {
          "color": "#636efa",
          "dash": "solid"
         },
         "marker": {
          "symbol": "circle"
         },
         "mode": "lines",
         "name": "",
         "showlegend": false,
         "type": "scattergl",
         "x": [
          "2013-01-01T00:00:00.000000000",
          "2013-01-02T00:00:00.000000000",
          "2013-01-03T00:00:00.000000000",
          "2013-01-04T00:00:00.000000000",
          "2013-01-05T00:00:00.000000000",
          "2013-01-06T00:00:00.000000000",
          "2013-01-07T00:00:00.000000000",
          "2013-01-08T00:00:00.000000000",
          "2013-01-09T00:00:00.000000000",
          "2013-01-10T00:00:00.000000000",
          "2013-01-11T00:00:00.000000000",
          "2013-01-12T00:00:00.000000000",
          "2013-01-13T00:00:00.000000000",
          "2013-01-14T00:00:00.000000000",
          "2013-01-15T00:00:00.000000000",
          "2013-01-16T00:00:00.000000000",
          "2013-01-17T00:00:00.000000000",
          "2013-01-18T00:00:00.000000000",
          "2013-01-19T00:00:00.000000000",
          "2013-01-20T00:00:00.000000000",
          "2013-01-21T00:00:00.000000000",
          "2013-01-22T00:00:00.000000000",
          "2013-01-23T00:00:00.000000000",
          "2013-01-24T00:00:00.000000000",
          "2013-01-25T00:00:00.000000000",
          "2013-01-26T00:00:00.000000000",
          "2013-01-27T00:00:00.000000000",
          "2013-01-28T00:00:00.000000000",
          "2013-01-29T00:00:00.000000000",
          "2013-01-30T00:00:00.000000000",
          "2013-01-31T00:00:00.000000000",
          "2013-02-01T00:00:00.000000000",
          "2013-02-02T00:00:00.000000000",
          "2013-02-03T00:00:00.000000000",
          "2013-02-04T00:00:00.000000000",
          "2013-02-05T00:00:00.000000000",
          "2013-02-06T00:00:00.000000000",
          "2013-02-07T00:00:00.000000000",
          "2013-02-08T00:00:00.000000000",
          "2013-02-09T00:00:00.000000000",
          "2013-02-10T00:00:00.000000000",
          "2013-02-11T00:00:00.000000000",
          "2013-02-12T00:00:00.000000000",
          "2013-02-13T00:00:00.000000000",
          "2013-02-14T00:00:00.000000000",
          "2013-02-15T00:00:00.000000000",
          "2013-02-16T00:00:00.000000000",
          "2013-02-17T00:00:00.000000000",
          "2013-02-18T00:00:00.000000000",
          "2013-02-19T00:00:00.000000000",
          "2013-02-20T00:00:00.000000000",
          "2013-02-21T00:00:00.000000000",
          "2013-02-22T00:00:00.000000000",
          "2013-02-23T00:00:00.000000000",
          "2013-02-24T00:00:00.000000000",
          "2013-02-25T00:00:00.000000000",
          "2013-02-26T00:00:00.000000000",
          "2013-02-27T00:00:00.000000000",
          "2013-02-28T00:00:00.000000000",
          "2013-03-01T00:00:00.000000000",
          "2013-03-02T00:00:00.000000000",
          "2013-03-03T00:00:00.000000000",
          "2013-03-04T00:00:00.000000000",
          "2013-03-05T00:00:00.000000000",
          "2013-03-06T00:00:00.000000000",
          "2013-03-07T00:00:00.000000000",
          "2013-03-08T00:00:00.000000000",
          "2013-03-09T00:00:00.000000000",
          "2013-03-10T00:00:00.000000000",
          "2013-03-11T00:00:00.000000000",
          "2013-03-12T00:00:00.000000000",
          "2013-03-13T00:00:00.000000000",
          "2013-03-14T00:00:00.000000000",
          "2013-03-15T00:00:00.000000000",
          "2013-03-16T00:00:00.000000000",
          "2013-03-17T00:00:00.000000000",
          "2013-03-18T00:00:00.000000000",
          "2013-03-19T00:00:00.000000000",
          "2013-03-20T00:00:00.000000000",
          "2013-03-21T00:00:00.000000000",
          "2013-03-22T00:00:00.000000000",
          "2013-03-23T00:00:00.000000000",
          "2013-03-24T00:00:00.000000000",
          "2013-03-25T00:00:00.000000000",
          "2013-03-26T00:00:00.000000000",
          "2013-03-27T00:00:00.000000000",
          "2013-03-28T00:00:00.000000000",
          "2013-03-29T00:00:00.000000000",
          "2013-03-30T00:00:00.000000000",
          "2013-03-31T00:00:00.000000000",
          "2013-04-01T00:00:00.000000000",
          "2013-04-02T00:00:00.000000000",
          "2013-04-03T00:00:00.000000000",
          "2013-04-04T00:00:00.000000000",
          "2013-04-05T00:00:00.000000000",
          "2013-04-06T00:00:00.000000000",
          "2013-04-07T00:00:00.000000000",
          "2013-04-08T00:00:00.000000000",
          "2013-04-09T00:00:00.000000000",
          "2013-04-10T00:00:00.000000000",
          "2013-04-11T00:00:00.000000000",
          "2013-04-12T00:00:00.000000000",
          "2013-04-13T00:00:00.000000000",
          "2013-04-14T00:00:00.000000000",
          "2013-04-15T00:00:00.000000000",
          "2013-04-16T00:00:00.000000000",
          "2013-04-17T00:00:00.000000000",
          "2013-04-18T00:00:00.000000000",
          "2013-04-19T00:00:00.000000000",
          "2013-04-20T00:00:00.000000000",
          "2013-04-21T00:00:00.000000000",
          "2013-04-22T00:00:00.000000000",
          "2013-04-23T00:00:00.000000000",
          "2013-04-24T00:00:00.000000000",
          "2013-04-25T00:00:00.000000000",
          "2013-04-26T00:00:00.000000000",
          "2013-04-27T00:00:00.000000000",
          "2013-04-28T00:00:00.000000000",
          "2013-04-29T00:00:00.000000000",
          "2013-04-30T00:00:00.000000000",
          "2013-05-01T00:00:00.000000000",
          "2013-05-02T00:00:00.000000000",
          "2013-05-03T00:00:00.000000000",
          "2013-05-04T00:00:00.000000000",
          "2013-05-05T00:00:00.000000000",
          "2013-05-06T00:00:00.000000000",
          "2013-05-07T00:00:00.000000000",
          "2013-05-08T00:00:00.000000000",
          "2013-05-09T00:00:00.000000000",
          "2013-05-10T00:00:00.000000000",
          "2013-05-11T00:00:00.000000000",
          "2013-05-12T00:00:00.000000000",
          "2013-05-13T00:00:00.000000000",
          "2013-05-14T00:00:00.000000000",
          "2013-05-15T00:00:00.000000000",
          "2013-05-16T00:00:00.000000000",
          "2013-05-17T00:00:00.000000000",
          "2013-05-18T00:00:00.000000000",
          "2013-05-19T00:00:00.000000000",
          "2013-05-20T00:00:00.000000000",
          "2013-05-21T00:00:00.000000000",
          "2013-05-22T00:00:00.000000000",
          "2013-05-23T00:00:00.000000000",
          "2013-05-24T00:00:00.000000000",
          "2013-05-25T00:00:00.000000000",
          "2013-05-26T00:00:00.000000000",
          "2013-05-27T00:00:00.000000000",
          "2013-05-28T00:00:00.000000000",
          "2013-05-29T00:00:00.000000000",
          "2013-05-30T00:00:00.000000000",
          "2013-05-31T00:00:00.000000000",
          "2013-06-01T00:00:00.000000000",
          "2013-06-02T00:00:00.000000000",
          "2013-06-03T00:00:00.000000000",
          "2013-06-04T00:00:00.000000000",
          "2013-06-05T00:00:00.000000000",
          "2013-06-06T00:00:00.000000000",
          "2013-06-07T00:00:00.000000000",
          "2013-06-08T00:00:00.000000000",
          "2013-06-09T00:00:00.000000000",
          "2013-06-10T00:00:00.000000000",
          "2013-06-11T00:00:00.000000000",
          "2013-06-12T00:00:00.000000000",
          "2013-06-13T00:00:00.000000000",
          "2013-06-14T00:00:00.000000000",
          "2013-06-15T00:00:00.000000000",
          "2013-06-16T00:00:00.000000000",
          "2013-06-17T00:00:00.000000000",
          "2013-06-18T00:00:00.000000000",
          "2013-06-19T00:00:00.000000000",
          "2013-06-20T00:00:00.000000000",
          "2013-06-21T00:00:00.000000000",
          "2013-06-22T00:00:00.000000000",
          "2013-06-23T00:00:00.000000000",
          "2013-06-24T00:00:00.000000000",
          "2013-06-25T00:00:00.000000000",
          "2013-06-26T00:00:00.000000000",
          "2013-06-27T00:00:00.000000000",
          "2013-06-28T00:00:00.000000000",
          "2013-06-29T00:00:00.000000000",
          "2013-06-30T00:00:00.000000000",
          "2013-07-01T00:00:00.000000000",
          "2013-07-02T00:00:00.000000000",
          "2013-07-03T00:00:00.000000000",
          "2013-07-04T00:00:00.000000000",
          "2013-07-05T00:00:00.000000000",
          "2013-07-06T00:00:00.000000000",
          "2013-07-07T00:00:00.000000000",
          "2013-07-08T00:00:00.000000000",
          "2013-07-09T00:00:00.000000000",
          "2013-07-10T00:00:00.000000000",
          "2013-07-11T00:00:00.000000000",
          "2013-07-12T00:00:00.000000000",
          "2013-07-13T00:00:00.000000000",
          "2013-07-14T00:00:00.000000000",
          "2013-07-15T00:00:00.000000000",
          "2013-07-16T00:00:00.000000000",
          "2013-07-17T00:00:00.000000000",
          "2013-07-18T00:00:00.000000000",
          "2013-07-19T00:00:00.000000000",
          "2013-07-20T00:00:00.000000000",
          "2013-07-21T00:00:00.000000000",
          "2013-07-22T00:00:00.000000000",
          "2013-07-23T00:00:00.000000000",
          "2013-07-24T00:00:00.000000000",
          "2013-07-25T00:00:00.000000000",
          "2013-07-26T00:00:00.000000000",
          "2013-07-27T00:00:00.000000000",
          "2013-07-28T00:00:00.000000000",
          "2013-07-29T00:00:00.000000000",
          "2013-07-30T00:00:00.000000000",
          "2013-07-31T00:00:00.000000000",
          "2013-08-01T00:00:00.000000000",
          "2013-08-02T00:00:00.000000000",
          "2013-08-03T00:00:00.000000000",
          "2013-08-04T00:00:00.000000000",
          "2013-08-05T00:00:00.000000000",
          "2013-08-06T00:00:00.000000000",
          "2013-08-07T00:00:00.000000000",
          "2013-08-08T00:00:00.000000000",
          "2013-08-09T00:00:00.000000000",
          "2013-08-10T00:00:00.000000000",
          "2013-08-11T00:00:00.000000000",
          "2013-08-12T00:00:00.000000000",
          "2013-08-13T00:00:00.000000000",
          "2013-08-14T00:00:00.000000000",
          "2013-08-15T00:00:00.000000000",
          "2013-08-16T00:00:00.000000000",
          "2013-08-17T00:00:00.000000000",
          "2013-08-18T00:00:00.000000000",
          "2013-08-19T00:00:00.000000000",
          "2013-08-20T00:00:00.000000000",
          "2013-08-21T00:00:00.000000000",
          "2013-08-22T00:00:00.000000000",
          "2013-08-23T00:00:00.000000000",
          "2013-08-24T00:00:00.000000000",
          "2013-08-25T00:00:00.000000000",
          "2013-08-26T00:00:00.000000000",
          "2013-08-27T00:00:00.000000000",
          "2013-08-28T00:00:00.000000000",
          "2013-08-29T00:00:00.000000000",
          "2013-08-30T00:00:00.000000000",
          "2013-08-31T00:00:00.000000000",
          "2013-09-01T00:00:00.000000000",
          "2013-09-02T00:00:00.000000000",
          "2013-09-03T00:00:00.000000000",
          "2013-09-04T00:00:00.000000000",
          "2013-09-05T00:00:00.000000000",
          "2013-09-06T00:00:00.000000000",
          "2013-09-07T00:00:00.000000000",
          "2013-09-08T00:00:00.000000000",
          "2013-09-09T00:00:00.000000000",
          "2013-09-10T00:00:00.000000000",
          "2013-09-11T00:00:00.000000000",
          "2013-09-12T00:00:00.000000000",
          "2013-09-13T00:00:00.000000000",
          "2013-09-14T00:00:00.000000000",
          "2013-09-15T00:00:00.000000000",
          "2013-09-16T00:00:00.000000000",
          "2013-09-17T00:00:00.000000000",
          "2013-09-18T00:00:00.000000000",
          "2013-09-19T00:00:00.000000000",
          "2013-09-20T00:00:00.000000000",
          "2013-09-21T00:00:00.000000000",
          "2013-09-22T00:00:00.000000000",
          "2013-09-23T00:00:00.000000000",
          "2013-09-24T00:00:00.000000000",
          "2013-09-25T00:00:00.000000000",
          "2013-09-26T00:00:00.000000000",
          "2013-09-27T00:00:00.000000000",
          "2013-09-28T00:00:00.000000000",
          "2013-09-29T00:00:00.000000000",
          "2013-09-30T00:00:00.000000000",
          "2013-10-01T00:00:00.000000000",
          "2013-10-02T00:00:00.000000000",
          "2013-10-03T00:00:00.000000000",
          "2013-10-04T00:00:00.000000000",
          "2013-10-05T00:00:00.000000000",
          "2013-10-06T00:00:00.000000000",
          "2013-10-07T00:00:00.000000000",
          "2013-10-08T00:00:00.000000000",
          "2013-10-09T00:00:00.000000000",
          "2013-10-10T00:00:00.000000000",
          "2013-10-11T00:00:00.000000000",
          "2013-10-12T00:00:00.000000000",
          "2013-10-13T00:00:00.000000000",
          "2013-10-14T00:00:00.000000000",
          "2013-10-15T00:00:00.000000000",
          "2013-10-16T00:00:00.000000000",
          "2013-10-17T00:00:00.000000000",
          "2013-10-18T00:00:00.000000000",
          "2013-10-19T00:00:00.000000000",
          "2013-10-20T00:00:00.000000000",
          "2013-10-21T00:00:00.000000000",
          "2013-10-22T00:00:00.000000000",
          "2013-10-23T00:00:00.000000000",
          "2013-10-24T00:00:00.000000000",
          "2013-10-25T00:00:00.000000000",
          "2013-10-26T00:00:00.000000000",
          "2013-10-27T00:00:00.000000000",
          "2013-10-28T00:00:00.000000000",
          "2013-10-29T00:00:00.000000000",
          "2013-10-30T00:00:00.000000000",
          "2013-10-31T00:00:00.000000000",
          "2013-11-01T00:00:00.000000000",
          "2013-11-02T00:00:00.000000000",
          "2013-11-03T00:00:00.000000000",
          "2013-11-04T00:00:00.000000000",
          "2013-11-05T00:00:00.000000000",
          "2013-11-06T00:00:00.000000000",
          "2013-11-07T00:00:00.000000000",
          "2013-11-08T00:00:00.000000000",
          "2013-11-09T00:00:00.000000000",
          "2013-11-10T00:00:00.000000000",
          "2013-11-11T00:00:00.000000000",
          "2013-11-12T00:00:00.000000000",
          "2013-11-13T00:00:00.000000000",
          "2013-11-14T00:00:00.000000000",
          "2013-11-15T00:00:00.000000000",
          "2013-11-16T00:00:00.000000000",
          "2013-11-17T00:00:00.000000000",
          "2013-11-18T00:00:00.000000000",
          "2013-11-19T00:00:00.000000000",
          "2013-11-20T00:00:00.000000000",
          "2013-11-21T00:00:00.000000000",
          "2013-11-22T00:00:00.000000000",
          "2013-11-23T00:00:00.000000000",
          "2013-11-24T00:00:00.000000000",
          "2013-11-25T00:00:00.000000000",
          "2013-11-26T00:00:00.000000000",
          "2013-11-27T00:00:00.000000000",
          "2013-11-28T00:00:00.000000000",
          "2013-11-29T00:00:00.000000000",
          "2013-11-30T00:00:00.000000000",
          "2013-12-01T00:00:00.000000000",
          "2013-12-02T00:00:00.000000000",
          "2013-12-03T00:00:00.000000000",
          "2013-12-04T00:00:00.000000000",
          "2013-12-05T00:00:00.000000000",
          "2013-12-06T00:00:00.000000000",
          "2013-12-07T00:00:00.000000000",
          "2013-12-08T00:00:00.000000000",
          "2013-12-09T00:00:00.000000000",
          "2013-12-10T00:00:00.000000000",
          "2013-12-11T00:00:00.000000000",
          "2013-12-12T00:00:00.000000000",
          "2013-12-13T00:00:00.000000000",
          "2013-12-14T00:00:00.000000000",
          "2013-12-15T00:00:00.000000000",
          "2013-12-16T00:00:00.000000000",
          "2013-12-17T00:00:00.000000000",
          "2013-12-18T00:00:00.000000000",
          "2013-12-19T00:00:00.000000000",
          "2013-12-20T00:00:00.000000000",
          "2013-12-21T00:00:00.000000000",
          "2013-12-22T00:00:00.000000000",
          "2013-12-23T00:00:00.000000000",
          "2013-12-24T00:00:00.000000000",
          "2013-12-26T00:00:00.000000000",
          "2013-12-27T00:00:00.000000000",
          "2013-12-28T00:00:00.000000000",
          "2013-12-29T00:00:00.000000000",
          "2013-12-30T00:00:00.000000000",
          "2013-12-31T00:00:00.000000000",
          "2014-01-01T00:00:00.000000000",
          "2014-01-02T00:00:00.000000000",
          "2014-01-03T00:00:00.000000000",
          "2014-01-04T00:00:00.000000000",
          "2014-01-05T00:00:00.000000000",
          "2014-01-06T00:00:00.000000000",
          "2014-01-07T00:00:00.000000000",
          "2014-01-08T00:00:00.000000000",
          "2014-01-09T00:00:00.000000000",
          "2014-01-10T00:00:00.000000000",
          "2014-01-11T00:00:00.000000000",
          "2014-01-12T00:00:00.000000000",
          "2014-01-13T00:00:00.000000000",
          "2014-01-14T00:00:00.000000000",
          "2014-01-15T00:00:00.000000000",
          "2014-01-16T00:00:00.000000000",
          "2014-01-17T00:00:00.000000000",
          "2014-01-18T00:00:00.000000000",
          "2014-01-19T00:00:00.000000000",
          "2014-01-20T00:00:00.000000000",
          "2014-01-21T00:00:00.000000000",
          "2014-01-22T00:00:00.000000000",
          "2014-01-23T00:00:00.000000000",
          "2014-01-24T00:00:00.000000000",
          "2014-01-25T00:00:00.000000000",
          "2014-01-26T00:00:00.000000000",
          "2014-01-27T00:00:00.000000000",
          "2014-01-28T00:00:00.000000000",
          "2014-01-29T00:00:00.000000000",
          "2014-01-30T00:00:00.000000000",
          "2014-01-31T00:00:00.000000000",
          "2014-02-01T00:00:00.000000000",
          "2014-02-02T00:00:00.000000000",
          "2014-02-03T00:00:00.000000000",
          "2014-02-04T00:00:00.000000000",
          "2014-02-05T00:00:00.000000000",
          "2014-02-06T00:00:00.000000000",
          "2014-02-07T00:00:00.000000000",
          "2014-02-08T00:00:00.000000000",
          "2014-02-09T00:00:00.000000000",
          "2014-02-10T00:00:00.000000000",
          "2014-02-11T00:00:00.000000000",
          "2014-02-12T00:00:00.000000000",
          "2014-02-13T00:00:00.000000000",
          "2014-02-14T00:00:00.000000000",
          "2014-02-15T00:00:00.000000000",
          "2014-02-16T00:00:00.000000000",
          "2014-02-17T00:00:00.000000000",
          "2014-02-18T00:00:00.000000000",
          "2014-02-19T00:00:00.000000000",
          "2014-02-20T00:00:00.000000000",
          "2014-02-21T00:00:00.000000000",
          "2014-02-22T00:00:00.000000000",
          "2014-02-23T00:00:00.000000000",
          "2014-02-24T00:00:00.000000000",
          "2014-02-25T00:00:00.000000000",
          "2014-02-26T00:00:00.000000000",
          "2014-02-27T00:00:00.000000000",
          "2014-02-28T00:00:00.000000000",
          "2014-03-01T00:00:00.000000000",
          "2014-03-02T00:00:00.000000000",
          "2014-03-03T00:00:00.000000000",
          "2014-03-04T00:00:00.000000000",
          "2014-03-05T00:00:00.000000000",
          "2014-03-06T00:00:00.000000000",
          "2014-03-07T00:00:00.000000000",
          "2014-03-08T00:00:00.000000000",
          "2014-03-09T00:00:00.000000000",
          "2014-03-10T00:00:00.000000000",
          "2014-03-11T00:00:00.000000000",
          "2014-03-12T00:00:00.000000000",
          "2014-03-13T00:00:00.000000000",
          "2014-03-14T00:00:00.000000000",
          "2014-03-15T00:00:00.000000000",
          "2014-03-16T00:00:00.000000000",
          "2014-03-17T00:00:00.000000000",
          "2014-03-18T00:00:00.000000000",
          "2014-03-19T00:00:00.000000000",
          "2014-03-20T00:00:00.000000000",
          "2014-03-21T00:00:00.000000000",
          "2014-03-22T00:00:00.000000000",
          "2014-03-23T00:00:00.000000000",
          "2014-03-24T00:00:00.000000000",
          "2014-03-25T00:00:00.000000000",
          "2014-03-26T00:00:00.000000000",
          "2014-03-27T00:00:00.000000000",
          "2014-03-28T00:00:00.000000000",
          "2014-03-29T00:00:00.000000000",
          "2014-03-30T00:00:00.000000000",
          "2014-03-31T00:00:00.000000000",
          "2014-04-01T00:00:00.000000000",
          "2014-04-02T00:00:00.000000000",
          "2014-04-03T00:00:00.000000000",
          "2014-04-04T00:00:00.000000000",
          "2014-04-05T00:00:00.000000000",
          "2014-04-06T00:00:00.000000000",
          "2014-04-07T00:00:00.000000000",
          "2014-04-08T00:00:00.000000000",
          "2014-04-09T00:00:00.000000000",
          "2014-04-10T00:00:00.000000000",
          "2014-04-11T00:00:00.000000000",
          "2014-04-12T00:00:00.000000000",
          "2014-04-13T00:00:00.000000000",
          "2014-04-14T00:00:00.000000000",
          "2014-04-15T00:00:00.000000000",
          "2014-04-16T00:00:00.000000000",
          "2014-04-17T00:00:00.000000000",
          "2014-04-18T00:00:00.000000000",
          "2014-04-19T00:00:00.000000000",
          "2014-04-20T00:00:00.000000000",
          "2014-04-21T00:00:00.000000000",
          "2014-04-22T00:00:00.000000000",
          "2014-04-23T00:00:00.000000000",
          "2014-04-24T00:00:00.000000000",
          "2014-04-25T00:00:00.000000000",
          "2014-04-26T00:00:00.000000000",
          "2014-04-27T00:00:00.000000000",
          "2014-04-28T00:00:00.000000000",
          "2014-04-29T00:00:00.000000000",
          "2014-04-30T00:00:00.000000000",
          "2014-05-01T00:00:00.000000000",
          "2014-05-02T00:00:00.000000000",
          "2014-05-03T00:00:00.000000000",
          "2014-05-04T00:00:00.000000000",
          "2014-05-05T00:00:00.000000000",
          "2014-05-06T00:00:00.000000000",
          "2014-05-07T00:00:00.000000000",
          "2014-05-08T00:00:00.000000000",
          "2014-05-09T00:00:00.000000000",
          "2014-05-10T00:00:00.000000000",
          "2014-05-11T00:00:00.000000000",
          "2014-05-12T00:00:00.000000000",
          "2014-05-13T00:00:00.000000000",
          "2014-05-14T00:00:00.000000000",
          "2014-05-15T00:00:00.000000000",
          "2014-05-16T00:00:00.000000000",
          "2014-05-17T00:00:00.000000000",
          "2014-05-18T00:00:00.000000000",
          "2014-05-19T00:00:00.000000000",
          "2014-05-20T00:00:00.000000000",
          "2014-05-21T00:00:00.000000000",
          "2014-05-22T00:00:00.000000000",
          "2014-05-23T00:00:00.000000000",
          "2014-05-24T00:00:00.000000000",
          "2014-05-25T00:00:00.000000000",
          "2014-05-26T00:00:00.000000000",
          "2014-05-27T00:00:00.000000000",
          "2014-05-28T00:00:00.000000000",
          "2014-05-29T00:00:00.000000000",
          "2014-05-30T00:00:00.000000000",
          "2014-05-31T00:00:00.000000000",
          "2014-06-01T00:00:00.000000000",
          "2014-06-02T00:00:00.000000000",
          "2014-06-03T00:00:00.000000000",
          "2014-06-04T00:00:00.000000000",
          "2014-06-05T00:00:00.000000000",
          "2014-06-06T00:00:00.000000000",
          "2014-06-07T00:00:00.000000000",
          "2014-06-08T00:00:00.000000000",
          "2014-06-09T00:00:00.000000000",
          "2014-06-10T00:00:00.000000000",
          "2014-06-11T00:00:00.000000000",
          "2014-06-12T00:00:00.000000000",
          "2014-06-13T00:00:00.000000000",
          "2014-06-14T00:00:00.000000000",
          "2014-06-15T00:00:00.000000000",
          "2014-06-16T00:00:00.000000000",
          "2014-06-17T00:00:00.000000000",
          "2014-06-18T00:00:00.000000000",
          "2014-06-19T00:00:00.000000000",
          "2014-06-20T00:00:00.000000000",
          "2014-06-21T00:00:00.000000000",
          "2014-06-22T00:00:00.000000000",
          "2014-06-23T00:00:00.000000000",
          "2014-06-24T00:00:00.000000000",
          "2014-06-25T00:00:00.000000000",
          "2014-06-26T00:00:00.000000000",
          "2014-06-27T00:00:00.000000000",
          "2014-06-28T00:00:00.000000000",
          "2014-06-29T00:00:00.000000000",
          "2014-06-30T00:00:00.000000000",
          "2014-07-01T00:00:00.000000000",
          "2014-07-02T00:00:00.000000000",
          "2014-07-03T00:00:00.000000000",
          "2014-07-04T00:00:00.000000000",
          "2014-07-05T00:00:00.000000000",
          "2014-07-06T00:00:00.000000000",
          "2014-07-07T00:00:00.000000000",
          "2014-07-08T00:00:00.000000000",
          "2014-07-09T00:00:00.000000000",
          "2014-07-10T00:00:00.000000000",
          "2014-07-11T00:00:00.000000000",
          "2014-07-12T00:00:00.000000000",
          "2014-07-13T00:00:00.000000000",
          "2014-07-14T00:00:00.000000000",
          "2014-07-15T00:00:00.000000000",
          "2014-07-16T00:00:00.000000000",
          "2014-07-17T00:00:00.000000000",
          "2014-07-18T00:00:00.000000000",
          "2014-07-19T00:00:00.000000000",
          "2014-07-20T00:00:00.000000000",
          "2014-07-21T00:00:00.000000000",
          "2014-07-22T00:00:00.000000000",
          "2014-07-23T00:00:00.000000000",
          "2014-07-24T00:00:00.000000000",
          "2014-07-25T00:00:00.000000000",
          "2014-07-26T00:00:00.000000000",
          "2014-07-27T00:00:00.000000000",
          "2014-07-28T00:00:00.000000000",
          "2014-07-29T00:00:00.000000000",
          "2014-07-30T00:00:00.000000000",
          "2014-07-31T00:00:00.000000000",
          "2014-08-01T00:00:00.000000000",
          "2014-08-02T00:00:00.000000000",
          "2014-08-03T00:00:00.000000000",
          "2014-08-04T00:00:00.000000000",
          "2014-08-05T00:00:00.000000000",
          "2014-08-06T00:00:00.000000000",
          "2014-08-07T00:00:00.000000000",
          "2014-08-08T00:00:00.000000000",
          "2014-08-09T00:00:00.000000000",
          "2014-08-10T00:00:00.000000000",
          "2014-08-11T00:00:00.000000000",
          "2014-08-12T00:00:00.000000000",
          "2014-08-13T00:00:00.000000000",
          "2014-08-14T00:00:00.000000000",
          "2014-08-15T00:00:00.000000000",
          "2014-08-16T00:00:00.000000000",
          "2014-08-17T00:00:00.000000000",
          "2014-08-18T00:00:00.000000000",
          "2014-08-19T00:00:00.000000000",
          "2014-08-20T00:00:00.000000000",
          "2014-08-21T00:00:00.000000000",
          "2014-08-22T00:00:00.000000000",
          "2014-08-23T00:00:00.000000000",
          "2014-08-24T00:00:00.000000000",
          "2014-08-25T00:00:00.000000000",
          "2014-08-26T00:00:00.000000000",
          "2014-08-27T00:00:00.000000000",
          "2014-08-28T00:00:00.000000000",
          "2014-08-29T00:00:00.000000000",
          "2014-08-30T00:00:00.000000000",
          "2014-08-31T00:00:00.000000000",
          "2014-09-01T00:00:00.000000000",
          "2014-09-02T00:00:00.000000000",
          "2014-09-03T00:00:00.000000000",
          "2014-09-04T00:00:00.000000000",
          "2014-09-05T00:00:00.000000000",
          "2014-09-06T00:00:00.000000000",
          "2014-09-07T00:00:00.000000000",
          "2014-09-08T00:00:00.000000000",
          "2014-09-09T00:00:00.000000000",
          "2014-09-10T00:00:00.000000000",
          "2014-09-11T00:00:00.000000000",
          "2014-09-12T00:00:00.000000000",
          "2014-09-13T00:00:00.000000000",
          "2014-09-14T00:00:00.000000000",
          "2014-09-15T00:00:00.000000000",
          "2014-09-16T00:00:00.000000000",
          "2014-09-17T00:00:00.000000000",
          "2014-09-18T00:00:00.000000000",
          "2014-09-19T00:00:00.000000000",
          "2014-09-20T00:00:00.000000000",
          "2014-09-21T00:00:00.000000000",
          "2014-09-22T00:00:00.000000000",
          "2014-09-23T00:00:00.000000000",
          "2014-09-24T00:00:00.000000000",
          "2014-09-25T00:00:00.000000000",
          "2014-09-26T00:00:00.000000000",
          "2014-09-27T00:00:00.000000000",
          "2014-09-28T00:00:00.000000000",
          "2014-09-29T00:00:00.000000000",
          "2014-09-30T00:00:00.000000000",
          "2014-10-01T00:00:00.000000000",
          "2014-10-02T00:00:00.000000000",
          "2014-10-03T00:00:00.000000000",
          "2014-10-04T00:00:00.000000000",
          "2014-10-05T00:00:00.000000000",
          "2014-10-06T00:00:00.000000000",
          "2014-10-07T00:00:00.000000000",
          "2014-10-08T00:00:00.000000000",
          "2014-10-09T00:00:00.000000000",
          "2014-10-10T00:00:00.000000000",
          "2014-10-11T00:00:00.000000000",
          "2014-10-12T00:00:00.000000000",
          "2014-10-13T00:00:00.000000000",
          "2014-10-14T00:00:00.000000000",
          "2014-10-15T00:00:00.000000000",
          "2014-10-16T00:00:00.000000000",
          "2014-10-17T00:00:00.000000000",
          "2014-10-18T00:00:00.000000000",
          "2014-10-19T00:00:00.000000000",
          "2014-10-20T00:00:00.000000000",
          "2014-10-21T00:00:00.000000000",
          "2014-10-22T00:00:00.000000000",
          "2014-10-23T00:00:00.000000000",
          "2014-10-24T00:00:00.000000000",
          "2014-10-25T00:00:00.000000000",
          "2014-10-26T00:00:00.000000000",
          "2014-10-27T00:00:00.000000000",
          "2014-10-28T00:00:00.000000000",
          "2014-10-29T00:00:00.000000000",
          "2014-10-30T00:00:00.000000000",
          "2014-10-31T00:00:00.000000000",
          "2014-11-01T00:00:00.000000000",
          "2014-11-02T00:00:00.000000000",
          "2014-11-03T00:00:00.000000000",
          "2014-11-04T00:00:00.000000000",
          "2014-11-05T00:00:00.000000000",
          "2014-11-06T00:00:00.000000000",
          "2014-11-07T00:00:00.000000000",
          "2014-11-08T00:00:00.000000000",
          "2014-11-09T00:00:00.000000000",
          "2014-11-10T00:00:00.000000000",
          "2014-11-11T00:00:00.000000000",
          "2014-11-12T00:00:00.000000000",
          "2014-11-13T00:00:00.000000000",
          "2014-11-14T00:00:00.000000000",
          "2014-11-15T00:00:00.000000000",
          "2014-11-16T00:00:00.000000000",
          "2014-11-17T00:00:00.000000000",
          "2014-11-18T00:00:00.000000000",
          "2014-11-19T00:00:00.000000000",
          "2014-11-20T00:00:00.000000000",
          "2014-11-21T00:00:00.000000000",
          "2014-11-22T00:00:00.000000000",
          "2014-11-23T00:00:00.000000000",
          "2014-11-24T00:00:00.000000000",
          "2014-11-25T00:00:00.000000000",
          "2014-11-26T00:00:00.000000000",
          "2014-11-27T00:00:00.000000000",
          "2014-11-28T00:00:00.000000000",
          "2014-11-29T00:00:00.000000000",
          "2014-11-30T00:00:00.000000000",
          "2014-12-01T00:00:00.000000000",
          "2014-12-02T00:00:00.000000000",
          "2014-12-03T00:00:00.000000000",
          "2014-12-04T00:00:00.000000000",
          "2014-12-05T00:00:00.000000000",
          "2014-12-06T00:00:00.000000000",
          "2014-12-07T00:00:00.000000000",
          "2014-12-08T00:00:00.000000000",
          "2014-12-09T00:00:00.000000000",
          "2014-12-10T00:00:00.000000000",
          "2014-12-11T00:00:00.000000000",
          "2014-12-12T00:00:00.000000000",
          "2014-12-13T00:00:00.000000000",
          "2014-12-14T00:00:00.000000000",
          "2014-12-15T00:00:00.000000000",
          "2014-12-16T00:00:00.000000000",
          "2014-12-17T00:00:00.000000000",
          "2014-12-18T00:00:00.000000000",
          "2014-12-19T00:00:00.000000000",
          "2014-12-20T00:00:00.000000000",
          "2014-12-21T00:00:00.000000000",
          "2014-12-22T00:00:00.000000000",
          "2014-12-23T00:00:00.000000000",
          "2014-12-24T00:00:00.000000000",
          "2014-12-26T00:00:00.000000000",
          "2014-12-27T00:00:00.000000000",
          "2014-12-28T00:00:00.000000000",
          "2014-12-29T00:00:00.000000000",
          "2014-12-30T00:00:00.000000000",
          "2014-12-31T00:00:00.000000000",
          "2015-01-01T00:00:00.000000000",
          "2015-01-02T00:00:00.000000000",
          "2015-01-03T00:00:00.000000000",
          "2015-01-04T00:00:00.000000000",
          "2015-01-05T00:00:00.000000000",
          "2015-01-06T00:00:00.000000000",
          "2015-01-07T00:00:00.000000000",
          "2015-01-08T00:00:00.000000000",
          "2015-01-09T00:00:00.000000000",
          "2015-01-10T00:00:00.000000000",
          "2015-01-11T00:00:00.000000000",
          "2015-01-12T00:00:00.000000000",
          "2015-01-13T00:00:00.000000000",
          "2015-01-14T00:00:00.000000000",
          "2015-01-15T00:00:00.000000000",
          "2015-01-16T00:00:00.000000000",
          "2015-01-17T00:00:00.000000000",
          "2015-01-18T00:00:00.000000000",
          "2015-01-19T00:00:00.000000000",
          "2015-01-20T00:00:00.000000000",
          "2015-01-21T00:00:00.000000000",
          "2015-01-22T00:00:00.000000000",
          "2015-01-23T00:00:00.000000000",
          "2015-01-24T00:00:00.000000000",
          "2015-01-25T00:00:00.000000000",
          "2015-01-26T00:00:00.000000000",
          "2015-01-27T00:00:00.000000000",
          "2015-01-28T00:00:00.000000000",
          "2015-01-29T00:00:00.000000000",
          "2015-01-30T00:00:00.000000000",
          "2015-01-31T00:00:00.000000000",
          "2015-02-01T00:00:00.000000000",
          "2015-02-02T00:00:00.000000000",
          "2015-02-03T00:00:00.000000000",
          "2015-02-04T00:00:00.000000000",
          "2015-02-05T00:00:00.000000000",
          "2015-02-06T00:00:00.000000000",
          "2015-02-07T00:00:00.000000000",
          "2015-02-08T00:00:00.000000000",
          "2015-02-09T00:00:00.000000000",
          "2015-02-10T00:00:00.000000000",
          "2015-02-11T00:00:00.000000000",
          "2015-02-12T00:00:00.000000000",
          "2015-02-13T00:00:00.000000000",
          "2015-02-14T00:00:00.000000000",
          "2015-02-15T00:00:00.000000000",
          "2015-02-16T00:00:00.000000000",
          "2015-02-17T00:00:00.000000000",
          "2015-02-18T00:00:00.000000000",
          "2015-02-19T00:00:00.000000000",
          "2015-02-20T00:00:00.000000000",
          "2015-02-21T00:00:00.000000000",
          "2015-02-22T00:00:00.000000000",
          "2015-02-23T00:00:00.000000000",
          "2015-02-24T00:00:00.000000000",
          "2015-02-25T00:00:00.000000000",
          "2015-02-26T00:00:00.000000000",
          "2015-02-27T00:00:00.000000000",
          "2015-02-28T00:00:00.000000000",
          "2015-03-01T00:00:00.000000000",
          "2015-03-02T00:00:00.000000000",
          "2015-03-03T00:00:00.000000000",
          "2015-03-04T00:00:00.000000000",
          "2015-03-05T00:00:00.000000000",
          "2015-03-06T00:00:00.000000000",
          "2015-03-07T00:00:00.000000000",
          "2015-03-08T00:00:00.000000000",
          "2015-03-09T00:00:00.000000000",
          "2015-03-10T00:00:00.000000000",
          "2015-03-11T00:00:00.000000000",
          "2015-03-12T00:00:00.000000000",
          "2015-03-13T00:00:00.000000000",
          "2015-03-14T00:00:00.000000000",
          "2015-03-15T00:00:00.000000000",
          "2015-03-16T00:00:00.000000000",
          "2015-03-17T00:00:00.000000000",
          "2015-03-18T00:00:00.000000000",
          "2015-03-19T00:00:00.000000000",
          "2015-03-20T00:00:00.000000000",
          "2015-03-21T00:00:00.000000000",
          "2015-03-22T00:00:00.000000000",
          "2015-03-23T00:00:00.000000000",
          "2015-03-24T00:00:00.000000000",
          "2015-03-25T00:00:00.000000000",
          "2015-03-26T00:00:00.000000000",
          "2015-03-27T00:00:00.000000000",
          "2015-03-28T00:00:00.000000000",
          "2015-03-29T00:00:00.000000000",
          "2015-03-30T00:00:00.000000000",
          "2015-03-31T00:00:00.000000000",
          "2015-04-01T00:00:00.000000000",
          "2015-04-02T00:00:00.000000000",
          "2015-04-03T00:00:00.000000000",
          "2015-04-04T00:00:00.000000000",
          "2015-04-05T00:00:00.000000000",
          "2015-04-06T00:00:00.000000000",
          "2015-04-07T00:00:00.000000000",
          "2015-04-08T00:00:00.000000000",
          "2015-04-09T00:00:00.000000000",
          "2015-04-10T00:00:00.000000000",
          "2015-04-11T00:00:00.000000000",
          "2015-04-12T00:00:00.000000000",
          "2015-04-13T00:00:00.000000000",
          "2015-04-14T00:00:00.000000000",
          "2015-04-15T00:00:00.000000000",
          "2015-04-16T00:00:00.000000000",
          "2015-04-17T00:00:00.000000000",
          "2015-04-18T00:00:00.000000000",
          "2015-04-19T00:00:00.000000000",
          "2015-04-20T00:00:00.000000000",
          "2015-04-21T00:00:00.000000000",
          "2015-04-22T00:00:00.000000000",
          "2015-04-23T00:00:00.000000000",
          "2015-04-24T00:00:00.000000000",
          "2015-04-25T00:00:00.000000000",
          "2015-04-26T00:00:00.000000000",
          "2015-04-27T00:00:00.000000000",
          "2015-04-28T00:00:00.000000000",
          "2015-04-29T00:00:00.000000000",
          "2015-04-30T00:00:00.000000000",
          "2015-05-01T00:00:00.000000000",
          "2015-05-02T00:00:00.000000000",
          "2015-05-03T00:00:00.000000000",
          "2015-05-04T00:00:00.000000000",
          "2015-05-05T00:00:00.000000000",
          "2015-05-06T00:00:00.000000000",
          "2015-05-07T00:00:00.000000000",
          "2015-05-08T00:00:00.000000000",
          "2015-05-09T00:00:00.000000000",
          "2015-05-10T00:00:00.000000000",
          "2015-05-11T00:00:00.000000000",
          "2015-05-12T00:00:00.000000000",
          "2015-05-13T00:00:00.000000000",
          "2015-05-14T00:00:00.000000000",
          "2015-05-15T00:00:00.000000000",
          "2015-05-16T00:00:00.000000000",
          "2015-05-17T00:00:00.000000000",
          "2015-05-18T00:00:00.000000000",
          "2015-05-19T00:00:00.000000000",
          "2015-05-20T00:00:00.000000000",
          "2015-05-21T00:00:00.000000000",
          "2015-05-22T00:00:00.000000000",
          "2015-05-23T00:00:00.000000000",
          "2015-05-24T00:00:00.000000000",
          "2015-05-25T00:00:00.000000000",
          "2015-05-26T00:00:00.000000000",
          "2015-05-27T00:00:00.000000000",
          "2015-05-28T00:00:00.000000000",
          "2015-05-29T00:00:00.000000000",
          "2015-05-30T00:00:00.000000000",
          "2015-05-31T00:00:00.000000000",
          "2015-06-01T00:00:00.000000000",
          "2015-06-02T00:00:00.000000000",
          "2015-06-03T00:00:00.000000000",
          "2015-06-04T00:00:00.000000000",
          "2015-06-05T00:00:00.000000000",
          "2015-06-06T00:00:00.000000000",
          "2015-06-07T00:00:00.000000000",
          "2015-06-08T00:00:00.000000000",
          "2015-06-09T00:00:00.000000000",
          "2015-06-10T00:00:00.000000000",
          "2015-06-11T00:00:00.000000000",
          "2015-06-12T00:00:00.000000000",
          "2015-06-13T00:00:00.000000000",
          "2015-06-14T00:00:00.000000000",
          "2015-06-15T00:00:00.000000000",
          "2015-06-16T00:00:00.000000000",
          "2015-06-17T00:00:00.000000000",
          "2015-06-18T00:00:00.000000000",
          "2015-06-19T00:00:00.000000000",
          "2015-06-20T00:00:00.000000000",
          "2015-06-21T00:00:00.000000000",
          "2015-06-22T00:00:00.000000000",
          "2015-06-23T00:00:00.000000000",
          "2015-06-24T00:00:00.000000000",
          "2015-06-25T00:00:00.000000000",
          "2015-06-26T00:00:00.000000000",
          "2015-06-27T00:00:00.000000000",
          "2015-06-28T00:00:00.000000000",
          "2015-06-29T00:00:00.000000000",
          "2015-06-30T00:00:00.000000000",
          "2015-07-01T00:00:00.000000000",
          "2015-07-02T00:00:00.000000000",
          "2015-07-03T00:00:00.000000000",
          "2015-07-04T00:00:00.000000000",
          "2015-07-05T00:00:00.000000000",
          "2015-07-06T00:00:00.000000000",
          "2015-07-07T00:00:00.000000000",
          "2015-07-08T00:00:00.000000000",
          "2015-07-09T00:00:00.000000000",
          "2015-07-10T00:00:00.000000000",
          "2015-07-11T00:00:00.000000000",
          "2015-07-12T00:00:00.000000000",
          "2015-07-13T00:00:00.000000000",
          "2015-07-14T00:00:00.000000000",
          "2015-07-15T00:00:00.000000000",
          "2015-07-16T00:00:00.000000000",
          "2015-07-17T00:00:00.000000000",
          "2015-07-18T00:00:00.000000000",
          "2015-07-19T00:00:00.000000000",
          "2015-07-20T00:00:00.000000000",
          "2015-07-21T00:00:00.000000000",
          "2015-07-22T00:00:00.000000000",
          "2015-07-23T00:00:00.000000000",
          "2015-07-24T00:00:00.000000000",
          "2015-07-25T00:00:00.000000000",
          "2015-07-26T00:00:00.000000000",
          "2015-07-27T00:00:00.000000000",
          "2015-07-28T00:00:00.000000000",
          "2015-07-29T00:00:00.000000000",
          "2015-07-30T00:00:00.000000000",
          "2015-07-31T00:00:00.000000000",
          "2015-08-01T00:00:00.000000000",
          "2015-08-02T00:00:00.000000000",
          "2015-08-03T00:00:00.000000000",
          "2015-08-04T00:00:00.000000000",
          "2015-08-05T00:00:00.000000000",
          "2015-08-06T00:00:00.000000000",
          "2015-08-07T00:00:00.000000000",
          "2015-08-08T00:00:00.000000000",
          "2015-08-09T00:00:00.000000000",
          "2015-08-10T00:00:00.000000000",
          "2015-08-11T00:00:00.000000000",
          "2015-08-12T00:00:00.000000000",
          "2015-08-13T00:00:00.000000000",
          "2015-08-14T00:00:00.000000000",
          "2015-08-15T00:00:00.000000000",
          "2015-08-16T00:00:00.000000000",
          "2015-08-17T00:00:00.000000000",
          "2015-08-18T00:00:00.000000000",
          "2015-08-19T00:00:00.000000000",
          "2015-08-20T00:00:00.000000000",
          "2015-08-21T00:00:00.000000000",
          "2015-08-22T00:00:00.000000000",
          "2015-08-23T00:00:00.000000000",
          "2015-08-24T00:00:00.000000000",
          "2015-08-25T00:00:00.000000000",
          "2015-08-26T00:00:00.000000000",
          "2015-08-27T00:00:00.000000000",
          "2015-08-28T00:00:00.000000000",
          "2015-08-29T00:00:00.000000000",
          "2015-08-30T00:00:00.000000000",
          "2015-08-31T00:00:00.000000000",
          "2015-09-01T00:00:00.000000000",
          "2015-09-02T00:00:00.000000000",
          "2015-09-03T00:00:00.000000000",
          "2015-09-04T00:00:00.000000000",
          "2015-09-05T00:00:00.000000000",
          "2015-09-06T00:00:00.000000000",
          "2015-09-07T00:00:00.000000000",
          "2015-09-08T00:00:00.000000000",
          "2015-09-09T00:00:00.000000000",
          "2015-09-10T00:00:00.000000000",
          "2015-09-11T00:00:00.000000000",
          "2015-09-12T00:00:00.000000000",
          "2015-09-13T00:00:00.000000000",
          "2015-09-14T00:00:00.000000000",
          "2015-09-15T00:00:00.000000000",
          "2015-09-16T00:00:00.000000000",
          "2015-09-17T00:00:00.000000000",
          "2015-09-18T00:00:00.000000000",
          "2015-09-19T00:00:00.000000000",
          "2015-09-20T00:00:00.000000000",
          "2015-09-21T00:00:00.000000000",
          "2015-09-22T00:00:00.000000000",
          "2015-09-23T00:00:00.000000000",
          "2015-09-24T00:00:00.000000000",
          "2015-09-25T00:00:00.000000000",
          "2015-09-26T00:00:00.000000000",
          "2015-09-27T00:00:00.000000000",
          "2015-09-28T00:00:00.000000000",
          "2015-09-29T00:00:00.000000000",
          "2015-09-30T00:00:00.000000000",
          "2015-10-01T00:00:00.000000000",
          "2015-10-02T00:00:00.000000000",
          "2015-10-03T00:00:00.000000000",
          "2015-10-04T00:00:00.000000000",
          "2015-10-05T00:00:00.000000000",
          "2015-10-06T00:00:00.000000000",
          "2015-10-07T00:00:00.000000000",
          "2015-10-08T00:00:00.000000000",
          "2015-10-09T00:00:00.000000000",
          "2015-10-10T00:00:00.000000000",
          "2015-10-11T00:00:00.000000000",
          "2015-10-12T00:00:00.000000000",
          "2015-10-13T00:00:00.000000000",
          "2015-10-14T00:00:00.000000000",
          "2015-10-15T00:00:00.000000000",
          "2015-10-16T00:00:00.000000000",
          "2015-10-17T00:00:00.000000000",
          "2015-10-18T00:00:00.000000000",
          "2015-10-19T00:00:00.000000000",
          "2015-10-20T00:00:00.000000000",
          "2015-10-21T00:00:00.000000000",
          "2015-10-22T00:00:00.000000000",
          "2015-10-23T00:00:00.000000000",
          "2015-10-24T00:00:00.000000000",
          "2015-10-25T00:00:00.000000000",
          "2015-10-26T00:00:00.000000000",
          "2015-10-27T00:00:00.000000000",
          "2015-10-28T00:00:00.000000000",
          "2015-10-29T00:00:00.000000000",
          "2015-10-30T00:00:00.000000000",
          "2015-10-31T00:00:00.000000000",
          "2015-11-01T00:00:00.000000000",
          "2015-11-02T00:00:00.000000000",
          "2015-11-03T00:00:00.000000000",
          "2015-11-04T00:00:00.000000000",
          "2015-11-05T00:00:00.000000000",
          "2015-11-06T00:00:00.000000000",
          "2015-11-07T00:00:00.000000000",
          "2015-11-08T00:00:00.000000000",
          "2015-11-09T00:00:00.000000000",
          "2015-11-10T00:00:00.000000000",
          "2015-11-11T00:00:00.000000000",
          "2015-11-12T00:00:00.000000000",
          "2015-11-13T00:00:00.000000000",
          "2015-11-14T00:00:00.000000000",
          "2015-11-15T00:00:00.000000000",
          "2015-11-16T00:00:00.000000000",
          "2015-11-17T00:00:00.000000000",
          "2015-11-18T00:00:00.000000000",
          "2015-11-19T00:00:00.000000000",
          "2015-11-20T00:00:00.000000000",
          "2015-11-21T00:00:00.000000000",
          "2015-11-22T00:00:00.000000000",
          "2015-11-23T00:00:00.000000000",
          "2015-11-24T00:00:00.000000000",
          "2015-11-25T00:00:00.000000000",
          "2015-11-26T00:00:00.000000000",
          "2015-11-27T00:00:00.000000000",
          "2015-11-28T00:00:00.000000000",
          "2015-11-29T00:00:00.000000000",
          "2015-11-30T00:00:00.000000000",
          "2015-12-01T00:00:00.000000000",
          "2015-12-02T00:00:00.000000000",
          "2015-12-03T00:00:00.000000000",
          "2015-12-04T00:00:00.000000000",
          "2015-12-05T00:00:00.000000000",
          "2015-12-06T00:00:00.000000000",
          "2015-12-07T00:00:00.000000000",
          "2015-12-08T00:00:00.000000000",
          "2015-12-09T00:00:00.000000000",
          "2015-12-10T00:00:00.000000000",
          "2015-12-11T00:00:00.000000000",
          "2015-12-12T00:00:00.000000000",
          "2015-12-13T00:00:00.000000000",
          "2015-12-14T00:00:00.000000000",
          "2015-12-15T00:00:00.000000000",
          "2015-12-16T00:00:00.000000000",
          "2015-12-17T00:00:00.000000000",
          "2015-12-18T00:00:00.000000000",
          "2015-12-19T00:00:00.000000000",
          "2015-12-20T00:00:00.000000000",
          "2015-12-21T00:00:00.000000000",
          "2015-12-22T00:00:00.000000000",
          "2015-12-23T00:00:00.000000000",
          "2015-12-24T00:00:00.000000000",
          "2015-12-26T00:00:00.000000000",
          "2015-12-27T00:00:00.000000000",
          "2015-12-28T00:00:00.000000000",
          "2015-12-29T00:00:00.000000000",
          "2015-12-30T00:00:00.000000000",
          "2015-12-31T00:00:00.000000000",
          "2016-01-01T00:00:00.000000000",
          "2016-01-02T00:00:00.000000000",
          "2016-01-03T00:00:00.000000000",
          "2016-01-04T00:00:00.000000000",
          "2016-01-05T00:00:00.000000000",
          "2016-01-06T00:00:00.000000000",
          "2016-01-07T00:00:00.000000000",
          "2016-01-08T00:00:00.000000000",
          "2016-01-09T00:00:00.000000000",
          "2016-01-10T00:00:00.000000000",
          "2016-01-11T00:00:00.000000000",
          "2016-01-12T00:00:00.000000000",
          "2016-01-13T00:00:00.000000000",
          "2016-01-14T00:00:00.000000000",
          "2016-01-15T00:00:00.000000000",
          "2016-01-16T00:00:00.000000000",
          "2016-01-17T00:00:00.000000000",
          "2016-01-18T00:00:00.000000000",
          "2016-01-19T00:00:00.000000000",
          "2016-01-20T00:00:00.000000000",
          "2016-01-21T00:00:00.000000000",
          "2016-01-22T00:00:00.000000000",
          "2016-01-23T00:00:00.000000000",
          "2016-01-24T00:00:00.000000000",
          "2016-01-25T00:00:00.000000000",
          "2016-01-26T00:00:00.000000000",
          "2016-01-27T00:00:00.000000000",
          "2016-01-28T00:00:00.000000000",
          "2016-01-29T00:00:00.000000000",
          "2016-01-30T00:00:00.000000000",
          "2016-01-31T00:00:00.000000000",
          "2016-02-01T00:00:00.000000000",
          "2016-02-02T00:00:00.000000000",
          "2016-02-03T00:00:00.000000000",
          "2016-02-04T00:00:00.000000000",
          "2016-02-05T00:00:00.000000000",
          "2016-02-06T00:00:00.000000000",
          "2016-02-07T00:00:00.000000000",
          "2016-02-08T00:00:00.000000000",
          "2016-02-09T00:00:00.000000000",
          "2016-02-10T00:00:00.000000000",
          "2016-02-11T00:00:00.000000000",
          "2016-02-12T00:00:00.000000000",
          "2016-02-13T00:00:00.000000000",
          "2016-02-14T00:00:00.000000000",
          "2016-02-15T00:00:00.000000000",
          "2016-02-16T00:00:00.000000000",
          "2016-02-17T00:00:00.000000000",
          "2016-02-18T00:00:00.000000000",
          "2016-02-19T00:00:00.000000000",
          "2016-02-20T00:00:00.000000000",
          "2016-02-21T00:00:00.000000000",
          "2016-02-22T00:00:00.000000000",
          "2016-02-23T00:00:00.000000000",
          "2016-02-24T00:00:00.000000000",
          "2016-02-25T00:00:00.000000000",
          "2016-02-26T00:00:00.000000000",
          "2016-02-27T00:00:00.000000000",
          "2016-02-28T00:00:00.000000000",
          "2016-02-29T00:00:00.000000000",
          "2016-03-01T00:00:00.000000000",
          "2016-03-02T00:00:00.000000000",
          "2016-03-03T00:00:00.000000000",
          "2016-03-04T00:00:00.000000000",
          "2016-03-05T00:00:00.000000000",
          "2016-03-06T00:00:00.000000000",
          "2016-03-07T00:00:00.000000000",
          "2016-03-08T00:00:00.000000000",
          "2016-03-09T00:00:00.000000000",
          "2016-03-10T00:00:00.000000000",
          "2016-03-11T00:00:00.000000000",
          "2016-03-12T00:00:00.000000000",
          "2016-03-13T00:00:00.000000000",
          "2016-03-14T00:00:00.000000000",
          "2016-03-15T00:00:00.000000000",
          "2016-03-16T00:00:00.000000000",
          "2016-03-17T00:00:00.000000000",
          "2016-03-18T00:00:00.000000000",
          "2016-03-19T00:00:00.000000000",
          "2016-03-20T00:00:00.000000000",
          "2016-03-21T00:00:00.000000000",
          "2016-03-22T00:00:00.000000000",
          "2016-03-23T00:00:00.000000000",
          "2016-03-24T00:00:00.000000000",
          "2016-03-25T00:00:00.000000000",
          "2016-03-26T00:00:00.000000000",
          "2016-03-27T00:00:00.000000000",
          "2016-03-28T00:00:00.000000000",
          "2016-03-29T00:00:00.000000000",
          "2016-03-30T00:00:00.000000000",
          "2016-03-31T00:00:00.000000000",
          "2016-04-01T00:00:00.000000000",
          "2016-04-02T00:00:00.000000000",
          "2016-04-03T00:00:00.000000000",
          "2016-04-04T00:00:00.000000000",
          "2016-04-05T00:00:00.000000000",
          "2016-04-06T00:00:00.000000000",
          "2016-04-07T00:00:00.000000000",
          "2016-04-08T00:00:00.000000000",
          "2016-04-09T00:00:00.000000000",
          "2016-04-10T00:00:00.000000000",
          "2016-04-11T00:00:00.000000000",
          "2016-04-12T00:00:00.000000000",
          "2016-04-13T00:00:00.000000000",
          "2016-04-14T00:00:00.000000000",
          "2016-04-15T00:00:00.000000000",
          "2016-04-16T00:00:00.000000000",
          "2016-04-17T00:00:00.000000000",
          "2016-04-18T00:00:00.000000000",
          "2016-04-19T00:00:00.000000000",
          "2016-04-20T00:00:00.000000000",
          "2016-04-21T00:00:00.000000000",
          "2016-04-22T00:00:00.000000000",
          "2016-04-23T00:00:00.000000000",
          "2016-04-24T00:00:00.000000000",
          "2016-04-25T00:00:00.000000000",
          "2016-04-26T00:00:00.000000000",
          "2016-04-27T00:00:00.000000000",
          "2016-04-28T00:00:00.000000000",
          "2016-04-29T00:00:00.000000000",
          "2016-04-30T00:00:00.000000000",
          "2016-05-01T00:00:00.000000000",
          "2016-05-02T00:00:00.000000000",
          "2016-05-03T00:00:00.000000000",
          "2016-05-04T00:00:00.000000000",
          "2016-05-05T00:00:00.000000000",
          "2016-05-06T00:00:00.000000000",
          "2016-05-07T00:00:00.000000000",
          "2016-05-08T00:00:00.000000000",
          "2016-05-09T00:00:00.000000000",
          "2016-05-10T00:00:00.000000000",
          "2016-05-11T00:00:00.000000000",
          "2016-05-12T00:00:00.000000000",
          "2016-05-13T00:00:00.000000000",
          "2016-05-14T00:00:00.000000000",
          "2016-05-15T00:00:00.000000000",
          "2016-05-16T00:00:00.000000000",
          "2016-05-17T00:00:00.000000000",
          "2016-05-18T00:00:00.000000000",
          "2016-05-19T00:00:00.000000000",
          "2016-05-20T00:00:00.000000000",
          "2016-05-21T00:00:00.000000000",
          "2016-05-22T00:00:00.000000000",
          "2016-05-23T00:00:00.000000000",
          "2016-05-24T00:00:00.000000000",
          "2016-05-25T00:00:00.000000000",
          "2016-05-26T00:00:00.000000000",
          "2016-05-27T00:00:00.000000000",
          "2016-05-28T00:00:00.000000000",
          "2016-05-29T00:00:00.000000000",
          "2016-05-30T00:00:00.000000000",
          "2016-05-31T00:00:00.000000000",
          "2016-06-01T00:00:00.000000000",
          "2016-06-02T00:00:00.000000000",
          "2016-06-03T00:00:00.000000000",
          "2016-06-04T00:00:00.000000000",
          "2016-06-05T00:00:00.000000000",
          "2016-06-06T00:00:00.000000000",
          "2016-06-07T00:00:00.000000000",
          "2016-06-08T00:00:00.000000000",
          "2016-06-09T00:00:00.000000000",
          "2016-06-10T00:00:00.000000000",
          "2016-06-11T00:00:00.000000000",
          "2016-06-12T00:00:00.000000000",
          "2016-06-13T00:00:00.000000000",
          "2016-06-14T00:00:00.000000000",
          "2016-06-15T00:00:00.000000000",
          "2016-06-16T00:00:00.000000000",
          "2016-06-17T00:00:00.000000000",
          "2016-06-18T00:00:00.000000000",
          "2016-06-19T00:00:00.000000000",
          "2016-06-20T00:00:00.000000000",
          "2016-06-21T00:00:00.000000000",
          "2016-06-22T00:00:00.000000000",
          "2016-06-23T00:00:00.000000000",
          "2016-06-24T00:00:00.000000000",
          "2016-06-25T00:00:00.000000000",
          "2016-06-26T00:00:00.000000000",
          "2016-06-27T00:00:00.000000000",
          "2016-06-28T00:00:00.000000000",
          "2016-06-29T00:00:00.000000000",
          "2016-06-30T00:00:00.000000000",
          "2016-07-01T00:00:00.000000000",
          "2016-07-02T00:00:00.000000000",
          "2016-07-03T00:00:00.000000000",
          "2016-07-04T00:00:00.000000000",
          "2016-07-05T00:00:00.000000000",
          "2016-07-06T00:00:00.000000000",
          "2016-07-07T00:00:00.000000000",
          "2016-07-08T00:00:00.000000000",
          "2016-07-09T00:00:00.000000000",
          "2016-07-10T00:00:00.000000000",
          "2016-07-11T00:00:00.000000000",
          "2016-07-12T00:00:00.000000000",
          "2016-07-13T00:00:00.000000000",
          "2016-07-14T00:00:00.000000000",
          "2016-07-15T00:00:00.000000000",
          "2016-07-16T00:00:00.000000000",
          "2016-07-17T00:00:00.000000000",
          "2016-07-18T00:00:00.000000000",
          "2016-07-19T00:00:00.000000000",
          "2016-07-20T00:00:00.000000000",
          "2016-07-21T00:00:00.000000000",
          "2016-07-22T00:00:00.000000000",
          "2016-07-23T00:00:00.000000000",
          "2016-07-24T00:00:00.000000000",
          "2016-07-25T00:00:00.000000000",
          "2016-07-26T00:00:00.000000000",
          "2016-07-27T00:00:00.000000000",
          "2016-07-28T00:00:00.000000000",
          "2016-07-29T00:00:00.000000000",
          "2016-07-30T00:00:00.000000000",
          "2016-07-31T00:00:00.000000000",
          "2016-08-01T00:00:00.000000000",
          "2016-08-02T00:00:00.000000000",
          "2016-08-03T00:00:00.000000000",
          "2016-08-04T00:00:00.000000000",
          "2016-08-05T00:00:00.000000000",
          "2016-08-06T00:00:00.000000000",
          "2016-08-07T00:00:00.000000000",
          "2016-08-08T00:00:00.000000000",
          "2016-08-09T00:00:00.000000000",
          "2016-08-10T00:00:00.000000000",
          "2016-08-11T00:00:00.000000000",
          "2016-08-12T00:00:00.000000000",
          "2016-08-13T00:00:00.000000000",
          "2016-08-14T00:00:00.000000000",
          "2016-08-15T00:00:00.000000000",
          "2016-08-16T00:00:00.000000000",
          "2016-08-17T00:00:00.000000000",
          "2016-08-18T00:00:00.000000000",
          "2016-08-19T00:00:00.000000000",
          "2016-08-20T00:00:00.000000000",
          "2016-08-21T00:00:00.000000000",
          "2016-08-22T00:00:00.000000000",
          "2016-08-23T00:00:00.000000000",
          "2016-08-24T00:00:00.000000000",
          "2016-08-25T00:00:00.000000000",
          "2016-08-26T00:00:00.000000000",
          "2016-08-27T00:00:00.000000000",
          "2016-08-28T00:00:00.000000000",
          "2016-08-29T00:00:00.000000000",
          "2016-08-30T00:00:00.000000000",
          "2016-08-31T00:00:00.000000000",
          "2016-09-01T00:00:00.000000000",
          "2016-09-02T00:00:00.000000000",
          "2016-09-03T00:00:00.000000000",
          "2016-09-04T00:00:00.000000000",
          "2016-09-05T00:00:00.000000000",
          "2016-09-06T00:00:00.000000000",
          "2016-09-07T00:00:00.000000000",
          "2016-09-08T00:00:00.000000000",
          "2016-09-09T00:00:00.000000000",
          "2016-09-10T00:00:00.000000000",
          "2016-09-11T00:00:00.000000000",
          "2016-09-12T00:00:00.000000000",
          "2016-09-13T00:00:00.000000000",
          "2016-09-14T00:00:00.000000000",
          "2016-09-15T00:00:00.000000000",
          "2016-09-16T00:00:00.000000000",
          "2016-09-17T00:00:00.000000000",
          "2016-09-18T00:00:00.000000000",
          "2016-09-19T00:00:00.000000000",
          "2016-09-20T00:00:00.000000000",
          "2016-09-21T00:00:00.000000000",
          "2016-09-22T00:00:00.000000000",
          "2016-09-23T00:00:00.000000000",
          "2016-09-24T00:00:00.000000000",
          "2016-09-25T00:00:00.000000000",
          "2016-09-26T00:00:00.000000000",
          "2016-09-27T00:00:00.000000000",
          "2016-09-28T00:00:00.000000000",
          "2016-09-29T00:00:00.000000000",
          "2016-09-30T00:00:00.000000000",
          "2016-10-01T00:00:00.000000000",
          "2016-10-02T00:00:00.000000000",
          "2016-10-03T00:00:00.000000000",
          "2016-10-04T00:00:00.000000000",
          "2016-10-05T00:00:00.000000000",
          "2016-10-06T00:00:00.000000000",
          "2016-10-07T00:00:00.000000000",
          "2016-10-08T00:00:00.000000000",
          "2016-10-09T00:00:00.000000000",
          "2016-10-10T00:00:00.000000000",
          "2016-10-11T00:00:00.000000000",
          "2016-10-12T00:00:00.000000000",
          "2016-10-13T00:00:00.000000000",
          "2016-10-14T00:00:00.000000000",
          "2016-10-15T00:00:00.000000000",
          "2016-10-16T00:00:00.000000000",
          "2016-10-17T00:00:00.000000000",
          "2016-10-18T00:00:00.000000000",
          "2016-10-19T00:00:00.000000000",
          "2016-10-20T00:00:00.000000000",
          "2016-10-21T00:00:00.000000000",
          "2016-10-22T00:00:00.000000000",
          "2016-10-23T00:00:00.000000000",
          "2016-10-24T00:00:00.000000000",
          "2016-10-25T00:00:00.000000000",
          "2016-10-26T00:00:00.000000000",
          "2016-10-27T00:00:00.000000000",
          "2016-10-28T00:00:00.000000000",
          "2016-10-29T00:00:00.000000000",
          "2016-10-30T00:00:00.000000000",
          "2016-10-31T00:00:00.000000000",
          "2016-11-01T00:00:00.000000000",
          "2016-11-02T00:00:00.000000000",
          "2016-11-03T00:00:00.000000000",
          "2016-11-04T00:00:00.000000000",
          "2016-11-05T00:00:00.000000000",
          "2016-11-06T00:00:00.000000000",
          "2016-11-07T00:00:00.000000000",
          "2016-11-08T00:00:00.000000000",
          "2016-11-09T00:00:00.000000000",
          "2016-11-10T00:00:00.000000000",
          "2016-11-11T00:00:00.000000000",
          "2016-11-12T00:00:00.000000000",
          "2016-11-13T00:00:00.000000000",
          "2016-11-14T00:00:00.000000000",
          "2016-11-15T00:00:00.000000000",
          "2016-11-16T00:00:00.000000000",
          "2016-11-17T00:00:00.000000000",
          "2016-11-18T00:00:00.000000000",
          "2016-11-19T00:00:00.000000000",
          "2016-11-20T00:00:00.000000000",
          "2016-11-21T00:00:00.000000000",
          "2016-11-22T00:00:00.000000000",
          "2016-11-23T00:00:00.000000000",
          "2016-11-24T00:00:00.000000000",
          "2016-11-25T00:00:00.000000000",
          "2016-11-26T00:00:00.000000000",
          "2016-11-27T00:00:00.000000000",
          "2016-11-28T00:00:00.000000000",
          "2016-11-29T00:00:00.000000000",
          "2016-11-30T00:00:00.000000000",
          "2016-12-01T00:00:00.000000000",
          "2016-12-02T00:00:00.000000000",
          "2016-12-03T00:00:00.000000000",
          "2016-12-04T00:00:00.000000000",
          "2016-12-05T00:00:00.000000000",
          "2016-12-06T00:00:00.000000000",
          "2016-12-07T00:00:00.000000000",
          "2016-12-08T00:00:00.000000000",
          "2016-12-09T00:00:00.000000000",
          "2016-12-10T00:00:00.000000000",
          "2016-12-11T00:00:00.000000000",
          "2016-12-12T00:00:00.000000000",
          "2016-12-13T00:00:00.000000000",
          "2016-12-14T00:00:00.000000000",
          "2016-12-15T00:00:00.000000000",
          "2016-12-16T00:00:00.000000000",
          "2016-12-17T00:00:00.000000000",
          "2016-12-18T00:00:00.000000000",
          "2016-12-19T00:00:00.000000000",
          "2016-12-20T00:00:00.000000000",
          "2016-12-21T00:00:00.000000000",
          "2016-12-22T00:00:00.000000000",
          "2016-12-23T00:00:00.000000000",
          "2016-12-24T00:00:00.000000000",
          "2016-12-26T00:00:00.000000000",
          "2016-12-27T00:00:00.000000000",
          "2016-12-28T00:00:00.000000000",
          "2016-12-29T00:00:00.000000000",
          "2016-12-30T00:00:00.000000000",
          "2016-12-31T00:00:00.000000000",
          "2017-01-01T00:00:00.000000000",
          "2017-01-02T00:00:00.000000000",
          "2017-01-03T00:00:00.000000000",
          "2017-01-04T00:00:00.000000000",
          "2017-01-05T00:00:00.000000000",
          "2017-01-06T00:00:00.000000000",
          "2017-01-07T00:00:00.000000000",
          "2017-01-08T00:00:00.000000000",
          "2017-01-09T00:00:00.000000000",
          "2017-01-10T00:00:00.000000000",
          "2017-01-11T00:00:00.000000000",
          "2017-01-12T00:00:00.000000000",
          "2017-01-13T00:00:00.000000000",
          "2017-01-14T00:00:00.000000000",
          "2017-01-15T00:00:00.000000000",
          "2017-01-16T00:00:00.000000000",
          "2017-01-17T00:00:00.000000000",
          "2017-01-18T00:00:00.000000000",
          "2017-01-19T00:00:00.000000000",
          "2017-01-20T00:00:00.000000000",
          "2017-01-21T00:00:00.000000000",
          "2017-01-22T00:00:00.000000000",
          "2017-01-23T00:00:00.000000000",
          "2017-01-24T00:00:00.000000000",
          "2017-01-25T00:00:00.000000000",
          "2017-01-26T00:00:00.000000000",
          "2017-01-27T00:00:00.000000000",
          "2017-01-28T00:00:00.000000000",
          "2017-01-29T00:00:00.000000000",
          "2017-01-30T00:00:00.000000000",
          "2017-01-31T00:00:00.000000000",
          "2017-02-01T00:00:00.000000000",
          "2017-02-02T00:00:00.000000000",
          "2017-02-03T00:00:00.000000000",
          "2017-02-04T00:00:00.000000000",
          "2017-02-05T00:00:00.000000000",
          "2017-02-06T00:00:00.000000000",
          "2017-02-07T00:00:00.000000000",
          "2017-02-08T00:00:00.000000000",
          "2017-02-09T00:00:00.000000000",
          "2017-02-10T00:00:00.000000000",
          "2017-02-11T00:00:00.000000000",
          "2017-02-12T00:00:00.000000000",
          "2017-02-13T00:00:00.000000000",
          "2017-02-14T00:00:00.000000000",
          "2017-02-15T00:00:00.000000000",
          "2017-02-16T00:00:00.000000000",
          "2017-02-17T00:00:00.000000000",
          "2017-02-18T00:00:00.000000000",
          "2017-02-19T00:00:00.000000000",
          "2017-02-20T00:00:00.000000000",
          "2017-02-21T00:00:00.000000000",
          "2017-02-22T00:00:00.000000000",
          "2017-02-23T00:00:00.000000000",
          "2017-02-24T00:00:00.000000000",
          "2017-02-25T00:00:00.000000000",
          "2017-02-26T00:00:00.000000000",
          "2017-02-27T00:00:00.000000000",
          "2017-02-28T00:00:00.000000000",
          "2017-03-01T00:00:00.000000000",
          "2017-03-02T00:00:00.000000000",
          "2017-03-03T00:00:00.000000000",
          "2017-03-04T00:00:00.000000000",
          "2017-03-05T00:00:00.000000000",
          "2017-03-06T00:00:00.000000000",
          "2017-03-07T00:00:00.000000000",
          "2017-03-08T00:00:00.000000000",
          "2017-03-09T00:00:00.000000000",
          "2017-03-10T00:00:00.000000000",
          "2017-03-11T00:00:00.000000000",
          "2017-03-12T00:00:00.000000000",
          "2017-03-13T00:00:00.000000000",
          "2017-03-14T00:00:00.000000000",
          "2017-03-15T00:00:00.000000000",
          "2017-03-16T00:00:00.000000000",
          "2017-03-17T00:00:00.000000000",
          "2017-03-18T00:00:00.000000000",
          "2017-03-19T00:00:00.000000000",
          "2017-03-20T00:00:00.000000000",
          "2017-03-21T00:00:00.000000000",
          "2017-03-22T00:00:00.000000000",
          "2017-03-23T00:00:00.000000000",
          "2017-03-24T00:00:00.000000000",
          "2017-03-25T00:00:00.000000000",
          "2017-03-26T00:00:00.000000000",
          "2017-03-27T00:00:00.000000000",
          "2017-03-28T00:00:00.000000000",
          "2017-03-29T00:00:00.000000000",
          "2017-03-30T00:00:00.000000000",
          "2017-03-31T00:00:00.000000000",
          "2017-04-01T00:00:00.000000000",
          "2017-04-02T00:00:00.000000000",
          "2017-04-03T00:00:00.000000000",
          "2017-04-04T00:00:00.000000000",
          "2017-04-05T00:00:00.000000000",
          "2017-04-06T00:00:00.000000000",
          "2017-04-07T00:00:00.000000000",
          "2017-04-08T00:00:00.000000000",
          "2017-04-09T00:00:00.000000000",
          "2017-04-10T00:00:00.000000000",
          "2017-04-11T00:00:00.000000000",
          "2017-04-12T00:00:00.000000000",
          "2017-04-13T00:00:00.000000000",
          "2017-04-14T00:00:00.000000000",
          "2017-04-15T00:00:00.000000000",
          "2017-04-16T00:00:00.000000000",
          "2017-04-17T00:00:00.000000000",
          "2017-04-18T00:00:00.000000000",
          "2017-04-19T00:00:00.000000000",
          "2017-04-20T00:00:00.000000000",
          "2017-04-21T00:00:00.000000000",
          "2017-04-22T00:00:00.000000000",
          "2017-04-23T00:00:00.000000000",
          "2017-04-24T00:00:00.000000000",
          "2017-04-25T00:00:00.000000000",
          "2017-04-26T00:00:00.000000000",
          "2017-04-27T00:00:00.000000000",
          "2017-04-28T00:00:00.000000000",
          "2017-04-29T00:00:00.000000000",
          "2017-04-30T00:00:00.000000000",
          "2017-05-01T00:00:00.000000000",
          "2017-05-02T00:00:00.000000000",
          "2017-05-03T00:00:00.000000000",
          "2017-05-04T00:00:00.000000000",
          "2017-05-05T00:00:00.000000000",
          "2017-05-06T00:00:00.000000000",
          "2017-05-07T00:00:00.000000000",
          "2017-05-08T00:00:00.000000000",
          "2017-05-09T00:00:00.000000000",
          "2017-05-10T00:00:00.000000000",
          "2017-05-11T00:00:00.000000000",
          "2017-05-12T00:00:00.000000000",
          "2017-05-13T00:00:00.000000000",
          "2017-05-14T00:00:00.000000000",
          "2017-05-15T00:00:00.000000000",
          "2017-05-16T00:00:00.000000000",
          "2017-05-17T00:00:00.000000000",
          "2017-05-18T00:00:00.000000000",
          "2017-05-19T00:00:00.000000000",
          "2017-05-20T00:00:00.000000000",
          "2017-05-21T00:00:00.000000000",
          "2017-05-22T00:00:00.000000000",
          "2017-05-23T00:00:00.000000000",
          "2017-05-24T00:00:00.000000000",
          "2017-05-25T00:00:00.000000000",
          "2017-05-26T00:00:00.000000000",
          "2017-05-27T00:00:00.000000000",
          "2017-05-28T00:00:00.000000000",
          "2017-05-29T00:00:00.000000000",
          "2017-05-30T00:00:00.000000000",
          "2017-05-31T00:00:00.000000000",
          "2017-06-01T00:00:00.000000000",
          "2017-06-02T00:00:00.000000000",
          "2017-06-03T00:00:00.000000000",
          "2017-06-04T00:00:00.000000000",
          "2017-06-05T00:00:00.000000000",
          "2017-06-06T00:00:00.000000000",
          "2017-06-07T00:00:00.000000000",
          "2017-06-08T00:00:00.000000000",
          "2017-06-09T00:00:00.000000000",
          "2017-06-10T00:00:00.000000000",
          "2017-06-11T00:00:00.000000000",
          "2017-06-12T00:00:00.000000000",
          "2017-06-13T00:00:00.000000000",
          "2017-06-14T00:00:00.000000000",
          "2017-06-15T00:00:00.000000000",
          "2017-06-16T00:00:00.000000000",
          "2017-06-17T00:00:00.000000000",
          "2017-06-18T00:00:00.000000000",
          "2017-06-19T00:00:00.000000000",
          "2017-06-20T00:00:00.000000000",
          "2017-06-21T00:00:00.000000000",
          "2017-06-22T00:00:00.000000000",
          "2017-06-23T00:00:00.000000000",
          "2017-06-24T00:00:00.000000000",
          "2017-06-25T00:00:00.000000000",
          "2017-06-26T00:00:00.000000000",
          "2017-06-27T00:00:00.000000000",
          "2017-06-28T00:00:00.000000000",
          "2017-06-29T00:00:00.000000000",
          "2017-06-30T00:00:00.000000000",
          "2017-07-01T00:00:00.000000000",
          "2017-07-02T00:00:00.000000000",
          "2017-07-03T00:00:00.000000000",
          "2017-07-04T00:00:00.000000000",
          "2017-07-05T00:00:00.000000000",
          "2017-07-06T00:00:00.000000000",
          "2017-07-07T00:00:00.000000000",
          "2017-07-08T00:00:00.000000000",
          "2017-07-09T00:00:00.000000000",
          "2017-07-10T00:00:00.000000000",
          "2017-07-11T00:00:00.000000000",
          "2017-07-12T00:00:00.000000000",
          "2017-07-13T00:00:00.000000000",
          "2017-07-14T00:00:00.000000000",
          "2017-07-15T00:00:00.000000000",
          "2017-07-16T00:00:00.000000000",
          "2017-07-17T00:00:00.000000000",
          "2017-07-18T00:00:00.000000000",
          "2017-07-19T00:00:00.000000000",
          "2017-07-20T00:00:00.000000000",
          "2017-07-21T00:00:00.000000000",
          "2017-07-22T00:00:00.000000000",
          "2017-07-23T00:00:00.000000000",
          "2017-07-24T00:00:00.000000000",
          "2017-07-25T00:00:00.000000000",
          "2017-07-26T00:00:00.000000000",
          "2017-07-27T00:00:00.000000000",
          "2017-07-28T00:00:00.000000000",
          "2017-07-29T00:00:00.000000000",
          "2017-07-30T00:00:00.000000000",
          "2017-07-31T00:00:00.000000000",
          "2017-08-01T00:00:00.000000000",
          "2017-08-02T00:00:00.000000000",
          "2017-08-03T00:00:00.000000000",
          "2017-08-04T00:00:00.000000000",
          "2017-08-05T00:00:00.000000000",
          "2017-08-06T00:00:00.000000000",
          "2017-08-07T00:00:00.000000000",
          "2017-08-08T00:00:00.000000000",
          "2017-08-09T00:00:00.000000000",
          "2017-08-10T00:00:00.000000000",
          "2017-08-11T00:00:00.000000000",
          "2017-08-12T00:00:00.000000000",
          "2017-08-13T00:00:00.000000000",
          "2017-08-14T00:00:00.000000000",
          "2017-08-15T00:00:00.000000000"
         ],
         "xaxis": "x",
         "y": {
          "bdata": "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",
          "dtype": "f8"
         },
         "yaxis": "y"
        }
       ],
       "layout": {
        "legend": {
         "tracegroupgap": 0
        },
        "margin": {
         "t": 60
        },
        "template": {
         "data": {
          "bar": [
           {
            "error_x": {
             "color": "#2a3f5f"
            },
            "error_y": {
             "color": "#2a3f5f"
            },
            "marker": {
             "line": {
              "color": "#E5ECF6",
              "width": 0.5
             },
             "pattern": {
              "fillmode": "overlay",
              "size": 10,
              "solidity": 0.2
             }
            },
            "type": "bar"
           }
          ],
          "barpolar": [
           {
            "marker": {
             "line": {
              "color": "#E5ECF6",
              "width": 0.5
             },
             "pattern": {
              "fillmode": "overlay",
              "size": 10,
              "solidity": 0.2
             }
            },
            "type": "barpolar"
           }
          ],
          "carpet": [
           {
            "aaxis": {
             "endlinecolor": "#2a3f5f",
             "gridcolor": "white",
             "linecolor": "white",
             "minorgridcolor": "white",
             "startlinecolor": "#2a3f5f"
            },
            "baxis": {
             "endlinecolor": "#2a3f5f",
             "gridcolor": "white",
             "linecolor": "white",
             "minorgridcolor": "white",
             "startlinecolor": "#2a3f5f"
            },
            "type": "carpet"
           }
          ],
          "choropleth": [
           {
            "colorbar": {
             "outlinewidth": 0,
             "ticks": ""
            },
            "type": "choropleth"
           }
          ],
          "contour": [
           {
            "colorbar": {
             "outlinewidth": 0,
             "ticks": ""
            },
            "colorscale": [
             [
              0,
              "#0d0887"
             ],
             [
              0.1111111111111111,
              "#46039f"
             ],
             [
              0.2222222222222222,
              "#7201a8"
             ],
             [
              0.3333333333333333,
              "#9c179e"
             ],
             [
              0.4444444444444444,
              "#bd3786"
             ],
             [
              0.5555555555555556,
              "#d8576b"
             ],
             [
              0.6666666666666666,
              "#ed7953"
             ],
             [
              0.7777777777777778,
              "#fb9f3a"
             ],
             [
              0.8888888888888888,
              "#fdca26"
             ],
             [
              1,
              "#f0f921"
             ]
            ],
            "type": "contour"
           }
          ],
          "contourcarpet": [
           {
            "colorbar": {
             "outlinewidth": 0,
             "ticks": ""
            },
            "type": "contourcarpet"
           }
          ],
          "heatmap": [
           {
            "colorbar": {
             "outlinewidth": 0,
             "ticks": ""
            },
            "colorscale": [
             [
              0,
              "#0d0887"
             ],
             [
              0.1111111111111111,
              "#46039f"
             ],
             [
              0.2222222222222222,
              "#7201a8"
             ],
             [
              0.3333333333333333,
              "#9c179e"
             ],
             [
              0.4444444444444444,
              "#bd3786"
             ],
             [
              0.5555555555555556,
              "#d8576b"
             ],
             [
              0.6666666666666666,
              "#ed7953"
             ],
             [
              0.7777777777777778,
              "#fb9f3a"
             ],
             [
              0.8888888888888888,
              "#fdca26"
             ],
             [
              1,
              "#f0f921"
             ]
            ],
            "type": "heatmap"
           }
          ],
          "histogram": [
           {
            "marker": {
             "pattern": {
              "fillmode": "overlay",
              "size": 10,
              "solidity": 0.2
             }
            },
            "type": "histogram"
           }
          ],
          "histogram2d": [
           {
            "colorbar": {
             "outlinewidth": 0,
             "ticks": ""
            },
            "colorscale": [
             [
              0,
              "#0d0887"
             ],
             [
              0.1111111111111111,
              "#46039f"
             ],
             [
              0.2222222222222222,
              "#7201a8"
             ],
             [
              0.3333333333333333,
              "#9c179e"
             ],
             [
              0.4444444444444444,
              "#bd3786"
             ],
             [
              0.5555555555555556,
              "#d8576b"
             ],
             [
              0.6666666666666666,
              "#ed7953"
             ],
             [
              0.7777777777777778,
              "#fb9f3a"
             ],
             [
              0.8888888888888888,
              "#fdca26"
             ],
             [
              1,
              "#f0f921"
             ]
            ],
            "type": "histogram2d"
           }
          ],
          "histogram2dcontour": [
           {
            "colorbar": {
             "outlinewidth": 0,
             "ticks": ""
            },
            "colorscale": [
             [
              0,
              "#0d0887"
             ],
             [
              0.1111111111111111,
              "#46039f"
             ],
             [
              0.2222222222222222,
              "#7201a8"
             ],
             [
              0.3333333333333333,
              "#9c179e"
             ],
             [
              0.4444444444444444,
              "#bd3786"
             ],
             [
              0.5555555555555556,
              "#d8576b"
             ],
             [
              0.6666666666666666,
              "#ed7953"
             ],
             [
              0.7777777777777778,
              "#fb9f3a"
             ],
             [
              0.8888888888888888,
              "#fdca26"
             ],
             [
              1,
              "#f0f921"
             ]
            ],
            "type": "histogram2dcontour"
           }
          ],
          "mesh3d": [
           {
            "colorbar": {
             "outlinewidth": 0,
             "ticks": ""
            },
            "type": "mesh3d"
           }
          ],
          "parcoords": [
           {
            "line": {
             "colorbar": {
              "outlinewidth": 0,
              "ticks": ""
             }
            },
            "type": "parcoords"
           }
          ],
          "pie": [
           {
            "automargin": true,
            "type": "pie"
           }
          ],
          "scatter": [
           {
            "fillpattern": {
             "fillmode": "overlay",
             "size": 10,
             "solidity": 0.2
            },
            "type": "scatter"
           }
          ],
          "scatter3d": [
           {
            "line": {
             "colorbar": {
              "outlinewidth": 0,
              "ticks": ""
             }
            },
            "marker": {
             "colorbar": {
              "outlinewidth": 0,
              "ticks": ""
             }
            },
            "type": "scatter3d"
           }
          ],
          "scattercarpet": [
           {
            "marker": {
             "colorbar": {
              "outlinewidth": 0,
              "ticks": ""
             }
            },
            "type": "scattercarpet"
           }
          ],
          "scattergeo": [
           {
            "marker": {
             "colorbar": {
              "outlinewidth": 0,
              "ticks": ""
             }
            },
            "type": "scattergeo"
           }
          ],
          "scattergl": [
           {
            "marker": {
             "colorbar": {
              "outlinewidth": 0,
              "ticks": ""
             }
            },
            "type": "scattergl"
           }
          ],
          "scattermap": [
           {
            "marker": {
             "colorbar": {
              "outlinewidth": 0,
              "ticks": ""
             }
            },
            "type": "scattermap"
           }
          ],
          "scattermapbox": [
           {
            "marker": {
             "colorbar": {
              "outlinewidth": 0,
              "ticks": ""
             }
            },
            "type": "scattermapbox"
           }
          ],
          "scatterpolar": [
           {
            "marker": {
             "colorbar": {
              "outlinewidth": 0,
              "ticks": ""
             }
            },
            "type": "scatterpolar"
           }
          ],
          "scatterpolargl": [
           {
            "marker": {
             "colorbar": {
              "outlinewidth": 0,
              "ticks": ""
             }
            },
            "type": "scatterpolargl"
           }
          ],
          "scatterternary": [
           {
            "marker": {
             "colorbar": {
              "outlinewidth": 0,
              "ticks": ""
             }
            },
            "type": "scatterternary"
           }
          ],
          "surface": [
           {
            "colorbar": {
             "outlinewidth": 0,
             "ticks": ""
            },
            "colorscale": [
             [
              0,
              "#0d0887"
             ],
             [
              0.1111111111111111,
              "#46039f"
             ],
             [
              0.2222222222222222,
              "#7201a8"
             ],
             [
              0.3333333333333333,
              "#9c179e"
             ],
             [
              0.4444444444444444,
              "#bd3786"
             ],
             [
              0.5555555555555556,
              "#d8576b"
             ],
             [
              0.6666666666666666,
              "#ed7953"
             ],
             [
              0.7777777777777778,
              "#fb9f3a"
             ],
             [
              0.8888888888888888,
              "#fdca26"
             ],
             [
              1,
              "#f0f921"
             ]
            ],
            "type": "surface"
           }
          ],
          "table": [
           {
            "cells": {
             "fill": {
              "color": "#EBF0F8"
             },
             "line": {
              "color": "white"
             }
            },
            "header": {
             "fill": {
              "color": "#C8D4E3"
             },
             "line": {
              "color": "white"
             }
            },
            "type": "table"
           }
          ]
         },
         "layout": {
          "annotationdefaults": {
           "arrowcolor": "#2a3f5f",
           "arrowhead": 0,
           "arrowwidth": 1
          },
          "autotypenumbers": "strict",
          "coloraxis": {
           "colorbar": {
            "outlinewidth": 0,
            "ticks": ""
           }
          },
          "colorscale": {
           "diverging": [
            [
             0,
             "#8e0152"
            ],
            [
             0.1,
             "#c51b7d"
            ],
            [
             0.2,
             "#de77ae"
            ],
            [
             0.3,
             "#f1b6da"
            ],
            [
             0.4,
             "#fde0ef"
            ],
            [
             0.5,
             "#f7f7f7"
            ],
            [
             0.6,
             "#e6f5d0"
            ],
            [
             0.7,
             "#b8e186"
            ],
            [
             0.8,
             "#7fbc41"
            ],
            [
             0.9,
             "#4d9221"
            ],
            [
             1,
             "#276419"
            ]
           ],
           "sequential": [
            [
             0,
             "#0d0887"
            ],
            [
             0.1111111111111111,
             "#46039f"
            ],
            [
             0.2222222222222222,
             "#7201a8"
            ],
            [
             0.3333333333333333,
             "#9c179e"
            ],
            [
             0.4444444444444444,
             "#bd3786"
            ],
            [
             0.5555555555555556,
             "#d8576b"
            ],
            [
             0.6666666666666666,
             "#ed7953"
            ],
            [
             0.7777777777777778,
             "#fb9f3a"
            ],
            [
             0.8888888888888888,
             "#fdca26"
            ],
            [
             1,
             "#f0f921"
            ]
           ],
           "sequentialminus": [
            [
             0,
             "#0d0887"
            ],
            [
             0.1111111111111111,
             "#46039f"
            ],
            [
             0.2222222222222222,
             "#7201a8"
            ],
            [
             0.3333333333333333,
             "#9c179e"
            ],
            [
             0.4444444444444444,
             "#bd3786"
            ],
            [
             0.5555555555555556,
             "#d8576b"
            ],
            [
             0.6666666666666666,
             "#ed7953"
            ],
            [
             0.7777777777777778,
             "#fb9f3a"
            ],
            [
             0.8888888888888888,
             "#fdca26"
            ],
            [
             1,
             "#f0f921"
            ]
           ]
          },
          "colorway": [
           "#636efa",
           "#EF553B",
           "#00cc96",
           "#ab63fa",
           "#FFA15A",
           "#19d3f3",
           "#FF6692",
           "#B6E880",
           "#FF97FF",
           "#FECB52"
          ],
          "font": {
           "color": "#2a3f5f"
          },
          "geo": {
           "bgcolor": "white",
           "lakecolor": "white",
           "landcolor": "#E5ECF6",
           "showlakes": true,
           "showland": true,
           "subunitcolor": "white"
          },
          "hoverlabel": {
           "align": "left"
          },
          "hovermode": "closest",
          "mapbox": {
           "style": "light"
          },
          "paper_bgcolor": "white",
          "plot_bgcolor": "#E5ECF6",
          "polar": {
           "angularaxis": {
            "gridcolor": "white",
            "linecolor": "white",
            "ticks": ""
           },
           "bgcolor": "#E5ECF6",
           "radialaxis": {
            "gridcolor": "white",
            "linecolor": "white",
            "ticks": ""
           }
          },
          "scene": {
           "xaxis": {
            "backgroundcolor": "#E5ECF6",
            "gridcolor": "white",
            "gridwidth": 2,
            "linecolor": "white",
            "showbackground": true,
            "ticks": "",
            "zerolinecolor": "white"
           },
           "yaxis": {
            "backgroundcolor": "#E5ECF6",
            "gridcolor": "white",
            "gridwidth": 2,
            "linecolor": "white",
            "showbackground": true,
            "ticks": "",
            "zerolinecolor": "white"
           },
           "zaxis": {
            "backgroundcolor": "#E5ECF6",
            "gridcolor": "white",
            "gridwidth": 2,
            "linecolor": "white",
            "showbackground": true,
            "ticks": "",
            "zerolinecolor": "white"
           }
          },
          "shapedefaults": {
           "line": {
            "color": "#2a3f5f"
           }
          },
          "ternary": {
           "aaxis": {
            "gridcolor": "white",
            "linecolor": "white",
            "ticks": ""
           },
           "baxis": {
            "gridcolor": "white",
            "linecolor": "white",
            "ticks": ""
           },
           "bgcolor": "#E5ECF6",
           "caxis": {
            "gridcolor": "white",
            "linecolor": "white",
            "ticks": ""
           }
          },
          "title": {
           "x": 0.05
          },
          "xaxis": {
           "automargin": true,
           "gridcolor": "white",
           "linecolor": "white",
           "ticks": "",
           "title": {
            "standoff": 15
           },
           "zerolinecolor": "white",
           "zerolinewidth": 2
          },
          "yaxis": {
           "automargin": true,
           "gridcolor": "white",
           "linecolor": "white",
           "ticks": "",
           "title": {
            "standoff": 15
           },
           "zerolinecolor": "white",
           "zerolinewidth": 2
          }
         }
        },
        "xaxis": {
         "anchor": "y",
         "domain": [
          0,
          1
         ],
         "title": {
          "text": "date"
         }
        },
        "yaxis": {
         "anchor": "x",
         "domain": [
          0,
          1
         ],
         "title": {
          "text": "sales"
         }
        }
       }
      }
     },
     "metadata": {},
     "output_type": "display_data"
    }
   ],
   "source": [
    "px.line(daily_sales,x='date',y='sales')"
   ]
  },
  {
   "cell_type": "code",
   "execution_count": 125,
   "id": "2b2f2139",
   "metadata": {},
   "outputs": [
    {
     "data": {
      "text/html": [
       "<div>\n",
       "<style scoped>\n",
       "    .dataframe tbody tr th:only-of-type {\n",
       "        vertical-align: middle;\n",
       "    }\n",
       "\n",
       "    .dataframe tbody tr th {\n",
       "        vertical-align: top;\n",
       "    }\n",
       "\n",
       "    .dataframe thead th {\n",
       "        text-align: right;\n",
       "    }\n",
       "</style>\n",
       "<table border=\"1\" class=\"dataframe\">\n",
       "  <thead>\n",
       "    <tr style=\"text-align: right;\">\n",
       "      <th></th>\n",
       "      <th>date</th>\n",
       "      <th>sales</th>\n",
       "      <th>dcoilwtico</th>\n",
       "    </tr>\n",
       "  </thead>\n",
       "  <tbody>\n",
       "    <tr>\n",
       "      <th>0</th>\n",
       "      <td>2013-01-01</td>\n",
       "      <td>2511.618999</td>\n",
       "      <td>93.14</td>\n",
       "    </tr>\n",
       "    <tr>\n",
       "      <th>1</th>\n",
       "      <td>2013-01-02</td>\n",
       "      <td>496092.417944</td>\n",
       "      <td>93.14</td>\n",
       "    </tr>\n",
       "    <tr>\n",
       "      <th>2</th>\n",
       "      <td>2013-01-03</td>\n",
       "      <td>361461.231124</td>\n",
       "      <td>92.97</td>\n",
       "    </tr>\n",
       "    <tr>\n",
       "      <th>3</th>\n",
       "      <td>2013-01-04</td>\n",
       "      <td>354459.677093</td>\n",
       "      <td>93.12</td>\n",
       "    </tr>\n",
       "    <tr>\n",
       "      <th>4</th>\n",
       "      <td>2013-01-05</td>\n",
       "      <td>477350.121229</td>\n",
       "      <td>93.12</td>\n",
       "    </tr>\n",
       "  </tbody>\n",
       "</table>\n",
       "</div>"
      ],
      "text/plain": [
       "        date          sales  dcoilwtico\n",
       "0 2013-01-01    2511.618999       93.14\n",
       "1 2013-01-02  496092.417944       93.14\n",
       "2 2013-01-03  361461.231124       92.97\n",
       "3 2013-01-04  354459.677093       93.12\n",
       "4 2013-01-05  477350.121229       93.12"
      ]
     },
     "execution_count": 125,
     "metadata": {},
     "output_type": "execute_result"
    }
   ],
   "source": [
    "#Εδω ενονω τις τιμες του πετρελαιου με τα daily sales για να κανω correlation test\n",
    "daily_oil = df[['date', 'dcoilwtico']].dropna().drop_duplicates(subset='date')\n",
    "daily_df = pd.merge(daily_sales,daily_oil,on='date',how='left')\n",
    "daily_df.head()"
   ]
  },
  {
   "cell_type": "code",
   "execution_count": 126,
   "id": "518f665f",
   "metadata": {},
   "outputs": [],
   "source": [
    "moving_average = daily_df['sales'].rolling(\n",
    "    window = len(daily_df['sales']),\n",
    "    center = True,\n",
    "    min_periods = len(daily_df['sales'])//2,\n",
    ").mean()\n",
    "\n",
    "daily_df['moving_average'] = moving_average"
   ]
  },
  {
   "cell_type": "code",
   "execution_count": 127,
   "id": "feec169a",
   "metadata": {},
   "outputs": [
    {
     "data": {
      "application/vnd.plotly.v1+json": {
       "config": {
        "plotlyServerURL": "https://plot.ly"
       },
       "data": [
        {
         "hovertemplate": "date=%{x}<br>sales=%{y}<extra></extra>",
         "legendgroup": "",
         "marker": {
          "color": "#636efa",
          "symbol": "circle"
         },
         "mode": "markers",
         "name": "",
         "showlegend": false,
         "type": "scattergl",
         "x": [
          "2013-01-01T00:00:00.000000000",
          "2013-01-02T00:00:00.000000000",
          "2013-01-03T00:00:00.000000000",
          "2013-01-04T00:00:00.000000000",
          "2013-01-05T00:00:00.000000000",
          "2013-01-06T00:00:00.000000000",
          "2013-01-07T00:00:00.000000000",
          "2013-01-08T00:00:00.000000000",
          "2013-01-09T00:00:00.000000000",
          "2013-01-10T00:00:00.000000000",
          "2013-01-11T00:00:00.000000000",
          "2013-01-12T00:00:00.000000000",
          "2013-01-13T00:00:00.000000000",
          "2013-01-14T00:00:00.000000000",
          "2013-01-15T00:00:00.000000000",
          "2013-01-16T00:00:00.000000000",
          "2013-01-17T00:00:00.000000000",
          "2013-01-18T00:00:00.000000000",
          "2013-01-19T00:00:00.000000000",
          "2013-01-20T00:00:00.000000000",
          "2013-01-21T00:00:00.000000000",
          "2013-01-22T00:00:00.000000000",
          "2013-01-23T00:00:00.000000000",
          "2013-01-24T00:00:00.000000000",
          "2013-01-25T00:00:00.000000000",
          "2013-01-26T00:00:00.000000000",
          "2013-01-27T00:00:00.000000000",
          "2013-01-28T00:00:00.000000000",
          "2013-01-29T00:00:00.000000000",
          "2013-01-30T00:00:00.000000000",
          "2013-01-31T00:00:00.000000000",
          "2013-02-01T00:00:00.000000000",
          "2013-02-02T00:00:00.000000000",
          "2013-02-03T00:00:00.000000000",
          "2013-02-04T00:00:00.000000000",
          "2013-02-05T00:00:00.000000000",
          "2013-02-06T00:00:00.000000000",
          "2013-02-07T00:00:00.000000000",
          "2013-02-08T00:00:00.000000000",
          "2013-02-09T00:00:00.000000000",
          "2013-02-10T00:00:00.000000000",
          "2013-02-11T00:00:00.000000000",
          "2013-02-12T00:00:00.000000000",
          "2013-02-13T00:00:00.000000000",
          "2013-02-14T00:00:00.000000000",
          "2013-02-15T00:00:00.000000000",
          "2013-02-16T00:00:00.000000000",
          "2013-02-17T00:00:00.000000000",
          "2013-02-18T00:00:00.000000000",
          "2013-02-19T00:00:00.000000000",
          "2013-02-20T00:00:00.000000000",
          "2013-02-21T00:00:00.000000000",
          "2013-02-22T00:00:00.000000000",
          "2013-02-23T00:00:00.000000000",
          "2013-02-24T00:00:00.000000000",
          "2013-02-25T00:00:00.000000000",
          "2013-02-26T00:00:00.000000000",
          "2013-02-27T00:00:00.000000000",
          "2013-02-28T00:00:00.000000000",
          "2013-03-01T00:00:00.000000000",
          "2013-03-02T00:00:00.000000000",
          "2013-03-03T00:00:00.000000000",
          "2013-03-04T00:00:00.000000000",
          "2013-03-05T00:00:00.000000000",
          "2013-03-06T00:00:00.000000000",
          "2013-03-07T00:00:00.000000000",
          "2013-03-08T00:00:00.000000000",
          "2013-03-09T00:00:00.000000000",
          "2013-03-10T00:00:00.000000000",
          "2013-03-11T00:00:00.000000000",
          "2013-03-12T00:00:00.000000000",
          "2013-03-13T00:00:00.000000000",
          "2013-03-14T00:00:00.000000000",
          "2013-03-15T00:00:00.000000000",
          "2013-03-16T00:00:00.000000000",
          "2013-03-17T00:00:00.000000000",
          "2013-03-18T00:00:00.000000000",
          "2013-03-19T00:00:00.000000000",
          "2013-03-20T00:00:00.000000000",
          "2013-03-21T00:00:00.000000000",
          "2013-03-22T00:00:00.000000000",
          "2013-03-23T00:00:00.000000000",
          "2013-03-24T00:00:00.000000000",
          "2013-03-25T00:00:00.000000000",
          "2013-03-26T00:00:00.000000000",
          "2013-03-27T00:00:00.000000000",
          "2013-03-28T00:00:00.000000000",
          "2013-03-29T00:00:00.000000000",
          "2013-03-30T00:00:00.000000000",
          "2013-03-31T00:00:00.000000000",
          "2013-04-01T00:00:00.000000000",
          "2013-04-02T00:00:00.000000000",
          "2013-04-03T00:00:00.000000000",
          "2013-04-04T00:00:00.000000000",
          "2013-04-05T00:00:00.000000000",
          "2013-04-06T00:00:00.000000000",
          "2013-04-07T00:00:00.000000000",
          "2013-04-08T00:00:00.000000000",
          "2013-04-09T00:00:00.000000000",
          "2013-04-10T00:00:00.000000000",
          "2013-04-11T00:00:00.000000000",
          "2013-04-12T00:00:00.000000000",
          "2013-04-13T00:00:00.000000000",
          "2013-04-14T00:00:00.000000000",
          "2013-04-15T00:00:00.000000000",
          "2013-04-16T00:00:00.000000000",
          "2013-04-17T00:00:00.000000000",
          "2013-04-18T00:00:00.000000000",
          "2013-04-19T00:00:00.000000000",
          "2013-04-20T00:00:00.000000000",
          "2013-04-21T00:00:00.000000000",
          "2013-04-22T00:00:00.000000000",
          "2013-04-23T00:00:00.000000000",
          "2013-04-24T00:00:00.000000000",
          "2013-04-25T00:00:00.000000000",
          "2013-04-26T00:00:00.000000000",
          "2013-04-27T00:00:00.000000000",
          "2013-04-28T00:00:00.000000000",
          "2013-04-29T00:00:00.000000000",
          "2013-04-30T00:00:00.000000000",
          "2013-05-01T00:00:00.000000000",
          "2013-05-02T00:00:00.000000000",
          "2013-05-03T00:00:00.000000000",
          "2013-05-04T00:00:00.000000000",
          "2013-05-05T00:00:00.000000000",
          "2013-05-06T00:00:00.000000000",
          "2013-05-07T00:00:00.000000000",
          "2013-05-08T00:00:00.000000000",
          "2013-05-09T00:00:00.000000000",
          "2013-05-10T00:00:00.000000000",
          "2013-05-11T00:00:00.000000000",
          "2013-05-12T00:00:00.000000000",
          "2013-05-13T00:00:00.000000000",
          "2013-05-14T00:00:00.000000000",
          "2013-05-15T00:00:00.000000000",
          "2013-05-16T00:00:00.000000000",
          "2013-05-17T00:00:00.000000000",
          "2013-05-18T00:00:00.000000000",
          "2013-05-19T00:00:00.000000000",
          "2013-05-20T00:00:00.000000000",
          "2013-05-21T00:00:00.000000000",
          "2013-05-22T00:00:00.000000000",
          "2013-05-23T00:00:00.000000000",
          "2013-05-24T00:00:00.000000000",
          "2013-05-25T00:00:00.000000000",
          "2013-05-26T00:00:00.000000000",
          "2013-05-27T00:00:00.000000000",
          "2013-05-28T00:00:00.000000000",
          "2013-05-29T00:00:00.000000000",
          "2013-05-30T00:00:00.000000000",
          "2013-05-31T00:00:00.000000000",
          "2013-06-01T00:00:00.000000000",
          "2013-06-02T00:00:00.000000000",
          "2013-06-03T00:00:00.000000000",
          "2013-06-04T00:00:00.000000000",
          "2013-06-05T00:00:00.000000000",
          "2013-06-06T00:00:00.000000000",
          "2013-06-07T00:00:00.000000000",
          "2013-06-08T00:00:00.000000000",
          "2013-06-09T00:00:00.000000000",
          "2013-06-10T00:00:00.000000000",
          "2013-06-11T00:00:00.000000000",
          "2013-06-12T00:00:00.000000000",
          "2013-06-13T00:00:00.000000000",
          "2013-06-14T00:00:00.000000000",
          "2013-06-15T00:00:00.000000000",
          "2013-06-16T00:00:00.000000000",
          "2013-06-17T00:00:00.000000000",
          "2013-06-18T00:00:00.000000000",
          "2013-06-19T00:00:00.000000000",
          "2013-06-20T00:00:00.000000000",
          "2013-06-21T00:00:00.000000000",
          "2013-06-22T00:00:00.000000000",
          "2013-06-23T00:00:00.000000000",
          "2013-06-24T00:00:00.000000000",
          "2013-06-25T00:00:00.000000000",
          "2013-06-26T00:00:00.000000000",
          "2013-06-27T00:00:00.000000000",
          "2013-06-28T00:00:00.000000000",
          "2013-06-29T00:00:00.000000000",
          "2013-06-30T00:00:00.000000000",
          "2013-07-01T00:00:00.000000000",
          "2013-07-02T00:00:00.000000000",
          "2013-07-03T00:00:00.000000000",
          "2013-07-04T00:00:00.000000000",
          "2013-07-05T00:00:00.000000000",
          "2013-07-06T00:00:00.000000000",
          "2013-07-07T00:00:00.000000000",
          "2013-07-08T00:00:00.000000000",
          "2013-07-09T00:00:00.000000000",
          "2013-07-10T00:00:00.000000000",
          "2013-07-11T00:00:00.000000000",
          "2013-07-12T00:00:00.000000000",
          "2013-07-13T00:00:00.000000000",
          "2013-07-14T00:00:00.000000000",
          "2013-07-15T00:00:00.000000000",
          "2013-07-16T00:00:00.000000000",
          "2013-07-17T00:00:00.000000000",
          "2013-07-18T00:00:00.000000000",
          "2013-07-19T00:00:00.000000000",
          "2013-07-20T00:00:00.000000000",
          "2013-07-21T00:00:00.000000000",
          "2013-07-22T00:00:00.000000000",
          "2013-07-23T00:00:00.000000000",
          "2013-07-24T00:00:00.000000000",
          "2013-07-25T00:00:00.000000000",
          "2013-07-26T00:00:00.000000000",
          "2013-07-27T00:00:00.000000000",
          "2013-07-28T00:00:00.000000000",
          "2013-07-29T00:00:00.000000000",
          "2013-07-30T00:00:00.000000000",
          "2013-07-31T00:00:00.000000000",
          "2013-08-01T00:00:00.000000000",
          "2013-08-02T00:00:00.000000000",
          "2013-08-03T00:00:00.000000000",
          "2013-08-04T00:00:00.000000000",
          "2013-08-05T00:00:00.000000000",
          "2013-08-06T00:00:00.000000000",
          "2013-08-07T00:00:00.000000000",
          "2013-08-08T00:00:00.000000000",
          "2013-08-09T00:00:00.000000000",
          "2013-08-10T00:00:00.000000000",
          "2013-08-11T00:00:00.000000000",
          "2013-08-12T00:00:00.000000000",
          "2013-08-13T00:00:00.000000000",
          "2013-08-14T00:00:00.000000000",
          "2013-08-15T00:00:00.000000000",
          "2013-08-16T00:00:00.000000000",
          "2013-08-17T00:00:00.000000000",
          "2013-08-18T00:00:00.000000000",
          "2013-08-19T00:00:00.000000000",
          "2013-08-20T00:00:00.000000000",
          "2013-08-21T00:00:00.000000000",
          "2013-08-22T00:00:00.000000000",
          "2013-08-23T00:00:00.000000000",
          "2013-08-24T00:00:00.000000000",
          "2013-08-25T00:00:00.000000000",
          "2013-08-26T00:00:00.000000000",
          "2013-08-27T00:00:00.000000000",
          "2013-08-28T00:00:00.000000000",
          "2013-08-29T00:00:00.000000000",
          "2013-08-30T00:00:00.000000000",
          "2013-08-31T00:00:00.000000000",
          "2013-09-01T00:00:00.000000000",
          "2013-09-02T00:00:00.000000000",
          "2013-09-03T00:00:00.000000000",
          "2013-09-04T00:00:00.000000000",
          "2013-09-05T00:00:00.000000000",
          "2013-09-06T00:00:00.000000000",
          "2013-09-07T00:00:00.000000000",
          "2013-09-08T00:00:00.000000000",
          "2013-09-09T00:00:00.000000000",
          "2013-09-10T00:00:00.000000000",
          "2013-09-11T00:00:00.000000000",
          "2013-09-12T00:00:00.000000000",
          "2013-09-13T00:00:00.000000000",
          "2013-09-14T00:00:00.000000000",
          "2013-09-15T00:00:00.000000000",
          "2013-09-16T00:00:00.000000000",
          "2013-09-17T00:00:00.000000000",
          "2013-09-18T00:00:00.000000000",
          "2013-09-19T00:00:00.000000000",
          "2013-09-20T00:00:00.000000000",
          "2013-09-21T00:00:00.000000000",
          "2013-09-22T00:00:00.000000000",
          "2013-09-23T00:00:00.000000000",
          "2013-09-24T00:00:00.000000000",
          "2013-09-25T00:00:00.000000000",
          "2013-09-26T00:00:00.000000000",
          "2013-09-27T00:00:00.000000000",
          "2013-09-28T00:00:00.000000000",
          "2013-09-29T00:00:00.000000000",
          "2013-09-30T00:00:00.000000000",
          "2013-10-01T00:00:00.000000000",
          "2013-10-02T00:00:00.000000000",
          "2013-10-03T00:00:00.000000000",
          "2013-10-04T00:00:00.000000000",
          "2013-10-05T00:00:00.000000000",
          "2013-10-06T00:00:00.000000000",
          "2013-10-07T00:00:00.000000000",
          "2013-10-08T00:00:00.000000000",
          "2013-10-09T00:00:00.000000000",
          "2013-10-10T00:00:00.000000000",
          "2013-10-11T00:00:00.000000000",
          "2013-10-12T00:00:00.000000000",
          "2013-10-13T00:00:00.000000000",
          "2013-10-14T00:00:00.000000000",
          "2013-10-15T00:00:00.000000000",
          "2013-10-16T00:00:00.000000000",
          "2013-10-17T00:00:00.000000000",
          "2013-10-18T00:00:00.000000000",
          "2013-10-19T00:00:00.000000000",
          "2013-10-20T00:00:00.000000000",
          "2013-10-21T00:00:00.000000000",
          "2013-10-22T00:00:00.000000000",
          "2013-10-23T00:00:00.000000000",
          "2013-10-24T00:00:00.000000000",
          "2013-10-25T00:00:00.000000000",
          "2013-10-26T00:00:00.000000000",
          "2013-10-27T00:00:00.000000000",
          "2013-10-28T00:00:00.000000000",
          "2013-10-29T00:00:00.000000000",
          "2013-10-30T00:00:00.000000000",
          "2013-10-31T00:00:00.000000000",
          "2013-11-01T00:00:00.000000000",
          "2013-11-02T00:00:00.000000000",
          "2013-11-03T00:00:00.000000000",
          "2013-11-04T00:00:00.000000000",
          "2013-11-05T00:00:00.000000000",
          "2013-11-06T00:00:00.000000000",
          "2013-11-07T00:00:00.000000000",
          "2013-11-08T00:00:00.000000000",
          "2013-11-09T00:00:00.000000000",
          "2013-11-10T00:00:00.000000000",
          "2013-11-11T00:00:00.000000000",
          "2013-11-12T00:00:00.000000000",
          "2013-11-13T00:00:00.000000000",
          "2013-11-14T00:00:00.000000000",
          "2013-11-15T00:00:00.000000000",
          "2013-11-16T00:00:00.000000000",
          "2013-11-17T00:00:00.000000000",
          "2013-11-18T00:00:00.000000000",
          "2013-11-19T00:00:00.000000000",
          "2013-11-20T00:00:00.000000000",
          "2013-11-21T00:00:00.000000000",
          "2013-11-22T00:00:00.000000000",
          "2013-11-23T00:00:00.000000000",
          "2013-11-24T00:00:00.000000000",
          "2013-11-25T00:00:00.000000000",
          "2013-11-26T00:00:00.000000000",
          "2013-11-27T00:00:00.000000000",
          "2013-11-28T00:00:00.000000000",
          "2013-11-29T00:00:00.000000000",
          "2013-11-30T00:00:00.000000000",
          "2013-12-01T00:00:00.000000000",
          "2013-12-02T00:00:00.000000000",
          "2013-12-03T00:00:00.000000000",
          "2013-12-04T00:00:00.000000000",
          "2013-12-05T00:00:00.000000000",
          "2013-12-06T00:00:00.000000000",
          "2013-12-07T00:00:00.000000000",
          "2013-12-08T00:00:00.000000000",
          "2013-12-09T00:00:00.000000000",
          "2013-12-10T00:00:00.000000000",
          "2013-12-11T00:00:00.000000000",
          "2013-12-12T00:00:00.000000000",
          "2013-12-13T00:00:00.000000000",
          "2013-12-14T00:00:00.000000000",
          "2013-12-15T00:00:00.000000000",
          "2013-12-16T00:00:00.000000000",
          "2013-12-17T00:00:00.000000000",
          "2013-12-18T00:00:00.000000000",
          "2013-12-19T00:00:00.000000000",
          "2013-12-20T00:00:00.000000000",
          "2013-12-21T00:00:00.000000000",
          "2013-12-22T00:00:00.000000000",
          "2013-12-23T00:00:00.000000000",
          "2013-12-24T00:00:00.000000000",
          "2013-12-26T00:00:00.000000000",
          "2013-12-27T00:00:00.000000000",
          "2013-12-28T00:00:00.000000000",
          "2013-12-29T00:00:00.000000000",
          "2013-12-30T00:00:00.000000000",
          "2013-12-31T00:00:00.000000000",
          "2014-01-01T00:00:00.000000000",
          "2014-01-02T00:00:00.000000000",
          "2014-01-03T00:00:00.000000000",
          "2014-01-04T00:00:00.000000000",
          "2014-01-05T00:00:00.000000000",
          "2014-01-06T00:00:00.000000000",
          "2014-01-07T00:00:00.000000000",
          "2014-01-08T00:00:00.000000000",
          "2014-01-09T00:00:00.000000000",
          "2014-01-10T00:00:00.000000000",
          "2014-01-11T00:00:00.000000000",
          "2014-01-12T00:00:00.000000000",
          "2014-01-13T00:00:00.000000000",
          "2014-01-14T00:00:00.000000000",
          "2014-01-15T00:00:00.000000000",
          "2014-01-16T00:00:00.000000000",
          "2014-01-17T00:00:00.000000000",
          "2014-01-18T00:00:00.000000000",
          "2014-01-19T00:00:00.000000000",
          "2014-01-20T00:00:00.000000000",
          "2014-01-21T00:00:00.000000000",
          "2014-01-22T00:00:00.000000000",
          "2014-01-23T00:00:00.000000000",
          "2014-01-24T00:00:00.000000000",
          "2014-01-25T00:00:00.000000000",
          "2014-01-26T00:00:00.000000000",
          "2014-01-27T00:00:00.000000000",
          "2014-01-28T00:00:00.000000000",
          "2014-01-29T00:00:00.000000000",
          "2014-01-30T00:00:00.000000000",
          "2014-01-31T00:00:00.000000000",
          "2014-02-01T00:00:00.000000000",
          "2014-02-02T00:00:00.000000000",
          "2014-02-03T00:00:00.000000000",
          "2014-02-04T00:00:00.000000000",
          "2014-02-05T00:00:00.000000000",
          "2014-02-06T00:00:00.000000000",
          "2014-02-07T00:00:00.000000000",
          "2014-02-08T00:00:00.000000000",
          "2014-02-09T00:00:00.000000000",
          "2014-02-10T00:00:00.000000000",
          "2014-02-11T00:00:00.000000000",
          "2014-02-12T00:00:00.000000000",
          "2014-02-13T00:00:00.000000000",
          "2014-02-14T00:00:00.000000000",
          "2014-02-15T00:00:00.000000000",
          "2014-02-16T00:00:00.000000000",
          "2014-02-17T00:00:00.000000000",
          "2014-02-18T00:00:00.000000000",
          "2014-02-19T00:00:00.000000000",
          "2014-02-20T00:00:00.000000000",
          "2014-02-21T00:00:00.000000000",
          "2014-02-22T00:00:00.000000000",
          "2014-02-23T00:00:00.000000000",
          "2014-02-24T00:00:00.000000000",
          "2014-02-25T00:00:00.000000000",
          "2014-02-26T00:00:00.000000000",
          "2014-02-27T00:00:00.000000000",
          "2014-02-28T00:00:00.000000000",
          "2014-03-01T00:00:00.000000000",
          "2014-03-02T00:00:00.000000000",
          "2014-03-03T00:00:00.000000000",
          "2014-03-04T00:00:00.000000000",
          "2014-03-05T00:00:00.000000000",
          "2014-03-06T00:00:00.000000000",
          "2014-03-07T00:00:00.000000000",
          "2014-03-08T00:00:00.000000000",
          "2014-03-09T00:00:00.000000000",
          "2014-03-10T00:00:00.000000000",
          "2014-03-11T00:00:00.000000000",
          "2014-03-12T00:00:00.000000000",
          "2014-03-13T00:00:00.000000000",
          "2014-03-14T00:00:00.000000000",
          "2014-03-15T00:00:00.000000000",
          "2014-03-16T00:00:00.000000000",
          "2014-03-17T00:00:00.000000000",
          "2014-03-18T00:00:00.000000000",
          "2014-03-19T00:00:00.000000000",
          "2014-03-20T00:00:00.000000000",
          "2014-03-21T00:00:00.000000000",
          "2014-03-22T00:00:00.000000000",
          "2014-03-23T00:00:00.000000000",
          "2014-03-24T00:00:00.000000000",
          "2014-03-25T00:00:00.000000000",
          "2014-03-26T00:00:00.000000000",
          "2014-03-27T00:00:00.000000000",
          "2014-03-28T00:00:00.000000000",
          "2014-03-29T00:00:00.000000000",
          "2014-03-30T00:00:00.000000000",
          "2014-03-31T00:00:00.000000000",
          "2014-04-01T00:00:00.000000000",
          "2014-04-02T00:00:00.000000000",
          "2014-04-03T00:00:00.000000000",
          "2014-04-04T00:00:00.000000000",
          "2014-04-05T00:00:00.000000000",
          "2014-04-06T00:00:00.000000000",
          "2014-04-07T00:00:00.000000000",
          "2014-04-08T00:00:00.000000000",
          "2014-04-09T00:00:00.000000000",
          "2014-04-10T00:00:00.000000000",
          "2014-04-11T00:00:00.000000000",
          "2014-04-12T00:00:00.000000000",
          "2014-04-13T00:00:00.000000000",
          "2014-04-14T00:00:00.000000000",
          "2014-04-15T00:00:00.000000000",
          "2014-04-16T00:00:00.000000000",
          "2014-04-17T00:00:00.000000000",
          "2014-04-18T00:00:00.000000000",
          "2014-04-19T00:00:00.000000000",
          "2014-04-20T00:00:00.000000000",
          "2014-04-21T00:00:00.000000000",
          "2014-04-22T00:00:00.000000000",
          "2014-04-23T00:00:00.000000000",
          "2014-04-24T00:00:00.000000000",
          "2014-04-25T00:00:00.000000000",
          "2014-04-26T00:00:00.000000000",
          "2014-04-27T00:00:00.000000000",
          "2014-04-28T00:00:00.000000000",
          "2014-04-29T00:00:00.000000000",
          "2014-04-30T00:00:00.000000000",
          "2014-05-01T00:00:00.000000000",
          "2014-05-02T00:00:00.000000000",
          "2014-05-03T00:00:00.000000000",
          "2014-05-04T00:00:00.000000000",
          "2014-05-05T00:00:00.000000000",
          "2014-05-06T00:00:00.000000000",
          "2014-05-07T00:00:00.000000000",
          "2014-05-08T00:00:00.000000000",
          "2014-05-09T00:00:00.000000000",
          "2014-05-10T00:00:00.000000000",
          "2014-05-11T00:00:00.000000000",
          "2014-05-12T00:00:00.000000000",
          "2014-05-13T00:00:00.000000000",
          "2014-05-14T00:00:00.000000000",
          "2014-05-15T00:00:00.000000000",
          "2014-05-16T00:00:00.000000000",
          "2014-05-17T00:00:00.000000000",
          "2014-05-18T00:00:00.000000000",
          "2014-05-19T00:00:00.000000000",
          "2014-05-20T00:00:00.000000000",
          "2014-05-21T00:00:00.000000000",
          "2014-05-22T00:00:00.000000000",
          "2014-05-23T00:00:00.000000000",
          "2014-05-24T00:00:00.000000000",
          "2014-05-25T00:00:00.000000000",
          "2014-05-26T00:00:00.000000000",
          "2014-05-27T00:00:00.000000000",
          "2014-05-28T00:00:00.000000000",
          "2014-05-29T00:00:00.000000000",
          "2014-05-30T00:00:00.000000000",
          "2014-05-31T00:00:00.000000000",
          "2014-06-01T00:00:00.000000000",
          "2014-06-02T00:00:00.000000000",
          "2014-06-03T00:00:00.000000000",
          "2014-06-04T00:00:00.000000000",
          "2014-06-05T00:00:00.000000000",
          "2014-06-06T00:00:00.000000000",
          "2014-06-07T00:00:00.000000000",
          "2014-06-08T00:00:00.000000000",
          "2014-06-09T00:00:00.000000000",
          "2014-06-10T00:00:00.000000000",
          "2014-06-11T00:00:00.000000000",
          "2014-06-12T00:00:00.000000000",
          "2014-06-13T00:00:00.000000000",
          "2014-06-14T00:00:00.000000000",
          "2014-06-15T00:00:00.000000000",
          "2014-06-16T00:00:00.000000000",
          "2014-06-17T00:00:00.000000000",
          "2014-06-18T00:00:00.000000000",
          "2014-06-19T00:00:00.000000000",
          "2014-06-20T00:00:00.000000000",
          "2014-06-21T00:00:00.000000000",
          "2014-06-22T00:00:00.000000000",
          "2014-06-23T00:00:00.000000000",
          "2014-06-24T00:00:00.000000000",
          "2014-06-25T00:00:00.000000000",
          "2014-06-26T00:00:00.000000000",
          "2014-06-27T00:00:00.000000000",
          "2014-06-28T00:00:00.000000000",
          "2014-06-29T00:00:00.000000000",
          "2014-06-30T00:00:00.000000000",
          "2014-07-01T00:00:00.000000000",
          "2014-07-02T00:00:00.000000000",
          "2014-07-03T00:00:00.000000000",
          "2014-07-04T00:00:00.000000000",
          "2014-07-05T00:00:00.000000000",
          "2014-07-06T00:00:00.000000000",
          "2014-07-07T00:00:00.000000000",
          "2014-07-08T00:00:00.000000000",
          "2014-07-09T00:00:00.000000000",
          "2014-07-10T00:00:00.000000000",
          "2014-07-11T00:00:00.000000000",
          "2014-07-12T00:00:00.000000000",
          "2014-07-13T00:00:00.000000000",
          "2014-07-14T00:00:00.000000000",
          "2014-07-15T00:00:00.000000000",
          "2014-07-16T00:00:00.000000000",
          "2014-07-17T00:00:00.000000000",
          "2014-07-18T00:00:00.000000000",
          "2014-07-19T00:00:00.000000000",
          "2014-07-20T00:00:00.000000000",
          "2014-07-21T00:00:00.000000000",
          "2014-07-22T00:00:00.000000000",
          "2014-07-23T00:00:00.000000000",
          "2014-07-24T00:00:00.000000000",
          "2014-07-25T00:00:00.000000000",
          "2014-07-26T00:00:00.000000000",
          "2014-07-27T00:00:00.000000000",
          "2014-07-28T00:00:00.000000000",
          "2014-07-29T00:00:00.000000000",
          "2014-07-30T00:00:00.000000000",
          "2014-07-31T00:00:00.000000000",
          "2014-08-01T00:00:00.000000000",
          "2014-08-02T00:00:00.000000000",
          "2014-08-03T00:00:00.000000000",
          "2014-08-04T00:00:00.000000000",
          "2014-08-05T00:00:00.000000000",
          "2014-08-06T00:00:00.000000000",
          "2014-08-07T00:00:00.000000000",
          "2014-08-08T00:00:00.000000000",
          "2014-08-09T00:00:00.000000000",
          "2014-08-10T00:00:00.000000000",
          "2014-08-11T00:00:00.000000000",
          "2014-08-12T00:00:00.000000000",
          "2014-08-13T00:00:00.000000000",
          "2014-08-14T00:00:00.000000000",
          "2014-08-15T00:00:00.000000000",
          "2014-08-16T00:00:00.000000000",
          "2014-08-17T00:00:00.000000000",
          "2014-08-18T00:00:00.000000000",
          "2014-08-19T00:00:00.000000000",
          "2014-08-20T00:00:00.000000000",
          "2014-08-21T00:00:00.000000000",
          "2014-08-22T00:00:00.000000000",
          "2014-08-23T00:00:00.000000000",
          "2014-08-24T00:00:00.000000000",
          "2014-08-25T00:00:00.000000000",
          "2014-08-26T00:00:00.000000000",
          "2014-08-27T00:00:00.000000000",
          "2014-08-28T00:00:00.000000000",
          "2014-08-29T00:00:00.000000000",
          "2014-08-30T00:00:00.000000000",
          "2014-08-31T00:00:00.000000000",
          "2014-09-01T00:00:00.000000000",
          "2014-09-02T00:00:00.000000000",
          "2014-09-03T00:00:00.000000000",
          "2014-09-04T00:00:00.000000000",
          "2014-09-05T00:00:00.000000000",
          "2014-09-06T00:00:00.000000000",
          "2014-09-07T00:00:00.000000000",
          "2014-09-08T00:00:00.000000000",
          "2014-09-09T00:00:00.000000000",
          "2014-09-10T00:00:00.000000000",
          "2014-09-11T00:00:00.000000000",
          "2014-09-12T00:00:00.000000000",
          "2014-09-13T00:00:00.000000000",
          "2014-09-14T00:00:00.000000000",
          "2014-09-15T00:00:00.000000000",
          "2014-09-16T00:00:00.000000000",
          "2014-09-17T00:00:00.000000000",
          "2014-09-18T00:00:00.000000000",
          "2014-09-19T00:00:00.000000000",
          "2014-09-20T00:00:00.000000000",
          "2014-09-21T00:00:00.000000000",
          "2014-09-22T00:00:00.000000000",
          "2014-09-23T00:00:00.000000000",
          "2014-09-24T00:00:00.000000000",
          "2014-09-25T00:00:00.000000000",
          "2014-09-26T00:00:00.000000000",
          "2014-09-27T00:00:00.000000000",
          "2014-09-28T00:00:00.000000000",
          "2014-09-29T00:00:00.000000000",
          "2014-09-30T00:00:00.000000000",
          "2014-10-01T00:00:00.000000000",
          "2014-10-02T00:00:00.000000000",
          "2014-10-03T00:00:00.000000000",
          "2014-10-04T00:00:00.000000000",
          "2014-10-05T00:00:00.000000000",
          "2014-10-06T00:00:00.000000000",
          "2014-10-07T00:00:00.000000000",
          "2014-10-08T00:00:00.000000000",
          "2014-10-09T00:00:00.000000000",
          "2014-10-10T00:00:00.000000000",
          "2014-10-11T00:00:00.000000000",
          "2014-10-12T00:00:00.000000000",
          "2014-10-13T00:00:00.000000000",
          "2014-10-14T00:00:00.000000000",
          "2014-10-15T00:00:00.000000000",
          "2014-10-16T00:00:00.000000000",
          "2014-10-17T00:00:00.000000000",
          "2014-10-18T00:00:00.000000000",
          "2014-10-19T00:00:00.000000000",
          "2014-10-20T00:00:00.000000000",
          "2014-10-21T00:00:00.000000000",
          "2014-10-22T00:00:00.000000000",
          "2014-10-23T00:00:00.000000000",
          "2014-10-24T00:00:00.000000000",
          "2014-10-25T00:00:00.000000000",
          "2014-10-26T00:00:00.000000000",
          "2014-10-27T00:00:00.000000000",
          "2014-10-28T00:00:00.000000000",
          "2014-10-29T00:00:00.000000000",
          "2014-10-30T00:00:00.000000000",
          "2014-10-31T00:00:00.000000000",
          "2014-11-01T00:00:00.000000000",
          "2014-11-02T00:00:00.000000000",
          "2014-11-03T00:00:00.000000000",
          "2014-11-04T00:00:00.000000000",
          "2014-11-05T00:00:00.000000000",
          "2014-11-06T00:00:00.000000000",
          "2014-11-07T00:00:00.000000000",
          "2014-11-08T00:00:00.000000000",
          "2014-11-09T00:00:00.000000000",
          "2014-11-10T00:00:00.000000000",
          "2014-11-11T00:00:00.000000000",
          "2014-11-12T00:00:00.000000000",
          "2014-11-13T00:00:00.000000000",
          "2014-11-14T00:00:00.000000000",
          "2014-11-15T00:00:00.000000000",
          "2014-11-16T00:00:00.000000000",
          "2014-11-17T00:00:00.000000000",
          "2014-11-18T00:00:00.000000000",
          "2014-11-19T00:00:00.000000000",
          "2014-11-20T00:00:00.000000000",
          "2014-11-21T00:00:00.000000000",
          "2014-11-22T00:00:00.000000000",
          "2014-11-23T00:00:00.000000000",
          "2014-11-24T00:00:00.000000000",
          "2014-11-25T00:00:00.000000000",
          "2014-11-26T00:00:00.000000000",
          "2014-11-27T00:00:00.000000000",
          "2014-11-28T00:00:00.000000000",
          "2014-11-29T00:00:00.000000000",
          "2014-11-30T00:00:00.000000000",
          "2014-12-01T00:00:00.000000000",
          "2014-12-02T00:00:00.000000000",
          "2014-12-03T00:00:00.000000000",
          "2014-12-04T00:00:00.000000000",
          "2014-12-05T00:00:00.000000000",
          "2014-12-06T00:00:00.000000000",
          "2014-12-07T00:00:00.000000000",
          "2014-12-08T00:00:00.000000000",
          "2014-12-09T00:00:00.000000000",
          "2014-12-10T00:00:00.000000000",
          "2014-12-11T00:00:00.000000000",
          "2014-12-12T00:00:00.000000000",
          "2014-12-13T00:00:00.000000000",
          "2014-12-14T00:00:00.000000000",
          "2014-12-15T00:00:00.000000000",
          "2014-12-16T00:00:00.000000000",
          "2014-12-17T00:00:00.000000000",
          "2014-12-18T00:00:00.000000000",
          "2014-12-19T00:00:00.000000000",
          "2014-12-20T00:00:00.000000000",
          "2014-12-21T00:00:00.000000000",
          "2014-12-22T00:00:00.000000000",
          "2014-12-23T00:00:00.000000000",
          "2014-12-24T00:00:00.000000000",
          "2014-12-26T00:00:00.000000000",
          "2014-12-27T00:00:00.000000000",
          "2014-12-28T00:00:00.000000000",
          "2014-12-29T00:00:00.000000000",
          "2014-12-30T00:00:00.000000000",
          "2014-12-31T00:00:00.000000000",
          "2015-01-01T00:00:00.000000000",
          "2015-01-02T00:00:00.000000000",
          "2015-01-03T00:00:00.000000000",
          "2015-01-04T00:00:00.000000000",
          "2015-01-05T00:00:00.000000000",
          "2015-01-06T00:00:00.000000000",
          "2015-01-07T00:00:00.000000000",
          "2015-01-08T00:00:00.000000000",
          "2015-01-09T00:00:00.000000000",
          "2015-01-10T00:00:00.000000000",
          "2015-01-11T00:00:00.000000000",
          "2015-01-12T00:00:00.000000000",
          "2015-01-13T00:00:00.000000000",
          "2015-01-14T00:00:00.000000000",
          "2015-01-15T00:00:00.000000000",
          "2015-01-16T00:00:00.000000000",
          "2015-01-17T00:00:00.000000000",
          "2015-01-18T00:00:00.000000000",
          "2015-01-19T00:00:00.000000000",
          "2015-01-20T00:00:00.000000000",
          "2015-01-21T00:00:00.000000000",
          "2015-01-22T00:00:00.000000000",
          "2015-01-23T00:00:00.000000000",
          "2015-01-24T00:00:00.000000000",
          "2015-01-25T00:00:00.000000000",
          "2015-01-26T00:00:00.000000000",
          "2015-01-27T00:00:00.000000000",
          "2015-01-28T00:00:00.000000000",
          "2015-01-29T00:00:00.000000000",
          "2015-01-30T00:00:00.000000000",
          "2015-01-31T00:00:00.000000000",
          "2015-02-01T00:00:00.000000000",
          "2015-02-02T00:00:00.000000000",
          "2015-02-03T00:00:00.000000000",
          "2015-02-04T00:00:00.000000000",
          "2015-02-05T00:00:00.000000000",
          "2015-02-06T00:00:00.000000000",
          "2015-02-07T00:00:00.000000000",
          "2015-02-08T00:00:00.000000000",
          "2015-02-09T00:00:00.000000000",
          "2015-02-10T00:00:00.000000000",
          "2015-02-11T00:00:00.000000000",
          "2015-02-12T00:00:00.000000000",
          "2015-02-13T00:00:00.000000000",
          "2015-02-14T00:00:00.000000000",
          "2015-02-15T00:00:00.000000000",
          "2015-02-16T00:00:00.000000000",
          "2015-02-17T00:00:00.000000000",
          "2015-02-18T00:00:00.000000000",
          "2015-02-19T00:00:00.000000000",
          "2015-02-20T00:00:00.000000000",
          "2015-02-21T00:00:00.000000000",
          "2015-02-22T00:00:00.000000000",
          "2015-02-23T00:00:00.000000000",
          "2015-02-24T00:00:00.000000000",
          "2015-02-25T00:00:00.000000000",
          "2015-02-26T00:00:00.000000000",
          "2015-02-27T00:00:00.000000000",
          "2015-02-28T00:00:00.000000000",
          "2015-03-01T00:00:00.000000000",
          "2015-03-02T00:00:00.000000000",
          "2015-03-03T00:00:00.000000000",
          "2015-03-04T00:00:00.000000000",
          "2015-03-05T00:00:00.000000000",
          "2015-03-06T00:00:00.000000000",
          "2015-03-07T00:00:00.000000000",
          "2015-03-08T00:00:00.000000000",
          "2015-03-09T00:00:00.000000000",
          "2015-03-10T00:00:00.000000000",
          "2015-03-11T00:00:00.000000000",
          "2015-03-12T00:00:00.000000000",
          "2015-03-13T00:00:00.000000000",
          "2015-03-14T00:00:00.000000000",
          "2015-03-15T00:00:00.000000000",
          "2015-03-16T00:00:00.000000000",
          "2015-03-17T00:00:00.000000000",
          "2015-03-18T00:00:00.000000000",
          "2015-03-19T00:00:00.000000000",
          "2015-03-20T00:00:00.000000000",
          "2015-03-21T00:00:00.000000000",
          "2015-03-22T00:00:00.000000000",
          "2015-03-23T00:00:00.000000000",
          "2015-03-24T00:00:00.000000000",
          "2015-03-25T00:00:00.000000000",
          "2015-03-26T00:00:00.000000000",
          "2015-03-27T00:00:00.000000000",
          "2015-03-28T00:00:00.000000000",
          "2015-03-29T00:00:00.000000000",
          "2015-03-30T00:00:00.000000000",
          "2015-03-31T00:00:00.000000000",
          "2015-04-01T00:00:00.000000000",
          "2015-04-02T00:00:00.000000000",
          "2015-04-03T00:00:00.000000000",
          "2015-04-04T00:00:00.000000000",
          "2015-04-05T00:00:00.000000000",
          "2015-04-06T00:00:00.000000000",
          "2015-04-07T00:00:00.000000000",
          "2015-04-08T00:00:00.000000000",
          "2015-04-09T00:00:00.000000000",
          "2015-04-10T00:00:00.000000000",
          "2015-04-11T00:00:00.000000000",
          "2015-04-12T00:00:00.000000000",
          "2015-04-13T00:00:00.000000000",
          "2015-04-14T00:00:00.000000000",
          "2015-04-15T00:00:00.000000000",
          "2015-04-16T00:00:00.000000000",
          "2015-04-17T00:00:00.000000000",
          "2015-04-18T00:00:00.000000000",
          "2015-04-19T00:00:00.000000000",
          "2015-04-20T00:00:00.000000000",
          "2015-04-21T00:00:00.000000000",
          "2015-04-22T00:00:00.000000000",
          "2015-04-23T00:00:00.000000000",
          "2015-04-24T00:00:00.000000000",
          "2015-04-25T00:00:00.000000000",
          "2015-04-26T00:00:00.000000000",
          "2015-04-27T00:00:00.000000000",
          "2015-04-28T00:00:00.000000000",
          "2015-04-29T00:00:00.000000000",
          "2015-04-30T00:00:00.000000000",
          "2015-05-01T00:00:00.000000000",
          "2015-05-02T00:00:00.000000000",
          "2015-05-03T00:00:00.000000000",
          "2015-05-04T00:00:00.000000000",
          "2015-05-05T00:00:00.000000000",
          "2015-05-06T00:00:00.000000000",
          "2015-05-07T00:00:00.000000000",
          "2015-05-08T00:00:00.000000000",
          "2015-05-09T00:00:00.000000000",
          "2015-05-10T00:00:00.000000000",
          "2015-05-11T00:00:00.000000000",
          "2015-05-12T00:00:00.000000000",
          "2015-05-13T00:00:00.000000000",
          "2015-05-14T00:00:00.000000000",
          "2015-05-15T00:00:00.000000000",
          "2015-05-16T00:00:00.000000000",
          "2015-05-17T00:00:00.000000000",
          "2015-05-18T00:00:00.000000000",
          "2015-05-19T00:00:00.000000000",
          "2015-05-20T00:00:00.000000000",
          "2015-05-21T00:00:00.000000000",
          "2015-05-22T00:00:00.000000000",
          "2015-05-23T00:00:00.000000000",
          "2015-05-24T00:00:00.000000000",
          "2015-05-25T00:00:00.000000000",
          "2015-05-26T00:00:00.000000000",
          "2015-05-27T00:00:00.000000000",
          "2015-05-28T00:00:00.000000000",
          "2015-05-29T00:00:00.000000000",
          "2015-05-30T00:00:00.000000000",
          "2015-05-31T00:00:00.000000000",
          "2015-06-01T00:00:00.000000000",
          "2015-06-02T00:00:00.000000000",
          "2015-06-03T00:00:00.000000000",
          "2015-06-04T00:00:00.000000000",
          "2015-06-05T00:00:00.000000000",
          "2015-06-06T00:00:00.000000000",
          "2015-06-07T00:00:00.000000000",
          "2015-06-08T00:00:00.000000000",
          "2015-06-09T00:00:00.000000000",
          "2015-06-10T00:00:00.000000000",
          "2015-06-11T00:00:00.000000000",
          "2015-06-12T00:00:00.000000000",
          "2015-06-13T00:00:00.000000000",
          "2015-06-14T00:00:00.000000000",
          "2015-06-15T00:00:00.000000000",
          "2015-06-16T00:00:00.000000000",
          "2015-06-17T00:00:00.000000000",
          "2015-06-18T00:00:00.000000000",
          "2015-06-19T00:00:00.000000000",
          "2015-06-20T00:00:00.000000000",
          "2015-06-21T00:00:00.000000000",
          "2015-06-22T00:00:00.000000000",
          "2015-06-23T00:00:00.000000000",
          "2015-06-24T00:00:00.000000000",
          "2015-06-25T00:00:00.000000000",
          "2015-06-26T00:00:00.000000000",
          "2015-06-27T00:00:00.000000000",
          "2015-06-28T00:00:00.000000000",
          "2015-06-29T00:00:00.000000000",
          "2015-06-30T00:00:00.000000000",
          "2015-07-01T00:00:00.000000000",
          "2015-07-02T00:00:00.000000000",
          "2015-07-03T00:00:00.000000000",
          "2015-07-04T00:00:00.000000000",
          "2015-07-05T00:00:00.000000000",
          "2015-07-06T00:00:00.000000000",
          "2015-07-07T00:00:00.000000000",
          "2015-07-08T00:00:00.000000000",
          "2015-07-09T00:00:00.000000000",
          "2015-07-10T00:00:00.000000000",
          "2015-07-11T00:00:00.000000000",
          "2015-07-12T00:00:00.000000000",
          "2015-07-13T00:00:00.000000000",
          "2015-07-14T00:00:00.000000000",
          "2015-07-15T00:00:00.000000000",
          "2015-07-16T00:00:00.000000000",
          "2015-07-17T00:00:00.000000000",
          "2015-07-18T00:00:00.000000000",
          "2015-07-19T00:00:00.000000000",
          "2015-07-20T00:00:00.000000000",
          "2015-07-21T00:00:00.000000000",
          "2015-07-22T00:00:00.000000000",
          "2015-07-23T00:00:00.000000000",
          "2015-07-24T00:00:00.000000000",
          "2015-07-25T00:00:00.000000000",
          "2015-07-26T00:00:00.000000000",
          "2015-07-27T00:00:00.000000000",
          "2015-07-28T00:00:00.000000000",
          "2015-07-29T00:00:00.000000000",
          "2015-07-30T00:00:00.000000000",
          "2015-07-31T00:00:00.000000000",
          "2015-08-01T00:00:00.000000000",
          "2015-08-02T00:00:00.000000000",
          "2015-08-03T00:00:00.000000000",
          "2015-08-04T00:00:00.000000000",
          "2015-08-05T00:00:00.000000000",
          "2015-08-06T00:00:00.000000000",
          "2015-08-07T00:00:00.000000000",
          "2015-08-08T00:00:00.000000000",
          "2015-08-09T00:00:00.000000000",
          "2015-08-10T00:00:00.000000000",
          "2015-08-11T00:00:00.000000000",
          "2015-08-12T00:00:00.000000000",
          "2015-08-13T00:00:00.000000000",
          "2015-08-14T00:00:00.000000000",
          "2015-08-15T00:00:00.000000000",
          "2015-08-16T00:00:00.000000000",
          "2015-08-17T00:00:00.000000000",
          "2015-08-18T00:00:00.000000000",
          "2015-08-19T00:00:00.000000000",
          "2015-08-20T00:00:00.000000000",
          "2015-08-21T00:00:00.000000000",
          "2015-08-22T00:00:00.000000000",
          "2015-08-23T00:00:00.000000000",
          "2015-08-24T00:00:00.000000000",
          "2015-08-25T00:00:00.000000000",
          "2015-08-26T00:00:00.000000000",
          "2015-08-27T00:00:00.000000000",
          "2015-08-28T00:00:00.000000000",
          "2015-08-29T00:00:00.000000000",
          "2015-08-30T00:00:00.000000000",
          "2015-08-31T00:00:00.000000000",
          "2015-09-01T00:00:00.000000000",
          "2015-09-02T00:00:00.000000000",
          "2015-09-03T00:00:00.000000000",
          "2015-09-04T00:00:00.000000000",
          "2015-09-05T00:00:00.000000000",
          "2015-09-06T00:00:00.000000000",
          "2015-09-07T00:00:00.000000000",
          "2015-09-08T00:00:00.000000000",
          "2015-09-09T00:00:00.000000000",
          "2015-09-10T00:00:00.000000000",
          "2015-09-11T00:00:00.000000000",
          "2015-09-12T00:00:00.000000000",
          "2015-09-13T00:00:00.000000000",
          "2015-09-14T00:00:00.000000000",
          "2015-09-15T00:00:00.000000000",
          "2015-09-16T00:00:00.000000000",
          "2015-09-17T00:00:00.000000000",
          "2015-09-18T00:00:00.000000000",
          "2015-09-19T00:00:00.000000000",
          "2015-09-20T00:00:00.000000000",
          "2015-09-21T00:00:00.000000000",
          "2015-09-22T00:00:00.000000000",
          "2015-09-23T00:00:00.000000000",
          "2015-09-24T00:00:00.000000000",
          "2015-09-25T00:00:00.000000000",
          "2015-09-26T00:00:00.000000000",
          "2015-09-27T00:00:00.000000000",
          "2015-09-28T00:00:00.000000000",
          "2015-09-29T00:00:00.000000000",
          "2015-09-30T00:00:00.000000000",
          "2015-10-01T00:00:00.000000000",
          "2015-10-02T00:00:00.000000000",
          "2015-10-03T00:00:00.000000000",
          "2015-10-04T00:00:00.000000000",
          "2015-10-05T00:00:00.000000000",
          "2015-10-06T00:00:00.000000000",
          "2015-10-07T00:00:00.000000000",
          "2015-10-08T00:00:00.000000000",
          "2015-10-09T00:00:00.000000000",
          "2015-10-10T00:00:00.000000000",
          "2015-10-11T00:00:00.000000000",
          "2015-10-12T00:00:00.000000000",
          "2015-10-13T00:00:00.000000000",
          "2015-10-14T00:00:00.000000000",
          "2015-10-15T00:00:00.000000000",
          "2015-10-16T00:00:00.000000000",
          "2015-10-17T00:00:00.000000000",
          "2015-10-18T00:00:00.000000000",
          "2015-10-19T00:00:00.000000000",
          "2015-10-20T00:00:00.000000000",
          "2015-10-21T00:00:00.000000000",
          "2015-10-22T00:00:00.000000000",
          "2015-10-23T00:00:00.000000000",
          "2015-10-24T00:00:00.000000000",
          "2015-10-25T00:00:00.000000000",
          "2015-10-26T00:00:00.000000000",
          "2015-10-27T00:00:00.000000000",
          "2015-10-28T00:00:00.000000000",
          "2015-10-29T00:00:00.000000000",
          "2015-10-30T00:00:00.000000000",
          "2015-10-31T00:00:00.000000000",
          "2015-11-01T00:00:00.000000000",
          "2015-11-02T00:00:00.000000000",
          "2015-11-03T00:00:00.000000000",
          "2015-11-04T00:00:00.000000000",
          "2015-11-05T00:00:00.000000000",
          "2015-11-06T00:00:00.000000000",
          "2015-11-07T00:00:00.000000000",
          "2015-11-08T00:00:00.000000000",
          "2015-11-09T00:00:00.000000000",
          "2015-11-10T00:00:00.000000000",
          "2015-11-11T00:00:00.000000000",
          "2015-11-12T00:00:00.000000000",
          "2015-11-13T00:00:00.000000000",
          "2015-11-14T00:00:00.000000000",
          "2015-11-15T00:00:00.000000000",
          "2015-11-16T00:00:00.000000000",
          "2015-11-17T00:00:00.000000000",
          "2015-11-18T00:00:00.000000000",
          "2015-11-19T00:00:00.000000000",
          "2015-11-20T00:00:00.000000000",
          "2015-11-21T00:00:00.000000000",
          "2015-11-22T00:00:00.000000000",
          "2015-11-23T00:00:00.000000000",
          "2015-11-24T00:00:00.000000000",
          "2015-11-25T00:00:00.000000000",
          "2015-11-26T00:00:00.000000000",
          "2015-11-27T00:00:00.000000000",
          "2015-11-28T00:00:00.000000000",
          "2015-11-29T00:00:00.000000000",
          "2015-11-30T00:00:00.000000000",
          "2015-12-01T00:00:00.000000000",
          "2015-12-02T00:00:00.000000000",
          "2015-12-03T00:00:00.000000000",
          "2015-12-04T00:00:00.000000000",
          "2015-12-05T00:00:00.000000000",
          "2015-12-06T00:00:00.000000000",
          "2015-12-07T00:00:00.000000000",
          "2015-12-08T00:00:00.000000000",
          "2015-12-09T00:00:00.000000000",
          "2015-12-10T00:00:00.000000000",
          "2015-12-11T00:00:00.000000000",
          "2015-12-12T00:00:00.000000000",
          "2015-12-13T00:00:00.000000000",
          "2015-12-14T00:00:00.000000000",
          "2015-12-15T00:00:00.000000000",
          "2015-12-16T00:00:00.000000000",
          "2015-12-17T00:00:00.000000000",
          "2015-12-18T00:00:00.000000000",
          "2015-12-19T00:00:00.000000000",
          "2015-12-20T00:00:00.000000000",
          "2015-12-21T00:00:00.000000000",
          "2015-12-22T00:00:00.000000000",
          "2015-12-23T00:00:00.000000000",
          "2015-12-24T00:00:00.000000000",
          "2015-12-26T00:00:00.000000000",
          "2015-12-27T00:00:00.000000000",
          "2015-12-28T00:00:00.000000000",
          "2015-12-29T00:00:00.000000000",
          "2015-12-30T00:00:00.000000000",
          "2015-12-31T00:00:00.000000000",
          "2016-01-01T00:00:00.000000000",
          "2016-01-02T00:00:00.000000000",
          "2016-01-03T00:00:00.000000000",
          "2016-01-04T00:00:00.000000000",
          "2016-01-05T00:00:00.000000000",
          "2016-01-06T00:00:00.000000000",
          "2016-01-07T00:00:00.000000000",
          "2016-01-08T00:00:00.000000000",
          "2016-01-09T00:00:00.000000000",
          "2016-01-10T00:00:00.000000000",
          "2016-01-11T00:00:00.000000000",
          "2016-01-12T00:00:00.000000000",
          "2016-01-13T00:00:00.000000000",
          "2016-01-14T00:00:00.000000000",
          "2016-01-15T00:00:00.000000000",
          "2016-01-16T00:00:00.000000000",
          "2016-01-17T00:00:00.000000000",
          "2016-01-18T00:00:00.000000000",
          "2016-01-19T00:00:00.000000000",
          "2016-01-20T00:00:00.000000000",
          "2016-01-21T00:00:00.000000000",
          "2016-01-22T00:00:00.000000000",
          "2016-01-23T00:00:00.000000000",
          "2016-01-24T00:00:00.000000000",
          "2016-01-25T00:00:00.000000000",
          "2016-01-26T00:00:00.000000000",
          "2016-01-27T00:00:00.000000000",
          "2016-01-28T00:00:00.000000000",
          "2016-01-29T00:00:00.000000000",
          "2016-01-30T00:00:00.000000000",
          "2016-01-31T00:00:00.000000000",
          "2016-02-01T00:00:00.000000000",
          "2016-02-02T00:00:00.000000000",
          "2016-02-03T00:00:00.000000000",
          "2016-02-04T00:00:00.000000000",
          "2016-02-05T00:00:00.000000000",
          "2016-02-06T00:00:00.000000000",
          "2016-02-07T00:00:00.000000000",
          "2016-02-08T00:00:00.000000000",
          "2016-02-09T00:00:00.000000000",
          "2016-02-10T00:00:00.000000000",
          "2016-02-11T00:00:00.000000000",
          "2016-02-12T00:00:00.000000000",
          "2016-02-13T00:00:00.000000000",
          "2016-02-14T00:00:00.000000000",
          "2016-02-15T00:00:00.000000000",
          "2016-02-16T00:00:00.000000000",
          "2016-02-17T00:00:00.000000000",
          "2016-02-18T00:00:00.000000000",
          "2016-02-19T00:00:00.000000000",
          "2016-02-20T00:00:00.000000000",
          "2016-02-21T00:00:00.000000000",
          "2016-02-22T00:00:00.000000000",
          "2016-02-23T00:00:00.000000000",
          "2016-02-24T00:00:00.000000000",
          "2016-02-25T00:00:00.000000000",
          "2016-02-26T00:00:00.000000000",
          "2016-02-27T00:00:00.000000000",
          "2016-02-28T00:00:00.000000000",
          "2016-02-29T00:00:00.000000000",
          "2016-03-01T00:00:00.000000000",
          "2016-03-02T00:00:00.000000000",
          "2016-03-03T00:00:00.000000000",
          "2016-03-04T00:00:00.000000000",
          "2016-03-05T00:00:00.000000000",
          "2016-03-06T00:00:00.000000000",
          "2016-03-07T00:00:00.000000000",
          "2016-03-08T00:00:00.000000000",
          "2016-03-09T00:00:00.000000000",
          "2016-03-10T00:00:00.000000000",
          "2016-03-11T00:00:00.000000000",
          "2016-03-12T00:00:00.000000000",
          "2016-03-13T00:00:00.000000000",
          "2016-03-14T00:00:00.000000000",
          "2016-03-15T00:00:00.000000000",
          "2016-03-16T00:00:00.000000000",
          "2016-03-17T00:00:00.000000000",
          "2016-03-18T00:00:00.000000000",
          "2016-03-19T00:00:00.000000000",
          "2016-03-20T00:00:00.000000000",
          "2016-03-21T00:00:00.000000000",
          "2016-03-22T00:00:00.000000000",
          "2016-03-23T00:00:00.000000000",
          "2016-03-24T00:00:00.000000000",
          "2016-03-25T00:00:00.000000000",
          "2016-03-26T00:00:00.000000000",
          "2016-03-27T00:00:00.000000000",
          "2016-03-28T00:00:00.000000000",
          "2016-03-29T00:00:00.000000000",
          "2016-03-30T00:00:00.000000000",
          "2016-03-31T00:00:00.000000000",
          "2016-04-01T00:00:00.000000000",
          "2016-04-02T00:00:00.000000000",
          "2016-04-03T00:00:00.000000000",
          "2016-04-04T00:00:00.000000000",
          "2016-04-05T00:00:00.000000000",
          "2016-04-06T00:00:00.000000000",
          "2016-04-07T00:00:00.000000000",
          "2016-04-08T00:00:00.000000000",
          "2016-04-09T00:00:00.000000000",
          "2016-04-10T00:00:00.000000000",
          "2016-04-11T00:00:00.000000000",
          "2016-04-12T00:00:00.000000000",
          "2016-04-13T00:00:00.000000000",
          "2016-04-14T00:00:00.000000000",
          "2016-04-15T00:00:00.000000000",
          "2016-04-16T00:00:00.000000000",
          "2016-04-17T00:00:00.000000000",
          "2016-04-18T00:00:00.000000000",
          "2016-04-19T00:00:00.000000000",
          "2016-04-20T00:00:00.000000000",
          "2016-04-21T00:00:00.000000000",
          "2016-04-22T00:00:00.000000000",
          "2016-04-23T00:00:00.000000000",
          "2016-04-24T00:00:00.000000000",
          "2016-04-25T00:00:00.000000000",
          "2016-04-26T00:00:00.000000000",
          "2016-04-27T00:00:00.000000000",
          "2016-04-28T00:00:00.000000000",
          "2016-04-29T00:00:00.000000000",
          "2016-04-30T00:00:00.000000000",
          "2016-05-01T00:00:00.000000000",
          "2016-05-02T00:00:00.000000000",
          "2016-05-03T00:00:00.000000000",
          "2016-05-04T00:00:00.000000000",
          "2016-05-05T00:00:00.000000000",
          "2016-05-06T00:00:00.000000000",
          "2016-05-07T00:00:00.000000000",
          "2016-05-08T00:00:00.000000000",
          "2016-05-09T00:00:00.000000000",
          "2016-05-10T00:00:00.000000000",
          "2016-05-11T00:00:00.000000000",
          "2016-05-12T00:00:00.000000000",
          "2016-05-13T00:00:00.000000000",
          "2016-05-14T00:00:00.000000000",
          "2016-05-15T00:00:00.000000000",
          "2016-05-16T00:00:00.000000000",
          "2016-05-17T00:00:00.000000000",
          "2016-05-18T00:00:00.000000000",
          "2016-05-19T00:00:00.000000000",
          "2016-05-20T00:00:00.000000000",
          "2016-05-21T00:00:00.000000000",
          "2016-05-22T00:00:00.000000000",
          "2016-05-23T00:00:00.000000000",
          "2016-05-24T00:00:00.000000000",
          "2016-05-25T00:00:00.000000000",
          "2016-05-26T00:00:00.000000000",
          "2016-05-27T00:00:00.000000000",
          "2016-05-28T00:00:00.000000000",
          "2016-05-29T00:00:00.000000000",
          "2016-05-30T00:00:00.000000000",
          "2016-05-31T00:00:00.000000000",
          "2016-06-01T00:00:00.000000000",
          "2016-06-02T00:00:00.000000000",
          "2016-06-03T00:00:00.000000000",
          "2016-06-04T00:00:00.000000000",
          "2016-06-05T00:00:00.000000000",
          "2016-06-06T00:00:00.000000000",
          "2016-06-07T00:00:00.000000000",
          "2016-06-08T00:00:00.000000000",
          "2016-06-09T00:00:00.000000000",
          "2016-06-10T00:00:00.000000000",
          "2016-06-11T00:00:00.000000000",
          "2016-06-12T00:00:00.000000000",
          "2016-06-13T00:00:00.000000000",
          "2016-06-14T00:00:00.000000000",
          "2016-06-15T00:00:00.000000000",
          "2016-06-16T00:00:00.000000000",
          "2016-06-17T00:00:00.000000000",
          "2016-06-18T00:00:00.000000000",
          "2016-06-19T00:00:00.000000000",
          "2016-06-20T00:00:00.000000000",
          "2016-06-21T00:00:00.000000000",
          "2016-06-22T00:00:00.000000000",
          "2016-06-23T00:00:00.000000000",
          "2016-06-24T00:00:00.000000000",
          "2016-06-25T00:00:00.000000000",
          "2016-06-26T00:00:00.000000000",
          "2016-06-27T00:00:00.000000000",
          "2016-06-28T00:00:00.000000000",
          "2016-06-29T00:00:00.000000000",
          "2016-06-30T00:00:00.000000000",
          "2016-07-01T00:00:00.000000000",
          "2016-07-02T00:00:00.000000000",
          "2016-07-03T00:00:00.000000000",
          "2016-07-04T00:00:00.000000000",
          "2016-07-05T00:00:00.000000000",
          "2016-07-06T00:00:00.000000000",
          "2016-07-07T00:00:00.000000000",
          "2016-07-08T00:00:00.000000000",
          "2016-07-09T00:00:00.000000000",
          "2016-07-10T00:00:00.000000000",
          "2016-07-11T00:00:00.000000000",
          "2016-07-12T00:00:00.000000000",
          "2016-07-13T00:00:00.000000000",
          "2016-07-14T00:00:00.000000000",
          "2016-07-15T00:00:00.000000000",
          "2016-07-16T00:00:00.000000000",
          "2016-07-17T00:00:00.000000000",
          "2016-07-18T00:00:00.000000000",
          "2016-07-19T00:00:00.000000000",
          "2016-07-20T00:00:00.000000000",
          "2016-07-21T00:00:00.000000000",
          "2016-07-22T00:00:00.000000000",
          "2016-07-23T00:00:00.000000000",
          "2016-07-24T00:00:00.000000000",
          "2016-07-25T00:00:00.000000000",
          "2016-07-26T00:00:00.000000000",
          "2016-07-27T00:00:00.000000000",
          "2016-07-28T00:00:00.000000000",
          "2016-07-29T00:00:00.000000000",
          "2016-07-30T00:00:00.000000000",
          "2016-07-31T00:00:00.000000000",
          "2016-08-01T00:00:00.000000000",
          "2016-08-02T00:00:00.000000000",
          "2016-08-03T00:00:00.000000000",
          "2016-08-04T00:00:00.000000000",
          "2016-08-05T00:00:00.000000000",
          "2016-08-06T00:00:00.000000000",
          "2016-08-07T00:00:00.000000000",
          "2016-08-08T00:00:00.000000000",
          "2016-08-09T00:00:00.000000000",
          "2016-08-10T00:00:00.000000000",
          "2016-08-11T00:00:00.000000000",
          "2016-08-12T00:00:00.000000000",
          "2016-08-13T00:00:00.000000000",
          "2016-08-14T00:00:00.000000000",
          "2016-08-15T00:00:00.000000000",
          "2016-08-16T00:00:00.000000000",
          "2016-08-17T00:00:00.000000000",
          "2016-08-18T00:00:00.000000000",
          "2016-08-19T00:00:00.000000000",
          "2016-08-20T00:00:00.000000000",
          "2016-08-21T00:00:00.000000000",
          "2016-08-22T00:00:00.000000000",
          "2016-08-23T00:00:00.000000000",
          "2016-08-24T00:00:00.000000000",
          "2016-08-25T00:00:00.000000000",
          "2016-08-26T00:00:00.000000000",
          "2016-08-27T00:00:00.000000000",
          "2016-08-28T00:00:00.000000000",
          "2016-08-29T00:00:00.000000000",
          "2016-08-30T00:00:00.000000000",
          "2016-08-31T00:00:00.000000000",
          "2016-09-01T00:00:00.000000000",
          "2016-09-02T00:00:00.000000000",
          "2016-09-03T00:00:00.000000000",
          "2016-09-04T00:00:00.000000000",
          "2016-09-05T00:00:00.000000000",
          "2016-09-06T00:00:00.000000000",
          "2016-09-07T00:00:00.000000000",
          "2016-09-08T00:00:00.000000000",
          "2016-09-09T00:00:00.000000000",
          "2016-09-10T00:00:00.000000000",
          "2016-09-11T00:00:00.000000000",
          "2016-09-12T00:00:00.000000000",
          "2016-09-13T00:00:00.000000000",
          "2016-09-14T00:00:00.000000000",
          "2016-09-15T00:00:00.000000000",
          "2016-09-16T00:00:00.000000000",
          "2016-09-17T00:00:00.000000000",
          "2016-09-18T00:00:00.000000000",
          "2016-09-19T00:00:00.000000000",
          "2016-09-20T00:00:00.000000000",
          "2016-09-21T00:00:00.000000000",
          "2016-09-22T00:00:00.000000000",
          "2016-09-23T00:00:00.000000000",
          "2016-09-24T00:00:00.000000000",
          "2016-09-25T00:00:00.000000000",
          "2016-09-26T00:00:00.000000000",
          "2016-09-27T00:00:00.000000000",
          "2016-09-28T00:00:00.000000000",
          "2016-09-29T00:00:00.000000000",
          "2016-09-30T00:00:00.000000000",
          "2016-10-01T00:00:00.000000000",
          "2016-10-02T00:00:00.000000000",
          "2016-10-03T00:00:00.000000000",
          "2016-10-04T00:00:00.000000000",
          "2016-10-05T00:00:00.000000000",
          "2016-10-06T00:00:00.000000000",
          "2016-10-07T00:00:00.000000000",
          "2016-10-08T00:00:00.000000000",
          "2016-10-09T00:00:00.000000000",
          "2016-10-10T00:00:00.000000000",
          "2016-10-11T00:00:00.000000000",
          "2016-10-12T00:00:00.000000000",
          "2016-10-13T00:00:00.000000000",
          "2016-10-14T00:00:00.000000000",
          "2016-10-15T00:00:00.000000000",
          "2016-10-16T00:00:00.000000000",
          "2016-10-17T00:00:00.000000000",
          "2016-10-18T00:00:00.000000000",
          "2016-10-19T00:00:00.000000000",
          "2016-10-20T00:00:00.000000000",
          "2016-10-21T00:00:00.000000000",
          "2016-10-22T00:00:00.000000000",
          "2016-10-23T00:00:00.000000000",
          "2016-10-24T00:00:00.000000000",
          "2016-10-25T00:00:00.000000000",
          "2016-10-26T00:00:00.000000000",
          "2016-10-27T00:00:00.000000000",
          "2016-10-28T00:00:00.000000000",
          "2016-10-29T00:00:00.000000000",
          "2016-10-30T00:00:00.000000000",
          "2016-10-31T00:00:00.000000000",
          "2016-11-01T00:00:00.000000000",
          "2016-11-02T00:00:00.000000000",
          "2016-11-03T00:00:00.000000000",
          "2016-11-04T00:00:00.000000000",
          "2016-11-05T00:00:00.000000000",
          "2016-11-06T00:00:00.000000000",
          "2016-11-07T00:00:00.000000000",
          "2016-11-08T00:00:00.000000000",
          "2016-11-09T00:00:00.000000000",
          "2016-11-10T00:00:00.000000000",
          "2016-11-11T00:00:00.000000000",
          "2016-11-12T00:00:00.000000000",
          "2016-11-13T00:00:00.000000000",
          "2016-11-14T00:00:00.000000000",
          "2016-11-15T00:00:00.000000000",
          "2016-11-16T00:00:00.000000000",
          "2016-11-17T00:00:00.000000000",
          "2016-11-18T00:00:00.000000000",
          "2016-11-19T00:00:00.000000000",
          "2016-11-20T00:00:00.000000000",
          "2016-11-21T00:00:00.000000000",
          "2016-11-22T00:00:00.000000000",
          "2016-11-23T00:00:00.000000000",
          "2016-11-24T00:00:00.000000000",
          "2016-11-25T00:00:00.000000000",
          "2016-11-26T00:00:00.000000000",
          "2016-11-27T00:00:00.000000000",
          "2016-11-28T00:00:00.000000000",
          "2016-11-29T00:00:00.000000000",
          "2016-11-30T00:00:00.000000000",
          "2016-12-01T00:00:00.000000000",
          "2016-12-02T00:00:00.000000000",
          "2016-12-03T00:00:00.000000000",
          "2016-12-04T00:00:00.000000000",
          "2016-12-05T00:00:00.000000000",
          "2016-12-06T00:00:00.000000000",
          "2016-12-07T00:00:00.000000000",
          "2016-12-08T00:00:00.000000000",
          "2016-12-09T00:00:00.000000000",
          "2016-12-10T00:00:00.000000000",
          "2016-12-11T00:00:00.000000000",
          "2016-12-12T00:00:00.000000000",
          "2016-12-13T00:00:00.000000000",
          "2016-12-14T00:00:00.000000000",
          "2016-12-15T00:00:00.000000000",
          "2016-12-16T00:00:00.000000000",
          "2016-12-17T00:00:00.000000000",
          "2016-12-18T00:00:00.000000000",
          "2016-12-19T00:00:00.000000000",
          "2016-12-20T00:00:00.000000000",
          "2016-12-21T00:00:00.000000000",
          "2016-12-22T00:00:00.000000000",
          "2016-12-23T00:00:00.000000000",
          "2016-12-24T00:00:00.000000000",
          "2016-12-26T00:00:00.000000000",
          "2016-12-27T00:00:00.000000000",
          "2016-12-28T00:00:00.000000000",
          "2016-12-29T00:00:00.000000000",
          "2016-12-30T00:00:00.000000000",
          "2016-12-31T00:00:00.000000000",
          "2017-01-01T00:00:00.000000000",
          "2017-01-02T00:00:00.000000000",
          "2017-01-03T00:00:00.000000000",
          "2017-01-04T00:00:00.000000000",
          "2017-01-05T00:00:00.000000000",
          "2017-01-06T00:00:00.000000000",
          "2017-01-07T00:00:00.000000000",
          "2017-01-08T00:00:00.000000000",
          "2017-01-09T00:00:00.000000000",
          "2017-01-10T00:00:00.000000000",
          "2017-01-11T00:00:00.000000000",
          "2017-01-12T00:00:00.000000000",
          "2017-01-13T00:00:00.000000000",
          "2017-01-14T00:00:00.000000000",
          "2017-01-15T00:00:00.000000000",
          "2017-01-16T00:00:00.000000000",
          "2017-01-17T00:00:00.000000000",
          "2017-01-18T00:00:00.000000000",
          "2017-01-19T00:00:00.000000000",
          "2017-01-20T00:00:00.000000000",
          "2017-01-21T00:00:00.000000000",
          "2017-01-22T00:00:00.000000000",
          "2017-01-23T00:00:00.000000000",
          "2017-01-24T00:00:00.000000000",
          "2017-01-25T00:00:00.000000000",
          "2017-01-26T00:00:00.000000000",
          "2017-01-27T00:00:00.000000000",
          "2017-01-28T00:00:00.000000000",
          "2017-01-29T00:00:00.000000000",
          "2017-01-30T00:00:00.000000000",
          "2017-01-31T00:00:00.000000000",
          "2017-02-01T00:00:00.000000000",
          "2017-02-02T00:00:00.000000000",
          "2017-02-03T00:00:00.000000000",
          "2017-02-04T00:00:00.000000000",
          "2017-02-05T00:00:00.000000000",
          "2017-02-06T00:00:00.000000000",
          "2017-02-07T00:00:00.000000000",
          "2017-02-08T00:00:00.000000000",
          "2017-02-09T00:00:00.000000000",
          "2017-02-10T00:00:00.000000000",
          "2017-02-11T00:00:00.000000000",
          "2017-02-12T00:00:00.000000000",
          "2017-02-13T00:00:00.000000000",
          "2017-02-14T00:00:00.000000000",
          "2017-02-15T00:00:00.000000000",
          "2017-02-16T00:00:00.000000000",
          "2017-02-17T00:00:00.000000000",
          "2017-02-18T00:00:00.000000000",
          "2017-02-19T00:00:00.000000000",
          "2017-02-20T00:00:00.000000000",
          "2017-02-21T00:00:00.000000000",
          "2017-02-22T00:00:00.000000000",
          "2017-02-23T00:00:00.000000000",
          "2017-02-24T00:00:00.000000000",
          "2017-02-25T00:00:00.000000000",
          "2017-02-26T00:00:00.000000000",
          "2017-02-27T00:00:00.000000000",
          "2017-02-28T00:00:00.000000000",
          "2017-03-01T00:00:00.000000000",
          "2017-03-02T00:00:00.000000000",
          "2017-03-03T00:00:00.000000000",
          "2017-03-04T00:00:00.000000000",
          "2017-03-05T00:00:00.000000000",
          "2017-03-06T00:00:00.000000000",
          "2017-03-07T00:00:00.000000000",
          "2017-03-08T00:00:00.000000000",
          "2017-03-09T00:00:00.000000000",
          "2017-03-10T00:00:00.000000000",
          "2017-03-11T00:00:00.000000000",
          "2017-03-12T00:00:00.000000000",
          "2017-03-13T00:00:00.000000000",
          "2017-03-14T00:00:00.000000000",
          "2017-03-15T00:00:00.000000000",
          "2017-03-16T00:00:00.000000000",
          "2017-03-17T00:00:00.000000000",
          "2017-03-18T00:00:00.000000000",
          "2017-03-19T00:00:00.000000000",
          "2017-03-20T00:00:00.000000000",
          "2017-03-21T00:00:00.000000000",
          "2017-03-22T00:00:00.000000000",
          "2017-03-23T00:00:00.000000000",
          "2017-03-24T00:00:00.000000000",
          "2017-03-25T00:00:00.000000000",
          "2017-03-26T00:00:00.000000000",
          "2017-03-27T00:00:00.000000000",
          "2017-03-28T00:00:00.000000000",
          "2017-03-29T00:00:00.000000000",
          "2017-03-30T00:00:00.000000000",
          "2017-03-31T00:00:00.000000000",
          "2017-04-01T00:00:00.000000000",
          "2017-04-02T00:00:00.000000000",
          "2017-04-03T00:00:00.000000000",
          "2017-04-04T00:00:00.000000000",
          "2017-04-05T00:00:00.000000000",
          "2017-04-06T00:00:00.000000000",
          "2017-04-07T00:00:00.000000000",
          "2017-04-08T00:00:00.000000000",
          "2017-04-09T00:00:00.000000000",
          "2017-04-10T00:00:00.000000000",
          "2017-04-11T00:00:00.000000000",
          "2017-04-12T00:00:00.000000000",
          "2017-04-13T00:00:00.000000000",
          "2017-04-14T00:00:00.000000000",
          "2017-04-15T00:00:00.000000000",
          "2017-04-16T00:00:00.000000000",
          "2017-04-17T00:00:00.000000000",
          "2017-04-18T00:00:00.000000000",
          "2017-04-19T00:00:00.000000000",
          "2017-04-20T00:00:00.000000000",
          "2017-04-21T00:00:00.000000000",
          "2017-04-22T00:00:00.000000000",
          "2017-04-23T00:00:00.000000000",
          "2017-04-24T00:00:00.000000000",
          "2017-04-25T00:00:00.000000000",
          "2017-04-26T00:00:00.000000000",
          "2017-04-27T00:00:00.000000000",
          "2017-04-28T00:00:00.000000000",
          "2017-04-29T00:00:00.000000000",
          "2017-04-30T00:00:00.000000000",
          "2017-05-01T00:00:00.000000000",
          "2017-05-02T00:00:00.000000000",
          "2017-05-03T00:00:00.000000000",
          "2017-05-04T00:00:00.000000000",
          "2017-05-05T00:00:00.000000000",
          "2017-05-06T00:00:00.000000000",
          "2017-05-07T00:00:00.000000000",
          "2017-05-08T00:00:00.000000000",
          "2017-05-09T00:00:00.000000000",
          "2017-05-10T00:00:00.000000000",
          "2017-05-11T00:00:00.000000000",
          "2017-05-12T00:00:00.000000000",
          "2017-05-13T00:00:00.000000000",
          "2017-05-14T00:00:00.000000000",
          "2017-05-15T00:00:00.000000000",
          "2017-05-16T00:00:00.000000000",
          "2017-05-17T00:00:00.000000000",
          "2017-05-18T00:00:00.000000000",
          "2017-05-19T00:00:00.000000000",
          "2017-05-20T00:00:00.000000000",
          "2017-05-21T00:00:00.000000000",
          "2017-05-22T00:00:00.000000000",
          "2017-05-23T00:00:00.000000000",
          "2017-05-24T00:00:00.000000000",
          "2017-05-25T00:00:00.000000000",
          "2017-05-26T00:00:00.000000000",
          "2017-05-27T00:00:00.000000000",
          "2017-05-28T00:00:00.000000000",
          "2017-05-29T00:00:00.000000000",
          "2017-05-30T00:00:00.000000000",
          "2017-05-31T00:00:00.000000000",
          "2017-06-01T00:00:00.000000000",
          "2017-06-02T00:00:00.000000000",
          "2017-06-03T00:00:00.000000000",
          "2017-06-04T00:00:00.000000000",
          "2017-06-05T00:00:00.000000000",
          "2017-06-06T00:00:00.000000000",
          "2017-06-07T00:00:00.000000000",
          "2017-06-08T00:00:00.000000000",
          "2017-06-09T00:00:00.000000000",
          "2017-06-10T00:00:00.000000000",
          "2017-06-11T00:00:00.000000000",
          "2017-06-12T00:00:00.000000000",
          "2017-06-13T00:00:00.000000000",
          "2017-06-14T00:00:00.000000000",
          "2017-06-15T00:00:00.000000000",
          "2017-06-16T00:00:00.000000000",
          "2017-06-17T00:00:00.000000000",
          "2017-06-18T00:00:00.000000000",
          "2017-06-19T00:00:00.000000000",
          "2017-06-20T00:00:00.000000000",
          "2017-06-21T00:00:00.000000000",
          "2017-06-22T00:00:00.000000000",
          "2017-06-23T00:00:00.000000000",
          "2017-06-24T00:00:00.000000000",
          "2017-06-25T00:00:00.000000000",
          "2017-06-26T00:00:00.000000000",
          "2017-06-27T00:00:00.000000000",
          "2017-06-28T00:00:00.000000000",
          "2017-06-29T00:00:00.000000000",
          "2017-06-30T00:00:00.000000000",
          "2017-07-01T00:00:00.000000000",
          "2017-07-02T00:00:00.000000000",
          "2017-07-03T00:00:00.000000000",
          "2017-07-04T00:00:00.000000000",
          "2017-07-05T00:00:00.000000000",
          "2017-07-06T00:00:00.000000000",
          "2017-07-07T00:00:00.000000000",
          "2017-07-08T00:00:00.000000000",
          "2017-07-09T00:00:00.000000000",
          "2017-07-10T00:00:00.000000000",
          "2017-07-11T00:00:00.000000000",
          "2017-07-12T00:00:00.000000000",
          "2017-07-13T00:00:00.000000000",
          "2017-07-14T00:00:00.000000000",
          "2017-07-15T00:00:00.000000000",
          "2017-07-16T00:00:00.000000000",
          "2017-07-17T00:00:00.000000000",
          "2017-07-18T00:00:00.000000000",
          "2017-07-19T00:00:00.000000000",
          "2017-07-20T00:00:00.000000000",
          "2017-07-21T00:00:00.000000000",
          "2017-07-22T00:00:00.000000000",
          "2017-07-23T00:00:00.000000000",
          "2017-07-24T00:00:00.000000000",
          "2017-07-25T00:00:00.000000000",
          "2017-07-26T00:00:00.000000000",
          "2017-07-27T00:00:00.000000000",
          "2017-07-28T00:00:00.000000000",
          "2017-07-29T00:00:00.000000000",
          "2017-07-30T00:00:00.000000000",
          "2017-07-31T00:00:00.000000000",
          "2017-08-01T00:00:00.000000000",
          "2017-08-02T00:00:00.000000000",
          "2017-08-03T00:00:00.000000000",
          "2017-08-04T00:00:00.000000000",
          "2017-08-05T00:00:00.000000000",
          "2017-08-06T00:00:00.000000000",
          "2017-08-07T00:00:00.000000000",
          "2017-08-08T00:00:00.000000000",
          "2017-08-09T00:00:00.000000000",
          "2017-08-10T00:00:00.000000000",
          "2017-08-11T00:00:00.000000000",
          "2017-08-12T00:00:00.000000000",
          "2017-08-13T00:00:00.000000000",
          "2017-08-14T00:00:00.000000000",
          "2017-08-15T00:00:00.000000000"
         ],
         "xaxis": "x",
         "y": {
          "bdata": "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",
          "dtype": "f8"
         },
         "yaxis": "y"
        },
        {
         "hovertemplate": "date=%{x}<br>moving_average=%{y}<extra></extra>",
         "legendgroup": "",
         "line": {
          "color": "red",
          "dash": "solid"
         },
         "marker": {
          "symbol": "circle"
         },
         "mode": "lines",
         "name": "",
         "showlegend": false,
         "type": "scattergl",
         "x": [
          "2013-01-01T00:00:00.000000000",
          "2013-01-02T00:00:00.000000000",
          "2013-01-03T00:00:00.000000000",
          "2013-01-04T00:00:00.000000000",
          "2013-01-05T00:00:00.000000000",
          "2013-01-06T00:00:00.000000000",
          "2013-01-07T00:00:00.000000000",
          "2013-01-08T00:00:00.000000000",
          "2013-01-09T00:00:00.000000000",
          "2013-01-10T00:00:00.000000000",
          "2013-01-11T00:00:00.000000000",
          "2013-01-12T00:00:00.000000000",
          "2013-01-13T00:00:00.000000000",
          "2013-01-14T00:00:00.000000000",
          "2013-01-15T00:00:00.000000000",
          "2013-01-16T00:00:00.000000000",
          "2013-01-17T00:00:00.000000000",
          "2013-01-18T00:00:00.000000000",
          "2013-01-19T00:00:00.000000000",
          "2013-01-20T00:00:00.000000000",
          "2013-01-21T00:00:00.000000000",
          "2013-01-22T00:00:00.000000000",
          "2013-01-23T00:00:00.000000000",
          "2013-01-24T00:00:00.000000000",
          "2013-01-25T00:00:00.000000000",
          "2013-01-26T00:00:00.000000000",
          "2013-01-27T00:00:00.000000000",
          "2013-01-28T00:00:00.000000000",
          "2013-01-29T00:00:00.000000000",
          "2013-01-30T00:00:00.000000000",
          "2013-01-31T00:00:00.000000000",
          "2013-02-01T00:00:00.000000000",
          "2013-02-02T00:00:00.000000000",
          "2013-02-03T00:00:00.000000000",
          "2013-02-04T00:00:00.000000000",
          "2013-02-05T00:00:00.000000000",
          "2013-02-06T00:00:00.000000000",
          "2013-02-07T00:00:00.000000000",
          "2013-02-08T00:00:00.000000000",
          "2013-02-09T00:00:00.000000000",
          "2013-02-10T00:00:00.000000000",
          "2013-02-11T00:00:00.000000000",
          "2013-02-12T00:00:00.000000000",
          "2013-02-13T00:00:00.000000000",
          "2013-02-14T00:00:00.000000000",
          "2013-02-15T00:00:00.000000000",
          "2013-02-16T00:00:00.000000000",
          "2013-02-17T00:00:00.000000000",
          "2013-02-18T00:00:00.000000000",
          "2013-02-19T00:00:00.000000000",
          "2013-02-20T00:00:00.000000000",
          "2013-02-21T00:00:00.000000000",
          "2013-02-22T00:00:00.000000000",
          "2013-02-23T00:00:00.000000000",
          "2013-02-24T00:00:00.000000000",
          "2013-02-25T00:00:00.000000000",
          "2013-02-26T00:00:00.000000000",
          "2013-02-27T00:00:00.000000000",
          "2013-02-28T00:00:00.000000000",
          "2013-03-01T00:00:00.000000000",
          "2013-03-02T00:00:00.000000000",
          "2013-03-03T00:00:00.000000000",
          "2013-03-04T00:00:00.000000000",
          "2013-03-05T00:00:00.000000000",
          "2013-03-06T00:00:00.000000000",
          "2013-03-07T00:00:00.000000000",
          "2013-03-08T00:00:00.000000000",
          "2013-03-09T00:00:00.000000000",
          "2013-03-10T00:00:00.000000000",
          "2013-03-11T00:00:00.000000000",
          "2013-03-12T00:00:00.000000000",
          "2013-03-13T00:00:00.000000000",
          "2013-03-14T00:00:00.000000000",
          "2013-03-15T00:00:00.000000000",
          "2013-03-16T00:00:00.000000000",
          "2013-03-17T00:00:00.000000000",
          "2013-03-18T00:00:00.000000000",
          "2013-03-19T00:00:00.000000000",
          "2013-03-20T00:00:00.000000000",
          "2013-03-21T00:00:00.000000000",
          "2013-03-22T00:00:00.000000000",
          "2013-03-23T00:00:00.000000000",
          "2013-03-24T00:00:00.000000000",
          "2013-03-25T00:00:00.000000000",
          "2013-03-26T00:00:00.000000000",
          "2013-03-27T00:00:00.000000000",
          "2013-03-28T00:00:00.000000000",
          "2013-03-29T00:00:00.000000000",
          "2013-03-30T00:00:00.000000000",
          "2013-03-31T00:00:00.000000000",
          "2013-04-01T00:00:00.000000000",
          "2013-04-02T00:00:00.000000000",
          "2013-04-03T00:00:00.000000000",
          "2013-04-04T00:00:00.000000000",
          "2013-04-05T00:00:00.000000000",
          "2013-04-06T00:00:00.000000000",
          "2013-04-07T00:00:00.000000000",
          "2013-04-08T00:00:00.000000000",
          "2013-04-09T00:00:00.000000000",
          "2013-04-10T00:00:00.000000000",
          "2013-04-11T00:00:00.000000000",
          "2013-04-12T00:00:00.000000000",
          "2013-04-13T00:00:00.000000000",
          "2013-04-14T00:00:00.000000000",
          "2013-04-15T00:00:00.000000000",
          "2013-04-16T00:00:00.000000000",
          "2013-04-17T00:00:00.000000000",
          "2013-04-18T00:00:00.000000000",
          "2013-04-19T00:00:00.000000000",
          "2013-04-20T00:00:00.000000000",
          "2013-04-21T00:00:00.000000000",
          "2013-04-22T00:00:00.000000000",
          "2013-04-23T00:00:00.000000000",
          "2013-04-24T00:00:00.000000000",
          "2013-04-25T00:00:00.000000000",
          "2013-04-26T00:00:00.000000000",
          "2013-04-27T00:00:00.000000000",
          "2013-04-28T00:00:00.000000000",
          "2013-04-29T00:00:00.000000000",
          "2013-04-30T00:00:00.000000000",
          "2013-05-01T00:00:00.000000000",
          "2013-05-02T00:00:00.000000000",
          "2013-05-03T00:00:00.000000000",
          "2013-05-04T00:00:00.000000000",
          "2013-05-05T00:00:00.000000000",
          "2013-05-06T00:00:00.000000000",
          "2013-05-07T00:00:00.000000000",
          "2013-05-08T00:00:00.000000000",
          "2013-05-09T00:00:00.000000000",
          "2013-05-10T00:00:00.000000000",
          "2013-05-11T00:00:00.000000000",
          "2013-05-12T00:00:00.000000000",
          "2013-05-13T00:00:00.000000000",
          "2013-05-14T00:00:00.000000000",
          "2013-05-15T00:00:00.000000000",
          "2013-05-16T00:00:00.000000000",
          "2013-05-17T00:00:00.000000000",
          "2013-05-18T00:00:00.000000000",
          "2013-05-19T00:00:00.000000000",
          "2013-05-20T00:00:00.000000000",
          "2013-05-21T00:00:00.000000000",
          "2013-05-22T00:00:00.000000000",
          "2013-05-23T00:00:00.000000000",
          "2013-05-24T00:00:00.000000000",
          "2013-05-25T00:00:00.000000000",
          "2013-05-26T00:00:00.000000000",
          "2013-05-27T00:00:00.000000000",
          "2013-05-28T00:00:00.000000000",
          "2013-05-29T00:00:00.000000000",
          "2013-05-30T00:00:00.000000000",
          "2013-05-31T00:00:00.000000000",
          "2013-06-01T00:00:00.000000000",
          "2013-06-02T00:00:00.000000000",
          "2013-06-03T00:00:00.000000000",
          "2013-06-04T00:00:00.000000000",
          "2013-06-05T00:00:00.000000000",
          "2013-06-06T00:00:00.000000000",
          "2013-06-07T00:00:00.000000000",
          "2013-06-08T00:00:00.000000000",
          "2013-06-09T00:00:00.000000000",
          "2013-06-10T00:00:00.000000000",
          "2013-06-11T00:00:00.000000000",
          "2013-06-12T00:00:00.000000000",
          "2013-06-13T00:00:00.000000000",
          "2013-06-14T00:00:00.000000000",
          "2013-06-15T00:00:00.000000000",
          "2013-06-16T00:00:00.000000000",
          "2013-06-17T00:00:00.000000000",
          "2013-06-18T00:00:00.000000000",
          "2013-06-19T00:00:00.000000000",
          "2013-06-20T00:00:00.000000000",
          "2013-06-21T00:00:00.000000000",
          "2013-06-22T00:00:00.000000000",
          "2013-06-23T00:00:00.000000000",
          "2013-06-24T00:00:00.000000000",
          "2013-06-25T00:00:00.000000000",
          "2013-06-26T00:00:00.000000000",
          "2013-06-27T00:00:00.000000000",
          "2013-06-28T00:00:00.000000000",
          "2013-06-29T00:00:00.000000000",
          "2013-06-30T00:00:00.000000000",
          "2013-07-01T00:00:00.000000000",
          "2013-07-02T00:00:00.000000000",
          "2013-07-03T00:00:00.000000000",
          "2013-07-04T00:00:00.000000000",
          "2013-07-05T00:00:00.000000000",
          "2013-07-06T00:00:00.000000000",
          "2013-07-07T00:00:00.000000000",
          "2013-07-08T00:00:00.000000000",
          "2013-07-09T00:00:00.000000000",
          "2013-07-10T00:00:00.000000000",
          "2013-07-11T00:00:00.000000000",
          "2013-07-12T00:00:00.000000000",
          "2013-07-13T00:00:00.000000000",
          "2013-07-14T00:00:00.000000000",
          "2013-07-15T00:00:00.000000000",
          "2013-07-16T00:00:00.000000000",
          "2013-07-17T00:00:00.000000000",
          "2013-07-18T00:00:00.000000000",
          "2013-07-19T00:00:00.000000000",
          "2013-07-20T00:00:00.000000000",
          "2013-07-21T00:00:00.000000000",
          "2013-07-22T00:00:00.000000000",
          "2013-07-23T00:00:00.000000000",
          "2013-07-24T00:00:00.000000000",
          "2013-07-25T00:00:00.000000000",
          "2013-07-26T00:00:00.000000000",
          "2013-07-27T00:00:00.000000000",
          "2013-07-28T00:00:00.000000000",
          "2013-07-29T00:00:00.000000000",
          "2013-07-30T00:00:00.000000000",
          "2013-07-31T00:00:00.000000000",
          "2013-08-01T00:00:00.000000000",
          "2013-08-02T00:00:00.000000000",
          "2013-08-03T00:00:00.000000000",
          "2013-08-04T00:00:00.000000000",
          "2013-08-05T00:00:00.000000000",
          "2013-08-06T00:00:00.000000000",
          "2013-08-07T00:00:00.000000000",
          "2013-08-08T00:00:00.000000000",
          "2013-08-09T00:00:00.000000000",
          "2013-08-10T00:00:00.000000000",
          "2013-08-11T00:00:00.000000000",
          "2013-08-12T00:00:00.000000000",
          "2013-08-13T00:00:00.000000000",
          "2013-08-14T00:00:00.000000000",
          "2013-08-15T00:00:00.000000000",
          "2013-08-16T00:00:00.000000000",
          "2013-08-17T00:00:00.000000000",
          "2013-08-18T00:00:00.000000000",
          "2013-08-19T00:00:00.000000000",
          "2013-08-20T00:00:00.000000000",
          "2013-08-21T00:00:00.000000000",
          "2013-08-22T00:00:00.000000000",
          "2013-08-23T00:00:00.000000000",
          "2013-08-24T00:00:00.000000000",
          "2013-08-25T00:00:00.000000000",
          "2013-08-26T00:00:00.000000000",
          "2013-08-27T00:00:00.000000000",
          "2013-08-28T00:00:00.000000000",
          "2013-08-29T00:00:00.000000000",
          "2013-08-30T00:00:00.000000000",
          "2013-08-31T00:00:00.000000000",
          "2013-09-01T00:00:00.000000000",
          "2013-09-02T00:00:00.000000000",
          "2013-09-03T00:00:00.000000000",
          "2013-09-04T00:00:00.000000000",
          "2013-09-05T00:00:00.000000000",
          "2013-09-06T00:00:00.000000000",
          "2013-09-07T00:00:00.000000000",
          "2013-09-08T00:00:00.000000000",
          "2013-09-09T00:00:00.000000000",
          "2013-09-10T00:00:00.000000000",
          "2013-09-11T00:00:00.000000000",
          "2013-09-12T00:00:00.000000000",
          "2013-09-13T00:00:00.000000000",
          "2013-09-14T00:00:00.000000000",
          "2013-09-15T00:00:00.000000000",
          "2013-09-16T00:00:00.000000000",
          "2013-09-17T00:00:00.000000000",
          "2013-09-18T00:00:00.000000000",
          "2013-09-19T00:00:00.000000000",
          "2013-09-20T00:00:00.000000000",
          "2013-09-21T00:00:00.000000000",
          "2013-09-22T00:00:00.000000000",
          "2013-09-23T00:00:00.000000000",
          "2013-09-24T00:00:00.000000000",
          "2013-09-25T00:00:00.000000000",
          "2013-09-26T00:00:00.000000000",
          "2013-09-27T00:00:00.000000000",
          "2013-09-28T00:00:00.000000000",
          "2013-09-29T00:00:00.000000000",
          "2013-09-30T00:00:00.000000000",
          "2013-10-01T00:00:00.000000000",
          "2013-10-02T00:00:00.000000000",
          "2013-10-03T00:00:00.000000000",
          "2013-10-04T00:00:00.000000000",
          "2013-10-05T00:00:00.000000000",
          "2013-10-06T00:00:00.000000000",
          "2013-10-07T00:00:00.000000000",
          "2013-10-08T00:00:00.000000000",
          "2013-10-09T00:00:00.000000000",
          "2013-10-10T00:00:00.000000000",
          "2013-10-11T00:00:00.000000000",
          "2013-10-12T00:00:00.000000000",
          "2013-10-13T00:00:00.000000000",
          "2013-10-14T00:00:00.000000000",
          "2013-10-15T00:00:00.000000000",
          "2013-10-16T00:00:00.000000000",
          "2013-10-17T00:00:00.000000000",
          "2013-10-18T00:00:00.000000000",
          "2013-10-19T00:00:00.000000000",
          "2013-10-20T00:00:00.000000000",
          "2013-10-21T00:00:00.000000000",
          "2013-10-22T00:00:00.000000000",
          "2013-10-23T00:00:00.000000000",
          "2013-10-24T00:00:00.000000000",
          "2013-10-25T00:00:00.000000000",
          "2013-10-26T00:00:00.000000000",
          "2013-10-27T00:00:00.000000000",
          "2013-10-28T00:00:00.000000000",
          "2013-10-29T00:00:00.000000000",
          "2013-10-30T00:00:00.000000000",
          "2013-10-31T00:00:00.000000000",
          "2013-11-01T00:00:00.000000000",
          "2013-11-02T00:00:00.000000000",
          "2013-11-03T00:00:00.000000000",
          "2013-11-04T00:00:00.000000000",
          "2013-11-05T00:00:00.000000000",
          "2013-11-06T00:00:00.000000000",
          "2013-11-07T00:00:00.000000000",
          "2013-11-08T00:00:00.000000000",
          "2013-11-09T00:00:00.000000000",
          "2013-11-10T00:00:00.000000000",
          "2013-11-11T00:00:00.000000000",
          "2013-11-12T00:00:00.000000000",
          "2013-11-13T00:00:00.000000000",
          "2013-11-14T00:00:00.000000000",
          "2013-11-15T00:00:00.000000000",
          "2013-11-16T00:00:00.000000000",
          "2013-11-17T00:00:00.000000000",
          "2013-11-18T00:00:00.000000000",
          "2013-11-19T00:00:00.000000000",
          "2013-11-20T00:00:00.000000000",
          "2013-11-21T00:00:00.000000000",
          "2013-11-22T00:00:00.000000000",
          "2013-11-23T00:00:00.000000000",
          "2013-11-24T00:00:00.000000000",
          "2013-11-25T00:00:00.000000000",
          "2013-11-26T00:00:00.000000000",
          "2013-11-27T00:00:00.000000000",
          "2013-11-28T00:00:00.000000000",
          "2013-11-29T00:00:00.000000000",
          "2013-11-30T00:00:00.000000000",
          "2013-12-01T00:00:00.000000000",
          "2013-12-02T00:00:00.000000000",
          "2013-12-03T00:00:00.000000000",
          "2013-12-04T00:00:00.000000000",
          "2013-12-05T00:00:00.000000000",
          "2013-12-06T00:00:00.000000000",
          "2013-12-07T00:00:00.000000000",
          "2013-12-08T00:00:00.000000000",
          "2013-12-09T00:00:00.000000000",
          "2013-12-10T00:00:00.000000000",
          "2013-12-11T00:00:00.000000000",
          "2013-12-12T00:00:00.000000000",
          "2013-12-13T00:00:00.000000000",
          "2013-12-14T00:00:00.000000000",
          "2013-12-15T00:00:00.000000000",
          "2013-12-16T00:00:00.000000000",
          "2013-12-17T00:00:00.000000000",
          "2013-12-18T00:00:00.000000000",
          "2013-12-19T00:00:00.000000000",
          "2013-12-20T00:00:00.000000000",
          "2013-12-21T00:00:00.000000000",
          "2013-12-22T00:00:00.000000000",
          "2013-12-23T00:00:00.000000000",
          "2013-12-24T00:00:00.000000000",
          "2013-12-26T00:00:00.000000000",
          "2013-12-27T00:00:00.000000000",
          "2013-12-28T00:00:00.000000000",
          "2013-12-29T00:00:00.000000000",
          "2013-12-30T00:00:00.000000000",
          "2013-12-31T00:00:00.000000000",
          "2014-01-01T00:00:00.000000000",
          "2014-01-02T00:00:00.000000000",
          "2014-01-03T00:00:00.000000000",
          "2014-01-04T00:00:00.000000000",
          "2014-01-05T00:00:00.000000000",
          "2014-01-06T00:00:00.000000000",
          "2014-01-07T00:00:00.000000000",
          "2014-01-08T00:00:00.000000000",
          "2014-01-09T00:00:00.000000000",
          "2014-01-10T00:00:00.000000000",
          "2014-01-11T00:00:00.000000000",
          "2014-01-12T00:00:00.000000000",
          "2014-01-13T00:00:00.000000000",
          "2014-01-14T00:00:00.000000000",
          "2014-01-15T00:00:00.000000000",
          "2014-01-16T00:00:00.000000000",
          "2014-01-17T00:00:00.000000000",
          "2014-01-18T00:00:00.000000000",
          "2014-01-19T00:00:00.000000000",
          "2014-01-20T00:00:00.000000000",
          "2014-01-21T00:00:00.000000000",
          "2014-01-22T00:00:00.000000000",
          "2014-01-23T00:00:00.000000000",
          "2014-01-24T00:00:00.000000000",
          "2014-01-25T00:00:00.000000000",
          "2014-01-26T00:00:00.000000000",
          "2014-01-27T00:00:00.000000000",
          "2014-01-28T00:00:00.000000000",
          "2014-01-29T00:00:00.000000000",
          "2014-01-30T00:00:00.000000000",
          "2014-01-31T00:00:00.000000000",
          "2014-02-01T00:00:00.000000000",
          "2014-02-02T00:00:00.000000000",
          "2014-02-03T00:00:00.000000000",
          "2014-02-04T00:00:00.000000000",
          "2014-02-05T00:00:00.000000000",
          "2014-02-06T00:00:00.000000000",
          "2014-02-07T00:00:00.000000000",
          "2014-02-08T00:00:00.000000000",
          "2014-02-09T00:00:00.000000000",
          "2014-02-10T00:00:00.000000000",
          "2014-02-11T00:00:00.000000000",
          "2014-02-12T00:00:00.000000000",
          "2014-02-13T00:00:00.000000000",
          "2014-02-14T00:00:00.000000000",
          "2014-02-15T00:00:00.000000000",
          "2014-02-16T00:00:00.000000000",
          "2014-02-17T00:00:00.000000000",
          "2014-02-18T00:00:00.000000000",
          "2014-02-19T00:00:00.000000000",
          "2014-02-20T00:00:00.000000000",
          "2014-02-21T00:00:00.000000000",
          "2014-02-22T00:00:00.000000000",
          "2014-02-23T00:00:00.000000000",
          "2014-02-24T00:00:00.000000000",
          "2014-02-25T00:00:00.000000000",
          "2014-02-26T00:00:00.000000000",
          "2014-02-27T00:00:00.000000000",
          "2014-02-28T00:00:00.000000000",
          "2014-03-01T00:00:00.000000000",
          "2014-03-02T00:00:00.000000000",
          "2014-03-03T00:00:00.000000000",
          "2014-03-04T00:00:00.000000000",
          "2014-03-05T00:00:00.000000000",
          "2014-03-06T00:00:00.000000000",
          "2014-03-07T00:00:00.000000000",
          "2014-03-08T00:00:00.000000000",
          "2014-03-09T00:00:00.000000000",
          "2014-03-10T00:00:00.000000000",
          "2014-03-11T00:00:00.000000000",
          "2014-03-12T00:00:00.000000000",
          "2014-03-13T00:00:00.000000000",
          "2014-03-14T00:00:00.000000000",
          "2014-03-15T00:00:00.000000000",
          "2014-03-16T00:00:00.000000000",
          "2014-03-17T00:00:00.000000000",
          "2014-03-18T00:00:00.000000000",
          "2014-03-19T00:00:00.000000000",
          "2014-03-20T00:00:00.000000000",
          "2014-03-21T00:00:00.000000000",
          "2014-03-22T00:00:00.000000000",
          "2014-03-23T00:00:00.000000000",
          "2014-03-24T00:00:00.000000000",
          "2014-03-25T00:00:00.000000000",
          "2014-03-26T00:00:00.000000000",
          "2014-03-27T00:00:00.000000000",
          "2014-03-28T00:00:00.000000000",
          "2014-03-29T00:00:00.000000000",
          "2014-03-30T00:00:00.000000000",
          "2014-03-31T00:00:00.000000000",
          "2014-04-01T00:00:00.000000000",
          "2014-04-02T00:00:00.000000000",
          "2014-04-03T00:00:00.000000000",
          "2014-04-04T00:00:00.000000000",
          "2014-04-05T00:00:00.000000000",
          "2014-04-06T00:00:00.000000000",
          "2014-04-07T00:00:00.000000000",
          "2014-04-08T00:00:00.000000000",
          "2014-04-09T00:00:00.000000000",
          "2014-04-10T00:00:00.000000000",
          "2014-04-11T00:00:00.000000000",
          "2014-04-12T00:00:00.000000000",
          "2014-04-13T00:00:00.000000000",
          "2014-04-14T00:00:00.000000000",
          "2014-04-15T00:00:00.000000000",
          "2014-04-16T00:00:00.000000000",
          "2014-04-17T00:00:00.000000000",
          "2014-04-18T00:00:00.000000000",
          "2014-04-19T00:00:00.000000000",
          "2014-04-20T00:00:00.000000000",
          "2014-04-21T00:00:00.000000000",
          "2014-04-22T00:00:00.000000000",
          "2014-04-23T00:00:00.000000000",
          "2014-04-24T00:00:00.000000000",
          "2014-04-25T00:00:00.000000000",
          "2014-04-26T00:00:00.000000000",
          "2014-04-27T00:00:00.000000000",
          "2014-04-28T00:00:00.000000000",
          "2014-04-29T00:00:00.000000000",
          "2014-04-30T00:00:00.000000000",
          "2014-05-01T00:00:00.000000000",
          "2014-05-02T00:00:00.000000000",
          "2014-05-03T00:00:00.000000000",
          "2014-05-04T00:00:00.000000000",
          "2014-05-05T00:00:00.000000000",
          "2014-05-06T00:00:00.000000000",
          "2014-05-07T00:00:00.000000000",
          "2014-05-08T00:00:00.000000000",
          "2014-05-09T00:00:00.000000000",
          "2014-05-10T00:00:00.000000000",
          "2014-05-11T00:00:00.000000000",
          "2014-05-12T00:00:00.000000000",
          "2014-05-13T00:00:00.000000000",
          "2014-05-14T00:00:00.000000000",
          "2014-05-15T00:00:00.000000000",
          "2014-05-16T00:00:00.000000000",
          "2014-05-17T00:00:00.000000000",
          "2014-05-18T00:00:00.000000000",
          "2014-05-19T00:00:00.000000000",
          "2014-05-20T00:00:00.000000000",
          "2014-05-21T00:00:00.000000000",
          "2014-05-22T00:00:00.000000000",
          "2014-05-23T00:00:00.000000000",
          "2014-05-24T00:00:00.000000000",
          "2014-05-25T00:00:00.000000000",
          "2014-05-26T00:00:00.000000000",
          "2014-05-27T00:00:00.000000000",
          "2014-05-28T00:00:00.000000000",
          "2014-05-29T00:00:00.000000000",
          "2014-05-30T00:00:00.000000000",
          "2014-05-31T00:00:00.000000000",
          "2014-06-01T00:00:00.000000000",
          "2014-06-02T00:00:00.000000000",
          "2014-06-03T00:00:00.000000000",
          "2014-06-04T00:00:00.000000000",
          "2014-06-05T00:00:00.000000000",
          "2014-06-06T00:00:00.000000000",
          "2014-06-07T00:00:00.000000000",
          "2014-06-08T00:00:00.000000000",
          "2014-06-09T00:00:00.000000000",
          "2014-06-10T00:00:00.000000000",
          "2014-06-11T00:00:00.000000000",
          "2014-06-12T00:00:00.000000000",
          "2014-06-13T00:00:00.000000000",
          "2014-06-14T00:00:00.000000000",
          "2014-06-15T00:00:00.000000000",
          "2014-06-16T00:00:00.000000000",
          "2014-06-17T00:00:00.000000000",
          "2014-06-18T00:00:00.000000000",
          "2014-06-19T00:00:00.000000000",
          "2014-06-20T00:00:00.000000000",
          "2014-06-21T00:00:00.000000000",
          "2014-06-22T00:00:00.000000000",
          "2014-06-23T00:00:00.000000000",
          "2014-06-24T00:00:00.000000000",
          "2014-06-25T00:00:00.000000000",
          "2014-06-26T00:00:00.000000000",
          "2014-06-27T00:00:00.000000000",
          "2014-06-28T00:00:00.000000000",
          "2014-06-29T00:00:00.000000000",
          "2014-06-30T00:00:00.000000000",
          "2014-07-01T00:00:00.000000000",
          "2014-07-02T00:00:00.000000000",
          "2014-07-03T00:00:00.000000000",
          "2014-07-04T00:00:00.000000000",
          "2014-07-05T00:00:00.000000000",
          "2014-07-06T00:00:00.000000000",
          "2014-07-07T00:00:00.000000000",
          "2014-07-08T00:00:00.000000000",
          "2014-07-09T00:00:00.000000000",
          "2014-07-10T00:00:00.000000000",
          "2014-07-11T00:00:00.000000000",
          "2014-07-12T00:00:00.000000000",
          "2014-07-13T00:00:00.000000000",
          "2014-07-14T00:00:00.000000000",
          "2014-07-15T00:00:00.000000000",
          "2014-07-16T00:00:00.000000000",
          "2014-07-17T00:00:00.000000000",
          "2014-07-18T00:00:00.000000000",
          "2014-07-19T00:00:00.000000000",
          "2014-07-20T00:00:00.000000000",
          "2014-07-21T00:00:00.000000000",
          "2014-07-22T00:00:00.000000000",
          "2014-07-23T00:00:00.000000000",
          "2014-07-24T00:00:00.000000000",
          "2014-07-25T00:00:00.000000000",
          "2014-07-26T00:00:00.000000000",
          "2014-07-27T00:00:00.000000000",
          "2014-07-28T00:00:00.000000000",
          "2014-07-29T00:00:00.000000000",
          "2014-07-30T00:00:00.000000000",
          "2014-07-31T00:00:00.000000000",
          "2014-08-01T00:00:00.000000000",
          "2014-08-02T00:00:00.000000000",
          "2014-08-03T00:00:00.000000000",
          "2014-08-04T00:00:00.000000000",
          "2014-08-05T00:00:00.000000000",
          "2014-08-06T00:00:00.000000000",
          "2014-08-07T00:00:00.000000000",
          "2014-08-08T00:00:00.000000000",
          "2014-08-09T00:00:00.000000000",
          "2014-08-10T00:00:00.000000000",
          "2014-08-11T00:00:00.000000000",
          "2014-08-12T00:00:00.000000000",
          "2014-08-13T00:00:00.000000000",
          "2014-08-14T00:00:00.000000000",
          "2014-08-15T00:00:00.000000000",
          "2014-08-16T00:00:00.000000000",
          "2014-08-17T00:00:00.000000000",
          "2014-08-18T00:00:00.000000000",
          "2014-08-19T00:00:00.000000000",
          "2014-08-20T00:00:00.000000000",
          "2014-08-21T00:00:00.000000000",
          "2014-08-22T00:00:00.000000000",
          "2014-08-23T00:00:00.000000000",
          "2014-08-24T00:00:00.000000000",
          "2014-08-25T00:00:00.000000000",
          "2014-08-26T00:00:00.000000000",
          "2014-08-27T00:00:00.000000000",
          "2014-08-28T00:00:00.000000000",
          "2014-08-29T00:00:00.000000000",
          "2014-08-30T00:00:00.000000000",
          "2014-08-31T00:00:00.000000000",
          "2014-09-01T00:00:00.000000000",
          "2014-09-02T00:00:00.000000000",
          "2014-09-03T00:00:00.000000000",
          "2014-09-04T00:00:00.000000000",
          "2014-09-05T00:00:00.000000000",
          "2014-09-06T00:00:00.000000000",
          "2014-09-07T00:00:00.000000000",
          "2014-09-08T00:00:00.000000000",
          "2014-09-09T00:00:00.000000000",
          "2014-09-10T00:00:00.000000000",
          "2014-09-11T00:00:00.000000000",
          "2014-09-12T00:00:00.000000000",
          "2014-09-13T00:00:00.000000000",
          "2014-09-14T00:00:00.000000000",
          "2014-09-15T00:00:00.000000000",
          "2014-09-16T00:00:00.000000000",
          "2014-09-17T00:00:00.000000000",
          "2014-09-18T00:00:00.000000000",
          "2014-09-19T00:00:00.000000000",
          "2014-09-20T00:00:00.000000000",
          "2014-09-21T00:00:00.000000000",
          "2014-09-22T00:00:00.000000000",
          "2014-09-23T00:00:00.000000000",
          "2014-09-24T00:00:00.000000000",
          "2014-09-25T00:00:00.000000000",
          "2014-09-26T00:00:00.000000000",
          "2014-09-27T00:00:00.000000000",
          "2014-09-28T00:00:00.000000000",
          "2014-09-29T00:00:00.000000000",
          "2014-09-30T00:00:00.000000000",
          "2014-10-01T00:00:00.000000000",
          "2014-10-02T00:00:00.000000000",
          "2014-10-03T00:00:00.000000000",
          "2014-10-04T00:00:00.000000000",
          "2014-10-05T00:00:00.000000000",
          "2014-10-06T00:00:00.000000000",
          "2014-10-07T00:00:00.000000000",
          "2014-10-08T00:00:00.000000000",
          "2014-10-09T00:00:00.000000000",
          "2014-10-10T00:00:00.000000000",
          "2014-10-11T00:00:00.000000000",
          "2014-10-12T00:00:00.000000000",
          "2014-10-13T00:00:00.000000000",
          "2014-10-14T00:00:00.000000000",
          "2014-10-15T00:00:00.000000000",
          "2014-10-16T00:00:00.000000000",
          "2014-10-17T00:00:00.000000000",
          "2014-10-18T00:00:00.000000000",
          "2014-10-19T00:00:00.000000000",
          "2014-10-20T00:00:00.000000000",
          "2014-10-21T00:00:00.000000000",
          "2014-10-22T00:00:00.000000000",
          "2014-10-23T00:00:00.000000000",
          "2014-10-24T00:00:00.000000000",
          "2014-10-25T00:00:00.000000000",
          "2014-10-26T00:00:00.000000000",
          "2014-10-27T00:00:00.000000000",
          "2014-10-28T00:00:00.000000000",
          "2014-10-29T00:00:00.000000000",
          "2014-10-30T00:00:00.000000000",
          "2014-10-31T00:00:00.000000000",
          "2014-11-01T00:00:00.000000000",
          "2014-11-02T00:00:00.000000000",
          "2014-11-03T00:00:00.000000000",
          "2014-11-04T00:00:00.000000000",
          "2014-11-05T00:00:00.000000000",
          "2014-11-06T00:00:00.000000000",
          "2014-11-07T00:00:00.000000000",
          "2014-11-08T00:00:00.000000000",
          "2014-11-09T00:00:00.000000000",
          "2014-11-10T00:00:00.000000000",
          "2014-11-11T00:00:00.000000000",
          "2014-11-12T00:00:00.000000000",
          "2014-11-13T00:00:00.000000000",
          "2014-11-14T00:00:00.000000000",
          "2014-11-15T00:00:00.000000000",
          "2014-11-16T00:00:00.000000000",
          "2014-11-17T00:00:00.000000000",
          "2014-11-18T00:00:00.000000000",
          "2014-11-19T00:00:00.000000000",
          "2014-11-20T00:00:00.000000000",
          "2014-11-21T00:00:00.000000000",
          "2014-11-22T00:00:00.000000000",
          "2014-11-23T00:00:00.000000000",
          "2014-11-24T00:00:00.000000000",
          "2014-11-25T00:00:00.000000000",
          "2014-11-26T00:00:00.000000000",
          "2014-11-27T00:00:00.000000000",
          "2014-11-28T00:00:00.000000000",
          "2014-11-29T00:00:00.000000000",
          "2014-11-30T00:00:00.000000000",
          "2014-12-01T00:00:00.000000000",
          "2014-12-02T00:00:00.000000000",
          "2014-12-03T00:00:00.000000000",
          "2014-12-04T00:00:00.000000000",
          "2014-12-05T00:00:00.000000000",
          "2014-12-06T00:00:00.000000000",
          "2014-12-07T00:00:00.000000000",
          "2014-12-08T00:00:00.000000000",
          "2014-12-09T00:00:00.000000000",
          "2014-12-10T00:00:00.000000000",
          "2014-12-11T00:00:00.000000000",
          "2014-12-12T00:00:00.000000000",
          "2014-12-13T00:00:00.000000000",
          "2014-12-14T00:00:00.000000000",
          "2014-12-15T00:00:00.000000000",
          "2014-12-16T00:00:00.000000000",
          "2014-12-17T00:00:00.000000000",
          "2014-12-18T00:00:00.000000000",
          "2014-12-19T00:00:00.000000000",
          "2014-12-20T00:00:00.000000000",
          "2014-12-21T00:00:00.000000000",
          "2014-12-22T00:00:00.000000000",
          "2014-12-23T00:00:00.000000000",
          "2014-12-24T00:00:00.000000000",
          "2014-12-26T00:00:00.000000000",
          "2014-12-27T00:00:00.000000000",
          "2014-12-28T00:00:00.000000000",
          "2014-12-29T00:00:00.000000000",
          "2014-12-30T00:00:00.000000000",
          "2014-12-31T00:00:00.000000000",
          "2015-01-01T00:00:00.000000000",
          "2015-01-02T00:00:00.000000000",
          "2015-01-03T00:00:00.000000000",
          "2015-01-04T00:00:00.000000000",
          "2015-01-05T00:00:00.000000000",
          "2015-01-06T00:00:00.000000000",
          "2015-01-07T00:00:00.000000000",
          "2015-01-08T00:00:00.000000000",
          "2015-01-09T00:00:00.000000000",
          "2015-01-10T00:00:00.000000000",
          "2015-01-11T00:00:00.000000000",
          "2015-01-12T00:00:00.000000000",
          "2015-01-13T00:00:00.000000000",
          "2015-01-14T00:00:00.000000000",
          "2015-01-15T00:00:00.000000000",
          "2015-01-16T00:00:00.000000000",
          "2015-01-17T00:00:00.000000000",
          "2015-01-18T00:00:00.000000000",
          "2015-01-19T00:00:00.000000000",
          "2015-01-20T00:00:00.000000000",
          "2015-01-21T00:00:00.000000000",
          "2015-01-22T00:00:00.000000000",
          "2015-01-23T00:00:00.000000000",
          "2015-01-24T00:00:00.000000000",
          "2015-01-25T00:00:00.000000000",
          "2015-01-26T00:00:00.000000000",
          "2015-01-27T00:00:00.000000000",
          "2015-01-28T00:00:00.000000000",
          "2015-01-29T00:00:00.000000000",
          "2015-01-30T00:00:00.000000000",
          "2015-01-31T00:00:00.000000000",
          "2015-02-01T00:00:00.000000000",
          "2015-02-02T00:00:00.000000000",
          "2015-02-03T00:00:00.000000000",
          "2015-02-04T00:00:00.000000000",
          "2015-02-05T00:00:00.000000000",
          "2015-02-06T00:00:00.000000000",
          "2015-02-07T00:00:00.000000000",
          "2015-02-08T00:00:00.000000000",
          "2015-02-09T00:00:00.000000000",
          "2015-02-10T00:00:00.000000000",
          "2015-02-11T00:00:00.000000000",
          "2015-02-12T00:00:00.000000000",
          "2015-02-13T00:00:00.000000000",
          "2015-02-14T00:00:00.000000000",
          "2015-02-15T00:00:00.000000000",
          "2015-02-16T00:00:00.000000000",
          "2015-02-17T00:00:00.000000000",
          "2015-02-18T00:00:00.000000000",
          "2015-02-19T00:00:00.000000000",
          "2015-02-20T00:00:00.000000000",
          "2015-02-21T00:00:00.000000000",
          "2015-02-22T00:00:00.000000000",
          "2015-02-23T00:00:00.000000000",
          "2015-02-24T00:00:00.000000000",
          "2015-02-25T00:00:00.000000000",
          "2015-02-26T00:00:00.000000000",
          "2015-02-27T00:00:00.000000000",
          "2015-02-28T00:00:00.000000000",
          "2015-03-01T00:00:00.000000000",
          "2015-03-02T00:00:00.000000000",
          "2015-03-03T00:00:00.000000000",
          "2015-03-04T00:00:00.000000000",
          "2015-03-05T00:00:00.000000000",
          "2015-03-06T00:00:00.000000000",
          "2015-03-07T00:00:00.000000000",
          "2015-03-08T00:00:00.000000000",
          "2015-03-09T00:00:00.000000000",
          "2015-03-10T00:00:00.000000000",
          "2015-03-11T00:00:00.000000000",
          "2015-03-12T00:00:00.000000000",
          "2015-03-13T00:00:00.000000000",
          "2015-03-14T00:00:00.000000000",
          "2015-03-15T00:00:00.000000000",
          "2015-03-16T00:00:00.000000000",
          "2015-03-17T00:00:00.000000000",
          "2015-03-18T00:00:00.000000000",
          "2015-03-19T00:00:00.000000000",
          "2015-03-20T00:00:00.000000000",
          "2015-03-21T00:00:00.000000000",
          "2015-03-22T00:00:00.000000000",
          "2015-03-23T00:00:00.000000000",
          "2015-03-24T00:00:00.000000000",
          "2015-03-25T00:00:00.000000000",
          "2015-03-26T00:00:00.000000000",
          "2015-03-27T00:00:00.000000000",
          "2015-03-28T00:00:00.000000000",
          "2015-03-29T00:00:00.000000000",
          "2015-03-30T00:00:00.000000000",
          "2015-03-31T00:00:00.000000000",
          "2015-04-01T00:00:00.000000000",
          "2015-04-02T00:00:00.000000000",
          "2015-04-03T00:00:00.000000000",
          "2015-04-04T00:00:00.000000000",
          "2015-04-05T00:00:00.000000000",
          "2015-04-06T00:00:00.000000000",
          "2015-04-07T00:00:00.000000000",
          "2015-04-08T00:00:00.000000000",
          "2015-04-09T00:00:00.000000000",
          "2015-04-10T00:00:00.000000000",
          "2015-04-11T00:00:00.000000000",
          "2015-04-12T00:00:00.000000000",
          "2015-04-13T00:00:00.000000000",
          "2015-04-14T00:00:00.000000000",
          "2015-04-15T00:00:00.000000000",
          "2015-04-16T00:00:00.000000000",
          "2015-04-17T00:00:00.000000000",
          "2015-04-18T00:00:00.000000000",
          "2015-04-19T00:00:00.000000000",
          "2015-04-20T00:00:00.000000000",
          "2015-04-21T00:00:00.000000000",
          "2015-04-22T00:00:00.000000000",
          "2015-04-23T00:00:00.000000000",
          "2015-04-24T00:00:00.000000000",
          "2015-04-25T00:00:00.000000000",
          "2015-04-26T00:00:00.000000000",
          "2015-04-27T00:00:00.000000000",
          "2015-04-28T00:00:00.000000000",
          "2015-04-29T00:00:00.000000000",
          "2015-04-30T00:00:00.000000000",
          "2015-05-01T00:00:00.000000000",
          "2015-05-02T00:00:00.000000000",
          "2015-05-03T00:00:00.000000000",
          "2015-05-04T00:00:00.000000000",
          "2015-05-05T00:00:00.000000000",
          "2015-05-06T00:00:00.000000000",
          "2015-05-07T00:00:00.000000000",
          "2015-05-08T00:00:00.000000000",
          "2015-05-09T00:00:00.000000000",
          "2015-05-10T00:00:00.000000000",
          "2015-05-11T00:00:00.000000000",
          "2015-05-12T00:00:00.000000000",
          "2015-05-13T00:00:00.000000000",
          "2015-05-14T00:00:00.000000000",
          "2015-05-15T00:00:00.000000000",
          "2015-05-16T00:00:00.000000000",
          "2015-05-17T00:00:00.000000000",
          "2015-05-18T00:00:00.000000000",
          "2015-05-19T00:00:00.000000000",
          "2015-05-20T00:00:00.000000000",
          "2015-05-21T00:00:00.000000000",
          "2015-05-22T00:00:00.000000000",
          "2015-05-23T00:00:00.000000000",
          "2015-05-24T00:00:00.000000000",
          "2015-05-25T00:00:00.000000000",
          "2015-05-26T00:00:00.000000000",
          "2015-05-27T00:00:00.000000000",
          "2015-05-28T00:00:00.000000000",
          "2015-05-29T00:00:00.000000000",
          "2015-05-30T00:00:00.000000000",
          "2015-05-31T00:00:00.000000000",
          "2015-06-01T00:00:00.000000000",
          "2015-06-02T00:00:00.000000000",
          "2015-06-03T00:00:00.000000000",
          "2015-06-04T00:00:00.000000000",
          "2015-06-05T00:00:00.000000000",
          "2015-06-06T00:00:00.000000000",
          "2015-06-07T00:00:00.000000000",
          "2015-06-08T00:00:00.000000000",
          "2015-06-09T00:00:00.000000000",
          "2015-06-10T00:00:00.000000000",
          "2015-06-11T00:00:00.000000000",
          "2015-06-12T00:00:00.000000000",
          "2015-06-13T00:00:00.000000000",
          "2015-06-14T00:00:00.000000000",
          "2015-06-15T00:00:00.000000000",
          "2015-06-16T00:00:00.000000000",
          "2015-06-17T00:00:00.000000000",
          "2015-06-18T00:00:00.000000000",
          "2015-06-19T00:00:00.000000000",
          "2015-06-20T00:00:00.000000000",
          "2015-06-21T00:00:00.000000000",
          "2015-06-22T00:00:00.000000000",
          "2015-06-23T00:00:00.000000000",
          "2015-06-24T00:00:00.000000000",
          "2015-06-25T00:00:00.000000000",
          "2015-06-26T00:00:00.000000000",
          "2015-06-27T00:00:00.000000000",
          "2015-06-28T00:00:00.000000000",
          "2015-06-29T00:00:00.000000000",
          "2015-06-30T00:00:00.000000000",
          "2015-07-01T00:00:00.000000000",
          "2015-07-02T00:00:00.000000000",
          "2015-07-03T00:00:00.000000000",
          "2015-07-04T00:00:00.000000000",
          "2015-07-05T00:00:00.000000000",
          "2015-07-06T00:00:00.000000000",
          "2015-07-07T00:00:00.000000000",
          "2015-07-08T00:00:00.000000000",
          "2015-07-09T00:00:00.000000000",
          "2015-07-10T00:00:00.000000000",
          "2015-07-11T00:00:00.000000000",
          "2015-07-12T00:00:00.000000000",
          "2015-07-13T00:00:00.000000000",
          "2015-07-14T00:00:00.000000000",
          "2015-07-15T00:00:00.000000000",
          "2015-07-16T00:00:00.000000000",
          "2015-07-17T00:00:00.000000000",
          "2015-07-18T00:00:00.000000000",
          "2015-07-19T00:00:00.000000000",
          "2015-07-20T00:00:00.000000000",
          "2015-07-21T00:00:00.000000000",
          "2015-07-22T00:00:00.000000000",
          "2015-07-23T00:00:00.000000000",
          "2015-07-24T00:00:00.000000000",
          "2015-07-25T00:00:00.000000000",
          "2015-07-26T00:00:00.000000000",
          "2015-07-27T00:00:00.000000000",
          "2015-07-28T00:00:00.000000000",
          "2015-07-29T00:00:00.000000000",
          "2015-07-30T00:00:00.000000000",
          "2015-07-31T00:00:00.000000000",
          "2015-08-01T00:00:00.000000000",
          "2015-08-02T00:00:00.000000000",
          "2015-08-03T00:00:00.000000000",
          "2015-08-04T00:00:00.000000000",
          "2015-08-05T00:00:00.000000000",
          "2015-08-06T00:00:00.000000000",
          "2015-08-07T00:00:00.000000000",
          "2015-08-08T00:00:00.000000000",
          "2015-08-09T00:00:00.000000000",
          "2015-08-10T00:00:00.000000000",
          "2015-08-11T00:00:00.000000000",
          "2015-08-12T00:00:00.000000000",
          "2015-08-13T00:00:00.000000000",
          "2015-08-14T00:00:00.000000000",
          "2015-08-15T00:00:00.000000000",
          "2015-08-16T00:00:00.000000000",
          "2015-08-17T00:00:00.000000000",
          "2015-08-18T00:00:00.000000000",
          "2015-08-19T00:00:00.000000000",
          "2015-08-20T00:00:00.000000000",
          "2015-08-21T00:00:00.000000000",
          "2015-08-22T00:00:00.000000000",
          "2015-08-23T00:00:00.000000000",
          "2015-08-24T00:00:00.000000000",
          "2015-08-25T00:00:00.000000000",
          "2015-08-26T00:00:00.000000000",
          "2015-08-27T00:00:00.000000000",
          "2015-08-28T00:00:00.000000000",
          "2015-08-29T00:00:00.000000000",
          "2015-08-30T00:00:00.000000000",
          "2015-08-31T00:00:00.000000000",
          "2015-09-01T00:00:00.000000000",
          "2015-09-02T00:00:00.000000000",
          "2015-09-03T00:00:00.000000000",
          "2015-09-04T00:00:00.000000000",
          "2015-09-05T00:00:00.000000000",
          "2015-09-06T00:00:00.000000000",
          "2015-09-07T00:00:00.000000000",
          "2015-09-08T00:00:00.000000000",
          "2015-09-09T00:00:00.000000000",
          "2015-09-10T00:00:00.000000000",
          "2015-09-11T00:00:00.000000000",
          "2015-09-12T00:00:00.000000000",
          "2015-09-13T00:00:00.000000000",
          "2015-09-14T00:00:00.000000000",
          "2015-09-15T00:00:00.000000000",
          "2015-09-16T00:00:00.000000000",
          "2015-09-17T00:00:00.000000000",
          "2015-09-18T00:00:00.000000000",
          "2015-09-19T00:00:00.000000000",
          "2015-09-20T00:00:00.000000000",
          "2015-09-21T00:00:00.000000000",
          "2015-09-22T00:00:00.000000000",
          "2015-09-23T00:00:00.000000000",
          "2015-09-24T00:00:00.000000000",
          "2015-09-25T00:00:00.000000000",
          "2015-09-26T00:00:00.000000000",
          "2015-09-27T00:00:00.000000000",
          "2015-09-28T00:00:00.000000000",
          "2015-09-29T00:00:00.000000000",
          "2015-09-30T00:00:00.000000000",
          "2015-10-01T00:00:00.000000000",
          "2015-10-02T00:00:00.000000000",
          "2015-10-03T00:00:00.000000000",
          "2015-10-04T00:00:00.000000000",
          "2015-10-05T00:00:00.000000000",
          "2015-10-06T00:00:00.000000000",
          "2015-10-07T00:00:00.000000000",
          "2015-10-08T00:00:00.000000000",
          "2015-10-09T00:00:00.000000000",
          "2015-10-10T00:00:00.000000000",
          "2015-10-11T00:00:00.000000000",
          "2015-10-12T00:00:00.000000000",
          "2015-10-13T00:00:00.000000000",
          "2015-10-14T00:00:00.000000000",
          "2015-10-15T00:00:00.000000000",
          "2015-10-16T00:00:00.000000000",
          "2015-10-17T00:00:00.000000000",
          "2015-10-18T00:00:00.000000000",
          "2015-10-19T00:00:00.000000000",
          "2015-10-20T00:00:00.000000000",
          "2015-10-21T00:00:00.000000000",
          "2015-10-22T00:00:00.000000000",
          "2015-10-23T00:00:00.000000000",
          "2015-10-24T00:00:00.000000000",
          "2015-10-25T00:00:00.000000000",
          "2015-10-26T00:00:00.000000000",
          "2015-10-27T00:00:00.000000000",
          "2015-10-28T00:00:00.000000000",
          "2015-10-29T00:00:00.000000000",
          "2015-10-30T00:00:00.000000000",
          "2015-10-31T00:00:00.000000000",
          "2015-11-01T00:00:00.000000000",
          "2015-11-02T00:00:00.000000000",
          "2015-11-03T00:00:00.000000000",
          "2015-11-04T00:00:00.000000000",
          "2015-11-05T00:00:00.000000000",
          "2015-11-06T00:00:00.000000000",
          "2015-11-07T00:00:00.000000000",
          "2015-11-08T00:00:00.000000000",
          "2015-11-09T00:00:00.000000000",
          "2015-11-10T00:00:00.000000000",
          "2015-11-11T00:00:00.000000000",
          "2015-11-12T00:00:00.000000000",
          "2015-11-13T00:00:00.000000000",
          "2015-11-14T00:00:00.000000000",
          "2015-11-15T00:00:00.000000000",
          "2015-11-16T00:00:00.000000000",
          "2015-11-17T00:00:00.000000000",
          "2015-11-18T00:00:00.000000000",
          "2015-11-19T00:00:00.000000000",
          "2015-11-20T00:00:00.000000000",
          "2015-11-21T00:00:00.000000000",
          "2015-11-22T00:00:00.000000000",
          "2015-11-23T00:00:00.000000000",
          "2015-11-24T00:00:00.000000000",
          "2015-11-25T00:00:00.000000000",
          "2015-11-26T00:00:00.000000000",
          "2015-11-27T00:00:00.000000000",
          "2015-11-28T00:00:00.000000000",
          "2015-11-29T00:00:00.000000000",
          "2015-11-30T00:00:00.000000000",
          "2015-12-01T00:00:00.000000000",
          "2015-12-02T00:00:00.000000000",
          "2015-12-03T00:00:00.000000000",
          "2015-12-04T00:00:00.000000000",
          "2015-12-05T00:00:00.000000000",
          "2015-12-06T00:00:00.000000000",
          "2015-12-07T00:00:00.000000000",
          "2015-12-08T00:00:00.000000000",
          "2015-12-09T00:00:00.000000000",
          "2015-12-10T00:00:00.000000000",
          "2015-12-11T00:00:00.000000000",
          "2015-12-12T00:00:00.000000000",
          "2015-12-13T00:00:00.000000000",
          "2015-12-14T00:00:00.000000000",
          "2015-12-15T00:00:00.000000000",
          "2015-12-16T00:00:00.000000000",
          "2015-12-17T00:00:00.000000000",
          "2015-12-18T00:00:00.000000000",
          "2015-12-19T00:00:00.000000000",
          "2015-12-20T00:00:00.000000000",
          "2015-12-21T00:00:00.000000000",
          "2015-12-22T00:00:00.000000000",
          "2015-12-23T00:00:00.000000000",
          "2015-12-24T00:00:00.000000000",
          "2015-12-26T00:00:00.000000000",
          "2015-12-27T00:00:00.000000000",
          "2015-12-28T00:00:00.000000000",
          "2015-12-29T00:00:00.000000000",
          "2015-12-30T00:00:00.000000000",
          "2015-12-31T00:00:00.000000000",
          "2016-01-01T00:00:00.000000000",
          "2016-01-02T00:00:00.000000000",
          "2016-01-03T00:00:00.000000000",
          "2016-01-04T00:00:00.000000000",
          "2016-01-05T00:00:00.000000000",
          "2016-01-06T00:00:00.000000000",
          "2016-01-07T00:00:00.000000000",
          "2016-01-08T00:00:00.000000000",
          "2016-01-09T00:00:00.000000000",
          "2016-01-10T00:00:00.000000000",
          "2016-01-11T00:00:00.000000000",
          "2016-01-12T00:00:00.000000000",
          "2016-01-13T00:00:00.000000000",
          "2016-01-14T00:00:00.000000000",
          "2016-01-15T00:00:00.000000000",
          "2016-01-16T00:00:00.000000000",
          "2016-01-17T00:00:00.000000000",
          "2016-01-18T00:00:00.000000000",
          "2016-01-19T00:00:00.000000000",
          "2016-01-20T00:00:00.000000000",
          "2016-01-21T00:00:00.000000000",
          "2016-01-22T00:00:00.000000000",
          "2016-01-23T00:00:00.000000000",
          "2016-01-24T00:00:00.000000000",
          "2016-01-25T00:00:00.000000000",
          "2016-01-26T00:00:00.000000000",
          "2016-01-27T00:00:00.000000000",
          "2016-01-28T00:00:00.000000000",
          "2016-01-29T00:00:00.000000000",
          "2016-01-30T00:00:00.000000000",
          "2016-01-31T00:00:00.000000000",
          "2016-02-01T00:00:00.000000000",
          "2016-02-02T00:00:00.000000000",
          "2016-02-03T00:00:00.000000000",
          "2016-02-04T00:00:00.000000000",
          "2016-02-05T00:00:00.000000000",
          "2016-02-06T00:00:00.000000000",
          "2016-02-07T00:00:00.000000000",
          "2016-02-08T00:00:00.000000000",
          "2016-02-09T00:00:00.000000000",
          "2016-02-10T00:00:00.000000000",
          "2016-02-11T00:00:00.000000000",
          "2016-02-12T00:00:00.000000000",
          "2016-02-13T00:00:00.000000000",
          "2016-02-14T00:00:00.000000000",
          "2016-02-15T00:00:00.000000000",
          "2016-02-16T00:00:00.000000000",
          "2016-02-17T00:00:00.000000000",
          "2016-02-18T00:00:00.000000000",
          "2016-02-19T00:00:00.000000000",
          "2016-02-20T00:00:00.000000000",
          "2016-02-21T00:00:00.000000000",
          "2016-02-22T00:00:00.000000000",
          "2016-02-23T00:00:00.000000000",
          "2016-02-24T00:00:00.000000000",
          "2016-02-25T00:00:00.000000000",
          "2016-02-26T00:00:00.000000000",
          "2016-02-27T00:00:00.000000000",
          "2016-02-28T00:00:00.000000000",
          "2016-02-29T00:00:00.000000000",
          "2016-03-01T00:00:00.000000000",
          "2016-03-02T00:00:00.000000000",
          "2016-03-03T00:00:00.000000000",
          "2016-03-04T00:00:00.000000000",
          "2016-03-05T00:00:00.000000000",
          "2016-03-06T00:00:00.000000000",
          "2016-03-07T00:00:00.000000000",
          "2016-03-08T00:00:00.000000000",
          "2016-03-09T00:00:00.000000000",
          "2016-03-10T00:00:00.000000000",
          "2016-03-11T00:00:00.000000000",
          "2016-03-12T00:00:00.000000000",
          "2016-03-13T00:00:00.000000000",
          "2016-03-14T00:00:00.000000000",
          "2016-03-15T00:00:00.000000000",
          "2016-03-16T00:00:00.000000000",
          "2016-03-17T00:00:00.000000000",
          "2016-03-18T00:00:00.000000000",
          "2016-03-19T00:00:00.000000000",
          "2016-03-20T00:00:00.000000000",
          "2016-03-21T00:00:00.000000000",
          "2016-03-22T00:00:00.000000000",
          "2016-03-23T00:00:00.000000000",
          "2016-03-24T00:00:00.000000000",
          "2016-03-25T00:00:00.000000000",
          "2016-03-26T00:00:00.000000000",
          "2016-03-27T00:00:00.000000000",
          "2016-03-28T00:00:00.000000000",
          "2016-03-29T00:00:00.000000000",
          "2016-03-30T00:00:00.000000000",
          "2016-03-31T00:00:00.000000000",
          "2016-04-01T00:00:00.000000000",
          "2016-04-02T00:00:00.000000000",
          "2016-04-03T00:00:00.000000000",
          "2016-04-04T00:00:00.000000000",
          "2016-04-05T00:00:00.000000000",
          "2016-04-06T00:00:00.000000000",
          "2016-04-07T00:00:00.000000000",
          "2016-04-08T00:00:00.000000000",
          "2016-04-09T00:00:00.000000000",
          "2016-04-10T00:00:00.000000000",
          "2016-04-11T00:00:00.000000000",
          "2016-04-12T00:00:00.000000000",
          "2016-04-13T00:00:00.000000000",
          "2016-04-14T00:00:00.000000000",
          "2016-04-15T00:00:00.000000000",
          "2016-04-16T00:00:00.000000000",
          "2016-04-17T00:00:00.000000000",
          "2016-04-18T00:00:00.000000000",
          "2016-04-19T00:00:00.000000000",
          "2016-04-20T00:00:00.000000000",
          "2016-04-21T00:00:00.000000000",
          "2016-04-22T00:00:00.000000000",
          "2016-04-23T00:00:00.000000000",
          "2016-04-24T00:00:00.000000000",
          "2016-04-25T00:00:00.000000000",
          "2016-04-26T00:00:00.000000000",
          "2016-04-27T00:00:00.000000000",
          "2016-04-28T00:00:00.000000000",
          "2016-04-29T00:00:00.000000000",
          "2016-04-30T00:00:00.000000000",
          "2016-05-01T00:00:00.000000000",
          "2016-05-02T00:00:00.000000000",
          "2016-05-03T00:00:00.000000000",
          "2016-05-04T00:00:00.000000000",
          "2016-05-05T00:00:00.000000000",
          "2016-05-06T00:00:00.000000000",
          "2016-05-07T00:00:00.000000000",
          "2016-05-08T00:00:00.000000000",
          "2016-05-09T00:00:00.000000000",
          "2016-05-10T00:00:00.000000000",
          "2016-05-11T00:00:00.000000000",
          "2016-05-12T00:00:00.000000000",
          "2016-05-13T00:00:00.000000000",
          "2016-05-14T00:00:00.000000000",
          "2016-05-15T00:00:00.000000000",
          "2016-05-16T00:00:00.000000000",
          "2016-05-17T00:00:00.000000000",
          "2016-05-18T00:00:00.000000000",
          "2016-05-19T00:00:00.000000000",
          "2016-05-20T00:00:00.000000000",
          "2016-05-21T00:00:00.000000000",
          "2016-05-22T00:00:00.000000000",
          "2016-05-23T00:00:00.000000000",
          "2016-05-24T00:00:00.000000000",
          "2016-05-25T00:00:00.000000000",
          "2016-05-26T00:00:00.000000000",
          "2016-05-27T00:00:00.000000000",
          "2016-05-28T00:00:00.000000000",
          "2016-05-29T00:00:00.000000000",
          "2016-05-30T00:00:00.000000000",
          "2016-05-31T00:00:00.000000000",
          "2016-06-01T00:00:00.000000000",
          "2016-06-02T00:00:00.000000000",
          "2016-06-03T00:00:00.000000000",
          "2016-06-04T00:00:00.000000000",
          "2016-06-05T00:00:00.000000000",
          "2016-06-06T00:00:00.000000000",
          "2016-06-07T00:00:00.000000000",
          "2016-06-08T00:00:00.000000000",
          "2016-06-09T00:00:00.000000000",
          "2016-06-10T00:00:00.000000000",
          "2016-06-11T00:00:00.000000000",
          "2016-06-12T00:00:00.000000000",
          "2016-06-13T00:00:00.000000000",
          "2016-06-14T00:00:00.000000000",
          "2016-06-15T00:00:00.000000000",
          "2016-06-16T00:00:00.000000000",
          "2016-06-17T00:00:00.000000000",
          "2016-06-18T00:00:00.000000000",
          "2016-06-19T00:00:00.000000000",
          "2016-06-20T00:00:00.000000000",
          "2016-06-21T00:00:00.000000000",
          "2016-06-22T00:00:00.000000000",
          "2016-06-23T00:00:00.000000000",
          "2016-06-24T00:00:00.000000000",
          "2016-06-25T00:00:00.000000000",
          "2016-06-26T00:00:00.000000000",
          "2016-06-27T00:00:00.000000000",
          "2016-06-28T00:00:00.000000000",
          "2016-06-29T00:00:00.000000000",
          "2016-06-30T00:00:00.000000000",
          "2016-07-01T00:00:00.000000000",
          "2016-07-02T00:00:00.000000000",
          "2016-07-03T00:00:00.000000000",
          "2016-07-04T00:00:00.000000000",
          "2016-07-05T00:00:00.000000000",
          "2016-07-06T00:00:00.000000000",
          "2016-07-07T00:00:00.000000000",
          "2016-07-08T00:00:00.000000000",
          "2016-07-09T00:00:00.000000000",
          "2016-07-10T00:00:00.000000000",
          "2016-07-11T00:00:00.000000000",
          "2016-07-12T00:00:00.000000000",
          "2016-07-13T00:00:00.000000000",
          "2016-07-14T00:00:00.000000000",
          "2016-07-15T00:00:00.000000000",
          "2016-07-16T00:00:00.000000000",
          "2016-07-17T00:00:00.000000000",
          "2016-07-18T00:00:00.000000000",
          "2016-07-19T00:00:00.000000000",
          "2016-07-20T00:00:00.000000000",
          "2016-07-21T00:00:00.000000000",
          "2016-07-22T00:00:00.000000000",
          "2016-07-23T00:00:00.000000000",
          "2016-07-24T00:00:00.000000000",
          "2016-07-25T00:00:00.000000000",
          "2016-07-26T00:00:00.000000000",
          "2016-07-27T00:00:00.000000000",
          "2016-07-28T00:00:00.000000000",
          "2016-07-29T00:00:00.000000000",
          "2016-07-30T00:00:00.000000000",
          "2016-07-31T00:00:00.000000000",
          "2016-08-01T00:00:00.000000000",
          "2016-08-02T00:00:00.000000000",
          "2016-08-03T00:00:00.000000000",
          "2016-08-04T00:00:00.000000000",
          "2016-08-05T00:00:00.000000000",
          "2016-08-06T00:00:00.000000000",
          "2016-08-07T00:00:00.000000000",
          "2016-08-08T00:00:00.000000000",
          "2016-08-09T00:00:00.000000000",
          "2016-08-10T00:00:00.000000000",
          "2016-08-11T00:00:00.000000000",
          "2016-08-12T00:00:00.000000000",
          "2016-08-13T00:00:00.000000000",
          "2016-08-14T00:00:00.000000000",
          "2016-08-15T00:00:00.000000000",
          "2016-08-16T00:00:00.000000000",
          "2016-08-17T00:00:00.000000000",
          "2016-08-18T00:00:00.000000000",
          "2016-08-19T00:00:00.000000000",
          "2016-08-20T00:00:00.000000000",
          "2016-08-21T00:00:00.000000000",
          "2016-08-22T00:00:00.000000000",
          "2016-08-23T00:00:00.000000000",
          "2016-08-24T00:00:00.000000000",
          "2016-08-25T00:00:00.000000000",
          "2016-08-26T00:00:00.000000000",
          "2016-08-27T00:00:00.000000000",
          "2016-08-28T00:00:00.000000000",
          "2016-08-29T00:00:00.000000000",
          "2016-08-30T00:00:00.000000000",
          "2016-08-31T00:00:00.000000000",
          "2016-09-01T00:00:00.000000000",
          "2016-09-02T00:00:00.000000000",
          "2016-09-03T00:00:00.000000000",
          "2016-09-04T00:00:00.000000000",
          "2016-09-05T00:00:00.000000000",
          "2016-09-06T00:00:00.000000000",
          "2016-09-07T00:00:00.000000000",
          "2016-09-08T00:00:00.000000000",
          "2016-09-09T00:00:00.000000000",
          "2016-09-10T00:00:00.000000000",
          "2016-09-11T00:00:00.000000000",
          "2016-09-12T00:00:00.000000000",
          "2016-09-13T00:00:00.000000000",
          "2016-09-14T00:00:00.000000000",
          "2016-09-15T00:00:00.000000000",
          "2016-09-16T00:00:00.000000000",
          "2016-09-17T00:00:00.000000000",
          "2016-09-18T00:00:00.000000000",
          "2016-09-19T00:00:00.000000000",
          "2016-09-20T00:00:00.000000000",
          "2016-09-21T00:00:00.000000000",
          "2016-09-22T00:00:00.000000000",
          "2016-09-23T00:00:00.000000000",
          "2016-09-24T00:00:00.000000000",
          "2016-09-25T00:00:00.000000000",
          "2016-09-26T00:00:00.000000000",
          "2016-09-27T00:00:00.000000000",
          "2016-09-28T00:00:00.000000000",
          "2016-09-29T00:00:00.000000000",
          "2016-09-30T00:00:00.000000000",
          "2016-10-01T00:00:00.000000000",
          "2016-10-02T00:00:00.000000000",
          "2016-10-03T00:00:00.000000000",
          "2016-10-04T00:00:00.000000000",
          "2016-10-05T00:00:00.000000000",
          "2016-10-06T00:00:00.000000000",
          "2016-10-07T00:00:00.000000000",
          "2016-10-08T00:00:00.000000000",
          "2016-10-09T00:00:00.000000000",
          "2016-10-10T00:00:00.000000000",
          "2016-10-11T00:00:00.000000000",
          "2016-10-12T00:00:00.000000000",
          "2016-10-13T00:00:00.000000000",
          "2016-10-14T00:00:00.000000000",
          "2016-10-15T00:00:00.000000000",
          "2016-10-16T00:00:00.000000000",
          "2016-10-17T00:00:00.000000000",
          "2016-10-18T00:00:00.000000000",
          "2016-10-19T00:00:00.000000000",
          "2016-10-20T00:00:00.000000000",
          "2016-10-21T00:00:00.000000000",
          "2016-10-22T00:00:00.000000000",
          "2016-10-23T00:00:00.000000000",
          "2016-10-24T00:00:00.000000000",
          "2016-10-25T00:00:00.000000000",
          "2016-10-26T00:00:00.000000000",
          "2016-10-27T00:00:00.000000000",
          "2016-10-28T00:00:00.000000000",
          "2016-10-29T00:00:00.000000000",
          "2016-10-30T00:00:00.000000000",
          "2016-10-31T00:00:00.000000000",
          "2016-11-01T00:00:00.000000000",
          "2016-11-02T00:00:00.000000000",
          "2016-11-03T00:00:00.000000000",
          "2016-11-04T00:00:00.000000000",
          "2016-11-05T00:00:00.000000000",
          "2016-11-06T00:00:00.000000000",
          "2016-11-07T00:00:00.000000000",
          "2016-11-08T00:00:00.000000000",
          "2016-11-09T00:00:00.000000000",
          "2016-11-10T00:00:00.000000000",
          "2016-11-11T00:00:00.000000000",
          "2016-11-12T00:00:00.000000000",
          "2016-11-13T00:00:00.000000000",
          "2016-11-14T00:00:00.000000000",
          "2016-11-15T00:00:00.000000000",
          "2016-11-16T00:00:00.000000000",
          "2016-11-17T00:00:00.000000000",
          "2016-11-18T00:00:00.000000000",
          "2016-11-19T00:00:00.000000000",
          "2016-11-20T00:00:00.000000000",
          "2016-11-21T00:00:00.000000000",
          "2016-11-22T00:00:00.000000000",
          "2016-11-23T00:00:00.000000000",
          "2016-11-24T00:00:00.000000000",
          "2016-11-25T00:00:00.000000000",
          "2016-11-26T00:00:00.000000000",
          "2016-11-27T00:00:00.000000000",
          "2016-11-28T00:00:00.000000000",
          "2016-11-29T00:00:00.000000000",
          "2016-11-30T00:00:00.000000000",
          "2016-12-01T00:00:00.000000000",
          "2016-12-02T00:00:00.000000000",
          "2016-12-03T00:00:00.000000000",
          "2016-12-04T00:00:00.000000000",
          "2016-12-05T00:00:00.000000000",
          "2016-12-06T00:00:00.000000000",
          "2016-12-07T00:00:00.000000000",
          "2016-12-08T00:00:00.000000000",
          "2016-12-09T00:00:00.000000000",
          "2016-12-10T00:00:00.000000000",
          "2016-12-11T00:00:00.000000000",
          "2016-12-12T00:00:00.000000000",
          "2016-12-13T00:00:00.000000000",
          "2016-12-14T00:00:00.000000000",
          "2016-12-15T00:00:00.000000000",
          "2016-12-16T00:00:00.000000000",
          "2016-12-17T00:00:00.000000000",
          "2016-12-18T00:00:00.000000000",
          "2016-12-19T00:00:00.000000000",
          "2016-12-20T00:00:00.000000000",
          "2016-12-21T00:00:00.000000000",
          "2016-12-22T00:00:00.000000000",
          "2016-12-23T00:00:00.000000000",
          "2016-12-24T00:00:00.000000000",
          "2016-12-26T00:00:00.000000000",
          "2016-12-27T00:00:00.000000000",
          "2016-12-28T00:00:00.000000000",
          "2016-12-29T00:00:00.000000000",
          "2016-12-30T00:00:00.000000000",
          "2016-12-31T00:00:00.000000000",
          "2017-01-01T00:00:00.000000000",
          "2017-01-02T00:00:00.000000000",
          "2017-01-03T00:00:00.000000000",
          "2017-01-04T00:00:00.000000000",
          "2017-01-05T00:00:00.000000000",
          "2017-01-06T00:00:00.000000000",
          "2017-01-07T00:00:00.000000000",
          "2017-01-08T00:00:00.000000000",
          "2017-01-09T00:00:00.000000000",
          "2017-01-10T00:00:00.000000000",
          "2017-01-11T00:00:00.000000000",
          "2017-01-12T00:00:00.000000000",
          "2017-01-13T00:00:00.000000000",
          "2017-01-14T00:00:00.000000000",
          "2017-01-15T00:00:00.000000000",
          "2017-01-16T00:00:00.000000000",
          "2017-01-17T00:00:00.000000000",
          "2017-01-18T00:00:00.000000000",
          "2017-01-19T00:00:00.000000000",
          "2017-01-20T00:00:00.000000000",
          "2017-01-21T00:00:00.000000000",
          "2017-01-22T00:00:00.000000000",
          "2017-01-23T00:00:00.000000000",
          "2017-01-24T00:00:00.000000000",
          "2017-01-25T00:00:00.000000000",
          "2017-01-26T00:00:00.000000000",
          "2017-01-27T00:00:00.000000000",
          "2017-01-28T00:00:00.000000000",
          "2017-01-29T00:00:00.000000000",
          "2017-01-30T00:00:00.000000000",
          "2017-01-31T00:00:00.000000000",
          "2017-02-01T00:00:00.000000000",
          "2017-02-02T00:00:00.000000000",
          "2017-02-03T00:00:00.000000000",
          "2017-02-04T00:00:00.000000000",
          "2017-02-05T00:00:00.000000000",
          "2017-02-06T00:00:00.000000000",
          "2017-02-07T00:00:00.000000000",
          "2017-02-08T00:00:00.000000000",
          "2017-02-09T00:00:00.000000000",
          "2017-02-10T00:00:00.000000000",
          "2017-02-11T00:00:00.000000000",
          "2017-02-12T00:00:00.000000000",
          "2017-02-13T00:00:00.000000000",
          "2017-02-14T00:00:00.000000000",
          "2017-02-15T00:00:00.000000000",
          "2017-02-16T00:00:00.000000000",
          "2017-02-17T00:00:00.000000000",
          "2017-02-18T00:00:00.000000000",
          "2017-02-19T00:00:00.000000000",
          "2017-02-20T00:00:00.000000000",
          "2017-02-21T00:00:00.000000000",
          "2017-02-22T00:00:00.000000000",
          "2017-02-23T00:00:00.000000000",
          "2017-02-24T00:00:00.000000000",
          "2017-02-25T00:00:00.000000000",
          "2017-02-26T00:00:00.000000000",
          "2017-02-27T00:00:00.000000000",
          "2017-02-28T00:00:00.000000000",
          "2017-03-01T00:00:00.000000000",
          "2017-03-02T00:00:00.000000000",
          "2017-03-03T00:00:00.000000000",
          "2017-03-04T00:00:00.000000000",
          "2017-03-05T00:00:00.000000000",
          "2017-03-06T00:00:00.000000000",
          "2017-03-07T00:00:00.000000000",
          "2017-03-08T00:00:00.000000000",
          "2017-03-09T00:00:00.000000000",
          "2017-03-10T00:00:00.000000000",
          "2017-03-11T00:00:00.000000000",
          "2017-03-12T00:00:00.000000000",
          "2017-03-13T00:00:00.000000000",
          "2017-03-14T00:00:00.000000000",
          "2017-03-15T00:00:00.000000000",
          "2017-03-16T00:00:00.000000000",
          "2017-03-17T00:00:00.000000000",
          "2017-03-18T00:00:00.000000000",
          "2017-03-19T00:00:00.000000000",
          "2017-03-20T00:00:00.000000000",
          "2017-03-21T00:00:00.000000000",
          "2017-03-22T00:00:00.000000000",
          "2017-03-23T00:00:00.000000000",
          "2017-03-24T00:00:00.000000000",
          "2017-03-25T00:00:00.000000000",
          "2017-03-26T00:00:00.000000000",
          "2017-03-27T00:00:00.000000000",
          "2017-03-28T00:00:00.000000000",
          "2017-03-29T00:00:00.000000000",
          "2017-03-30T00:00:00.000000000",
          "2017-03-31T00:00:00.000000000",
          "2017-04-01T00:00:00.000000000",
          "2017-04-02T00:00:00.000000000",
          "2017-04-03T00:00:00.000000000",
          "2017-04-04T00:00:00.000000000",
          "2017-04-05T00:00:00.000000000",
          "2017-04-06T00:00:00.000000000",
          "2017-04-07T00:00:00.000000000",
          "2017-04-08T00:00:00.000000000",
          "2017-04-09T00:00:00.000000000",
          "2017-04-10T00:00:00.000000000",
          "2017-04-11T00:00:00.000000000",
          "2017-04-12T00:00:00.000000000",
          "2017-04-13T00:00:00.000000000",
          "2017-04-14T00:00:00.000000000",
          "2017-04-15T00:00:00.000000000",
          "2017-04-16T00:00:00.000000000",
          "2017-04-17T00:00:00.000000000",
          "2017-04-18T00:00:00.000000000",
          "2017-04-19T00:00:00.000000000",
          "2017-04-20T00:00:00.000000000",
          "2017-04-21T00:00:00.000000000",
          "2017-04-22T00:00:00.000000000",
          "2017-04-23T00:00:00.000000000",
          "2017-04-24T00:00:00.000000000",
          "2017-04-25T00:00:00.000000000",
          "2017-04-26T00:00:00.000000000",
          "2017-04-27T00:00:00.000000000",
          "2017-04-28T00:00:00.000000000",
          "2017-04-29T00:00:00.000000000",
          "2017-04-30T00:00:00.000000000",
          "2017-05-01T00:00:00.000000000",
          "2017-05-02T00:00:00.000000000",
          "2017-05-03T00:00:00.000000000",
          "2017-05-04T00:00:00.000000000",
          "2017-05-05T00:00:00.000000000",
          "2017-05-06T00:00:00.000000000",
          "2017-05-07T00:00:00.000000000",
          "2017-05-08T00:00:00.000000000",
          "2017-05-09T00:00:00.000000000",
          "2017-05-10T00:00:00.000000000",
          "2017-05-11T00:00:00.000000000",
          "2017-05-12T00:00:00.000000000",
          "2017-05-13T00:00:00.000000000",
          "2017-05-14T00:00:00.000000000",
          "2017-05-15T00:00:00.000000000",
          "2017-05-16T00:00:00.000000000",
          "2017-05-17T00:00:00.000000000",
          "2017-05-18T00:00:00.000000000",
          "2017-05-19T00:00:00.000000000",
          "2017-05-20T00:00:00.000000000",
          "2017-05-21T00:00:00.000000000",
          "2017-05-22T00:00:00.000000000",
          "2017-05-23T00:00:00.000000000",
          "2017-05-24T00:00:00.000000000",
          "2017-05-25T00:00:00.000000000",
          "2017-05-26T00:00:00.000000000",
          "2017-05-27T00:00:00.000000000",
          "2017-05-28T00:00:00.000000000",
          "2017-05-29T00:00:00.000000000",
          "2017-05-30T00:00:00.000000000",
          "2017-05-31T00:00:00.000000000",
          "2017-06-01T00:00:00.000000000",
          "2017-06-02T00:00:00.000000000",
          "2017-06-03T00:00:00.000000000",
          "2017-06-04T00:00:00.000000000",
          "2017-06-05T00:00:00.000000000",
          "2017-06-06T00:00:00.000000000",
          "2017-06-07T00:00:00.000000000",
          "2017-06-08T00:00:00.000000000",
          "2017-06-09T00:00:00.000000000",
          "2017-06-10T00:00:00.000000000",
          "2017-06-11T00:00:00.000000000",
          "2017-06-12T00:00:00.000000000",
          "2017-06-13T00:00:00.000000000",
          "2017-06-14T00:00:00.000000000",
          "2017-06-15T00:00:00.000000000",
          "2017-06-16T00:00:00.000000000",
          "2017-06-17T00:00:00.000000000",
          "2017-06-18T00:00:00.000000000",
          "2017-06-19T00:00:00.000000000",
          "2017-06-20T00:00:00.000000000",
          "2017-06-21T00:00:00.000000000",
          "2017-06-22T00:00:00.000000000",
          "2017-06-23T00:00:00.000000000",
          "2017-06-24T00:00:00.000000000",
          "2017-06-25T00:00:00.000000000",
          "2017-06-26T00:00:00.000000000",
          "2017-06-27T00:00:00.000000000",
          "2017-06-28T00:00:00.000000000",
          "2017-06-29T00:00:00.000000000",
          "2017-06-30T00:00:00.000000000",
          "2017-07-01T00:00:00.000000000",
          "2017-07-02T00:00:00.000000000",
          "2017-07-03T00:00:00.000000000",
          "2017-07-04T00:00:00.000000000",
          "2017-07-05T00:00:00.000000000",
          "2017-07-06T00:00:00.000000000",
          "2017-07-07T00:00:00.000000000",
          "2017-07-08T00:00:00.000000000",
          "2017-07-09T00:00:00.000000000",
          "2017-07-10T00:00:00.000000000",
          "2017-07-11T00:00:00.000000000",
          "2017-07-12T00:00:00.000000000",
          "2017-07-13T00:00:00.000000000",
          "2017-07-14T00:00:00.000000000",
          "2017-07-15T00:00:00.000000000",
          "2017-07-16T00:00:00.000000000",
          "2017-07-17T00:00:00.000000000",
          "2017-07-18T00:00:00.000000000",
          "2017-07-19T00:00:00.000000000",
          "2017-07-20T00:00:00.000000000",
          "2017-07-21T00:00:00.000000000",
          "2017-07-22T00:00:00.000000000",
          "2017-07-23T00:00:00.000000000",
          "2017-07-24T00:00:00.000000000",
          "2017-07-25T00:00:00.000000000",
          "2017-07-26T00:00:00.000000000",
          "2017-07-27T00:00:00.000000000",
          "2017-07-28T00:00:00.000000000",
          "2017-07-29T00:00:00.000000000",
          "2017-07-30T00:00:00.000000000",
          "2017-07-31T00:00:00.000000000",
          "2017-08-01T00:00:00.000000000",
          "2017-08-02T00:00:00.000000000",
          "2017-08-03T00:00:00.000000000",
          "2017-08-04T00:00:00.000000000",
          "2017-08-05T00:00:00.000000000",
          "2017-08-06T00:00:00.000000000",
          "2017-08-07T00:00:00.000000000",
          "2017-08-08T00:00:00.000000000",
          "2017-08-09T00:00:00.000000000",
          "2017-08-10T00:00:00.000000000",
          "2017-08-11T00:00:00.000000000",
          "2017-08-12T00:00:00.000000000",
          "2017-08-13T00:00:00.000000000",
          "2017-08-14T00:00:00.000000000",
          "2017-08-15T00:00:00.000000000"
         ],
         "xaxis": "x",
         "y": {
          "bdata": "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",
          "dtype": "f8"
         },
         "yaxis": "y"
        }
       ],
       "layout": {
        "template": {
         "data": {
          "bar": [
           {
            "error_x": {
             "color": "#2a3f5f"
            },
            "error_y": {
             "color": "#2a3f5f"
            },
            "marker": {
             "line": {
              "color": "#E5ECF6",
              "width": 0.5
             },
             "pattern": {
              "fillmode": "overlay",
              "size": 10,
              "solidity": 0.2
             }
            },
            "type": "bar"
           }
          ],
          "barpolar": [
           {
            "marker": {
             "line": {
              "color": "#E5ECF6",
              "width": 0.5
             },
             "pattern": {
              "fillmode": "overlay",
              "size": 10,
              "solidity": 0.2
             }
            },
            "type": "barpolar"
           }
          ],
          "carpet": [
           {
            "aaxis": {
             "endlinecolor": "#2a3f5f",
             "gridcolor": "white",
             "linecolor": "white",
             "minorgridcolor": "white",
             "startlinecolor": "#2a3f5f"
            },
            "baxis": {
             "endlinecolor": "#2a3f5f",
             "gridcolor": "white",
             "linecolor": "white",
             "minorgridcolor": "white",
             "startlinecolor": "#2a3f5f"
            },
            "type": "carpet"
           }
          ],
          "choropleth": [
           {
            "colorbar": {
             "outlinewidth": 0,
             "ticks": ""
            },
            "type": "choropleth"
           }
          ],
          "contour": [
           {
            "colorbar": {
             "outlinewidth": 0,
             "ticks": ""
            },
            "colorscale": [
             [
              0,
              "#0d0887"
             ],
             [
              0.1111111111111111,
              "#46039f"
             ],
             [
              0.2222222222222222,
              "#7201a8"
             ],
             [
              0.3333333333333333,
              "#9c179e"
             ],
             [
              0.4444444444444444,
              "#bd3786"
             ],
             [
              0.5555555555555556,
              "#d8576b"
             ],
             [
              0.6666666666666666,
              "#ed7953"
             ],
             [
              0.7777777777777778,
              "#fb9f3a"
             ],
             [
              0.8888888888888888,
              "#fdca26"
             ],
             [
              1,
              "#f0f921"
             ]
            ],
            "type": "contour"
           }
          ],
          "contourcarpet": [
           {
            "colorbar": {
             "outlinewidth": 0,
             "ticks": ""
            },
            "type": "contourcarpet"
           }
          ],
          "heatmap": [
           {
            "colorbar": {
             "outlinewidth": 0,
             "ticks": ""
            },
            "colorscale": [
             [
              0,
              "#0d0887"
             ],
             [
              0.1111111111111111,
              "#46039f"
             ],
             [
              0.2222222222222222,
              "#7201a8"
             ],
             [
              0.3333333333333333,
              "#9c179e"
             ],
             [
              0.4444444444444444,
              "#bd3786"
             ],
             [
              0.5555555555555556,
              "#d8576b"
             ],
             [
              0.6666666666666666,
              "#ed7953"
             ],
             [
              0.7777777777777778,
              "#fb9f3a"
             ],
             [
              0.8888888888888888,
              "#fdca26"
             ],
             [
              1,
              "#f0f921"
             ]
            ],
            "type": "heatmap"
           }
          ],
          "histogram": [
           {
            "marker": {
             "pattern": {
              "fillmode": "overlay",
              "size": 10,
              "solidity": 0.2
             }
            },
            "type": "histogram"
           }
          ],
          "histogram2d": [
           {
            "colorbar": {
             "outlinewidth": 0,
             "ticks": ""
            },
            "colorscale": [
             [
              0,
              "#0d0887"
             ],
             [
              0.1111111111111111,
              "#46039f"
             ],
             [
              0.2222222222222222,
              "#7201a8"
             ],
             [
              0.3333333333333333,
              "#9c179e"
             ],
             [
              0.4444444444444444,
              "#bd3786"
             ],
             [
              0.5555555555555556,
              "#d8576b"
             ],
             [
              0.6666666666666666,
              "#ed7953"
             ],
             [
              0.7777777777777778,
              "#fb9f3a"
             ],
             [
              0.8888888888888888,
              "#fdca26"
             ],
             [
              1,
              "#f0f921"
             ]
            ],
            "type": "histogram2d"
           }
          ],
          "histogram2dcontour": [
           {
            "colorbar": {
             "outlinewidth": 0,
             "ticks": ""
            },
            "colorscale": [
             [
              0,
              "#0d0887"
             ],
             [
              0.1111111111111111,
              "#46039f"
             ],
             [
              0.2222222222222222,
              "#7201a8"
             ],
             [
              0.3333333333333333,
              "#9c179e"
             ],
             [
              0.4444444444444444,
              "#bd3786"
             ],
             [
              0.5555555555555556,
              "#d8576b"
             ],
             [
              0.6666666666666666,
              "#ed7953"
             ],
             [
              0.7777777777777778,
              "#fb9f3a"
             ],
             [
              0.8888888888888888,
              "#fdca26"
             ],
             [
              1,
              "#f0f921"
             ]
            ],
            "type": "histogram2dcontour"
           }
          ],
          "mesh3d": [
           {
            "colorbar": {
             "outlinewidth": 0,
             "ticks": ""
            },
            "type": "mesh3d"
           }
          ],
          "parcoords": [
           {
            "line": {
             "colorbar": {
              "outlinewidth": 0,
              "ticks": ""
             }
            },
            "type": "parcoords"
           }
          ],
          "pie": [
           {
            "automargin": true,
            "type": "pie"
           }
          ],
          "scatter": [
           {
            "fillpattern": {
             "fillmode": "overlay",
             "size": 10,
             "solidity": 0.2
            },
            "type": "scatter"
           }
          ],
          "scatter3d": [
           {
            "line": {
             "colorbar": {
              "outlinewidth": 0,
              "ticks": ""
             }
            },
            "marker": {
             "colorbar": {
              "outlinewidth": 0,
              "ticks": ""
             }
            },
            "type": "scatter3d"
           }
          ],
          "scattercarpet": [
           {
            "marker": {
             "colorbar": {
              "outlinewidth": 0,
              "ticks": ""
             }
            },
            "type": "scattercarpet"
           }
          ],
          "scattergeo": [
           {
            "marker": {
             "colorbar": {
              "outlinewidth": 0,
              "ticks": ""
             }
            },
            "type": "scattergeo"
           }
          ],
          "scattergl": [
           {
            "marker": {
             "colorbar": {
              "outlinewidth": 0,
              "ticks": ""
             }
            },
            "type": "scattergl"
           }
          ],
          "scattermap": [
           {
            "marker": {
             "colorbar": {
              "outlinewidth": 0,
              "ticks": ""
             }
            },
            "type": "scattermap"
           }
          ],
          "scattermapbox": [
           {
            "marker": {
             "colorbar": {
              "outlinewidth": 0,
              "ticks": ""
             }
            },
            "type": "scattermapbox"
           }
          ],
          "scatterpolar": [
           {
            "marker": {
             "colorbar": {
              "outlinewidth": 0,
              "ticks": ""
             }
            },
            "type": "scatterpolar"
           }
          ],
          "scatterpolargl": [
           {
            "marker": {
             "colorbar": {
              "outlinewidth": 0,
              "ticks": ""
             }
            },
            "type": "scatterpolargl"
           }
          ],
          "scatterternary": [
           {
            "marker": {
             "colorbar": {
              "outlinewidth": 0,
              "ticks": ""
             }
            },
            "type": "scatterternary"
           }
          ],
          "surface": [
           {
            "colorbar": {
             "outlinewidth": 0,
             "ticks": ""
            },
            "colorscale": [
             [
              0,
              "#0d0887"
             ],
             [
              0.1111111111111111,
              "#46039f"
             ],
             [
              0.2222222222222222,
              "#7201a8"
             ],
             [
              0.3333333333333333,
              "#9c179e"
             ],
             [
              0.4444444444444444,
              "#bd3786"
             ],
             [
              0.5555555555555556,
              "#d8576b"
             ],
             [
              0.6666666666666666,
              "#ed7953"
             ],
             [
              0.7777777777777778,
              "#fb9f3a"
             ],
             [
              0.8888888888888888,
              "#fdca26"
             ],
             [
              1,
              "#f0f921"
             ]
            ],
            "type": "surface"
           }
          ],
          "table": [
           {
            "cells": {
             "fill": {
              "color": "#EBF0F8"
             },
             "line": {
              "color": "white"
             }
            },
            "header": {
             "fill": {
              "color": "#C8D4E3"
             },
             "line": {
              "color": "white"
             }
            },
            "type": "table"
           }
          ]
         },
         "layout": {
          "annotationdefaults": {
           "arrowcolor": "#2a3f5f",
           "arrowhead": 0,
           "arrowwidth": 1
          },
          "autotypenumbers": "strict",
          "coloraxis": {
           "colorbar": {
            "outlinewidth": 0,
            "ticks": ""
           }
          },
          "colorscale": {
           "diverging": [
            [
             0,
             "#8e0152"
            ],
            [
             0.1,
             "#c51b7d"
            ],
            [
             0.2,
             "#de77ae"
            ],
            [
             0.3,
             "#f1b6da"
            ],
            [
             0.4,
             "#fde0ef"
            ],
            [
             0.5,
             "#f7f7f7"
            ],
            [
             0.6,
             "#e6f5d0"
            ],
            [
             0.7,
             "#b8e186"
            ],
            [
             0.8,
             "#7fbc41"
            ],
            [
             0.9,
             "#4d9221"
            ],
            [
             1,
             "#276419"
            ]
           ],
           "sequential": [
            [
             0,
             "#0d0887"
            ],
            [
             0.1111111111111111,
             "#46039f"
            ],
            [
             0.2222222222222222,
             "#7201a8"
            ],
            [
             0.3333333333333333,
             "#9c179e"
            ],
            [
             0.4444444444444444,
             "#bd3786"
            ],
            [
             0.5555555555555556,
             "#d8576b"
            ],
            [
             0.6666666666666666,
             "#ed7953"
            ],
            [
             0.7777777777777778,
             "#fb9f3a"
            ],
            [
             0.8888888888888888,
             "#fdca26"
            ],
            [
             1,
             "#f0f921"
            ]
           ],
           "sequentialminus": [
            [
             0,
             "#0d0887"
            ],
            [
             0.1111111111111111,
             "#46039f"
            ],
            [
             0.2222222222222222,
             "#7201a8"
            ],
            [
             0.3333333333333333,
             "#9c179e"
            ],
            [
             0.4444444444444444,
             "#bd3786"
            ],
            [
             0.5555555555555556,
             "#d8576b"
            ],
            [
             0.6666666666666666,
             "#ed7953"
            ],
            [
             0.7777777777777778,
             "#fb9f3a"
            ],
            [
             0.8888888888888888,
             "#fdca26"
            ],
            [
             1,
             "#f0f921"
            ]
           ]
          },
          "colorway": [
           "#636efa",
           "#EF553B",
           "#00cc96",
           "#ab63fa",
           "#FFA15A",
           "#19d3f3",
           "#FF6692",
           "#B6E880",
           "#FF97FF",
           "#FECB52"
          ],
          "font": {
           "color": "#2a3f5f"
          },
          "geo": {
           "bgcolor": "white",
           "lakecolor": "white",
           "landcolor": "#E5ECF6",
           "showlakes": true,
           "showland": true,
           "subunitcolor": "white"
          },
          "hoverlabel": {
           "align": "left"
          },
          "hovermode": "closest",
          "mapbox": {
           "style": "light"
          },
          "paper_bgcolor": "white",
          "plot_bgcolor": "#E5ECF6",
          "polar": {
           "angularaxis": {
            "gridcolor": "white",
            "linecolor": "white",
            "ticks": ""
           },
           "bgcolor": "#E5ECF6",
           "radialaxis": {
            "gridcolor": "white",
            "linecolor": "white",
            "ticks": ""
           }
          },
          "scene": {
           "xaxis": {
            "backgroundcolor": "#E5ECF6",
            "gridcolor": "white",
            "gridwidth": 2,
            "linecolor": "white",
            "showbackground": true,
            "ticks": "",
            "zerolinecolor": "white"
           },
           "yaxis": {
            "backgroundcolor": "#E5ECF6",
            "gridcolor": "white",
            "gridwidth": 2,
            "linecolor": "white",
            "showbackground": true,
            "ticks": "",
            "zerolinecolor": "white"
           },
           "zaxis": {
            "backgroundcolor": "#E5ECF6",
            "gridcolor": "white",
            "gridwidth": 2,
            "linecolor": "white",
            "showbackground": true,
            "ticks": "",
            "zerolinecolor": "white"
           }
          },
          "shapedefaults": {
           "line": {
            "color": "#2a3f5f"
           }
          },
          "ternary": {
           "aaxis": {
            "gridcolor": "white",
            "linecolor": "white",
            "ticks": ""
           },
           "baxis": {
            "gridcolor": "white",
            "linecolor": "white",
            "ticks": ""
           },
           "bgcolor": "#E5ECF6",
           "caxis": {
            "gridcolor": "white",
            "linecolor": "white",
            "ticks": ""
           }
          },
          "title": {
           "x": 0.05
          },
          "xaxis": {
           "automargin": true,
           "gridcolor": "white",
           "linecolor": "white",
           "ticks": "",
           "title": {
            "standoff": 15
           },
           "zerolinecolor": "white",
           "zerolinewidth": 2
          },
          "yaxis": {
           "automargin": true,
           "gridcolor": "white",
           "linecolor": "white",
           "ticks": "",
           "title": {
            "standoff": 15
           },
           "zerolinecolor": "white",
           "zerolinewidth": 2
          }
         }
        },
        "title": {
         "text": "Moving Average Over Time"
        },
        "xaxis": {
         "title": {
          "text": "Sales"
         }
        },
        "yaxis": {
         "title": {
          "text": "Date"
         }
        }
       }
      }
     },
     "metadata": {},
     "output_type": "display_data"
    }
   ],
   "source": [
    "fig1 = px.scatter(daily_df, x='date', y='sales')\n",
    "fig2 = px.line(daily_df, x='date', y='moving_average', color_discrete_sequence=['red'])\n",
    "fig3 = go.Figure(data=fig1.data + fig2.data)\n",
    "fig3 = fig3.update_layout(xaxis_title=\"Sales\", yaxis_title=\"Date\", title = 'Moving Average Over Time')\n",
    "fig3.show()"
   ]
  },
  {
   "cell_type": "code",
   "execution_count": 128,
   "id": "092720c6",
   "metadata": {},
   "outputs": [
    {
     "data": {
      "text/plain": [
       "cluster\n",
       "3     389004\n",
       "10    333432\n",
       "6     333432\n",
       "15    277860\n",
       "13    222288\n",
       "14    222288\n",
       "11    166716\n",
       "4     166716\n",
       "8     166716\n",
       "1     166716\n",
       "9     111144\n",
       "2     111144\n",
       "7     111144\n",
       "16     55572\n",
       "5      55572\n",
       "12     55572\n",
       "17     55572\n",
       "Name: count, dtype: int64"
      ]
     },
     "execution_count": 128,
     "metadata": {},
     "output_type": "execute_result"
    }
   ],
   "source": [
    "df['cluster'].value_counts()"
   ]
  },
  {
   "cell_type": "code",
   "execution_count": 129,
   "id": "9eed3f16",
   "metadata": {},
   "outputs": [],
   "source": [
    "df['year'] = df['date'].dt.year\n",
    "avg_sales_year_family = df.groupby(['year', 'family'])['sales'].mean().reset_index()"
   ]
  },
  {
   "cell_type": "code",
   "execution_count": 130,
   "id": "cad59fed",
   "metadata": {},
   "outputs": [
    {
     "data": {
      "application/vnd.plotly.v1+json": {
       "config": {
        "plotlyServerURL": "https://plot.ly"
       },
       "data": [
        {
         "hovertemplate": "family=AUTOMOTIVE<br>year=%{x}<br>sales=%{y}<extra></extra>",
         "legendgroup": "AUTOMOTIVE",
         "line": {
          "color": "#636efa",
          "dash": "solid"
         },
         "marker": {
          "symbol": "circle"
         },
         "mode": "lines+markers",
         "name": "AUTOMOTIVE",
         "orientation": "v",
         "showlegend": true,
         "type": "scatter",
         "x": {
          "bdata": "3QcAAN4HAADfBwAA4AcAAOEHAAA=",
          "dtype": "i4"
         },
         "xaxis": "x33",
         "y": {
          "bdata": "m1T076nJEkDyegSdJS8WQKRGaqRG6hlAuxbrWqxrG0CZa/DE5bMdQA==",
          "dtype": "f8"
         },
         "yaxis": "y33"
        },
        {
         "hovertemplate": "family=BABY CARE<br>year=%{x}<br>sales=%{y}<extra></extra>",
         "legendgroup": "BABY CARE",
         "line": {
          "color": "#EF553B",
          "dash": "solid"
         },
         "marker": {
          "symbol": "circle"
         },
         "mode": "lines+markers",
         "name": "BABY CARE",
         "orientation": "v",
         "showlegend": true,
         "type": "scatter",
         "x": {
          "bdata": "3QcAAN4HAADfBwAA4AcAAOEHAAA=",
          "dtype": "i4"
         },
         "xaxis": "x34",
         "y": {
          "bdata": "AAAAAAAAAAD7AXWlrB+gP58+P0np6bM/ZAxd/kDG0D8VQ1p/h5TMPw==",
          "dtype": "f8"
         },
         "yaxis": "y34"
        },
        {
         "hovertemplate": "family=BEAUTY<br>year=%{x}<br>sales=%{y}<extra></extra>",
         "legendgroup": "BEAUTY",
         "line": {
          "color": "#00cc96",
          "dash": "solid"
         },
         "marker": {
          "symbol": "circle"
         },
         "mode": "lines+markers",
         "name": "BEAUTY",
         "orientation": "v",
         "showlegend": true,
         "type": "scatter",
         "x": {
          "bdata": "3QcAAN4HAADfBwAA4AcAAOEHAAA=",
          "dtype": "i4"
         },
         "xaxis": "x35",
         "y": {
          "bdata": "fXTy0clHA0Adekxyz6EGQIrvTTSa+AtAAwN0cjYwFEB6j+UI28QVQA==",
          "dtype": "f8"
         },
         "yaxis": "y35"
        },
        {
         "hovertemplate": "family=BEVERAGES<br>year=%{x}<br>sales=%{y}<extra></extra>",
         "legendgroup": "BEVERAGES",
         "line": {
          "color": "#ab63fa",
          "dash": "solid"
         },
         "marker": {
          "symbol": "circle"
         },
         "mode": "lines+markers",
         "name": "BEVERAGES",
         "orientation": "v",
         "showlegend": true,
         "type": "scatter",
         "x": {
          "bdata": "3QcAAN4HAADfBwAA4AcAAOEHAAA=",
          "dtype": "i4"
         },
         "xaxis": "x36",
         "y": {
          "bdata": "PXguks1PkUAOONa44lCgQPmWb/lWP6NACn70xJ55qEAiAwUIQAOsQA==",
          "dtype": "f8"
         },
         "yaxis": "y36"
        },
        {
         "hovertemplate": "family=BOOKS<br>year=%{x}<br>sales=%{y}<extra></extra>",
         "legendgroup": "BOOKS",
         "line": {
          "color": "#FFA15A",
          "dash": "solid"
         },
         "marker": {
          "symbol": "circle"
         },
         "mode": "lines+markers",
         "name": "BOOKS",
         "orientation": "v",
         "showlegend": true,
         "type": "scatter",
         "x": {
          "bdata": "3QcAAN4HAADfBwAA4AcAAOEHAAA=",
          "dtype": "i4"
         },
         "xaxis": "x29",
         "y": {
          "bdata": "AAAAAAAAAAAAAAAAAAAAAAAAAAAAAAAA/qtdFt2/yj/qdYl1IjfIPw==",
          "dtype": "f8"
         },
         "yaxis": "y29"
        },
        {
         "hovertemplate": "family=BREAD/BAKERY<br>year=%{x}<br>sales=%{y}<extra></extra>",
         "legendgroup": "BREAD/BAKERY",
         "line": {
          "color": "#19d3f3",
          "dash": "solid"
         },
         "marker": {
          "symbol": "circle"
         },
         "mode": "lines+markers",
         "name": "BREAD/BAKERY",
         "orientation": "v",
         "showlegend": true,
         "type": "scatter",
         "x": {
          "bdata": "3QcAAN4HAADfBwAA4AcAAOEHAAA=",
          "dtype": "i4"
         },
         "xaxis": "x30",
         "y": {
          "bdata": "76mJDp47dkBPKtZNoyl6QI10oNEcOn9AxfhtemJBgEDIhGFEQ3CBQA==",
          "dtype": "f8"
         },
         "yaxis": "y30"
        },
        {
         "hovertemplate": "family=CELEBRATION<br>year=%{x}<br>sales=%{y}<extra></extra>",
         "legendgroup": "CELEBRATION",
         "line": {
          "color": "#FF6692",
          "dash": "solid"
         },
         "marker": {
          "symbol": "circle"
         },
         "mode": "lines+markers",
         "name": "CELEBRATION",
         "orientation": "v",
         "showlegend": true,
         "type": "scatter",
         "x": {
          "bdata": "3QcAAN4HAADfBwAA4AcAAOEHAAA=",
          "dtype": "i4"
         },
         "xaxis": "x31",
         "y": {
          "bdata": "AAAAAAAAAACfn6T09PkcQBZjMRZjsSFAlDToazpJLEBZOGuJhhsrQA==",
          "dtype": "f8"
         },
         "yaxis": "y31"
        },
        {
         "hovertemplate": "family=CLEANING<br>year=%{x}<br>sales=%{y}<extra></extra>",
         "legendgroup": "CLEANING",
         "line": {
          "color": "#B6E880",
          "dash": "solid"
         },
         "marker": {
          "symbol": "circle"
         },
         "mode": "lines+markers",
         "name": "CLEANING",
         "orientation": "v",
         "showlegend": true,
         "type": "scatter",
         "x": {
          "bdata": "3QcAAN4HAADfBwAA4AcAAOEHAAA=",
          "dtype": "i4"
         },
         "xaxis": "x32",
         "y": {
          "bdata": "1xT4K2rYi0D4h3/4h/+OQDIgAzKgypFA5pYx9V/wkUDwf5n1iMGTQA==",
          "dtype": "f8"
         },
         "yaxis": "y32"
        },
        {
         "hovertemplate": "family=DAIRY<br>year=%{x}<br>sales=%{y}<extra></extra>",
         "legendgroup": "DAIRY",
         "line": {
          "color": "#FF97FF",
          "dash": "solid"
         },
         "marker": {
          "symbol": "circle"
         },
         "mode": "lines+markers",
         "name": "DAIRY",
         "orientation": "v",
         "showlegend": true,
         "type": "scatter",
         "x": {
          "bdata": "3QcAAN4HAADfBwAA4AcAAOEHAAA=",
          "dtype": "i4"
         },
         "xaxis": "x25",
         "y": {
          "bdata": "F3dxF3ebeEAj1Ox3KXOFQLgqVg2AlYdArNR7H7zmikBvwuETZDSNQA==",
          "dtype": "f8"
         },
         "yaxis": "y25"
        },
        {
         "hovertemplate": "family=DELI<br>year=%{x}<br>sales=%{y}<extra></extra>",
         "legendgroup": "DELI",
         "line": {
          "color": "#FECB52",
          "dash": "solid"
         },
         "marker": {
          "symbol": "circle"
         },
         "mode": "lines+markers",
         "name": "DELI",
         "orientation": "v",
         "showlegend": true,
         "type": "scatter",
         "x": {
          "bdata": "3QcAAN4HAADfBwAA4AcAAOEHAAA=",
          "dtype": "i4"
         },
         "xaxis": "x26",
         "y": {
          "bdata": "weH6jqsqaUDIRzzzY4JtQEb8HuhpvnJACyjWBA8sckAs7swCndFzQA==",
          "dtype": "f8"
         },
         "yaxis": "y26"
        },
        {
         "hovertemplate": "family=EGGS<br>year=%{x}<br>sales=%{y}<extra></extra>",
         "legendgroup": "EGGS",
         "line": {
          "color": "#636efa",
          "dash": "solid"
         },
         "marker": {
          "symbol": "circle"
         },
         "mode": "lines+markers",
         "name": "EGGS",
         "orientation": "v",
         "showlegend": true,
         "type": "scatter",
         "x": {
          "bdata": "3QcAAN4HAADfBwAA4AcAAOEHAAA=",
          "dtype": "i4"
         },
         "xaxis": "x27",
         "y": {
          "bdata": "RmVURmXYYEAcD0fGuTFlQHRER3REl2ZAG4fRgqwRZ0APw+J7CqVoQA==",
          "dtype": "f8"
         },
         "yaxis": "y27"
        },
        {
         "hovertemplate": "family=FROZEN FOODS<br>year=%{x}<br>sales=%{y}<extra></extra>",
         "legendgroup": "FROZEN FOODS",
         "line": {
          "color": "#EF553B",
          "dash": "solid"
         },
         "marker": {
          "symbol": "circle"
         },
         "mode": "lines+markers",
         "name": "FROZEN FOODS",
         "orientation": "v",
         "showlegend": true,
         "type": "scatter",
         "x": {
          "bdata": "3QcAAN4HAADfBwAA4AcAAOEHAAA=",
          "dtype": "i4"
         },
         "xaxis": "x28",
         "y": {
          "bdata": "NUmapDqfX0DeBtVSZTliQH4kQbvQi2ZAmLZ6Go9fZkCgTXjiKtBgQA==",
          "dtype": "f8"
         },
         "yaxis": "y28"
        },
        {
         "hovertemplate": "family=GROCERY I<br>year=%{x}<br>sales=%{y}<extra></extra>",
         "legendgroup": "GROCERY I",
         "line": {
          "color": "#00cc96",
          "dash": "solid"
         },
         "marker": {
          "symbol": "circle"
         },
         "mode": "lines+markers",
         "name": "GROCERY I",
         "orientation": "v",
         "showlegend": true,
         "type": "scatter",
         "x": {
          "bdata": "3QcAAN4HAADfBwAA4AcAAOEHAAA=",
          "dtype": "i4"
         },
         "xaxis": "x21",
         "y": {
          "bdata": "/dd//Rcwp0BiErJGmhmqQAVXNvhCTK5Ac/j5cagPsUAJdF6khTWyQA==",
          "dtype": "f8"
         },
         "yaxis": "y21"
        },
        {
         "hovertemplate": "family=GROCERY II<br>year=%{x}<br>sales=%{y}<extra></extra>",
         "legendgroup": "GROCERY II",
         "line": {
          "color": "#ab63fa",
          "dash": "solid"
         },
         "marker": {
          "symbol": "circle"
         },
         "mode": "lines+markers",
         "name": "GROCERY II",
         "orientation": "v",
         "showlegend": true,
         "type": "scatter",
         "x": {
          "bdata": "3QcAAN4HAADfBwAA4AcAAOEHAAA=",
          "dtype": "i4"
         },
         "xaxis": "x22",
         "y": {
          "bdata": "x8jhcXMsM0A1n0jfSXM0QKWif09NSjdASE0fNX3UNECJuQZPXL45QA==",
          "dtype": "f8"
         },
         "yaxis": "y22"
        },
        {
         "hovertemplate": "family=HARDWARE<br>year=%{x}<br>sales=%{y}<extra></extra>",
         "legendgroup": "HARDWARE",
         "line": {
          "color": "#FFA15A",
          "dash": "solid"
         },
         "marker": {
          "symbol": "circle"
         },
         "mode": "lines+markers",
         "name": "HARDWARE",
         "orientation": "v",
         "showlegend": true,
         "type": "scatter",
         "x": {
          "bdata": "3QcAAN4HAADfBwAA4AcAAOEHAAA=",
          "dtype": "i4"
         },
         "xaxis": "x23",
         "y": {
          "bdata": "ukg2D56L7D9D4b6YNhTyP8Tj5hg5PPI/WzfTQ7N18z+6kOfYJ6b2Pw==",
          "dtype": "f8"
         },
         "yaxis": "y23"
        },
        {
         "hovertemplate": "family=HOME AND KITCHEN I<br>year=%{x}<br>sales=%{y}<extra></extra>",
         "legendgroup": "HOME AND KITCHEN I",
         "line": {
          "color": "#19d3f3",
          "dash": "solid"
         },
         "marker": {
          "symbol": "circle"
         },
         "mode": "lines+markers",
         "name": "HOME AND KITCHEN I",
         "orientation": "v",
         "showlegend": true,
         "type": "scatter",
         "x": {
          "bdata": "3QcAAN4HAADfBwAA4AcAAOEHAAA=",
          "dtype": "i4"
         },
         "xaxis": "x24",
         "y": {
          "bdata": "AAAAAAAAAAB7BJ0lr8cvQEpF/56adDxAm8ueYa45PUCiz+WiBOFAQA==",
          "dtype": "f8"
         },
         "yaxis": "y24"
        },
        {
         "hovertemplate": "family=HOME AND KITCHEN II<br>year=%{x}<br>sales=%{y}<extra></extra>",
         "legendgroup": "HOME AND KITCHEN II",
         "line": {
          "color": "#FF6692",
          "dash": "solid"
         },
         "marker": {
          "symbol": "circle"
         },
         "mode": "lines+markers",
         "name": "HOME AND KITCHEN II",
         "orientation": "v",
         "showlegend": true,
         "type": "scatter",
         "x": {
          "bdata": "3QcAAN4HAADfBwAA4AcAAOEHAAA=",
          "dtype": "i4"
         },
         "xaxis": "x17",
         "y": {
          "bdata": "AAAAAAAAAAD+5m/+5u8aQLSSgF49izlA+p7oe6JvOkDhEZSXA8o9QA==",
          "dtype": "f8"
         },
         "yaxis": "y17"
        },
        {
         "hovertemplate": "family=HOME APPLIANCES<br>year=%{x}<br>sales=%{y}<extra></extra>",
         "legendgroup": "HOME APPLIANCES",
         "line": {
          "color": "#B6E880",
          "dash": "solid"
         },
         "marker": {
          "symbol": "circle"
         },
         "mode": "lines+markers",
         "name": "HOME APPLIANCES",
         "orientation": "v",
         "showlegend": true,
         "type": "scatter",
         "x": {
          "bdata": "3QcAAN4HAADfBwAA4AcAAOEHAAA=",
          "dtype": "i4"
         },
         "xaxis": "x18",
         "y": {
          "bdata": "WH3VV33V3z82XMM1XMPdPwtde2Cy0N0/aVMLtJM21T8b+IzhaEHiPw==",
          "dtype": "f8"
         },
         "yaxis": "y18"
        },
        {
         "hovertemplate": "family=HOME CARE<br>year=%{x}<br>sales=%{y}<extra></extra>",
         "legendgroup": "HOME CARE",
         "line": {
          "color": "#FF97FF",
          "dash": "solid"
         },
         "marker": {
          "symbol": "circle"
         },
         "mode": "lines+markers",
         "name": "HOME CARE",
         "orientation": "v",
         "showlegend": true,
         "type": "scatter",
         "x": {
          "bdata": "3QcAAN4HAADfBwAA4AcAAOEHAAA=",
          "dtype": "i4"
         },
         "xaxis": "x19",
         "y": {
          "bdata": "AAAAAAAAAAC3xKBhbyNjQMpMdx+iBGdALJ5JEsDacUA71f9D5C9zQA==",
          "dtype": "f8"
         },
         "yaxis": "y19"
        },
        {
         "hovertemplate": "family=LADIESWEAR<br>year=%{x}<br>sales=%{y}<extra></extra>",
         "legendgroup": "LADIESWEAR",
         "line": {
          "color": "#FECB52",
          "dash": "solid"
         },
         "marker": {
          "symbol": "circle"
         },
         "mode": "lines+markers",
         "name": "LADIESWEAR",
         "orientation": "v",
         "showlegend": true,
         "type": "scatter",
         "x": {
          "bdata": "3QcAAN4HAADfBwAA4AcAAOEHAAA=",
          "dtype": "i4"
         },
         "xaxis": "x20",
         "y": {
          "bdata": "AAAAAAAAAABgstC1B6YdQH6NgtPi1xtA0LekRfl8JkBuwXlt8/wnQA==",
          "dtype": "f8"
         },
         "yaxis": "y20"
        },
        {
         "hovertemplate": "family=LAWN AND GARDEN<br>year=%{x}<br>sales=%{y}<extra></extra>",
         "legendgroup": "LAWN AND GARDEN",
         "line": {
          "color": "#636efa",
          "dash": "solid"
         },
         "marker": {
          "symbol": "circle"
         },
         "mode": "lines+markers",
         "name": "LAWN AND GARDEN",
         "orientation": "v",
         "showlegend": true,
         "type": "scatter",
         "x": {
          "bdata": "3QcAAN4HAADfBwAA4AcAAOEHAAA=",
          "dtype": "i4"
         },
         "xaxis": "x13",
         "y": {
          "bdata": "Op3TOZ3TBEAgVafK/9EQQOwRdJa8nhJAGmGat5wRGEBTUbW7krcwQA==",
          "dtype": "f8"
         },
         "yaxis": "y13"
        },
        {
         "hovertemplate": "family=LINGERIE<br>year=%{x}<br>sales=%{y}<extra></extra>",
         "legendgroup": "LINGERIE",
         "line": {
          "color": "#EF553B",
          "dash": "solid"
         },
         "marker": {
          "symbol": "circle"
         },
         "mode": "lines+markers",
         "name": "LINGERIE",
         "orientation": "v",
         "showlegend": true,
         "type": "scatter",
         "x": {
          "bdata": "3QcAAN4HAADfBwAA4AcAAOEHAAA=",
          "dtype": "i4"
         },
         "xaxis": "x14",
         "y": {
          "bdata": "BmRABmTAIEArt3Irt/IeQB+izHT3oRxASORUxIZEFkCVd+GKMw4cQA==",
          "dtype": "f8"
         },
         "yaxis": "y14"
        },
        {
         "hovertemplate": "family=LIQUOR,WINE,BEER<br>year=%{x}<br>sales=%{y}<extra></extra>",
         "legendgroup": "LIQUOR,WINE,BEER",
         "line": {
          "color": "#00cc96",
          "dash": "solid"
         },
         "marker": {
          "symbol": "circle"
         },
         "mode": "lines+markers",
         "name": "LIQUOR,WINE,BEER",
         "orientation": "v",
         "showlegend": true,
         "type": "scatter",
         "x": {
          "bdata": "3QcAAN4HAADfBwAA4AcAAOEHAAA=",
          "dtype": "i4"
         },
         "xaxis": "x15",
         "y": {
          "bdata": "e/9MJap3UUBJQK+elbxTQFLMb6chFVdAJrgxemACWED6wgRuFrdWQA==",
          "dtype": "f8"
         },
         "yaxis": "y15"
        },
        {
         "hovertemplate": "family=MAGAZINES<br>year=%{x}<br>sales=%{y}<extra></extra>",
         "legendgroup": "MAGAZINES",
         "line": {
          "color": "#ab63fa",
          "dash": "solid"
         },
         "marker": {
          "symbol": "circle"
         },
         "mode": "lines+markers",
         "name": "MAGAZINES",
         "orientation": "v",
         "showlegend": true,
         "type": "scatter",
         "x": {
          "bdata": "3QcAAN4HAADfBwAA4AcAAOEHAAA=",
          "dtype": "i4"
         },
         "xaxis": "x16",
         "y": {
          "bdata": "AAAAAAAAAABQBVVQBVXoPwa7BbFlsANAuzIh/rcrGUAZWysSHcgZQA==",
          "dtype": "f8"
         },
         "yaxis": "y16"
        },
        {
         "hovertemplate": "family=MEATS<br>year=%{x}<br>sales=%{y}<extra></extra>",
         "legendgroup": "MEATS",
         "line": {
          "color": "#FFA15A",
          "dash": "solid"
         },
         "marker": {
          "symbol": "circle"
         },
         "mode": "lines+markers",
         "name": "MEATS",
         "orientation": "v",
         "showlegend": true,
         "type": "scatter",
         "x": {
          "bdata": "3QcAAN4HAADfBwAA4AcAAOEHAAA=",
          "dtype": "i4"
         },
         "xaxis": "x9",
         "y": {
          "bdata": "ODeCHsuMdECUKufO2Ep0QHRsO3TmRXVAS5XjZfA6dkCBnwbeGSd3QA==",
          "dtype": "f8"
         },
         "yaxis": "y9"
        },
        {
         "hovertemplate": "family=PERSONAL CARE<br>year=%{x}<br>sales=%{y}<extra></extra>",
         "legendgroup": "PERSONAL CARE",
         "line": {
          "color": "#19d3f3",
          "dash": "solid"
         },
         "marker": {
          "symbol": "circle"
         },
         "mode": "lines+markers",
         "name": "PERSONAL CARE",
         "orientation": "v",
         "showlegend": true,
         "type": "scatter",
         "x": {
          "bdata": "3QcAAN4HAADfBwAA4AcAAOEHAAA=",
          "dtype": "i4"
         },
         "xaxis": "x10",
         "y": {
          "bdata": "OvSY5J5DaEBbtEVbtHFuQHpHIs+cbXJAPZtY08iLc0DTQPAIyot0QA==",
          "dtype": "f8"
         },
         "yaxis": "y10"
        },
        {
         "hovertemplate": "family=PET SUPPLIES<br>year=%{x}<br>sales=%{y}<extra></extra>",
         "legendgroup": "PET SUPPLIES",
         "line": {
          "color": "#FF6692",
          "dash": "solid"
         },
         "marker": {
          "symbol": "circle"
         },
         "mode": "lines+markers",
         "name": "PET SUPPLIES",
         "orientation": "v",
         "showlegend": true,
         "type": "scatter",
         "x": {
          "bdata": "3QcAAN4HAADfBwAA4AcAAOEHAAA=",
          "dtype": "i4"
         },
         "xaxis": "x11",
         "y": {
          "bdata": "AAAAAAAAAAAfk9xz6DEHQNgoOC1+jQlAGcbKfpFhGkCrRNSGpG0hQA==",
          "dtype": "f8"
         },
         "yaxis": "y11"
        },
        {
         "hovertemplate": "family=PLAYERS AND ELECTRONICS<br>year=%{x}<br>sales=%{y}<extra></extra>",
         "legendgroup": "PLAYERS AND ELECTRONICS",
         "line": {
          "color": "#B6E880",
          "dash": "solid"
         },
         "marker": {
          "symbol": "circle"
         },
         "mode": "lines+markers",
         "name": "PLAYERS AND ELECTRONICS",
         "orientation": "v",
         "showlegend": true,
         "type": "scatter",
         "x": {
          "bdata": "3QcAAN4HAADfBwAA4AcAAOEHAAA=",
          "dtype": "i4"
         },
         "xaxis": "x12",
         "y": {
          "bdata": "AAAAAAAAAACdgcTy1pkVQAX+ilpT4BdA2A2VaofdI0AG57XN82MnQA==",
          "dtype": "f8"
         },
         "yaxis": "y12"
        },
        {
         "hovertemplate": "family=POULTRY<br>year=%{x}<br>sales=%{y}<extra></extra>",
         "legendgroup": "POULTRY",
         "line": {
          "color": "#FF97FF",
          "dash": "solid"
         },
         "marker": {
          "symbol": "circle"
         },
         "mode": "lines+markers",
         "name": "POULTRY",
         "orientation": "v",
         "showlegend": true,
         "type": "scatter",
         "x": {
          "bdata": "3QcAAN4HAADfBwAA4AcAAOEHAAA=",
          "dtype": "i4"
         },
         "xaxis": "x5",
         "y": {
          "bdata": "8Q0SOYQbbECVMygwGKF3QJ1c58k0UnhAcV5mAdX5d0D6tBPgwYx4QA==",
          "dtype": "f8"
         },
         "yaxis": "y5"
        },
        {
         "hovertemplate": "family=PREPARED FOODS<br>year=%{x}<br>sales=%{y}<extra></extra>",
         "legendgroup": "PREPARED FOODS",
         "line": {
          "color": "#FECB52",
          "dash": "solid"
         },
         "marker": {
          "symbol": "circle"
         },
         "mode": "lines+markers",
         "name": "PREPARED FOODS",
         "orientation": "v",
         "showlegend": true,
         "type": "scatter",
         "x": {
          "bdata": "3QcAAN4HAADfBwAA4AcAAOEHAAA=",
          "dtype": "i4"
         },
         "xaxis": "x6",
         "y": {
          "bdata": "Wj5QRJxSVUA9GetOkSdXQC8T7sZMX1lASOPxsnQ+WkDoktJRxURZQA==",
          "dtype": "f8"
         },
         "yaxis": "y6"
        },
        {
         "hovertemplate": "family=PRODUCE<br>year=%{x}<br>sales=%{y}<extra></extra>",
         "legendgroup": "PRODUCE",
         "line": {
          "color": "#636efa",
          "dash": "solid"
         },
         "marker": {
          "symbol": "circle"
         },
         "mode": "lines+markers",
         "name": "PRODUCE",
         "orientation": "v",
         "showlegend": true,
         "type": "scatter",
         "x": {
          "bdata": "3QcAAN4HAADfBwAA4AcAAOEHAAA=",
          "dtype": "i4"
         },
         "xaxis": "x7",
         "y": {
          "bdata": "Gwr3xbShDUD6HmjfzbCSQJWZknPCWJRAHets7umJoUDZ1QL1iaiiQA==",
          "dtype": "f8"
         },
         "yaxis": "y7"
        },
        {
         "hovertemplate": "family=SCHOOL AND OFFICE SUPPLIES<br>year=%{x}<br>sales=%{y}<extra></extra>",
         "legendgroup": "SCHOOL AND OFFICE SUPPLIES",
         "line": {
          "color": "#EF553B",
          "dash": "solid"
         },
         "marker": {
          "symbol": "circle"
         },
         "mode": "lines+markers",
         "name": "SCHOOL AND OFFICE SUPPLIES",
         "orientation": "v",
         "showlegend": true,
         "type": "scatter",
         "x": {
          "bdata": "3QcAAN4HAADfBwAA4AcAAOEHAAA=",
          "dtype": "i4"
         },
         "xaxis": "x8",
         "y": {
          "bdata": "AAAAAAAAAACTgF49Kwn6PzYKTotfowFAtwep63B7EEB9C71ylWYiQA==",
          "dtype": "f8"
         },
         "yaxis": "y8"
        },
        {
         "hovertemplate": "family=SEAFOOD<br>year=%{x}<br>sales=%{y}<extra></extra>",
         "legendgroup": "SEAFOOD",
         "line": {
          "color": "#00cc96",
          "dash": "solid"
         },
         "marker": {
          "symbol": "circle"
         },
         "mode": "lines+markers",
         "name": "SEAFOOD",
         "orientation": "v",
         "showlegend": true,
         "type": "scatter",
         "x": {
          "bdata": "3QcAAN4HAADfBwAA4AcAAOEHAAA=",
          "dtype": "i4"
         },
         "xaxis": "x",
         "y": {
          "bdata": "WpVUuFl2M0B/R+yced81QH/R9OW9GjhAgoawGaE1N0AytrB7Dio2QA==",
          "dtype": "f8"
         },
         "yaxis": "y"
        }
       ],
       "layout": {
        "annotations": [
         {
          "font": {},
          "showarrow": false,
          "text": "family=SEAFOOD",
          "x": 0.1175,
          "xanchor": "center",
          "xref": "paper",
          "y": 0.04888888888888888,
          "yanchor": "bottom",
          "yref": "paper"
         },
         {
          "font": {},
          "showarrow": false,
          "text": "family=POULTRY",
          "x": 0.1175,
          "xanchor": "center",
          "xref": "paper",
          "y": 0.16777777777777775,
          "yanchor": "bottom",
          "yref": "paper"
         },
         {
          "font": {},
          "showarrow": false,
          "text": "family=PREPARED FOODS",
          "x": 0.3725,
          "xanchor": "center",
          "xref": "paper",
          "y": 0.16777777777777775,
          "yanchor": "bottom",
          "yref": "paper"
         },
         {
          "font": {},
          "showarrow": false,
          "text": "family=PRODUCE",
          "x": 0.6275,
          "xanchor": "center",
          "xref": "paper",
          "y": 0.16777777777777775,
          "yanchor": "bottom",
          "yref": "paper"
         },
         {
          "font": {},
          "showarrow": false,
          "text": "family=SCHOOL AND OFFICE SUPPLIES",
          "x": 0.8824999999999998,
          "xanchor": "center",
          "xref": "paper",
          "y": 0.16777777777777775,
          "yanchor": "bottom",
          "yref": "paper"
         },
         {
          "font": {},
          "showarrow": false,
          "text": "family=MEATS",
          "x": 0.1175,
          "xanchor": "center",
          "xref": "paper",
          "y": 0.2866666666666666,
          "yanchor": "bottom",
          "yref": "paper"
         },
         {
          "font": {},
          "showarrow": false,
          "text": "family=PERSONAL CARE",
          "x": 0.3725,
          "xanchor": "center",
          "xref": "paper",
          "y": 0.2866666666666666,
          "yanchor": "bottom",
          "yref": "paper"
         },
         {
          "font": {},
          "showarrow": false,
          "text": "family=PET SUPPLIES",
          "x": 0.6275,
          "xanchor": "center",
          "xref": "paper",
          "y": 0.2866666666666666,
          "yanchor": "bottom",
          "yref": "paper"
         },
         {
          "font": {},
          "showarrow": false,
          "text": "family=PLAYERS AND ELECTRONICS",
          "x": 0.8824999999999998,
          "xanchor": "center",
          "xref": "paper",
          "y": 0.2866666666666666,
          "yanchor": "bottom",
          "yref": "paper"
         },
         {
          "font": {},
          "showarrow": false,
          "text": "family=LAWN AND GARDEN",
          "x": 0.1175,
          "xanchor": "center",
          "xref": "paper",
          "y": 0.40555555555555556,
          "yanchor": "bottom",
          "yref": "paper"
         },
         {
          "font": {},
          "showarrow": false,
          "text": "family=LINGERIE",
          "x": 0.3725,
          "xanchor": "center",
          "xref": "paper",
          "y": 0.40555555555555556,
          "yanchor": "bottom",
          "yref": "paper"
         },
         {
          "font": {},
          "showarrow": false,
          "text": "family=LIQUOR,WINE,BEER",
          "x": 0.6275,
          "xanchor": "center",
          "xref": "paper",
          "y": 0.40555555555555556,
          "yanchor": "bottom",
          "yref": "paper"
         },
         {
          "font": {},
          "showarrow": false,
          "text": "family=MAGAZINES",
          "x": 0.8824999999999998,
          "xanchor": "center",
          "xref": "paper",
          "y": 0.40555555555555556,
          "yanchor": "bottom",
          "yref": "paper"
         },
         {
          "font": {},
          "showarrow": false,
          "text": "family=HOME AND KITCHEN II",
          "x": 0.1175,
          "xanchor": "center",
          "xref": "paper",
          "y": 0.5244444444444444,
          "yanchor": "bottom",
          "yref": "paper"
         },
         {
          "font": {},
          "showarrow": false,
          "text": "family=HOME APPLIANCES",
          "x": 0.3725,
          "xanchor": "center",
          "xref": "paper",
          "y": 0.5244444444444444,
          "yanchor": "bottom",
          "yref": "paper"
         },
         {
          "font": {},
          "showarrow": false,
          "text": "family=HOME CARE",
          "x": 0.6275,
          "xanchor": "center",
          "xref": "paper",
          "y": 0.5244444444444444,
          "yanchor": "bottom",
          "yref": "paper"
         },
         {
          "font": {},
          "showarrow": false,
          "text": "family=LADIESWEAR",
          "x": 0.8824999999999998,
          "xanchor": "center",
          "xref": "paper",
          "y": 0.5244444444444444,
          "yanchor": "bottom",
          "yref": "paper"
         },
         {
          "font": {},
          "showarrow": false,
          "text": "family=GROCERY I",
          "x": 0.1175,
          "xanchor": "center",
          "xref": "paper",
          "y": 0.6433333333333333,
          "yanchor": "bottom",
          "yref": "paper"
         },
         {
          "font": {},
          "showarrow": false,
          "text": "family=GROCERY II",
          "x": 0.3725,
          "xanchor": "center",
          "xref": "paper",
          "y": 0.6433333333333333,
          "yanchor": "bottom",
          "yref": "paper"
         },
         {
          "font": {},
          "showarrow": false,
          "text": "family=HARDWARE",
          "x": 0.6275,
          "xanchor": "center",
          "xref": "paper",
          "y": 0.6433333333333333,
          "yanchor": "bottom",
          "yref": "paper"
         },
         {
          "font": {},
          "showarrow": false,
          "text": "family=HOME AND KITCHEN I",
          "x": 0.8824999999999998,
          "xanchor": "center",
          "xref": "paper",
          "y": 0.6433333333333333,
          "yanchor": "bottom",
          "yref": "paper"
         },
         {
          "font": {},
          "showarrow": false,
          "text": "family=DAIRY",
          "x": 0.1175,
          "xanchor": "center",
          "xref": "paper",
          "y": 0.7622222222222222,
          "yanchor": "bottom",
          "yref": "paper"
         },
         {
          "font": {},
          "showarrow": false,
          "text": "family=DELI",
          "x": 0.3725,
          "xanchor": "center",
          "xref": "paper",
          "y": 0.7622222222222222,
          "yanchor": "bottom",
          "yref": "paper"
         },
         {
          "font": {},
          "showarrow": false,
          "text": "family=EGGS",
          "x": 0.6275,
          "xanchor": "center",
          "xref": "paper",
          "y": 0.7622222222222222,
          "yanchor": "bottom",
          "yref": "paper"
         },
         {
          "font": {},
          "showarrow": false,
          "text": "family=FROZEN FOODS",
          "x": 0.8824999999999998,
          "xanchor": "center",
          "xref": "paper",
          "y": 0.7622222222222222,
          "yanchor": "bottom",
          "yref": "paper"
         },
         {
          "font": {},
          "showarrow": false,
          "text": "family=BOOKS",
          "x": 0.1175,
          "xanchor": "center",
          "xref": "paper",
          "y": 0.8811111111111111,
          "yanchor": "bottom",
          "yref": "paper"
         },
         {
          "font": {},
          "showarrow": false,
          "text": "family=BREAD/BAKERY",
          "x": 0.3725,
          "xanchor": "center",
          "xref": "paper",
          "y": 0.8811111111111111,
          "yanchor": "bottom",
          "yref": "paper"
         },
         {
          "font": {},
          "showarrow": false,
          "text": "family=CELEBRATION",
          "x": 0.6275,
          "xanchor": "center",
          "xref": "paper",
          "y": 0.8811111111111111,
          "yanchor": "bottom",
          "yref": "paper"
         },
         {
          "font": {},
          "showarrow": false,
          "text": "family=CLEANING",
          "x": 0.8824999999999998,
          "xanchor": "center",
          "xref": "paper",
          "y": 0.8811111111111111,
          "yanchor": "bottom",
          "yref": "paper"
         },
         {
          "font": {},
          "showarrow": false,
          "text": "family=AUTOMOTIVE",
          "x": 0.1175,
          "xanchor": "center",
          "xref": "paper",
          "y": 0.9999999999999999,
          "yanchor": "bottom",
          "yref": "paper"
         },
         {
          "font": {},
          "showarrow": false,
          "text": "family=BABY CARE",
          "x": 0.3725,
          "xanchor": "center",
          "xref": "paper",
          "y": 0.9999999999999999,
          "yanchor": "bottom",
          "yref": "paper"
         },
         {
          "font": {},
          "showarrow": false,
          "text": "family=BEAUTY",
          "x": 0.6275,
          "xanchor": "center",
          "xref": "paper",
          "y": 0.9999999999999999,
          "yanchor": "bottom",
          "yref": "paper"
         },
         {
          "font": {},
          "showarrow": false,
          "text": "family=BEVERAGES",
          "x": 0.8824999999999998,
          "xanchor": "center",
          "xref": "paper",
          "y": 0.9999999999999999,
          "yanchor": "bottom",
          "yref": "paper"
         }
        ],
        "height": 2000,
        "legend": {
         "title": {
          "text": "family"
         },
         "tracegroupgap": 0
        },
        "showlegend": false,
        "template": {
         "data": {
          "bar": [
           {
            "error_x": {
             "color": "#2a3f5f"
            },
            "error_y": {
             "color": "#2a3f5f"
            },
            "marker": {
             "line": {
              "color": "#E5ECF6",
              "width": 0.5
             },
             "pattern": {
              "fillmode": "overlay",
              "size": 10,
              "solidity": 0.2
             }
            },
            "type": "bar"
           }
          ],
          "barpolar": [
           {
            "marker": {
             "line": {
              "color": "#E5ECF6",
              "width": 0.5
             },
             "pattern": {
              "fillmode": "overlay",
              "size": 10,
              "solidity": 0.2
             }
            },
            "type": "barpolar"
           }
          ],
          "carpet": [
           {
            "aaxis": {
             "endlinecolor": "#2a3f5f",
             "gridcolor": "white",
             "linecolor": "white",
             "minorgridcolor": "white",
             "startlinecolor": "#2a3f5f"
            },
            "baxis": {
             "endlinecolor": "#2a3f5f",
             "gridcolor": "white",
             "linecolor": "white",
             "minorgridcolor": "white",
             "startlinecolor": "#2a3f5f"
            },
            "type": "carpet"
           }
          ],
          "choropleth": [
           {
            "colorbar": {
             "outlinewidth": 0,
             "ticks": ""
            },
            "type": "choropleth"
           }
          ],
          "contour": [
           {
            "colorbar": {
             "outlinewidth": 0,
             "ticks": ""
            },
            "colorscale": [
             [
              0,
              "#0d0887"
             ],
             [
              0.1111111111111111,
              "#46039f"
             ],
             [
              0.2222222222222222,
              "#7201a8"
             ],
             [
              0.3333333333333333,
              "#9c179e"
             ],
             [
              0.4444444444444444,
              "#bd3786"
             ],
             [
              0.5555555555555556,
              "#d8576b"
             ],
             [
              0.6666666666666666,
              "#ed7953"
             ],
             [
              0.7777777777777778,
              "#fb9f3a"
             ],
             [
              0.8888888888888888,
              "#fdca26"
             ],
             [
              1,
              "#f0f921"
             ]
            ],
            "type": "contour"
           }
          ],
          "contourcarpet": [
           {
            "colorbar": {
             "outlinewidth": 0,
             "ticks": ""
            },
            "type": "contourcarpet"
           }
          ],
          "heatmap": [
           {
            "colorbar": {
             "outlinewidth": 0,
             "ticks": ""
            },
            "colorscale": [
             [
              0,
              "#0d0887"
             ],
             [
              0.1111111111111111,
              "#46039f"
             ],
             [
              0.2222222222222222,
              "#7201a8"
             ],
             [
              0.3333333333333333,
              "#9c179e"
             ],
             [
              0.4444444444444444,
              "#bd3786"
             ],
             [
              0.5555555555555556,
              "#d8576b"
             ],
             [
              0.6666666666666666,
              "#ed7953"
             ],
             [
              0.7777777777777778,
              "#fb9f3a"
             ],
             [
              0.8888888888888888,
              "#fdca26"
             ],
             [
              1,
              "#f0f921"
             ]
            ],
            "type": "heatmap"
           }
          ],
          "histogram": [
           {
            "marker": {
             "pattern": {
              "fillmode": "overlay",
              "size": 10,
              "solidity": 0.2
             }
            },
            "type": "histogram"
           }
          ],
          "histogram2d": [
           {
            "colorbar": {
             "outlinewidth": 0,
             "ticks": ""
            },
            "colorscale": [
             [
              0,
              "#0d0887"
             ],
             [
              0.1111111111111111,
              "#46039f"
             ],
             [
              0.2222222222222222,
              "#7201a8"
             ],
             [
              0.3333333333333333,
              "#9c179e"
             ],
             [
              0.4444444444444444,
              "#bd3786"
             ],
             [
              0.5555555555555556,
              "#d8576b"
             ],
             [
              0.6666666666666666,
              "#ed7953"
             ],
             [
              0.7777777777777778,
              "#fb9f3a"
             ],
             [
              0.8888888888888888,
              "#fdca26"
             ],
             [
              1,
              "#f0f921"
             ]
            ],
            "type": "histogram2d"
           }
          ],
          "histogram2dcontour": [
           {
            "colorbar": {
             "outlinewidth": 0,
             "ticks": ""
            },
            "colorscale": [
             [
              0,
              "#0d0887"
             ],
             [
              0.1111111111111111,
              "#46039f"
             ],
             [
              0.2222222222222222,
              "#7201a8"
             ],
             [
              0.3333333333333333,
              "#9c179e"
             ],
             [
              0.4444444444444444,
              "#bd3786"
             ],
             [
              0.5555555555555556,
              "#d8576b"
             ],
             [
              0.6666666666666666,
              "#ed7953"
             ],
             [
              0.7777777777777778,
              "#fb9f3a"
             ],
             [
              0.8888888888888888,
              "#fdca26"
             ],
             [
              1,
              "#f0f921"
             ]
            ],
            "type": "histogram2dcontour"
           }
          ],
          "mesh3d": [
           {
            "colorbar": {
             "outlinewidth": 0,
             "ticks": ""
            },
            "type": "mesh3d"
           }
          ],
          "parcoords": [
           {
            "line": {
             "colorbar": {
              "outlinewidth": 0,
              "ticks": ""
             }
            },
            "type": "parcoords"
           }
          ],
          "pie": [
           {
            "automargin": true,
            "type": "pie"
           }
          ],
          "scatter": [
           {
            "fillpattern": {
             "fillmode": "overlay",
             "size": 10,
             "solidity": 0.2
            },
            "type": "scatter"
           }
          ],
          "scatter3d": [
           {
            "line": {
             "colorbar": {
              "outlinewidth": 0,
              "ticks": ""
             }
            },
            "marker": {
             "colorbar": {
              "outlinewidth": 0,
              "ticks": ""
             }
            },
            "type": "scatter3d"
           }
          ],
          "scattercarpet": [
           {
            "marker": {
             "colorbar": {
              "outlinewidth": 0,
              "ticks": ""
             }
            },
            "type": "scattercarpet"
           }
          ],
          "scattergeo": [
           {
            "marker": {
             "colorbar": {
              "outlinewidth": 0,
              "ticks": ""
             }
            },
            "type": "scattergeo"
           }
          ],
          "scattergl": [
           {
            "marker": {
             "colorbar": {
              "outlinewidth": 0,
              "ticks": ""
             }
            },
            "type": "scattergl"
           }
          ],
          "scattermap": [
           {
            "marker": {
             "colorbar": {
              "outlinewidth": 0,
              "ticks": ""
             }
            },
            "type": "scattermap"
           }
          ],
          "scattermapbox": [
           {
            "marker": {
             "colorbar": {
              "outlinewidth": 0,
              "ticks": ""
             }
            },
            "type": "scattermapbox"
           }
          ],
          "scatterpolar": [
           {
            "marker": {
             "colorbar": {
              "outlinewidth": 0,
              "ticks": ""
             }
            },
            "type": "scatterpolar"
           }
          ],
          "scatterpolargl": [
           {
            "marker": {
             "colorbar": {
              "outlinewidth": 0,
              "ticks": ""
             }
            },
            "type": "scatterpolargl"
           }
          ],
          "scatterternary": [
           {
            "marker": {
             "colorbar": {
              "outlinewidth": 0,
              "ticks": ""
             }
            },
            "type": "scatterternary"
           }
          ],
          "surface": [
           {
            "colorbar": {
             "outlinewidth": 0,
             "ticks": ""
            },
            "colorscale": [
             [
              0,
              "#0d0887"
             ],
             [
              0.1111111111111111,
              "#46039f"
             ],
             [
              0.2222222222222222,
              "#7201a8"
             ],
             [
              0.3333333333333333,
              "#9c179e"
             ],
             [
              0.4444444444444444,
              "#bd3786"
             ],
             [
              0.5555555555555556,
              "#d8576b"
             ],
             [
              0.6666666666666666,
              "#ed7953"
             ],
             [
              0.7777777777777778,
              "#fb9f3a"
             ],
             [
              0.8888888888888888,
              "#fdca26"
             ],
             [
              1,
              "#f0f921"
             ]
            ],
            "type": "surface"
           }
          ],
          "table": [
           {
            "cells": {
             "fill": {
              "color": "#EBF0F8"
             },
             "line": {
              "color": "white"
             }
            },
            "header": {
             "fill": {
              "color": "#C8D4E3"
             },
             "line": {
              "color": "white"
             }
            },
            "type": "table"
           }
          ]
         },
         "layout": {
          "annotationdefaults": {
           "arrowcolor": "#2a3f5f",
           "arrowhead": 0,
           "arrowwidth": 1
          },
          "autotypenumbers": "strict",
          "coloraxis": {
           "colorbar": {
            "outlinewidth": 0,
            "ticks": ""
           }
          },
          "colorscale": {
           "diverging": [
            [
             0,
             "#8e0152"
            ],
            [
             0.1,
             "#c51b7d"
            ],
            [
             0.2,
             "#de77ae"
            ],
            [
             0.3,
             "#f1b6da"
            ],
            [
             0.4,
             "#fde0ef"
            ],
            [
             0.5,
             "#f7f7f7"
            ],
            [
             0.6,
             "#e6f5d0"
            ],
            [
             0.7,
             "#b8e186"
            ],
            [
             0.8,
             "#7fbc41"
            ],
            [
             0.9,
             "#4d9221"
            ],
            [
             1,
             "#276419"
            ]
           ],
           "sequential": [
            [
             0,
             "#0d0887"
            ],
            [
             0.1111111111111111,
             "#46039f"
            ],
            [
             0.2222222222222222,
             "#7201a8"
            ],
            [
             0.3333333333333333,
             "#9c179e"
            ],
            [
             0.4444444444444444,
             "#bd3786"
            ],
            [
             0.5555555555555556,
             "#d8576b"
            ],
            [
             0.6666666666666666,
             "#ed7953"
            ],
            [
             0.7777777777777778,
             "#fb9f3a"
            ],
            [
             0.8888888888888888,
             "#fdca26"
            ],
            [
             1,
             "#f0f921"
            ]
           ],
           "sequentialminus": [
            [
             0,
             "#0d0887"
            ],
            [
             0.1111111111111111,
             "#46039f"
            ],
            [
             0.2222222222222222,
             "#7201a8"
            ],
            [
             0.3333333333333333,
             "#9c179e"
            ],
            [
             0.4444444444444444,
             "#bd3786"
            ],
            [
             0.5555555555555556,
             "#d8576b"
            ],
            [
             0.6666666666666666,
             "#ed7953"
            ],
            [
             0.7777777777777778,
             "#fb9f3a"
            ],
            [
             0.8888888888888888,
             "#fdca26"
            ],
            [
             1,
             "#f0f921"
            ]
           ]
          },
          "colorway": [
           "#636efa",
           "#EF553B",
           "#00cc96",
           "#ab63fa",
           "#FFA15A",
           "#19d3f3",
           "#FF6692",
           "#B6E880",
           "#FF97FF",
           "#FECB52"
          ],
          "font": {
           "color": "#2a3f5f"
          },
          "geo": {
           "bgcolor": "white",
           "lakecolor": "white",
           "landcolor": "#E5ECF6",
           "showlakes": true,
           "showland": true,
           "subunitcolor": "white"
          },
          "hoverlabel": {
           "align": "left"
          },
          "hovermode": "closest",
          "mapbox": {
           "style": "light"
          },
          "paper_bgcolor": "white",
          "plot_bgcolor": "#E5ECF6",
          "polar": {
           "angularaxis": {
            "gridcolor": "white",
            "linecolor": "white",
            "ticks": ""
           },
           "bgcolor": "#E5ECF6",
           "radialaxis": {
            "gridcolor": "white",
            "linecolor": "white",
            "ticks": ""
           }
          },
          "scene": {
           "xaxis": {
            "backgroundcolor": "#E5ECF6",
            "gridcolor": "white",
            "gridwidth": 2,
            "linecolor": "white",
            "showbackground": true,
            "ticks": "",
            "zerolinecolor": "white"
           },
           "yaxis": {
            "backgroundcolor": "#E5ECF6",
            "gridcolor": "white",
            "gridwidth": 2,
            "linecolor": "white",
            "showbackground": true,
            "ticks": "",
            "zerolinecolor": "white"
           },
           "zaxis": {
            "backgroundcolor": "#E5ECF6",
            "gridcolor": "white",
            "gridwidth": 2,
            "linecolor": "white",
            "showbackground": true,
            "ticks": "",
            "zerolinecolor": "white"
           }
          },
          "shapedefaults": {
           "line": {
            "color": "#2a3f5f"
           }
          },
          "ternary": {
           "aaxis": {
            "gridcolor": "white",
            "linecolor": "white",
            "ticks": ""
           },
           "baxis": {
            "gridcolor": "white",
            "linecolor": "white",
            "ticks": ""
           },
           "bgcolor": "#E5ECF6",
           "caxis": {
            "gridcolor": "white",
            "linecolor": "white",
            "ticks": ""
           }
          },
          "title": {
           "x": 0.05
          },
          "xaxis": {
           "automargin": true,
           "gridcolor": "white",
           "linecolor": "white",
           "ticks": "",
           "title": {
            "standoff": 15
           },
           "zerolinecolor": "white",
           "zerolinewidth": 2
          },
          "yaxis": {
           "automargin": true,
           "gridcolor": "white",
           "linecolor": "white",
           "ticks": "",
           "title": {
            "standoff": 15
           },
           "zerolinecolor": "white",
           "zerolinewidth": 2
          }
         }
        },
        "title": {
         "text": "Average Yearly Sales per Product Family"
        },
        "xaxis": {
         "anchor": "y",
         "domain": [
          0,
          0.235
         ],
         "title": {
          "text": "year"
         }
        },
        "xaxis10": {
         "anchor": "y10",
         "domain": [
          0.255,
          0.49
         ],
         "matches": "x",
         "showticklabels": false
        },
        "xaxis11": {
         "anchor": "y11",
         "domain": [
          0.51,
          0.745
         ],
         "matches": "x",
         "showticklabels": false
        },
        "xaxis12": {
         "anchor": "y12",
         "domain": [
          0.7649999999999999,
          0.9999999999999999
         ],
         "matches": "x",
         "showticklabels": false
        },
        "xaxis13": {
         "anchor": "y13",
         "domain": [
          0,
          0.235
         ],
         "matches": "x",
         "showticklabels": false
        },
        "xaxis14": {
         "anchor": "y14",
         "domain": [
          0.255,
          0.49
         ],
         "matches": "x",
         "showticklabels": false
        },
        "xaxis15": {
         "anchor": "y15",
         "domain": [
          0.51,
          0.745
         ],
         "matches": "x",
         "showticklabels": false
        },
        "xaxis16": {
         "anchor": "y16",
         "domain": [
          0.7649999999999999,
          0.9999999999999999
         ],
         "matches": "x",
         "showticklabels": false
        },
        "xaxis17": {
         "anchor": "y17",
         "domain": [
          0,
          0.235
         ],
         "matches": "x",
         "showticklabels": false
        },
        "xaxis18": {
         "anchor": "y18",
         "domain": [
          0.255,
          0.49
         ],
         "matches": "x",
         "showticklabels": false
        },
        "xaxis19": {
         "anchor": "y19",
         "domain": [
          0.51,
          0.745
         ],
         "matches": "x",
         "showticklabels": false
        },
        "xaxis2": {
         "anchor": "y2",
         "domain": [
          0.255,
          0.49
         ],
         "matches": "x",
         "title": {
          "text": "year"
         }
        },
        "xaxis20": {
         "anchor": "y20",
         "domain": [
          0.7649999999999999,
          0.9999999999999999
         ],
         "matches": "x",
         "showticklabels": false
        },
        "xaxis21": {
         "anchor": "y21",
         "domain": [
          0,
          0.235
         ],
         "matches": "x",
         "showticklabels": false
        },
        "xaxis22": {
         "anchor": "y22",
         "domain": [
          0.255,
          0.49
         ],
         "matches": "x",
         "showticklabels": false
        },
        "xaxis23": {
         "anchor": "y23",
         "domain": [
          0.51,
          0.745
         ],
         "matches": "x",
         "showticklabels": false
        },
        "xaxis24": {
         "anchor": "y24",
         "domain": [
          0.7649999999999999,
          0.9999999999999999
         ],
         "matches": "x",
         "showticklabels": false
        },
        "xaxis25": {
         "anchor": "y25",
         "domain": [
          0,
          0.235
         ],
         "matches": "x",
         "showticklabels": false
        },
        "xaxis26": {
         "anchor": "y26",
         "domain": [
          0.255,
          0.49
         ],
         "matches": "x",
         "showticklabels": false
        },
        "xaxis27": {
         "anchor": "y27",
         "domain": [
          0.51,
          0.745
         ],
         "matches": "x",
         "showticklabels": false
        },
        "xaxis28": {
         "anchor": "y28",
         "domain": [
          0.7649999999999999,
          0.9999999999999999
         ],
         "matches": "x",
         "showticklabels": false
        },
        "xaxis29": {
         "anchor": "y29",
         "domain": [
          0,
          0.235
         ],
         "matches": "x",
         "showticklabels": false
        },
        "xaxis3": {
         "anchor": "y3",
         "domain": [
          0.51,
          0.745
         ],
         "matches": "x",
         "title": {
          "text": "year"
         }
        },
        "xaxis30": {
         "anchor": "y30",
         "domain": [
          0.255,
          0.49
         ],
         "matches": "x",
         "showticklabels": false
        },
        "xaxis31": {
         "anchor": "y31",
         "domain": [
          0.51,
          0.745
         ],
         "matches": "x",
         "showticklabels": false
        },
        "xaxis32": {
         "anchor": "y32",
         "domain": [
          0.7649999999999999,
          0.9999999999999999
         ],
         "matches": "x",
         "showticklabels": false
        },
        "xaxis33": {
         "anchor": "y33",
         "domain": [
          0,
          0.235
         ],
         "matches": "x",
         "showticklabels": false
        },
        "xaxis34": {
         "anchor": "y34",
         "domain": [
          0.255,
          0.49
         ],
         "matches": "x",
         "showticklabels": false
        },
        "xaxis35": {
         "anchor": "y35",
         "domain": [
          0.51,
          0.745
         ],
         "matches": "x",
         "showticklabels": false
        },
        "xaxis36": {
         "anchor": "y36",
         "domain": [
          0.7649999999999999,
          0.9999999999999999
         ],
         "matches": "x",
         "showticklabels": false
        },
        "xaxis4": {
         "anchor": "y4",
         "domain": [
          0.7649999999999999,
          0.9999999999999999
         ],
         "matches": "x",
         "title": {
          "text": "year"
         }
        },
        "xaxis5": {
         "anchor": "y5",
         "domain": [
          0,
          0.235
         ],
         "matches": "x",
         "showticklabels": false
        },
        "xaxis6": {
         "anchor": "y6",
         "domain": [
          0.255,
          0.49
         ],
         "matches": "x",
         "showticklabels": false
        },
        "xaxis7": {
         "anchor": "y7",
         "domain": [
          0.51,
          0.745
         ],
         "matches": "x",
         "showticklabels": false
        },
        "xaxis8": {
         "anchor": "y8",
         "domain": [
          0.7649999999999999,
          0.9999999999999999
         ],
         "matches": "x",
         "showticklabels": false
        },
        "xaxis9": {
         "anchor": "y9",
         "domain": [
          0,
          0.235
         ],
         "matches": "x",
         "showticklabels": false
        },
        "yaxis": {
         "anchor": "x",
         "domain": [
          0,
          0.04888888888888888
         ],
         "title": {
          "text": "sales"
         }
        },
        "yaxis10": {
         "anchor": "x10",
         "domain": [
          0.23777777777777775,
          0.2866666666666666
         ],
         "showticklabels": false
        },
        "yaxis11": {
         "anchor": "x11",
         "domain": [
          0.23777777777777775,
          0.2866666666666666
         ],
         "showticklabels": false
        },
        "yaxis12": {
         "anchor": "x12",
         "domain": [
          0.23777777777777775,
          0.2866666666666666
         ],
         "showticklabels": false
        },
        "yaxis13": {
         "anchor": "x13",
         "domain": [
          0.3566666666666667,
          0.40555555555555556
         ],
         "title": {
          "text": "sales"
         }
        },
        "yaxis14": {
         "anchor": "x14",
         "domain": [
          0.3566666666666667,
          0.40555555555555556
         ],
         "showticklabels": false
        },
        "yaxis15": {
         "anchor": "x15",
         "domain": [
          0.3566666666666667,
          0.40555555555555556
         ],
         "showticklabels": false
        },
        "yaxis16": {
         "anchor": "x16",
         "domain": [
          0.3566666666666667,
          0.40555555555555556
         ],
         "showticklabels": false
        },
        "yaxis17": {
         "anchor": "x17",
         "domain": [
          0.4755555555555555,
          0.5244444444444444
         ],
         "title": {
          "text": "sales"
         }
        },
        "yaxis18": {
         "anchor": "x18",
         "domain": [
          0.4755555555555555,
          0.5244444444444444
         ],
         "showticklabels": false
        },
        "yaxis19": {
         "anchor": "x19",
         "domain": [
          0.4755555555555555,
          0.5244444444444444
         ],
         "showticklabels": false
        },
        "yaxis2": {
         "anchor": "x2",
         "domain": [
          0,
          0.04888888888888888
         ],
         "showticklabels": false
        },
        "yaxis20": {
         "anchor": "x20",
         "domain": [
          0.4755555555555555,
          0.5244444444444444
         ],
         "showticklabels": false
        },
        "yaxis21": {
         "anchor": "x21",
         "domain": [
          0.5944444444444444,
          0.6433333333333333
         ],
         "title": {
          "text": "sales"
         }
        },
        "yaxis22": {
         "anchor": "x22",
         "domain": [
          0.5944444444444444,
          0.6433333333333333
         ],
         "showticklabels": false
        },
        "yaxis23": {
         "anchor": "x23",
         "domain": [
          0.5944444444444444,
          0.6433333333333333
         ],
         "showticklabels": false
        },
        "yaxis24": {
         "anchor": "x24",
         "domain": [
          0.5944444444444444,
          0.6433333333333333
         ],
         "showticklabels": false
        },
        "yaxis25": {
         "anchor": "x25",
         "domain": [
          0.7133333333333334,
          0.7622222222222222
         ],
         "title": {
          "text": "sales"
         }
        },
        "yaxis26": {
         "anchor": "x26",
         "domain": [
          0.7133333333333334,
          0.7622222222222222
         ],
         "showticklabels": false
        },
        "yaxis27": {
         "anchor": "x27",
         "domain": [
          0.7133333333333334,
          0.7622222222222222
         ],
         "showticklabels": false
        },
        "yaxis28": {
         "anchor": "x28",
         "domain": [
          0.7133333333333334,
          0.7622222222222222
         ],
         "showticklabels": false
        },
        "yaxis29": {
         "anchor": "x29",
         "domain": [
          0.8322222222222222,
          0.8811111111111111
         ],
         "title": {
          "text": "sales"
         }
        },
        "yaxis3": {
         "anchor": "x3",
         "domain": [
          0,
          0.04888888888888888
         ],
         "showticklabels": false
        },
        "yaxis30": {
         "anchor": "x30",
         "domain": [
          0.8322222222222222,
          0.8811111111111111
         ],
         "showticklabels": false
        },
        "yaxis31": {
         "anchor": "x31",
         "domain": [
          0.8322222222222222,
          0.8811111111111111
         ],
         "showticklabels": false
        },
        "yaxis32": {
         "anchor": "x32",
         "domain": [
          0.8322222222222222,
          0.8811111111111111
         ],
         "showticklabels": false
        },
        "yaxis33": {
         "anchor": "x33",
         "domain": [
          0.951111111111111,
          0.9999999999999999
         ],
         "title": {
          "text": "sales"
         }
        },
        "yaxis34": {
         "anchor": "x34",
         "domain": [
          0.951111111111111,
          0.9999999999999999
         ],
         "showticklabels": false
        },
        "yaxis35": {
         "anchor": "x35",
         "domain": [
          0.951111111111111,
          0.9999999999999999
         ],
         "showticklabels": false
        },
        "yaxis36": {
         "anchor": "x36",
         "domain": [
          0.951111111111111,
          0.9999999999999999
         ],
         "showticklabels": false
        },
        "yaxis4": {
         "anchor": "x4",
         "domain": [
          0,
          0.04888888888888888
         ],
         "showticklabels": false
        },
        "yaxis5": {
         "anchor": "x5",
         "domain": [
          0.11888888888888888,
          0.16777777777777775
         ],
         "title": {
          "text": "sales"
         }
        },
        "yaxis6": {
         "anchor": "x6",
         "domain": [
          0.11888888888888888,
          0.16777777777777775
         ],
         "showticklabels": false
        },
        "yaxis7": {
         "anchor": "x7",
         "domain": [
          0.11888888888888888,
          0.16777777777777775
         ],
         "showticklabels": false
        },
        "yaxis8": {
         "anchor": "x8",
         "domain": [
          0.11888888888888888,
          0.16777777777777775
         ],
         "showticklabels": false
        },
        "yaxis9": {
         "anchor": "x9",
         "domain": [
          0.23777777777777775,
          0.2866666666666666
         ],
         "title": {
          "text": "sales"
         }
        }
       }
      }
     },
     "metadata": {},
     "output_type": "display_data"
    }
   ],
   "source": [
    "\n",
    "fig = px.line(\n",
    "    avg_sales_year_family,\n",
    "    x='year',\n",
    "    y='sales',\n",
    "    color='family',\n",
    "    facet_col='family',\n",
    "    facet_col_wrap= 4,\n",
    "    markers=True,\n",
    "    title='Average Yearly Sales per Product Family'\n",
    ")\n",
    "fig.update_yaxes(matches=None)\n",
    "fig.update_layout(height=2000,showlegend=False)\n",
    "\n",
    "# fig.update_layout(\n",
    "#     xaxis_title='Year',\n",
    "#     yaxis_title='Average Sales',\n",
    "#     legend_title='Family',\n",
    "#     width=1000,\n",
    "#     height=600\n",
    "# )\n",
    "\n",
    "fig.show()\n"
   ]
  },
  {
   "cell_type": "code",
   "execution_count": 131,
   "id": "5c1ffd47",
   "metadata": {},
   "outputs": [],
   "source": [
    "df['month'] = df['date'].dt.month\n",
    "df['month_name'] = df['date'].dt.strftime('%B')\n",
    "avg_sales_by_month = df.groupby(['month', 'month_name', 'family'])['sales'].mean().reset_index()\n",
    "\n",
    "avg_sales_by_month = avg_sales_by_month.sort_values('month')"
   ]
  },
  {
   "cell_type": "code",
   "execution_count": 132,
   "id": "b3fcd7fe",
   "metadata": {},
   "outputs": [],
   "source": [
    "df['day_nbr'] = df['date'].dt.weekday\n",
    "avg_sales_by_weekday = df.groupby(['day_nbr', 'day', 'family'])['sales'].mean().reset_index()"
   ]
  },
  {
   "cell_type": "code",
   "execution_count": 133,
   "id": "4774cc4d",
   "metadata": {},
   "outputs": [
    {
     "data": {
      "text/plain": [
       "count    3.000888e+06\n",
       "mean     3.577757e+02\n",
       "std      1.101998e+03\n",
       "min      0.000000e+00\n",
       "25%      0.000000e+00\n",
       "50%      1.100000e+01\n",
       "75%      1.958473e+02\n",
       "max      1.247170e+05\n",
       "Name: sales, dtype: float64"
      ]
     },
     "execution_count": 133,
     "metadata": {},
     "output_type": "execute_result"
    }
   ],
   "source": [
    "df['sales'].describe()"
   ]
  },
  {
   "cell_type": "code",
   "execution_count": 134,
   "id": "e662b9ed",
   "metadata": {},
   "outputs": [],
   "source": [
    "#Θελω να δω μετα γιατι δεν δουλεψε αυτο\n",
    "#Corelation of sales between stores\n",
    "# temp = df[['store_nbr','sales']].copy()\n",
    "# temp['ind']=1\n",
    "# temp['ind'] = temp.groupby('store_nbr')['ind'].cumsum().values\n",
    "# mask = np.triu(temp.corr())\n",
    "# plt.figure(figsize=(20,20))\n",
    "# sns.heatmap(temp,\n",
    "#             fmt='1f',\n",
    "#             cmap='coolwarm',\n",
    "#             square=True,\n",
    "#             mask= mask,\n",
    "#             linewidths=1,\n",
    "#             cbar=False)\n",
    "# plt.show()"
   ]
  },
  {
   "cell_type": "markdown",
   "id": "526bd02e",
   "metadata": {},
   "source": [
    "#### Oil Price - Impact on Sales"
   ]
  },
  {
   "cell_type": "markdown",
   "id": "906a3fc1",
   "metadata": {},
   "source": [
    "Με βαση τα παραπανω διαγραμματα κανουμε μη παραμετρικο ελεγχο sperman για τον υπολογισμο του συντελεστη συσχετισης πωλησεων-τιμης πετρελελαιου"
   ]
  },
  {
   "cell_type": "code",
   "execution_count": 135,
   "id": "0a909018",
   "metadata": {},
   "outputs": [
    {
     "name": "stdout",
     "output_type": "stream",
     "text": [
      "Spearman correlation: -0.6082715617552258\n",
      "P-value: 5.664189454391659e-171\n"
     ]
    }
   ],
   "source": [
    "# Υπολογισμος Spearman correlation και p-value για σχεση πωλησων με τιμη πετρελαιου\n",
    "corr, p_value = spearmanr(daily_df['sales'], daily_df['dcoilwtico'])\n",
    "\n",
    "print(f\"Spearman correlation: {corr}\")\n",
    "print(f\"P-value: {p_value}\")\n"
   ]
  },
  {
   "cell_type": "markdown",
   "id": "41cb1577",
   "metadata": {},
   "source": [
    "#### OnPromotion - Impact on Sales"
   ]
  },
  {
   "cell_type": "code",
   "execution_count": 136,
   "id": "ab3d0225",
   "metadata": {},
   "outputs": [
    {
     "name": "stdout",
     "output_type": "stream",
     "text": [
      "Spearman correlation: 0.5380218163559255\n",
      "P-value: 0.0\n"
     ]
    }
   ],
   "source": [
    "corr, p_value = spearmanr(df['sales'], df['onpromotion'])\n",
    "\n",
    "print(f\"Spearman correlation: {corr}\")\n",
    "print(f\"P-value: {p_value}\")\n"
   ]
  },
  {
   "cell_type": "markdown",
   "id": "965811cc",
   "metadata": {},
   "source": [
    "#### Earthquake - Impact on Sales"
   ]
  },
  {
   "cell_type": "code",
   "execution_count": 137,
   "id": "6c37fdc8",
   "metadata": {},
   "outputs": [],
   "source": [
    "daily_df[\"date\"] = pd.to_datetime(daily_df[\"date\"])\n",
    "before = daily_df[(daily_df[\"date\"] >= '2016-03-01') & (daily_df[\"date\"] <= '2016-04-15')]\n",
    "after = daily_df[(daily_df[\"date\"] >= '2016-04-16') & (daily_df[\"date\"] <= '2016-05-31')]"
   ]
  },
  {
   "cell_type": "code",
   "execution_count": 138,
   "id": "9881dc95",
   "metadata": {},
   "outputs": [
    {
     "data": {
      "image/png": "[encoded data removed]",
      "text/plain": [
       "<Figure size 640x480 with 1 Axes>"
      ]
     },
     "metadata": {},
     "output_type": "display_data"
    }
   ],
   "source": [
    "plt.hist(before['sales'], bins=30, color='skyblue', edgecolor='black');\n"
   ]
  },
  {
   "cell_type": "code",
   "execution_count": 139,
   "id": "49575a90",
   "metadata": {},
   "outputs": [
    {
     "data": {
      "image/png": "[encoded data removed]",
      "text/plain": [
       "<Figure size 640x480 with 1 Axes>"
      ]
     },
     "metadata": {},
     "output_type": "display_data"
    }
   ],
   "source": [
    "plt.hist(after['sales'], bins=30, color='skyblue', edgecolor='black');\n"
   ]
  },
  {
   "cell_type": "code",
   "execution_count": 140,
   "id": "6c35871a",
   "metadata": {},
   "outputs": [
    {
     "name": "stdout",
     "output_type": "stream",
     "text": [
      "U statistic: 785.0\n",
      "P-value: 0.03334269022409122\n"
     ]
    }
   ],
   "source": [
    "stat, p_value = mannwhitneyu(before['sales'], after['sales'])\n",
    "\n",
    "print(f\"U statistic: {stat}\")\n",
    "print(f\"P-value: {p_value}\")"
   ]
  },
  {
   "cell_type": "code",
   "execution_count": 141,
   "id": "6d9a00cc",
   "metadata": {},
   "outputs": [
    {
     "data": {
      "text/html": [
       "<div>\n",
       "<style scoped>\n",
       "    .dataframe tbody tr th:only-of-type {\n",
       "        vertical-align: middle;\n",
       "    }\n",
       "\n",
       "    .dataframe tbody tr th {\n",
       "        vertical-align: top;\n",
       "    }\n",
       "\n",
       "    .dataframe thead th {\n",
       "        text-align: right;\n",
       "    }\n",
       "</style>\n",
       "<table border=\"1\" class=\"dataframe\">\n",
       "  <thead>\n",
       "    <tr style=\"text-align: right;\">\n",
       "      <th></th>\n",
       "      <th>sales</th>\n",
       "    </tr>\n",
       "  </thead>\n",
       "  <tbody>\n",
       "    <tr>\n",
       "      <th>count</th>\n",
       "      <td>4.600000e+01</td>\n",
       "    </tr>\n",
       "    <tr>\n",
       "      <th>mean</th>\n",
       "      <td>7.631802e+05</td>\n",
       "    </tr>\n",
       "    <tr>\n",
       "      <th>std</th>\n",
       "      <td>1.625897e+05</td>\n",
       "    </tr>\n",
       "    <tr>\n",
       "      <th>min</th>\n",
       "      <td>5.467852e+05</td>\n",
       "    </tr>\n",
       "    <tr>\n",
       "      <th>25%</th>\n",
       "      <td>6.606319e+05</td>\n",
       "    </tr>\n",
       "    <tr>\n",
       "      <th>50%</th>\n",
       "      <td>6.925578e+05</td>\n",
       "    </tr>\n",
       "    <tr>\n",
       "      <th>75%</th>\n",
       "      <td>8.769561e+05</td>\n",
       "    </tr>\n",
       "    <tr>\n",
       "      <th>max</th>\n",
       "      <td>1.266908e+06</td>\n",
       "    </tr>\n",
       "  </tbody>\n",
       "</table>\n",
       "</div>"
      ],
      "text/plain": [
       "              sales\n",
       "count  4.600000e+01\n",
       "mean   7.631802e+05\n",
       "std    1.625897e+05\n",
       "min    5.467852e+05\n",
       "25%    6.606319e+05\n",
       "50%    6.925578e+05\n",
       "75%    8.769561e+05\n",
       "max    1.266908e+06"
      ]
     },
     "execution_count": 141,
     "metadata": {},
     "output_type": "execute_result"
    }
   ],
   "source": [
    "before[['sales']].describe()"
   ]
  },
  {
   "cell_type": "code",
   "execution_count": 142,
   "id": "92eb72ea",
   "metadata": {},
   "outputs": [
    {
     "data": {
      "text/html": [
       "<div>\n",
       "<style scoped>\n",
       "    .dataframe tbody tr th:only-of-type {\n",
       "        vertical-align: middle;\n",
       "    }\n",
       "\n",
       "    .dataframe tbody tr th {\n",
       "        vertical-align: top;\n",
       "    }\n",
       "\n",
       "    .dataframe thead th {\n",
       "        text-align: right;\n",
       "    }\n",
       "</style>\n",
       "<table border=\"1\" class=\"dataframe\">\n",
       "  <thead>\n",
       "    <tr style=\"text-align: right;\">\n",
       "      <th></th>\n",
       "      <th>sales</th>\n",
       "    </tr>\n",
       "  </thead>\n",
       "  <tbody>\n",
       "    <tr>\n",
       "      <th>count</th>\n",
       "      <td>4.600000e+01</td>\n",
       "    </tr>\n",
       "    <tr>\n",
       "      <th>mean</th>\n",
       "      <td>8.427815e+05</td>\n",
       "    </tr>\n",
       "    <tr>\n",
       "      <th>std</th>\n",
       "      <td>2.017883e+05</td>\n",
       "    </tr>\n",
       "    <tr>\n",
       "      <th>min</th>\n",
       "      <td>5.433398e+05</td>\n",
       "    </tr>\n",
       "    <tr>\n",
       "      <th>25%</th>\n",
       "      <td>6.832532e+05</td>\n",
       "    </tr>\n",
       "    <tr>\n",
       "      <th>50%</th>\n",
       "      <td>7.954300e+05</td>\n",
       "    </tr>\n",
       "    <tr>\n",
       "      <th>75%</th>\n",
       "      <td>9.943918e+05</td>\n",
       "    </tr>\n",
       "    <tr>\n",
       "      <th>max</th>\n",
       "      <td>1.345921e+06</td>\n",
       "    </tr>\n",
       "  </tbody>\n",
       "</table>\n",
       "</div>"
      ],
      "text/plain": [
       "              sales\n",
       "count  4.600000e+01\n",
       "mean   8.427815e+05\n",
       "std    2.017883e+05\n",
       "min    5.433398e+05\n",
       "25%    6.832532e+05\n",
       "50%    7.954300e+05\n",
       "75%    9.943918e+05\n",
       "max    1.345921e+06"
      ]
     },
     "execution_count": 142,
     "metadata": {},
     "output_type": "execute_result"
    }
   ],
   "source": [
    "after[['sales']].describe()"
   ]
  },
  {
   "cell_type": "code",
   "execution_count": 143,
   "id": "db5c540d",
   "metadata": {},
   "outputs": [
    {
     "data": {
      "text/html": [
       "<div>\n",
       "<style scoped>\n",
       "    .dataframe tbody tr th:only-of-type {\n",
       "        vertical-align: middle;\n",
       "    }\n",
       "\n",
       "    .dataframe tbody tr th {\n",
       "        vertical-align: top;\n",
       "    }\n",
       "\n",
       "    .dataframe thead th {\n",
       "        text-align: right;\n",
       "    }\n",
       "</style>\n",
       "<table border=\"1\" class=\"dataframe\">\n",
       "  <thead>\n",
       "    <tr style=\"text-align: right;\">\n",
       "      <th></th>\n",
       "      <th>sales</th>\n",
       "    </tr>\n",
       "  </thead>\n",
       "  <tbody>\n",
       "    <tr>\n",
       "      <th>count</th>\n",
       "      <td>3.000888e+06</td>\n",
       "    </tr>\n",
       "    <tr>\n",
       "      <th>mean</th>\n",
       "      <td>3.577757e+02</td>\n",
       "    </tr>\n",
       "    <tr>\n",
       "      <th>std</th>\n",
       "      <td>1.101998e+03</td>\n",
       "    </tr>\n",
       "    <tr>\n",
       "      <th>min</th>\n",
       "      <td>0.000000e+00</td>\n",
       "    </tr>\n",
       "    <tr>\n",
       "      <th>25%</th>\n",
       "      <td>0.000000e+00</td>\n",
       "    </tr>\n",
       "    <tr>\n",
       "      <th>50%</th>\n",
       "      <td>1.100000e+01</td>\n",
       "    </tr>\n",
       "    <tr>\n",
       "      <th>75%</th>\n",
       "      <td>1.958473e+02</td>\n",
       "    </tr>\n",
       "    <tr>\n",
       "      <th>max</th>\n",
       "      <td>1.247170e+05</td>\n",
       "    </tr>\n",
       "  </tbody>\n",
       "</table>\n",
       "</div>"
      ],
      "text/plain": [
       "              sales\n",
       "count  3.000888e+06\n",
       "mean   3.577757e+02\n",
       "std    1.101998e+03\n",
       "min    0.000000e+00\n",
       "25%    0.000000e+00\n",
       "50%    1.100000e+01\n",
       "75%    1.958473e+02\n",
       "max    1.247170e+05"
      ]
     },
     "execution_count": 143,
     "metadata": {},
     "output_type": "execute_result"
    }
   ],
   "source": [
    "df[['sales']].describe()"
   ]
  },
  {
   "cell_type": "code",
   "execution_count": 144,
   "id": "ee9ded46",
   "metadata": {},
   "outputs": [
    {
     "name": "stdout",
     "output_type": "stream",
     "text": [
      "<class 'pandas.core.frame.DataFrame'>\n",
      "RangeIndex: 350 entries, 0 to 349\n",
      "Data columns (total 6 columns):\n",
      " #   Column       Non-Null Count  Dtype \n",
      "---  ------       --------------  ----- \n",
      " 0   date         350 non-null    object\n",
      " 1   type         350 non-null    object\n",
      " 2   locale       350 non-null    object\n",
      " 3   locale_name  350 non-null    object\n",
      " 4   description  350 non-null    object\n",
      " 5   transferred  350 non-null    bool  \n",
      "dtypes: bool(1), object(5)\n",
      "memory usage: 14.1+ KB\n"
     ]
    }
   ],
   "source": [
    "holiday_set.info()"
   ]
  },
  {
   "cell_type": "code",
   "execution_count": 145,
   "id": "325588aa",
   "metadata": {},
   "outputs": [],
   "source": [
    "del avg_sales_by_month,avg_sales_by_weekday,avg_sales_year_family,moving_average,daily_df,daily_oil,daily_sales\n",
    "del train_set,oil_set,transactions_set,stores_set,before,after,weekend_mask\n",
    "del fig,fig1,fig2,fig3,working_days,"
   ]
  },
  {
   "cell_type": "code",
   "execution_count": 146,
   "id": "1d995601",
   "metadata": {},
   "outputs": [
    {
     "name": "stdout",
     "output_type": "stream",
     "text": [
      "ARIMA\t AutoLSTM\t AutoNHITS\t LGBMRegressor\t LSTM\t LabelEncoder\t MAE\t MQLoss\t NHITS\t \n",
      "NeuralForecast\t RMSE\t TimeSeriesSplit\t corr\t df\t display\t early_stopping\t evaluate\t events\t \n",
      "go\t holiday_set\t lgb\t lilliefors\t local\t log_evaluation\t logging\t mae\t mannwhitneyu\t \n",
      "mean_squared_error\t mean_squared_log_error\t mse\t national\t np\t p_value\t pd\t plot_series\t plt\t \n",
      "product\t px\t regional\t rmse\t seasonal_decompose\t shapiro\t sns\t spearmanr\t stat\t \n",
      "stats\t train_test_split\t tune\t work_days_left\t \n"
     ]
    }
   ],
   "source": [
    "%who"
   ]
  },
  {
   "cell_type": "code",
   "execution_count": 147,
   "id": "4c4c027f",
   "metadata": {},
   "outputs": [
    {
     "data": {
      "text/html": [
       "<div>\n",
       "<style scoped>\n",
       "    .dataframe tbody tr th:only-of-type {\n",
       "        vertical-align: middle;\n",
       "    }\n",
       "\n",
       "    .dataframe tbody tr th {\n",
       "        vertical-align: top;\n",
       "    }\n",
       "\n",
       "    .dataframe thead th {\n",
       "        text-align: right;\n",
       "    }\n",
       "</style>\n",
       "<table border=\"1\" class=\"dataframe\">\n",
       "  <thead>\n",
       "    <tr style=\"text-align: right;\">\n",
       "      <th></th>\n",
       "      <th>date</th>\n",
       "      <th>type</th>\n",
       "      <th>locale</th>\n",
       "      <th>locale_name</th>\n",
       "      <th>description</th>\n",
       "      <th>transferred</th>\n",
       "    </tr>\n",
       "  </thead>\n",
       "  <tbody>\n",
       "    <tr>\n",
       "      <th>19</th>\n",
       "      <td>2012-10-09</td>\n",
       "      <td>Holiday</td>\n",
       "      <td>National</td>\n",
       "      <td>Ecuador</td>\n",
       "      <td>Independencia de Guayaquil</td>\n",
       "      <td>True</td>\n",
       "    </tr>\n",
       "    <tr>\n",
       "      <th>72</th>\n",
       "      <td>2013-10-09</td>\n",
       "      <td>Holiday</td>\n",
       "      <td>National</td>\n",
       "      <td>Ecuador</td>\n",
       "      <td>Independencia de Guayaquil</td>\n",
       "      <td>True</td>\n",
       "    </tr>\n",
       "    <tr>\n",
       "      <th>135</th>\n",
       "      <td>2014-10-09</td>\n",
       "      <td>Holiday</td>\n",
       "      <td>National</td>\n",
       "      <td>Ecuador</td>\n",
       "      <td>Independencia de Guayaquil</td>\n",
       "      <td>True</td>\n",
       "    </tr>\n",
       "    <tr>\n",
       "      <th>255</th>\n",
       "      <td>2016-05-24</td>\n",
       "      <td>Holiday</td>\n",
       "      <td>National</td>\n",
       "      <td>Ecuador</td>\n",
       "      <td>Batalla de Pichincha</td>\n",
       "      <td>True</td>\n",
       "    </tr>\n",
       "    <tr>\n",
       "      <th>266</th>\n",
       "      <td>2016-07-25</td>\n",
       "      <td>Holiday</td>\n",
       "      <td>Local</td>\n",
       "      <td>Guayaquil</td>\n",
       "      <td>Fundacion de Guayaquil</td>\n",
       "      <td>True</td>\n",
       "    </tr>\n",
       "    <tr>\n",
       "      <th>268</th>\n",
       "      <td>2016-08-10</td>\n",
       "      <td>Holiday</td>\n",
       "      <td>National</td>\n",
       "      <td>Ecuador</td>\n",
       "      <td>Primer Grito de Independencia</td>\n",
       "      <td>True</td>\n",
       "    </tr>\n",
       "    <tr>\n",
       "      <th>297</th>\n",
       "      <td>2017-01-01</td>\n",
       "      <td>Holiday</td>\n",
       "      <td>National</td>\n",
       "      <td>Ecuador</td>\n",
       "      <td>Primer dia del ano</td>\n",
       "      <td>True</td>\n",
       "    </tr>\n",
       "    <tr>\n",
       "      <th>303</th>\n",
       "      <td>2017-04-12</td>\n",
       "      <td>Holiday</td>\n",
       "      <td>Local</td>\n",
       "      <td>Cuenca</td>\n",
       "      <td>Fundacion de Cuenca</td>\n",
       "      <td>True</td>\n",
       "    </tr>\n",
       "    <tr>\n",
       "      <th>312</th>\n",
       "      <td>2017-05-24</td>\n",
       "      <td>Holiday</td>\n",
       "      <td>National</td>\n",
       "      <td>Ecuador</td>\n",
       "      <td>Batalla de Pichincha</td>\n",
       "      <td>True</td>\n",
       "    </tr>\n",
       "    <tr>\n",
       "      <th>324</th>\n",
       "      <td>2017-08-10</td>\n",
       "      <td>Holiday</td>\n",
       "      <td>National</td>\n",
       "      <td>Ecuador</td>\n",
       "      <td>Primer Grito de Independencia</td>\n",
       "      <td>True</td>\n",
       "    </tr>\n",
       "    <tr>\n",
       "      <th>328</th>\n",
       "      <td>2017-09-28</td>\n",
       "      <td>Holiday</td>\n",
       "      <td>Local</td>\n",
       "      <td>Ibarra</td>\n",
       "      <td>Fundacion de Ibarra</td>\n",
       "      <td>True</td>\n",
       "    </tr>\n",
       "    <tr>\n",
       "      <th>340</th>\n",
       "      <td>2017-12-06</td>\n",
       "      <td>Holiday</td>\n",
       "      <td>Local</td>\n",
       "      <td>Quito</td>\n",
       "      <td>Fundacion de Quito</td>\n",
       "      <td>True</td>\n",
       "    </tr>\n",
       "  </tbody>\n",
       "</table>\n",
       "</div>"
      ],
      "text/plain": [
       "          date     type    locale locale_name                    description  \\\n",
       "19  2012-10-09  Holiday  National     Ecuador     Independencia de Guayaquil   \n",
       "72  2013-10-09  Holiday  National     Ecuador     Independencia de Guayaquil   \n",
       "135 2014-10-09  Holiday  National     Ecuador     Independencia de Guayaquil   \n",
       "255 2016-05-24  Holiday  National     Ecuador           Batalla de Pichincha   \n",
       "266 2016-07-25  Holiday     Local   Guayaquil         Fundacion de Guayaquil   \n",
       "268 2016-08-10  Holiday  National     Ecuador  Primer Grito de Independencia   \n",
       "297 2017-01-01  Holiday  National     Ecuador             Primer dia del ano   \n",
       "303 2017-04-12  Holiday     Local      Cuenca            Fundacion de Cuenca   \n",
       "312 2017-05-24  Holiday  National     Ecuador           Batalla de Pichincha   \n",
       "324 2017-08-10  Holiday  National     Ecuador  Primer Grito de Independencia   \n",
       "328 2017-09-28  Holiday     Local      Ibarra            Fundacion de Ibarra   \n",
       "340 2017-12-06  Holiday     Local       Quito             Fundacion de Quito   \n",
       "\n",
       "     transferred  \n",
       "19          True  \n",
       "72          True  \n",
       "135         True  \n",
       "255         True  \n",
       "266         True  \n",
       "268         True  \n",
       "297         True  \n",
       "303         True  \n",
       "312         True  \n",
       "324         True  \n",
       "328         True  \n",
       "340         True  "
      ]
     },
     "execution_count": 147,
     "metadata": {},
     "output_type": "execute_result"
    }
   ],
   "source": [
    "holiday_set['date'] = pd.to_datetime(holiday_set['date'])\n",
    "holiday_set[holiday_set['transferred']==True]"
   ]
  },
  {
   "cell_type": "code",
   "execution_count": 148,
   "id": "671efe74",
   "metadata": {},
   "outputs": [],
   "source": [
    "#Το προβλημα με τα transfers\n",
    "temp1 = holiday_set[(holiday_set['type']=='Holiday')& (holiday_set['transferred']==True)].drop('transferred',axis=1).reset_index(drop=True)\n",
    "temp2 = holiday_set[(holiday_set['type']=='Transfer')].drop('transferred',axis=1).reset_index(drop=True)\n",
    "temp = pd.concat([temp1,temp2],axis=1)\n",
    "temp = temp.iloc[:,[5,1,2,3,4,]]\n",
    "holiday_set = holiday_set[(holiday_set['type']!='Transfer')& (holiday_set['transferred']==False)].drop('transferred',axis=1)\n",
    "holiday_set = pd.concat([holiday_set, temp]).reset_index(drop=True)\n",
    "del temp,temp1,temp2"
   ]
  },
  {
   "cell_type": "code",
   "execution_count": 149,
   "id": "384680a0",
   "metadata": {},
   "outputs": [],
   "source": [
    "holiday_set['type']= np.where(holiday_set['type']=='Additional','Holiday',holiday_set['type'])\n",
    "holiday_set['type']= np.where(holiday_set['type']=='Bridge','Holiday',holiday_set['type'])"
   ]
  },
  {
   "cell_type": "code",
   "execution_count": 150,
   "id": "403080cc",
   "metadata": {},
   "outputs": [],
   "source": [
    "work_days_left = holiday_set[holiday_set.type=='Work Day']\n",
    "holiday_set = holiday_set[holiday_set.type!='Work Day']"
   ]
  },
  {
   "cell_type": "code",
   "execution_count": 151,
   "id": "805df90a",
   "metadata": {},
   "outputs": [],
   "source": [
    "events = holiday_set[holiday_set.type=='Event'].drop(['type','locale','locale_name'],axis=1)\n",
    "events= events.rename({\"description\":\"event\"},axis=1)\n",
    "holiday_set = holiday_set[holiday_set.type!='Event'].drop(\"type\",axis=1)"
   ]
  },
  {
   "cell_type": "code",
   "execution_count": 152,
   "id": "87f7c39e",
   "metadata": {},
   "outputs": [],
   "source": [
    "regional = holiday_set[holiday_set['locale']=='Regional'].rename({\"locale_name\":\"state\",\"description\":\"holiday_regional\"},axis=1).drop(\"locale\",axis=1).drop_duplicates()\n",
    "national = holiday_set[holiday_set['locale']=='National'].rename({\"description\":\"holiday_national\"},axis=1).drop([\"locale\",\"locale_name\"],axis=1).drop_duplicates()\n",
    "local = holiday_set[holiday_set['locale']=='Local'].rename({\"locale_name\":\"city\",\"description\":\"holiday_local\"},axis=1).drop(\"locale\",axis=1).drop_duplicates()"
   ]
  },
  {
   "cell_type": "code",
   "execution_count": 169,
   "id": "dfc6ef87",
   "metadata": {},
   "outputs": [
    {
     "name": "stdout",
     "output_type": "stream",
     "text": [
      "0\n",
      "0\n",
      "0\n",
      "0\n"
     ]
    }
   ],
   "source": [
    "print(national['date'].duplicated().sum())\n",
    "print(regional['date'].duplicated().sum())\n",
    "print(local['date'].duplicated().sum())\n",
    "print(events['date'].duplicated().sum())\n"
   ]
  },
  {
   "cell_type": "code",
   "execution_count": 170,
   "id": "84895b93",
   "metadata": {},
   "outputs": [
    {
     "data": {
      "text/plain": [
       "(3000888, 17)"
      ]
     },
     "execution_count": 170,
     "metadata": {},
     "output_type": "execute_result"
    }
   ],
   "source": [
    "df.shape"
   ]
  },
  {
   "cell_type": "code",
   "execution_count": 165,
   "id": "6ee6350c",
   "metadata": {},
   "outputs": [
    {
     "data": {
      "text/html": [
       "<div>\n",
       "<style scoped>\n",
       "    .dataframe tbody tr th:only-of-type {\n",
       "        vertical-align: middle;\n",
       "    }\n",
       "\n",
       "    .dataframe tbody tr th {\n",
       "        vertical-align: top;\n",
       "    }\n",
       "\n",
       "    .dataframe thead th {\n",
       "        text-align: right;\n",
       "    }\n",
       "</style>\n",
       "<table border=\"1\" class=\"dataframe\">\n",
       "  <thead>\n",
       "    <tr style=\"text-align: right;\">\n",
       "      <th></th>\n",
       "      <th>date</th>\n",
       "      <th>holiday_national</th>\n",
       "    </tr>\n",
       "  </thead>\n",
       "  <tbody>\n",
       "    <tr>\n",
       "      <th>14</th>\n",
       "      <td>2012-08-10</td>\n",
       "      <td>Primer Grito de Independencia</td>\n",
       "    </tr>\n",
       "    <tr>\n",
       "      <th>19</th>\n",
       "      <td>2012-11-02</td>\n",
       "      <td>Dia de Difuntos</td>\n",
       "    </tr>\n",
       "    <tr>\n",
       "      <th>20</th>\n",
       "      <td>2012-11-03</td>\n",
       "      <td>Independencia de Cuenca</td>\n",
       "    </tr>\n",
       "    <tr>\n",
       "      <th>29</th>\n",
       "      <td>2012-12-21</td>\n",
       "      <td>Navidad-4</td>\n",
       "    </tr>\n",
       "    <tr>\n",
       "      <th>31</th>\n",
       "      <td>2012-12-22</td>\n",
       "      <td>Navidad-3</td>\n",
       "    </tr>\n",
       "  </tbody>\n",
       "</table>\n",
       "</div>"
      ],
      "text/plain": [
       "         date               holiday_national\n",
       "14 2012-08-10  Primer Grito de Independencia\n",
       "19 2012-11-02                Dia de Difuntos\n",
       "20 2012-11-03        Independencia de Cuenca\n",
       "29 2012-12-21                      Navidad-4\n",
       "31 2012-12-22                      Navidad-3"
      ]
     },
     "execution_count": 165,
     "metadata": {},
     "output_type": "execute_result"
    }
   ],
   "source": [
    "national.head()"
   ]
  },
  {
   "cell_type": "code",
   "execution_count": 168,
   "id": "2c3b1c02",
   "metadata": {},
   "outputs": [],
   "source": [
    "national = national.drop_duplicates(subset=['date'])\n",
    "regional = regional.drop_duplicates(subset=['date'])\n",
    "local = local.drop_duplicates(subset=['date'])\n",
    "events = events.drop_duplicates(subset=['date'])"
   ]
  },
  {
   "cell_type": "code",
   "execution_count": 171,
   "id": "502038cc",
   "metadata": {},
   "outputs": [],
   "source": [
    "local['date'] = pd.to_datetime(local['date'])\n",
    "national['date'] = pd.to_datetime(national['date'])\n",
    "regional['date'] = pd.to_datetime(regional['date'])"
   ]
  },
  {
   "cell_type": "code",
   "execution_count": 172,
   "id": "3f5b632f",
   "metadata": {},
   "outputs": [],
   "source": [
    "df = pd.merge(df,national,how='left',on='date')\n",
    "df = pd.merge(df,regional,how='left',on=['date',\"state\"])\n",
    "df = pd.merge(df,local,how='left',on=['date',\"city\"])\n",
    "df = pd.merge(df,events,on=['date'],how='left')\n",
    "del national,regional,local"
   ]
  },
  {
   "cell_type": "code",
   "execution_count": null,
   "id": "3fe9e655",
   "metadata": {},
   "outputs": [
    {
     "data": {
      "text/plain": [
       "(3000888, 21)"
      ]
     },
     "execution_count": 173,
     "metadata": {},
     "output_type": "execute_result"
    }
   ],
   "source": [
    "df.shape # AYTO Πρεπει να μπει ακριβως κατω απο τα merge"
   ]
  },
  {
   "cell_type": "code",
   "execution_count": null,
   "id": "0039f032",
   "metadata": {},
   "outputs": [
    {
     "name": "stdout",
     "output_type": "stream",
     "text": [
      "Missing dates:\n",
      "DatetimeIndex(['2013-12-25', '2014-12-25', '2015-12-25', '2016-12-25'], dtype='datetime64[ns]', freq=None)\n"
     ]
    }
   ],
   "source": [
    "# Make sure 'date' column is in datetime format\n",
    "df['date'] = pd.to_datetime(df['date'])\n",
    "\n",
    "# Generate complete date range from min to max\n",
    "full_range = pd.date_range(start=df['date'].min(), end=df['date'].max())\n",
    "\n",
    "# Get unique dates from your data\n",
    "present_dates = df['date'].drop_duplicates()\n",
    "\n",
    "# Find missing dates\n",
    "missing_dates = full_range.difference(present_dates)\n",
    "\n",
    "# Output missing dates\n",
    "print(\"Missing dates:\")\n",
    "print(missing_dates)\n"
   ]
  },
  {
   "cell_type": "code",
   "execution_count": null,
   "id": "f115bb20",
   "metadata": {},
   "outputs": [],
   "source": [
    "missing_df = pd.DataFrame({'date': missing_dates})\n",
    "store_family_combos = df[['store_nbr', 'family', 'city', 'state', 'cluster','type']].drop_duplicates()\n",
    "missing_df = pd.DataFrame([(d, *row) for d in missing_dates for row in store_family_combos.itertuples(index=False)],\n",
    "                          columns=['date', 'store_nbr', 'family', 'city', 'state', 'cluster','type'])\n",
    "missing_df['id'] = range(3000888, 3000888 + len(missing_df))\n",
    "missing_df['sales'] = 0\n",
    "missing_df['onpromotion'] = 0\n",
    "missing_df['transactions'] = 0\n",
    "missing_df['day'] = missing_df['date'].dt.day\n",
    "missing_df['month'] = missing_df['date'].dt.month\n",
    "missing_df['year'] = missing_df['date'].dt.year\n",
    "missing_df['month_name'] = missing_df['date'].dt.month_name()\n",
    "missing_df['day_nbr'] = missing_df['date'].dt.weekday\n",
    "missing_df['holiday_national'] = 'no_holiday'\n",
    "missing_df['holiday_regional'] = 'no_holiday'\n",
    "missing_df['holiday_local'] = 'no_holiday'\n",
    "missing_df['event'] = 'Christmas'"
   ]
  },
  {
   "cell_type": "code",
   "execution_count": 237,
   "id": "640af148",
   "metadata": {},
   "outputs": [
    {
     "data": {
      "text/html": [
       "<div>\n",
       "<style scoped>\n",
       "    .dataframe tbody tr th:only-of-type {\n",
       "        vertical-align: middle;\n",
       "    }\n",
       "\n",
       "    .dataframe tbody tr th {\n",
       "        vertical-align: top;\n",
       "    }\n",
       "\n",
       "    .dataframe thead th {\n",
       "        text-align: right;\n",
       "    }\n",
       "</style>\n",
       "<table border=\"1\" class=\"dataframe\">\n",
       "  <thead>\n",
       "    <tr style=\"text-align: right;\">\n",
       "      <th></th>\n",
       "      <th>id</th>\n",
       "      <th>date</th>\n",
       "      <th>store_nbr</th>\n",
       "      <th>family</th>\n",
       "      <th>sales</th>\n",
       "      <th>onpromotion</th>\n",
       "      <th>city</th>\n",
       "      <th>state</th>\n",
       "      <th>type</th>\n",
       "      <th>cluster</th>\n",
       "      <th>dcoilwtico</th>\n",
       "      <th>transactions</th>\n",
       "      <th>day</th>\n",
       "      <th>year</th>\n",
       "      <th>month</th>\n",
       "      <th>month_name</th>\n",
       "      <th>day_nbr</th>\n",
       "      <th>holiday_national</th>\n",
       "      <th>holiday_regional</th>\n",
       "      <th>holiday_local</th>\n",
       "      <th>event</th>\n",
       "    </tr>\n",
       "  </thead>\n",
       "  <tbody>\n",
       "    <tr>\n",
       "      <th>636174</th>\n",
       "      <td>636174</td>\n",
       "      <td>2013-12-24</td>\n",
       "      <td>1</td>\n",
       "      <td>AUTOMOTIVE</td>\n",
       "      <td>1.0</td>\n",
       "      <td>0</td>\n",
       "      <td>Quito</td>\n",
       "      <td>Pichincha</td>\n",
       "      <td>D</td>\n",
       "      <td>13</td>\n",
       "      <td>98.87</td>\n",
       "      <td>2844.0</td>\n",
       "      <td>Tuesday</td>\n",
       "      <td>2013</td>\n",
       "      <td>12</td>\n",
       "      <td>December</td>\n",
       "      <td>1</td>\n",
       "      <td>Navidad-1</td>\n",
       "      <td>NaN</td>\n",
       "      <td>NaN</td>\n",
       "      <td>NaN</td>\n",
       "    </tr>\n",
       "    <tr>\n",
       "      <th>1284822</th>\n",
       "      <td>1284822</td>\n",
       "      <td>2014-12-24</td>\n",
       "      <td>1</td>\n",
       "      <td>AUTOMOTIVE</td>\n",
       "      <td>6.0</td>\n",
       "      <td>0</td>\n",
       "      <td>Quito</td>\n",
       "      <td>Pichincha</td>\n",
       "      <td>D</td>\n",
       "      <td>13</td>\n",
       "      <td>55.70</td>\n",
       "      <td>2800.0</td>\n",
       "      <td>Wednesday</td>\n",
       "      <td>2014</td>\n",
       "      <td>12</td>\n",
       "      <td>December</td>\n",
       "      <td>2</td>\n",
       "      <td>Navidad-1</td>\n",
       "      <td>NaN</td>\n",
       "      <td>NaN</td>\n",
       "      <td>NaN</td>\n",
       "    </tr>\n",
       "    <tr>\n",
       "      <th>1933470</th>\n",
       "      <td>1933470</td>\n",
       "      <td>2015-12-24</td>\n",
       "      <td>1</td>\n",
       "      <td>AUTOMOTIVE</td>\n",
       "      <td>4.0</td>\n",
       "      <td>0</td>\n",
       "      <td>Quito</td>\n",
       "      <td>Pichincha</td>\n",
       "      <td>D</td>\n",
       "      <td>13</td>\n",
       "      <td>37.62</td>\n",
       "      <td>2775.0</td>\n",
       "      <td>Thursday</td>\n",
       "      <td>2015</td>\n",
       "      <td>12</td>\n",
       "      <td>December</td>\n",
       "      <td>3</td>\n",
       "      <td>Navidad-1</td>\n",
       "      <td>NaN</td>\n",
       "      <td>NaN</td>\n",
       "      <td>NaN</td>\n",
       "    </tr>\n",
       "    <tr>\n",
       "      <th>2583900</th>\n",
       "      <td>2583900</td>\n",
       "      <td>2016-12-24</td>\n",
       "      <td>1</td>\n",
       "      <td>AUTOMOTIVE</td>\n",
       "      <td>6.0</td>\n",
       "      <td>0</td>\n",
       "      <td>Quito</td>\n",
       "      <td>Pichincha</td>\n",
       "      <td>D</td>\n",
       "      <td>13</td>\n",
       "      <td>52.01</td>\n",
       "      <td>1993.0</td>\n",
       "      <td>Saturday</td>\n",
       "      <td>2016</td>\n",
       "      <td>12</td>\n",
       "      <td>December</td>\n",
       "      <td>5</td>\n",
       "      <td>Navidad-1</td>\n",
       "      <td>NaN</td>\n",
       "      <td>NaN</td>\n",
       "      <td>NaN</td>\n",
       "    </tr>\n",
       "  </tbody>\n",
       "</table>\n",
       "</div>"
      ],
      "text/plain": [
       "              id       date  store_nbr      family  sales  onpromotion   city  \\\n",
       "636174    636174 2013-12-24          1  AUTOMOTIVE    1.0            0  Quito   \n",
       "1284822  1284822 2014-12-24          1  AUTOMOTIVE    6.0            0  Quito   \n",
       "1933470  1933470 2015-12-24          1  AUTOMOTIVE    4.0            0  Quito   \n",
       "2583900  2583900 2016-12-24          1  AUTOMOTIVE    6.0            0  Quito   \n",
       "\n",
       "             state type  cluster  dcoilwtico  transactions        day  year  \\\n",
       "636174   Pichincha    D       13       98.87        2844.0    Tuesday  2013   \n",
       "1284822  Pichincha    D       13       55.70        2800.0  Wednesday  2014   \n",
       "1933470  Pichincha    D       13       37.62        2775.0   Thursday  2015   \n",
       "2583900  Pichincha    D       13       52.01        1993.0   Saturday  2016   \n",
       "\n",
       "         month month_name  day_nbr holiday_national holiday_regional  \\\n",
       "636174      12   December        1        Navidad-1              NaN   \n",
       "1284822     12   December        2        Navidad-1              NaN   \n",
       "1933470     12   December        3        Navidad-1              NaN   \n",
       "2583900     12   December        5        Navidad-1              NaN   \n",
       "\n",
       "        holiday_local event  \n",
       "636174            NaN   NaN  \n",
       "1284822           NaN   NaN  \n",
       "1933470           NaN   NaN  \n",
       "2583900           NaN   NaN  "
      ]
     },
     "execution_count": 237,
     "metadata": {},
     "output_type": "execute_result"
    }
   ],
   "source": [
    "dates = ['2013-12-24', '2014-12-24', '2015-12-24', '2016-12-24']\n",
    "df[df['date'].isin(pd.to_datetime(dates))].drop_duplicates(subset=['date'])\n"
   ]
  },
  {
   "cell_type": "code",
   "execution_count": null,
   "id": "826da6a0",
   "metadata": {},
   "outputs": [],
   "source": [
    "missing_df['dcoilwtico'] = missing_df['dcoilwtico'].astype(float)\n",
    "missing_df.loc[missing_df['date'] == '2013-12-25', 'dcoilwtico'] = 98.87\n",
    "missing_df.loc[missing_df['date'] == '2014-12-25', 'dcoilwtico'] = 55.70\n",
    "missing_df.loc[missing_df['date'] == '2015-12-25', 'dcoilwtico'] = 37.62\n",
    "missing_df.loc[missing_df['date'] == '2016-12-25', 'dcoilwtico'] = 52.01"
   ]
  },
  {
   "cell_type": "code",
   "execution_count": 244,
   "id": "651c5ff8",
   "metadata": {},
   "outputs": [
    {
     "data": {
      "text/plain": [
       "(7128, 21)"
      ]
     },
     "execution_count": 244,
     "metadata": {},
     "output_type": "execute_result"
    }
   ],
   "source": [
    "missing_df.shape"
   ]
  },
  {
   "cell_type": "code",
   "execution_count": null,
   "id": "9f658799",
   "metadata": {},
   "outputs": [],
   "source": [
    "df_filled= pd.concat([df, missing_df]).reset_index(drop=True) # asto etsi na doume an tha doulepsei to arima "
   ]
  },
  {
   "cell_type": "code",
   "execution_count": 242,
   "id": "6943e60b",
   "metadata": {},
   "outputs": [
    {
     "data": {
      "text/plain": [
       "(3008016, 21)"
      ]
     },
     "execution_count": 242,
     "metadata": {},
     "output_type": "execute_result"
    }
   ],
   "source": [
    "df.shape"
   ]
  },
  {
   "cell_type": "code",
   "execution_count": 222,
   "id": "260a1a43",
   "metadata": {},
   "outputs": [
    {
     "data": {
      "text/plain": [
       "1688"
      ]
     },
     "execution_count": 222,
     "metadata": {},
     "output_type": "execute_result"
    }
   ],
   "source": [
    "df_filled['date'].nunique()\n"
   ]
  },
  {
   "cell_type": "code",
   "execution_count": 211,
   "id": "46cd8191",
   "metadata": {},
   "outputs": [
    {
     "data": {
      "text/html": [
       "<div>\n",
       "<style scoped>\n",
       "    .dataframe tbody tr th:only-of-type {\n",
       "        vertical-align: middle;\n",
       "    }\n",
       "\n",
       "    .dataframe tbody tr th {\n",
       "        vertical-align: top;\n",
       "    }\n",
       "\n",
       "    .dataframe thead th {\n",
       "        text-align: right;\n",
       "    }\n",
       "</style>\n",
       "<table border=\"1\" class=\"dataframe\">\n",
       "  <thead>\n",
       "    <tr style=\"text-align: right;\">\n",
       "      <th></th>\n",
       "      <th>id</th>\n",
       "      <th>date</th>\n",
       "      <th>store_nbr</th>\n",
       "      <th>family</th>\n",
       "      <th>sales</th>\n",
       "      <th>onpromotion</th>\n",
       "      <th>city</th>\n",
       "      <th>state</th>\n",
       "      <th>type</th>\n",
       "      <th>cluster</th>\n",
       "      <th>dcoilwtico</th>\n",
       "      <th>transactions</th>\n",
       "      <th>day</th>\n",
       "      <th>year</th>\n",
       "      <th>month</th>\n",
       "      <th>month_name</th>\n",
       "      <th>day_nbr</th>\n",
       "      <th>holiday_national</th>\n",
       "      <th>holiday_regional</th>\n",
       "      <th>holiday_local</th>\n",
       "      <th>event</th>\n",
       "    </tr>\n",
       "  </thead>\n",
       "  <tbody>\n",
       "    <tr>\n",
       "      <th>3000883</th>\n",
       "      <td>3000883</td>\n",
       "      <td>2017-08-15</td>\n",
       "      <td>9</td>\n",
       "      <td>POULTRY</td>\n",
       "      <td>438.133</td>\n",
       "      <td>0</td>\n",
       "      <td>Quito</td>\n",
       "      <td>Pichincha</td>\n",
       "      <td>B</td>\n",
       "      <td>6</td>\n",
       "      <td>47.57</td>\n",
       "      <td>2155.0</td>\n",
       "      <td>Tuesday</td>\n",
       "      <td>2017</td>\n",
       "      <td>8</td>\n",
       "      <td>August</td>\n",
       "      <td>1</td>\n",
       "      <td>NaN</td>\n",
       "      <td>NaN</td>\n",
       "      <td>NaN</td>\n",
       "      <td>NaN</td>\n",
       "    </tr>\n",
       "    <tr>\n",
       "      <th>3000884</th>\n",
       "      <td>3000884</td>\n",
       "      <td>2017-08-15</td>\n",
       "      <td>9</td>\n",
       "      <td>PREPARED FOODS</td>\n",
       "      <td>154.553</td>\n",
       "      <td>1</td>\n",
       "      <td>Quito</td>\n",
       "      <td>Pichincha</td>\n",
       "      <td>B</td>\n",
       "      <td>6</td>\n",
       "      <td>47.57</td>\n",
       "      <td>2155.0</td>\n",
       "      <td>Tuesday</td>\n",
       "      <td>2017</td>\n",
       "      <td>8</td>\n",
       "      <td>August</td>\n",
       "      <td>1</td>\n",
       "      <td>NaN</td>\n",
       "      <td>NaN</td>\n",
       "      <td>NaN</td>\n",
       "      <td>NaN</td>\n",
       "    </tr>\n",
       "    <tr>\n",
       "      <th>3000885</th>\n",
       "      <td>3000885</td>\n",
       "      <td>2017-08-15</td>\n",
       "      <td>9</td>\n",
       "      <td>PRODUCE</td>\n",
       "      <td>2419.729</td>\n",
       "      <td>148</td>\n",
       "      <td>Quito</td>\n",
       "      <td>Pichincha</td>\n",
       "      <td>B</td>\n",
       "      <td>6</td>\n",
       "      <td>47.57</td>\n",
       "      <td>2155.0</td>\n",
       "      <td>Tuesday</td>\n",
       "      <td>2017</td>\n",
       "      <td>8</td>\n",
       "      <td>August</td>\n",
       "      <td>1</td>\n",
       "      <td>NaN</td>\n",
       "      <td>NaN</td>\n",
       "      <td>NaN</td>\n",
       "      <td>NaN</td>\n",
       "    </tr>\n",
       "    <tr>\n",
       "      <th>3000886</th>\n",
       "      <td>3000886</td>\n",
       "      <td>2017-08-15</td>\n",
       "      <td>9</td>\n",
       "      <td>SCHOOL AND OFFICE SUPPLIES</td>\n",
       "      <td>121.000</td>\n",
       "      <td>8</td>\n",
       "      <td>Quito</td>\n",
       "      <td>Pichincha</td>\n",
       "      <td>B</td>\n",
       "      <td>6</td>\n",
       "      <td>47.57</td>\n",
       "      <td>2155.0</td>\n",
       "      <td>Tuesday</td>\n",
       "      <td>2017</td>\n",
       "      <td>8</td>\n",
       "      <td>August</td>\n",
       "      <td>1</td>\n",
       "      <td>NaN</td>\n",
       "      <td>NaN</td>\n",
       "      <td>NaN</td>\n",
       "      <td>NaN</td>\n",
       "    </tr>\n",
       "    <tr>\n",
       "      <th>3000887</th>\n",
       "      <td>3000887</td>\n",
       "      <td>2017-08-15</td>\n",
       "      <td>9</td>\n",
       "      <td>SEAFOOD</td>\n",
       "      <td>16.000</td>\n",
       "      <td>0</td>\n",
       "      <td>Quito</td>\n",
       "      <td>Pichincha</td>\n",
       "      <td>B</td>\n",
       "      <td>6</td>\n",
       "      <td>47.57</td>\n",
       "      <td>2155.0</td>\n",
       "      <td>Tuesday</td>\n",
       "      <td>2017</td>\n",
       "      <td>8</td>\n",
       "      <td>August</td>\n",
       "      <td>1</td>\n",
       "      <td>NaN</td>\n",
       "      <td>NaN</td>\n",
       "      <td>NaN</td>\n",
       "      <td>NaN</td>\n",
       "    </tr>\n",
       "  </tbody>\n",
       "</table>\n",
       "</div>"
      ],
      "text/plain": [
       "              id       date  store_nbr                      family     sales  \\\n",
       "3000883  3000883 2017-08-15          9                     POULTRY   438.133   \n",
       "3000884  3000884 2017-08-15          9              PREPARED FOODS   154.553   \n",
       "3000885  3000885 2017-08-15          9                     PRODUCE  2419.729   \n",
       "3000886  3000886 2017-08-15          9  SCHOOL AND OFFICE SUPPLIES   121.000   \n",
       "3000887  3000887 2017-08-15          9                     SEAFOOD    16.000   \n",
       "\n",
       "         onpromotion   city      state type  cluster  dcoilwtico  \\\n",
       "3000883            0  Quito  Pichincha    B        6       47.57   \n",
       "3000884            1  Quito  Pichincha    B        6       47.57   \n",
       "3000885          148  Quito  Pichincha    B        6       47.57   \n",
       "3000886            8  Quito  Pichincha    B        6       47.57   \n",
       "3000887            0  Quito  Pichincha    B        6       47.57   \n",
       "\n",
       "         transactions      day  year  month month_name  day_nbr  \\\n",
       "3000883        2155.0  Tuesday  2017      8     August        1   \n",
       "3000884        2155.0  Tuesday  2017      8     August        1   \n",
       "3000885        2155.0  Tuesday  2017      8     August        1   \n",
       "3000886        2155.0  Tuesday  2017      8     August        1   \n",
       "3000887        2155.0  Tuesday  2017      8     August        1   \n",
       "\n",
       "        holiday_national holiday_regional holiday_local event  \n",
       "3000883              NaN              NaN           NaN   NaN  \n",
       "3000884              NaN              NaN           NaN   NaN  \n",
       "3000885              NaN              NaN           NaN   NaN  \n",
       "3000886              NaN              NaN           NaN   NaN  \n",
       "3000887              NaN              NaN           NaN   NaN  "
      ]
     },
     "execution_count": 211,
     "metadata": {},
     "output_type": "execute_result"
    }
   ],
   "source": [
    "df.tail()"
   ]
  },
  {
   "cell_type": "code",
   "execution_count": 82,
   "id": "c9913490",
   "metadata": {},
   "outputs": [],
   "source": [
    "df[\"holiday_national_binary\"] = np.where(df[\"holiday_national\"].notnull(),1,0)\n",
    "df[\"holiday_regional_binary\"] = np.where(df[\"holiday_regional\"].notnull(),1,0)\n",
    "df[\"holiday_local_binary\"] = np.where(df[\"holiday_local\"].notnull(),1,0)"
   ]
  },
  {
   "cell_type": "code",
   "execution_count": 83,
   "id": "f59b0490",
   "metadata": {},
   "outputs": [],
   "source": [
    "#Target encoding\n",
    "# df['event'] = df['event'].fillna('no_event')\n",
    "# event_means = df.groupby('event')['sales'].mean()\n",
    "# df['event_encoded'] = df['event'].map(event_means)"
   ]
  },
  {
   "cell_type": "code",
   "execution_count": 84,
   "id": "48d5c30d",
   "metadata": {},
   "outputs": [],
   "source": [
    "encoded_events= pd.get_dummies(events,\"event\",dtype=int)\n",
    "encoded_events.columns=encoded_events.columns.str.replace(\" \",\"_\")\n",
    "encoded_events.columns=encoded_events.columns.str.replace(\":\",\"_\")\n",
    "encoded_events.columns=encoded_events.columns.str.replace(\"+\",\"_\")\n",
    "encoded_events.columns=encoded_events.columns.str.replace(\"-\",\"_\")\n",
    "df = pd.merge(df,encoded_events,how='left',on='date')\n",
    "del encoded_events,events"
   ]
  },
  {
   "cell_type": "code",
   "execution_count": null,
   "id": "762f021c",
   "metadata": {},
   "outputs": [],
   "source": [
    "df.shape"
   ]
  }
 ],
 "metadata": {
  "kernelspec": {
   "display_name": "Python 3",
   "language": "python",
   "name": "python3"
  },
  "language_info": {
   "codemirror_mode": {
    "name": "ipython",
    "version": 3
   },
   "file_extension": ".py",
   "mimetype": "text/x-python",
   "name": "python",
   "nbconvert_exporter": "python",
   "pygments_lexer": "ipython3",
   "version": "3.12.2"
  }
 },
 "nbformat": 4,
 "nbformat_minor": 5
}
